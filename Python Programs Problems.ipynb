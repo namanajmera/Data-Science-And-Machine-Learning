{
 "cells": [
  {
   "cell_type": "markdown",
   "metadata": {},
   "source": [
    "# Basic Programs"
   ]
  },
  {
   "cell_type": "markdown",
   "metadata": {},
   "source": [
    "1. Python program to add two numbers"
   ]
  },
  {
   "cell_type": "code",
   "execution_count": 5,
   "metadata": {},
   "outputs": [
    {
     "name": "stdout",
     "output_type": "stream",
     "text": [
      "22\n"
     ]
    }
   ],
   "source": [
    "a=12\n",
    "b=10\n",
    "sum=a+b\n",
    "print(sum)"
   ]
  },
  {
   "cell_type": "code",
   "execution_count": 3,
   "metadata": {},
   "outputs": [
    {
     "name": "stdout",
     "output_type": "stream",
     "text": [
      "Enter the First Number:- 4\n",
      "Enter the second Number:- 3\n",
      "Sum of 4 and 3 is 7\n"
     ]
    }
   ],
   "source": [
    "#Python program to add two numbers by taking user Input\n",
    "n1=int(input(\"Enter the First Number:- \"))\n",
    "n2=int(input(\"Enter the second Number:- \"))\n",
    "sum=n1+n2\n",
    "print(\"Sum of\",n1,\"and\",n2,\"is\",sum)"
   ]
  },
  {
   "cell_type": "markdown",
   "metadata": {},
   "source": [
    "2. Maximum of two numbers in Python"
   ]
  },
  {
   "cell_type": "code",
   "execution_count": 2,
   "metadata": {},
   "outputs": [
    {
     "name": "stdout",
     "output_type": "stream",
     "text": [
      "Enter the 1st Number:- 5\n",
      "Enter the 2nd Number:- 5\n",
      "5  and  5  are equal.\n"
     ]
    }
   ],
   "source": [
    "n1=int(input(\"Enter the 1st Number:- \"))\n",
    "n2=int(input(\"Enter the 2nd Number:- \"))\n",
    "\n",
    "if n1>n2:\n",
    "    print(n1,\" is greater.\")\n",
    "elif n2>n1:\n",
    "    print(n2,\" is greater.\")\n",
    "else:\n",
    "    print(n1,\" and \",n2,\" are equal.\")"
   ]
  },
  {
   "cell_type": "code",
   "execution_count": 5,
   "metadata": {},
   "outputs": [
    {
     "name": "stdout",
     "output_type": "stream",
     "text": [
      "Enter the 1st Number:- 6\n",
      "Enter the 2nd Number:- 8\n",
      "Maximum value is:-  8\n"
     ]
    }
   ],
   "source": [
    "#using amx function\n",
    "n1=int(input(\"Enter the 1st Number:- \"))\n",
    "n2=int(input(\"Enter the 2nd Number:- \"))\n",
    "\n",
    "print(\"Maximum value is:- \",max(n1,n2))"
   ]
  },
  {
   "cell_type": "markdown",
   "metadata": {},
   "source": [
    "3. Factorial of a number."
   ]
  },
  {
   "cell_type": "code",
   "execution_count": 18,
   "metadata": {},
   "outputs": [
    {
     "name": "stdout",
     "output_type": "stream",
     "text": [
      "Enter the number to find the factorial of a number:- 1\n",
      "Factorial of a  1  is  1\n"
     ]
    }
   ],
   "source": [
    "n=int(input(\"Enter the number to find the factorial of a number:- \"))\n",
    "fact=1\n",
    "if n==0 or n==1:\n",
    "    pass\n",
    "else:\n",
    "    for i in range(1,n+1):\n",
    "        fact*=i\n",
    "print(\"Factorial of a \",n,\" is \",fact)"
   ]
  },
  {
   "cell_type": "markdown",
   "metadata": {},
   "source": [
    "4. Simple Intrest"
   ]
  },
  {
   "cell_type": "code",
   "execution_count": 24,
   "metadata": {},
   "outputs": [
    {
     "name": "stdout",
     "output_type": "stream",
     "text": [
      "Enter the principal value:- 10000\n",
      "Enter the rate of intrest:- 5\n",
      "Enter the time:- 5\n",
      "Simple intrest is:-  2500\n"
     ]
    }
   ],
   "source": [
    "p=int(input(\"Enter the principal value:- \"))\n",
    "r=int(input(\"Enter the rate of intrest:- \"))\n",
    "t=int(input(\"Enter the time:- \"))\n",
    "\n",
    "si=(p*r*t)//100\n",
    "print(\"Simple intrest is:- \",si)"
   ]
  },
  {
   "cell_type": "markdown",
   "metadata": {},
   "source": [
    "5. Compound Intrest"
   ]
  },
  {
   "cell_type": "code",
   "execution_count": 38,
   "metadata": {},
   "outputs": [
    {
     "name": "stdout",
     "output_type": "stream",
     "text": [
      "Enter the principal value:- 1200\n",
      "Enter the rate of intrest:- 2\n",
      "Enter the time:- 5.4\n",
      "Compound Intrest is:-  135.4332141502573\n"
     ]
    }
   ],
   "source": [
    "p=int(input(\"Enter the principal value:- \"))\n",
    "r=int(input(\"Enter the rate of intrest:- \"))\n",
    "t=float(input(\"Enter the time:- \"))\n",
    "\n",
    "amount=p*(pow((1+r/100),t))\n",
    "ci=amount-p\n",
    "\n",
    "print(\"Compound Intrest is:- \",ci)"
   ]
  },
  {
   "cell_type": "markdown",
   "metadata": {},
   "source": [
    "6. Area of a circle"
   ]
  },
  {
   "cell_type": "code",
   "execution_count": 40,
   "metadata": {},
   "outputs": [
    {
     "name": "stdout",
     "output_type": "stream",
     "text": [
      "Enter the radius of a circle:- 5\n",
      "The radius of a circle is:-  78.55\n"
     ]
    }
   ],
   "source": [
    "r=int(input(\"Enter the radius of a circle:- \"))\n",
    "pi=3.142\n",
    "\n",
    "area=pi*r*r\n",
    "print(\"The radius of a circle is:- \",area)"
   ]
  },
  {
   "cell_type": "markdown",
   "metadata": {},
   "source": [
    "7. Print Prime Numbers of in an interval"
   ]
  },
  {
   "cell_type": "code",
   "execution_count": 48,
   "metadata": {},
   "outputs": [
    {
     "name": "stdout",
     "output_type": "stream",
     "text": [
      "Enter the start number:- 0\n",
      "Enter the end number:- 25\n",
      "2\n",
      "3\n",
      "5\n",
      "7\n",
      "11\n",
      "13\n",
      "17\n",
      "19\n",
      "23\n"
     ]
    }
   ],
   "source": [
    "start=int(input(\"Enter the start number:- \"))\n",
    "end=int(input(\"Enter the end number:- \"))\n",
    "if start==0 or start==1:\n",
    "    start=2\n",
    "    while start<=end:\n",
    "        d=2\n",
    "        flag=True\n",
    "        while d<start:\n",
    "            if start%d==0:\n",
    "                flag=False\n",
    "            d=d+1\n",
    "        if flag:\n",
    "            print(start)\n",
    "        start=start+1\n",
    "else:\n",
    "    while start<=end:\n",
    "        d=2\n",
    "        flag=True\n",
    "        while d<start:\n",
    "            if start%d==0:\n",
    "                flag=False\n",
    "            d=d+1\n",
    "        if flag:\n",
    "            print(start)\n",
    "        start=start+1"
   ]
  },
  {
   "cell_type": "markdown",
   "metadata": {},
   "source": [
    "8. Check whether a number is Prime or not"
   ]
  },
  {
   "cell_type": "code",
   "execution_count": 51,
   "metadata": {},
   "outputs": [
    {
     "name": "stdout",
     "output_type": "stream",
     "text": [
      "Enter the number to check prime or not:- 7\n",
      "7 is a prime number.\n"
     ]
    }
   ],
   "source": [
    "n=int(input(\"Enter the number to check prime or not:- \"))\n",
    "d=2\n",
    "flag=True\n",
    "while d<n:\n",
    "    if n%d==0:\n",
    "        flag=False\n",
    "        break\n",
    "    d+=1\n",
    "if flag:\n",
    "    print(n, \"is a prime number.\")\n",
    "else:\n",
    "    print(n,\" is not a prime number\")"
   ]
  },
  {
   "cell_type": "markdown",
   "metadata": {},
   "source": [
    "9. n-th Fibonacci number"
   ]
  },
  {
   "cell_type": "code",
   "execution_count": 70,
   "metadata": {},
   "outputs": [
    {
     "name": "stdout",
     "output_type": "stream",
     "text": [
      "Enter the number to find fib number of position:- 9\n",
      "nth fibonacci series is:-  21\n"
     ]
    }
   ],
   "source": [
    "n=int(input(\"Enter the number to find fib number of position:- \"))\n",
    "\n",
    "n1=0\n",
    "n2=1\n",
    "i=1\n",
    "l=[]\n",
    "while i<n:\n",
    "    c=n1+n2\n",
    "    n1=n2\n",
    "    n2=c\n",
    "    l.append(c)\n",
    "    i=i+1\n",
    "print(\"nth fibonacci series is:- \",n1)"
   ]
  },
  {
   "cell_type": "markdown",
   "metadata": {},
   "source": [
    "10. Number is Even or Odd"
   ]
  },
  {
   "cell_type": "code",
   "execution_count": 2,
   "metadata": {},
   "outputs": [
    {
     "name": "stdout",
     "output_type": "stream",
     "text": [
      "Enter the numbber:- 2\n",
      "Even Number.\n"
     ]
    }
   ],
   "source": [
    "n=int(input(\"Enter the numbber:- \"))\n",
    "if n%2==0:\n",
    "    print(\"Even Number.\")\n",
    "else:\n",
    "    print(\"Odd Number.\")"
   ]
  },
  {
   "cell_type": "markdown",
   "metadata": {},
   "source": [
    "11. Factorial using Function"
   ]
  },
  {
   "cell_type": "code",
   "execution_count": 6,
   "metadata": {},
   "outputs": [
    {
     "name": "stdout",
     "output_type": "stream",
     "text": [
      "Enter the number:- 5\n",
      "Fact of a  5  is 120\n"
     ]
    }
   ],
   "source": [
    "def fact(n):\n",
    "    if n==0 or n==1:\n",
    "        return 1\n",
    "    else:\n",
    "        n=n*fact(n-1)\n",
    "        return n\n",
    "n=int(input(\"Enter the number:- \"))\n",
    "ans=fact(n)\n",
    "print(\"Fact of a \",n,\" is\",ans)"
   ]
  },
  {
   "cell_type": "markdown",
   "metadata": {},
   "source": [
    "12. Largest among three number"
   ]
  },
  {
   "cell_type": "code",
   "execution_count": 14,
   "metadata": {},
   "outputs": [
    {
     "name": "stdout",
     "output_type": "stream",
     "text": [
      "Enter the first Number:- 4\n",
      "Enter the second number:- 5\n",
      "Enter the third number:- 3\n",
      "n2 is greater number.\n"
     ]
    }
   ],
   "source": [
    "n1=int(input(\"Enter the first Number:- \"))\n",
    "n2=int(input(\"Enter the second number:- \"))\n",
    "n3=int(input(\"Enter the third number:- \"))\n",
    "\n",
    "if n1>n2 and n1>n3:\n",
    "    print(\"n1 is greater number.\")\n",
    "elif n2>n1 and n2>n3:\n",
    "    print(\"n2 is greater number.\")\n",
    "elif n3>n1 and n3>n2:\n",
    "    print(\"n3 is greater number.\")\n",
    "else:\n",
    "    print(\"Some number are Equal.\")"
   ]
  },
  {
   "cell_type": "markdown",
   "metadata": {},
   "source": [
    "13. Swap Variable"
   ]
  },
  {
   "cell_type": "markdown",
   "metadata": {},
   "source": [
    "13.1. Using third varivable"
   ]
  },
  {
   "cell_type": "code",
   "execution_count": 15,
   "metadata": {},
   "outputs": [
    {
     "name": "stdout",
     "output_type": "stream",
     "text": [
      "Enter the first Number:- 4\n",
      "Enter the seasond number:- 3\n",
      "After swaping the number:- \n",
      "n1=  3 n2=  4\n"
     ]
    }
   ],
   "source": [
    "n1=int(input(\"Enter the first Number:- \"))\n",
    "n2=int(input(\"Enter the seasond number:- \"))\n",
    "\n",
    "t=n2\n",
    "n2=n1\n",
    "n1=t\n",
    "\n",
    "print(\"After swaping the number:- \")\n",
    "print(\"n1= \",n1,\"n2= \",n2)"
   ]
  },
  {
   "cell_type": "markdown",
   "metadata": {},
   "source": [
    "13.2. Python style"
   ]
  },
  {
   "cell_type": "code",
   "execution_count": 17,
   "metadata": {},
   "outputs": [
    {
     "name": "stdout",
     "output_type": "stream",
     "text": [
      "Enter the first Number:- 5\n",
      "Enter the seasond number:- 6\n",
      "After swaping the number:- \n",
      "n1=  6 n2=  5\n"
     ]
    }
   ],
   "source": [
    "n1=int(input(\"Enter the first Number:- \"))\n",
    "n2=int(input(\"Enter the seasond number:- \"))\n",
    "\n",
    "n1,n2=n2,n1\n",
    "\n",
    "print(\"After swaping the number:- \")\n",
    "print(\"n1= \",n1,\"n2= \",n2)"
   ]
  },
  {
   "cell_type": "markdown",
   "metadata": {},
   "source": [
    "13.3. Without using third variable"
   ]
  },
  {
   "cell_type": "code",
   "execution_count": 19,
   "metadata": {},
   "outputs": [
    {
     "name": "stdout",
     "output_type": "stream",
     "text": [
      "Enter the first Number:- 3\n",
      "Enter the seasond number:- 4\n",
      "After swaping the number:- \n",
      "n1=  4 n2=  3\n"
     ]
    }
   ],
   "source": [
    "n1=int(input(\"Enter the first Number:- \"))\n",
    "n2=int(input(\"Enter the seasond number:- \"))\n",
    "\n",
    "n1=n1+n2\n",
    "n2=n1-n2\n",
    "n1=n1-n2\n",
    "\n",
    "print(\"After swaping the number:- \")\n",
    "print(\"n1= \",n1,\"n2= \",n2)"
   ]
  },
  {
   "cell_type": "markdown",
   "metadata": {},
   "source": [
    "14. Palindrome Number."
   ]
  },
  {
   "cell_type": "code",
   "execution_count": 25,
   "metadata": {},
   "outputs": [
    {
     "name": "stdout",
     "output_type": "stream",
     "text": [
      "1234321\n",
      "Number is Palindrome.\n"
     ]
    }
   ],
   "source": [
    "n=int(input())\n",
    "i=0\n",
    "rev=0\n",
    "temp=n\n",
    "while i<temp:\n",
    "    rem=temp%10\n",
    "    rev=rev*10+rem\n",
    "    temp=temp//10\n",
    "if n==rev:\n",
    "    print(\"Number is Palindrome.\")\n",
    "else:\n",
    "    print(\"Number is not a palindrome.\")"
   ]
  },
  {
   "cell_type": "markdown",
   "metadata": {},
   "source": [
    "15. Plaindrome Number in String"
   ]
  },
  {
   "cell_type": "code",
   "execution_count": 29,
   "metadata": {},
   "outputs": [
    {
     "name": "stdout",
     "output_type": "stream",
     "text": [
      "naman\n",
      "Strig is Palindrome.\n"
     ]
    }
   ],
   "source": [
    "s=input()\n",
    "str1=s[::-1]\n",
    "if str1==s:\n",
    "    print(\"Strig is Palindrome.\")\n",
    "else:\n",
    "    print(\"String is not a palindrome.\")"
   ]
  },
  {
   "cell_type": "code",
   "execution_count": 8,
   "metadata": {},
   "outputs": [
    {
     "name": "stdout",
     "output_type": "stream",
     "text": [
      "ajmera\n",
      "String is not a palindrome.\n"
     ]
    }
   ],
   "source": [
    "#another way\n",
    "s=input()\n",
    "str1=\"\"\n",
    "for i in s:\n",
    "    str1=i+str1\n",
    "if str1==s:\n",
    "    print(\"Strig is Palindrome.\")\n",
    "else:\n",
    "    print(\"String is not a palindrome.\")"
   ]
  },
  {
   "cell_type": "markdown",
   "metadata": {},
   "source": [
    "16. Pascal Triangle"
   ]
  },
  {
   "cell_type": "code",
   "execution_count": null,
   "metadata": {},
   "outputs": [],
   "source": []
  },
  {
   "cell_type": "markdown",
   "metadata": {},
   "source": [
    "17. Leap Year"
   ]
  },
  {
   "cell_type": "code",
   "execution_count": 13,
   "metadata": {},
   "outputs": [
    {
     "name": "stdout",
     "output_type": "stream",
     "text": [
      "Enter the year:- 2000\n",
      "2000  is a leap Year\n"
     ]
    }
   ],
   "source": [
    "year=int(input(\"Enter the year:- \"))\n",
    "\n",
    "if year%4==0 or year%100!=0 and year%400==0:\n",
    "    print(year, \" is a leap Year\")\n",
    "else:\n",
    "    print(year, \" is not a leap year.\")"
   ]
  },
  {
   "cell_type": "markdown",
   "metadata": {},
   "source": [
    "18. Perfect Number\n",
    "... Perfect number, a positive integer that is equal to the sum of its proper divisors. The smallest perfect number is 6, which is the sum of 1, 2, and 3. Other perfect numbers are 28, 496, and 8,128."
   ]
  },
  {
   "cell_type": "code",
   "execution_count": 25,
   "metadata": {},
   "outputs": [
    {
     "name": "stdout",
     "output_type": "stream",
     "text": [
      "Enter the number:- 28\n",
      "28  is a perfect number.\n"
     ]
    }
   ],
   "source": [
    "n=int(input(\"Enter the number:- \"))\n",
    "\n",
    "i=1\n",
    "sum=0\n",
    "while i<n:\n",
    "    if n%i==0:\n",
    "        sum+=i\n",
    "    i+=1\n",
    "if sum==n:\n",
    "    print(n,\" is a perfect number.\")\n",
    "else:\n",
    "    print(n, \" is not a perfect number.\")"
   ]
  },
  {
   "cell_type": "markdown",
   "metadata": {},
   "source": [
    "19. Print Perfect number up to n."
   ]
  },
  {
   "cell_type": "code",
   "execution_count": 27,
   "metadata": {},
   "outputs": [
    {
     "name": "stdout",
     "output_type": "stream",
     "text": [
      "Enter the number to check upto perfect number:- 9000\n",
      "6\n",
      "28\n",
      "496\n",
      "8128\n"
     ]
    }
   ],
   "source": [
    "n=int(input(\"Enter the number to check upto perfect number:- \"))\n",
    "l=[]\n",
    "\n",
    "for i in range(1,n+1):\n",
    "    j=1\n",
    "    sum1=0\n",
    "    while j<i:\n",
    "        if i%j==0:\n",
    "            sum1+=j\n",
    "        j+=1\n",
    "    if sum1==j:\n",
    "        l.append(j)\n",
    "for k in l:\n",
    "    print(k)"
   ]
  },
  {
   "cell_type": "markdown",
   "metadata": {},
   "source": [
    "20. Armstrong number."
   ]
  },
  {
   "cell_type": "code",
   "execution_count": 45,
   "metadata": {},
   "outputs": [
    {
     "name": "stdout",
     "output_type": "stream",
     "text": [
      "Enter the number:- 2\n",
      "2  is not a armstrong number.\n"
     ]
    }
   ],
   "source": [
    "n=int(input(\"Enter the number:- \"))\n",
    "temp=n\n",
    "i=0\n",
    "arms=0\n",
    "while n>i:\n",
    "    rem=n%10\n",
    "    arms=arms+(rem**3)\n",
    "    n=n//10\n",
    "if temp==arms:\n",
    "    print(temp, \" is a armstrong number.\")\n",
    "else:\n",
    "    print(temp, \" is not a armstrong number.\")"
   ]
  },
  {
   "cell_type": "markdown",
   "metadata": {},
   "source": [
    "21. Armstrong number up to n"
   ]
  },
  {
   "cell_type": "code",
   "execution_count": 53,
   "metadata": {},
   "outputs": [
    {
     "name": "stdout",
     "output_type": "stream",
     "text": [
      "Enter the number:- 1000\n",
      "The list of armstrong numbers are up to 1000 :-\n",
      "1\n",
      "153\n",
      "370\n",
      "371\n",
      "407\n"
     ]
    }
   ],
   "source": [
    "n=int(input(\"Enter the number:- \"))\n",
    "l=[]\n",
    "for i in range(1,n+1):\n",
    "    t=i\n",
    "    j=0\n",
    "    arms=0\n",
    "    while i>j:\n",
    "        rem=i%10\n",
    "        arms=arms+(rem**3)\n",
    "        i=i//10\n",
    "    if t==arms:\n",
    "        l.append(t)\n",
    "print(\"The list of armstrong numbers are up to\",n,\":-\")\n",
    "for k in l:\n",
    "    print(k)"
   ]
  },
  {
   "cell_type": "markdown",
   "metadata": {},
   "source": [
    "22. Strong Number.\n",
    "\n",
    "Strong number is a special number whose sum of factorial of digits is equal to the original number."
   ]
  },
  {
   "cell_type": "code",
   "execution_count": 39,
   "metadata": {},
   "outputs": [
    {
     "name": "stdout",
     "output_type": "stream",
     "text": [
      "Enter the number to check the number is strong or not:- 145\n",
      "Number is strong number.\n"
     ]
    }
   ],
   "source": [
    "def fact(n):\n",
    "    fact=1\n",
    "    if n==0 or n==1:\n",
    "        return fact\n",
    "    else:\n",
    "        for i in range(1,n+1):\n",
    "            fact*=i\n",
    "    return fact\n",
    "num=int(input(\"Enter the number to check the number is strong or not:- \"))\n",
    "temp=num\n",
    "i=0\n",
    "ans=0\n",
    "while i<num:\n",
    "    rem=num%10\n",
    "    ans=ans+fact(rem)\n",
    "    num=num//10\n",
    "if ans==temp:\n",
    "    print(\"Number is strong number.\")\n",
    "else:\n",
    "    print(\"Number is not a strong Number.\")"
   ]
  },
  {
   "cell_type": "markdown",
   "metadata": {},
   "source": [
    "23. Find all Strong Number up to N."
   ]
  },
  {
   "cell_type": "code",
   "execution_count": 12,
   "metadata": {},
   "outputs": [
    {
     "name": "stdout",
     "output_type": "stream",
     "text": [
      "Enter the number to find the all strong number:- 200\n",
      "Strong numbers are:- \n",
      "1\n",
      "2\n",
      "145\n"
     ]
    }
   ],
   "source": [
    "def fact(n):\n",
    "    fact=1\n",
    "    if n==0 or n==1:\n",
    "        return fact\n",
    "    else:\n",
    "        for i in range(1,n+1):\n",
    "            fact*=i\n",
    "    return fact\n",
    "num=int(input(\"Enter the number to find the all strong number:- \"))\n",
    "l=[]\n",
    "for j in range(1,num+1):\n",
    "    i=0\n",
    "    temp=j\n",
    "    ans=0\n",
    "    while i<j:\n",
    "        rem=j%10\n",
    "        ans=ans+fact(rem)\n",
    "        j=j//10\n",
    "    if ans==temp:\n",
    "        l.append(temp)\n",
    "print(\"Strong numbers are:- \")\n",
    "for k in l:\n",
    "    print(k)"
   ]
  },
  {
   "cell_type": "markdown",
   "metadata": {},
   "source": [
    "24. Neon Number\n",
    "\n",
    "A neon number is a number where the sum of digits of square of the number is equal to the number. The task is to check and print neon numbers in a range. Examples: Input : 9 Output : Neon Number Explanation: square is 9*9 = 81 and sum of the digits of the square is 9."
   ]
  },
  {
   "cell_type": "code",
   "execution_count": 20,
   "metadata": {},
   "outputs": [
    {
     "name": "stdout",
     "output_type": "stream",
     "text": [
      "Enter the number:- 9\n",
      "It is a Neon Number.\n"
     ]
    }
   ],
   "source": [
    "num=int(input(\"Enter the number:- \"))\n",
    "sq=num*num\n",
    "i=0\n",
    "sum1=0\n",
    "while i<sq:\n",
    "    rem=sq%10\n",
    "    sum1=sum1+rem\n",
    "    sq=sq//10\n",
    "if sum1==num:\n",
    "    print(\"It is a Neon Number.\")\n",
    "else:\n",
    "    print(\"It is not a Neon number\")"
   ]
  },
  {
   "cell_type": "markdown",
   "metadata": {},
   "source": [
    "25. Print Neon Numbers"
   ]
  },
  {
   "cell_type": "code",
   "execution_count": 27,
   "metadata": {},
   "outputs": [
    {
     "name": "stdout",
     "output_type": "stream",
     "text": [
      "Enter the number to find the neon Numbers up to N:- 1000000\n",
      "All Neon Numbers:- \n",
      "1\n",
      "9\n"
     ]
    }
   ],
   "source": [
    "num=int(input(\"Enter the number to find the neon Numbers up to N:- \"))\n",
    "l=[]\n",
    "for i in range(1,num+1):\n",
    "    sq=i*i\n",
    "    j=0\n",
    "    sum1=0\n",
    "    while j<sq:\n",
    "        rem=sq%10\n",
    "        sum1+=rem\n",
    "        sq=sq//10\n",
    "    if i==sum1:\n",
    "        l.append(i)\n",
    "print(\"All Neon Numbers:- \")\n",
    "for k in l:\n",
    "    print(k)"
   ]
  },
  {
   "cell_type": "markdown",
   "metadata": {},
   "source": [
    "26. Automorphic Number\n",
    "\n",
    "an automorphic number is a natural number in a given number base whose square \"ends\" in the same digits as the number itself."
   ]
  },
  {
   "cell_type": "code",
   "execution_count": null,
   "metadata": {},
   "outputs": [],
   "source": []
  },
  {
   "cell_type": "markdown",
   "metadata": {},
   "source": [
    "27. Spy Number\n",
    "\n",
    "A number is a Spy number, if sum and product of all digits are equal. Example: Number 123 is a Spy number, sum of its digits is 6 (1+2+3 =6) and product of its digits is 6 (1x2x3 = 6), sum and product are same, thus, 123 is a spy number"
   ]
  },
  {
   "cell_type": "code",
   "execution_count": 40,
   "metadata": {},
   "outputs": [
    {
     "name": "stdout",
     "output_type": "stream",
     "text": [
      "Enter the number:- 123\n",
      "It is a spy number.\n"
     ]
    }
   ],
   "source": [
    "num=int(input(\"Enter the number:- \"))\n",
    "i=0\n",
    "prod=1\n",
    "sum1=0\n",
    "while i<num:\n",
    "    r=num%10\n",
    "    sum1+=r\n",
    "    prod*=r\n",
    "    num=num//10\n",
    "if sum1==prod:\n",
    "    print(\"It is a spy number.\")\n",
    "else:\n",
    "    print(\"It is not a spy number.\")"
   ]
  },
  {
   "cell_type": "markdown",
   "metadata": {},
   "source": [
    "28. Spy Numbers up to n"
   ]
  },
  {
   "cell_type": "code",
   "execution_count": 42,
   "metadata": {},
   "outputs": [
    {
     "name": "stdout",
     "output_type": "stream",
     "text": [
      "Enter the number to find all the spy number upto n:- 200\n",
      "All Spy numbers:- \n",
      "1 2 3 4 5 6 7 8 9 22 123 132 "
     ]
    }
   ],
   "source": [
    "num=int(input(\"Enter the number to find all the spy number upto n:- \"))\n",
    "l=[]\n",
    "for i in range(1,num+1):\n",
    "    j=0\n",
    "    prod=1\n",
    "    sum1=0\n",
    "    temp=i\n",
    "    while j<i:\n",
    "        r=i%10\n",
    "        sum1+=r\n",
    "        prod*=r\n",
    "        i=i//10\n",
    "    if sum1==prod:\n",
    "        l.append(temp)\n",
    "print(\"All Spy numbers:- \")\n",
    "for k in l:\n",
    "    print(k,end=' ')"
   ]
  },
  {
   "cell_type": "code",
   "execution_count": null,
   "metadata": {},
   "outputs": [],
   "source": []
  }
 ],
 "metadata": {
  "kernelspec": {
   "display_name": "Python 3",
   "language": "python",
   "name": "python3"
  },
  "language_info": {
   "codemirror_mode": {
    "name": "ipython",
    "version": 3
   },
   "file_extension": ".py",
   "mimetype": "text/x-python",
   "name": "python",
   "nbconvert_exporter": "python",
   "pygments_lexer": "ipython3",
   "version": "3.7.4"
  }
 },
 "nbformat": 4,
 "nbformat_minor": 2
}
