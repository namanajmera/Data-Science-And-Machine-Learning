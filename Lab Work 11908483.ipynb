{
 "cells": [
  {
   "cell_type": "markdown",
   "metadata": {},
   "source": [
    "Q1. WAP function to find the Max of three number."
   ]
  },
  {
   "cell_type": "code",
   "execution_count": 6,
   "metadata": {},
   "outputs": [
    {
     "name": "stdout",
     "output_type": "stream",
     "text": [
      "Enter the first Number:- 4\n",
      "Enter the second number:- 5\n",
      "Enter the third number:- 3\n",
      "5\n"
     ]
    }
   ],
   "source": [
    "def greatest(x,y,z):\n",
    "    if x>y and x>z:\n",
    "        max=x\n",
    "    elif y>x and  y>z:\n",
    "        max=y\n",
    "    elif z>y and z>x:\n",
    "        max=z\n",
    "    return max\n",
    "first=int(input(\"Enter the first Number:- \"))\n",
    "sec=int(input(\"Enter the second number:- \"))\n",
    "third=int(input(\"Enter the third number:- \"))\n",
    "print(greatest(first,sec,third))\n"
   ]
  },
  {
   "cell_type": "markdown",
   "metadata": {},
   "source": [
    "WAP function to sum all the numbers in a list"
   ]
  },
  {
   "cell_type": "code",
   "execution_count": 14,
   "metadata": {},
   "outputs": [
    {
     "name": "stdout",
     "output_type": "stream",
     "text": [
      "naman\n"
     ]
    }
   ],
   "source": [
    "def reverse(str1):\n",
    "    return str1[::-1]\n",
    "\n",
    "print(reverse(\"naman\"))"
   ]
  },
  {
   "cell_type": "markdown",
   "metadata": {},
   "source": [
    "Calculate the factorial of a number"
   ]
  },
  {
   "cell_type": "code",
   "execution_count": 19,
   "metadata": {},
   "outputs": [
    {
     "name": "stdout",
     "output_type": "stream",
     "text": [
      "Enter the number:- 0\n"
     ]
    },
    {
     "data": {
      "text/plain": [
       "1"
      ]
     },
     "execution_count": 19,
     "metadata": {},
     "output_type": "execute_result"
    }
   ],
   "source": [
    "num=int(input(\"Enter the number:- \"))\n",
    "def factorial(num1):\n",
    "    fact=1\n",
    "    for i in range(1,num1+1):\n",
    "        fact=fact*i\n",
    "    return fact\n",
    "\n",
    "factorial(num)"
   ]
  },
  {
   "cell_type": "markdown",
   "metadata": {},
   "source": [
    "WAP to check whether the give number is in range or not"
   ]
  },
  {
   "cell_type": "code",
   "execution_count": null,
   "metadata": {},
   "outputs": [],
   "source": []
  }
 ],
 "metadata": {
  "kernelspec": {
   "display_name": "Python 3",
   "language": "python",
   "name": "python3"
  },
  "language_info": {
   "codemirror_mode": {
    "name": "ipython",
    "version": 3
   },
   "file_extension": ".py",
   "mimetype": "text/x-python",
   "name": "python",
   "nbconvert_exporter": "python",
   "pygments_lexer": "ipython3",
   "version": "3.7.6"
  }
 },
 "nbformat": 4,
 "nbformat_minor": 2
}
