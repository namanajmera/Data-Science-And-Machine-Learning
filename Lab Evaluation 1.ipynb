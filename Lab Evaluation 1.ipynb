{
 "cells": [
  {
   "cell_type": "code",
   "execution_count": 29,
   "metadata": {},
   "outputs": [
    {
     "name": "stdout",
     "output_type": "stream",
     "text": [
      "Enter the Right hand side value of river till now:-0\n",
      "A= 10 \n",
      "B= 7 \n",
      "C= 2 \n",
      "D= 1\n",
      "Problem is to cross the A,B,C,D person to the right hand side of the river.\n",
      "Conditions are for the problem is:- \n",
      "\n",
      "1. At least 1 person in a boat at a time.\n",
      "\n",
      "2. At max two people in boat at a time.\n",
      "\n",
      "3. Higher time is added to the time\n",
      "4. Find the Optimum time required for crossing the river.\n",
      "\n",
      "\n",
      "In right hand side C=2,D=1 are reached.\n",
      "\n",
      "Now value of C is added to the time.\n",
      "Time till now taken is  2 to cross the river.\n",
      "\n",
      "Now D=1 will go in left hand side of the river.\n",
      "\n",
      "Now value of D is added to the time.\n",
      "Time till now taken is  3 to cross the river.\n",
      "\n",
      "In Right side A=10,B=7 are reached.\n",
      "\n",
      "Now value of A is added to the time.\n",
      "Time till now taken is  13 to cross the river. \n",
      "\n",
      "Now C=2 goes in left hand side.\n",
      "\n",
      "Now value of C is added to the time.\n",
      "Time till now taken is  15 to cross the river. \n",
      "\n",
      "Now C=2 and D=1 reached to right hand side of river.\n",
      "\n",
      "Now value of C is added to the time.\n",
      "Now all are reached in Right hand side of the river.\n",
      "\n",
      "Optimum time required for crossing river is  17 to cross the river.\n"
     ]
    }
   ],
   "source": [
    "a=10\n",
    "b=7\n",
    "c=2\n",
    "d=1\n",
    "rhs=int(input(\"Enter the Right hand side value of river till now:-\"))\n",
    "print(\"A=\",a,\"\\nB=\",b,\"\\nC=\",c,\"\\nD=\",d)\n",
    "print(\"Problem is to cross the A,B,C,D person to the right hand side of the river.\")\n",
    "print(\"Conditions are for the problem is:- \\n\")\n",
    "print(\"1. At least 1 person in a boat at a time.\\n\")\n",
    "print(\"2. At max two people in boat at a time.\\n\")\n",
    "print(\"3. Higher time is added to the time\")\n",
    "print(\"4. Find the Optimum time required for crossing the river.\\n\")\n",
    "\n",
    "if rhs==0:\n",
    "    if c>d:\n",
    "        rhs=rhs+c\n",
    "        print(\"\\nIn right hand side C=2,D=1 are reached.\")\n",
    "        print(\"\\nNow value of C is added to the time.\")\n",
    "        print(\"Time till now taken is \",rhs,\"to cross the river.\")\n",
    "        print(\"\\nNow D=1 will go in left hand side of the river.\")\n",
    "        print(\"\\nNow value of D is added to the time.\")\n",
    "        rhs=rhs+d\n",
    "        print(\"Time till now taken is \",rhs ,\"to cross the river.\")\n",
    "        if a>b:\n",
    "            print(\"\\nIn Right side A=10,B=7 are reached.\")\n",
    "            rhs=rhs+a\n",
    "            print(\"\\nNow value of A is added to the time.\")\n",
    "            print(\"Time till now taken is \",rhs,\"to cross the river.\",\"\\n\")\n",
    "            print(\"Now C=2 goes in left hand side.\")\n",
    "            rhs=rhs+c\n",
    "            print(\"\\nNow value of C is added to the time.\")\n",
    "            print(\"Time till now taken is \",rhs,\"to cross the river.\",\"\\n\")\n",
    "            if c>d:\n",
    "                rhs=rhs+c\n",
    "                print(\"Now C=2 and D=1 reached to right hand side of river.\")\n",
    "                print(\"\\nNow value of C is added to the time.\")\n",
    "                print(\"Now all are reached in Right hand side of the river.\\n\")\n",
    "    print(\"Optimum time required for crossing river is \",rhs,\"to cross the river.\")\n",
    "else:\n",
    "    print(\"\\nWrong value inserted \\nthe right hand side value should be zero.\\n\")"
   ]
  },
  {
   "cell_type": "code",
   "execution_count": null,
   "metadata": {},
   "outputs": [],
   "source": []
  }
 ],
 "metadata": {
  "kernelspec": {
   "display_name": "Python 3",
   "language": "python",
   "name": "python3"
  },
  "language_info": {
   "codemirror_mode": {
    "name": "ipython",
    "version": 3
   },
   "file_extension": ".py",
   "mimetype": "text/x-python",
   "name": "python",
   "nbconvert_exporter": "python",
   "pygments_lexer": "ipython3",
   "version": "3.7.6"
  }
 },
 "nbformat": 4,
 "nbformat_minor": 2
}
