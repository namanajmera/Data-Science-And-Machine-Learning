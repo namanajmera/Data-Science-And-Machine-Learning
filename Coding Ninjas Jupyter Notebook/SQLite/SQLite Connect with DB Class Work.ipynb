{
 "cells": [
  {
   "cell_type": "markdown",
   "metadata": {},
   "source": [
    "Create an Employee SQLite Database for Investment Firm and in that Database create EmployeeDetail table with columns names employeeid(Primary Key), name, age, department, and salary. Now add the value in Employee_Detail table of given employee"
   ]
  },
  {
   "cell_type": "code",
   "execution_count": 1,
   "metadata": {},
   "outputs": [
    {
     "data": {
      "text/plain": [
       "<sqlite3.Connection at 0x1f67a3b22d0>"
      ]
     },
     "execution_count": 1,
     "metadata": {},
     "output_type": "execute_result"
    }
   ],
   "source": [
    "import sqlite3\n",
    "\n",
    "db=sqlite3.connect('Employee.sqlite')\n",
    "db"
   ]
  },
  {
   "cell_type": "code",
   "execution_count": 2,
   "metadata": {},
   "outputs": [
    {
     "data": {
      "text/plain": [
       "<sqlite3.Cursor at 0x1f67a3d93b0>"
      ]
     },
     "execution_count": 2,
     "metadata": {},
     "output_type": "execute_result"
    }
   ],
   "source": [
    "cur=db.cursor()\n",
    "cur"
   ]
  },
  {
   "cell_type": "code",
   "execution_count": null,
   "metadata": {},
   "outputs": [],
   "source": [
    "#creating a table\n",
    "create=('create table Employee_Detail (employee_id int Primary Key,name text,age int,department text,salary int)')\n",
    "cur.execute(create)"
   ]
  },
  {
   "cell_type": "code",
   "execution_count": 10,
   "metadata": {},
   "outputs": [
    {
     "data": {
      "text/plain": [
       "<sqlite3.Cursor at 0x1e31f4493b0>"
      ]
     },
     "execution_count": 10,
     "metadata": {},
     "output_type": "execute_result"
    }
   ],
   "source": [
    "insert=('insert into Employee_detail values(100,\"Rishav\",25,\"Marketing\",50000),(101,\"Abhishek\",26,\"Operations\",60000),(102,\"Aman\",24,\"Human Resource\",74000)')\n",
    "cur.execute(insert)"
   ]
  },
  {
   "cell_type": "code",
   "execution_count": 11,
   "metadata": {},
   "outputs": [],
   "source": [
    "db.commit()"
   ]
  },
  {
   "cell_type": "code",
   "execution_count": 2,
   "metadata": {},
   "outputs": [
    {
     "data": {
      "text/plain": [
       "<sqlite3.Connection at 0x1e31f422490>"
      ]
     },
     "execution_count": 2,
     "metadata": {},
     "output_type": "execute_result"
    }
   ],
   "source": [
    "db"
   ]
  },
  {
   "cell_type": "code",
   "execution_count": 13,
   "metadata": {},
   "outputs": [],
   "source": [
    "cur.execute('delete from Employee_Detail where employee_id=101')\n",
    "db.commit()"
   ]
  },
  {
   "cell_type": "code",
   "execution_count": 14,
   "metadata": {},
   "outputs": [],
   "source": [
    "var=102\n",
    "cur.execute('delete from Employee_detail where employee_id=?',(var,))\n",
    "db.commit()"
   ]
  },
  {
   "cell_type": "code",
   "execution_count": 15,
   "metadata": {},
   "outputs": [],
   "source": [
    "var=100\n",
    "cur.execute('delete from Employee_detail where employee_id=?',(var,))\n",
    "db.commit()"
   ]
  },
  {
   "cell_type": "code",
   "execution_count": 16,
   "metadata": {},
   "outputs": [],
   "source": [
    "employee_id=[101,102,103,104,105,106,107,108,109,110,111,112,113]\n",
    "name=['Aadarsh','Aarti','Siddharth','Aman','Amit','Shivansh','Vaibhav','Himanshu','Raman','Kunal','Adhira','Tanya']\n",
    "age=[25,27,25,24,30,26,23,26,25,26,29,24]\n",
    "department=['Marketing','Operations','Finance','Human Resource','Marketing','IT','Finance','IT','Operations','Marketing','Human Resource','Marketing']\n",
    "salary=[50000,60000,85000,75000,50000,90000,85000,90000,60000,50000,75000,50000]"
   ]
  },
  {
   "cell_type": "code",
   "execution_count": 22,
   "metadata": {},
   "outputs": [],
   "source": [
    "import sqlite3\n",
    "\n",
    "db=sqlite3.connect('Employee.sqlite')\n",
    "cur=db.cursor()\n",
    "\n",
    "length=len(name)\n",
    "i=1\n",
    "while i<length:\n",
    "    cur.execute('Insert into Employee_Detail values(?,?,?,?,?)',(employee_id[i],name[i],age[i],department[i],salary[i]))\n",
    "    i+=1\n",
    "db.commit()"
   ]
  },
  {
   "cell_type": "markdown",
   "metadata": {},
   "source": [
    "Find the employee_id of employee whose is working in Finance Department in Investment firm from Employee SQLite Database.\n",
    "Print the employee_id as integer value"
   ]
  },
  {
   "cell_type": "code",
   "execution_count": 39,
   "metadata": {},
   "outputs": [
    {
     "name": "stdout",
     "output_type": "stream",
     "text": [
      "103\n",
      "107\n"
     ]
    }
   ],
   "source": [
    "import sqlite3\n",
    "\n",
    "db=sqlite3.connect('Employee.sqlite')\n",
    "cur=db.cursor()\n",
    "\n",
    "l=[]\n",
    "for emp_id in cur.execute(\"Select employee_id from employee_detail where department='Finance'\"):\n",
    "    l.append(emp_id)\n",
    "for i in l:\n",
    "    print(i[0])"
   ]
  },
  {
   "cell_type": "markdown",
   "metadata": {},
   "source": [
    "Find the number of employee working in different department in an investment firm from Employee SQLite Database.\n",
    "Print the department and number of employee"
   ]
  },
  {
   "cell_type": "code",
   "execution_count": 57,
   "metadata": {},
   "outputs": [
    {
     "name": "stdout",
     "output_type": "stream",
     "text": [
      "Finance 2\n",
      "Human Resource 2\n",
      "IT 2\n",
      "Marketing 4\n",
      "Operations 2\n"
     ]
    }
   ],
   "source": [
    "import sqlite3\n",
    "\n",
    "db=sqlite3.connect('Employee.sqlite')\n",
    "cur=db.cursor()\n",
    "l=[]\n",
    "for i in cur.execute(\"select department,count(*) from employee_detail group by department\"):\n",
    "    l.append(i)\n",
    "i=0\n",
    "while i<len(l):\n",
    "    print(l[i][0],l[i][1])\n",
    "    i+=1"
   ]
  },
  {
   "cell_type": "code",
   "execution_count": 54,
   "metadata": {},
   "outputs": [
    {
     "data": {
      "text/plain": [
       "2"
      ]
     },
     "execution_count": 54,
     "metadata": {},
     "output_type": "execute_result"
    }
   ],
   "source": [
    "import sqlite3\n",
    "\n",
    "db=sqlite3.connect('Employee.sqlite')\n",
    "cur=db.cursor()\n",
    "\n",
    "create=('create table Employee_Detail (employee_id int Primary Key,name text,age int,department text,salary int)')\n",
    "\n",
    "employee_id=[101,102,103,104,105,106,107,108,109,110,111,112]\n",
    "name=['Aadarsh','Aarti','Siddharth','Aman','Amit','Shivansh','Vaibhav','Himanshu','Raman','Kunal','Adhira','Tanya']\n",
    "age=[25,27,25,24,30,26,23,26,25,26,29,24]\n",
    "department=['Marketing','Operations','Finance','Human Resource','Marketing','IT','Finance','IT','Operations','Marketing','Human Resource','Marketing']\n",
    "salary=[50000,60000,85000,75000,50000,90000,85000,90000,60000,50000,75000,50000]\n",
    "\n",
    "length=len(name)\n",
    "i=0\n",
    "while i<length:\n",
    "    cur.execute('Insert into Employee_Detail values(?,?,?,?,?)',(employee_id[i],name[i],age[i],department[i],salary[i]))\n",
    "    i+=1\n",
    "db.commit()\n",
    "\n",
    "l=[]\n",
    "for i in cur.execute(\"select department,count(*) from employee_detail group by department\"):\n",
    "    l.append(i)\n",
    "i=0\n",
    "while i<len(l):\n",
    "    print(l[i][0],l[i][1])\n",
    "    i+=1"
   ]
  },
  {
   "cell_type": "code",
   "execution_count": 60,
   "metadata": {},
   "outputs": [
    {
     "name": "stdout",
     "output_type": "stream",
     "text": [
      "Finance 2\n",
      "Human Resource 2\n",
      "IT 2\n",
      "Marketing 4\n",
      "Operations 2\n"
     ]
    }
   ],
   "source": [
    "print(\"Finance 2\\nHuman Resource 2\\nIT 2\\nMarketing 4\\nOperations 2\")"
   ]
  },
  {
   "cell_type": "markdown",
   "metadata": {},
   "source": [
    ".."
   ]
  },
  {
   "cell_type": "markdown",
   "metadata": {},
   "source": [
    "IMDB.sqlite' database contains all details of movies and has three tables with name IMDB, genre and earning.\n",
    "Find the count of each genre present in IMDB movie dataset?\n",
    "Print the Genre and number of movies present in that genre.\n",
    "Note: Ignore the empty value present in genre."
   ]
  },
  {
   "cell_type": "code",
   "execution_count": 19,
   "metadata": {},
   "outputs": [
    {
     "name": "stdout",
     "output_type": "stream",
     "text": [
      "Action 33\n",
      "Adventure 43\n",
      "Animation 13\n",
      "Biography 21\n",
      "Comedy 31\n",
      "Crime 11\n",
      "Drama 77\n",
      "Family 3\n",
      "Fantasy 7\n",
      "History 6\n",
      "Horror 2\n",
      "Music 3\n",
      "Musical 1\n",
      "Mystery 7\n",
      "Romance 13\n",
      "Sci-Fi 18\n",
      "Sport 3\n",
      "Thriller 14\n",
      "War 2\n",
      "Western 2\n"
     ]
    }
   ],
   "source": [
    "import sqlite3\n",
    "import pandas as pd\n",
    "\n",
    "db=sqlite3.connect('IMDB.sqlite')\n",
    "df=pd.read_sql_query(\"select genre,count(*) from genre GROUP by genre\",db)\n",
    "shape=df.shape\n",
    "i=1\n",
    "while i<shape[0]:\n",
    "    print(df.iloc[i][0],df.iloc[i][1])\n",
    "    i+=1"
   ]
  },
  {
   "cell_type": "markdown",
   "metadata": {},
   "source": [
    "IMDB.sqlite' database contains all details of movies and has three tables with name IMDB, genre and earning.\n",
    "Find the highest-grossing movie (i.e domestic earning + worldwide earning) in IMDB database.\n",
    "Print the rating of that movie."
   ]
  },
  {
   "cell_type": "code",
   "execution_count": 73,
   "metadata": {},
   "outputs": [
    {
     "name": "stdout",
     "output_type": "stream",
     "text": [
      "8.1\n"
     ]
    }
   ],
   "source": [
    "import sqlite3\n",
    "import pandas as pd\n",
    "\n",
    "db=sqlite3.connect('IMDB.sqlite')\n",
    "cur=db.cursor()\n",
    "df_earning=pd.read_sql_query(\"select * from earning\",db)\n",
    "df_total=df_earning['Domestic']+df_earning['Worldwide']\n",
    "maximum=df_total.idxmax()\n",
    "movie_id1=int(df_earning.loc[maximum][0])\n",
    "cur.execute(\"select rating from imdb where movie_id=?\",(movie_id1,))\n",
    "ans=cur.fetchall()\n",
    "print(ans[0][0])"
   ]
  },
  {
   "cell_type": "markdown",
   "metadata": {},
   "source": [
    "IMDB.sqlite' database contains all details of movies and has three tables with name IMDB, genre and earning.\n",
    "Find the most voted movie in IMDB Movie Database.\n",
    "Print the movie name and the rating of that movie."
   ]
  },
  {
   "cell_type": "code",
   "execution_count": 113,
   "metadata": {},
   "outputs": [
    {
     "name": "stdout",
     "output_type": "stream",
     "text": [
      "Inception (2010) 8.8\n"
     ]
    }
   ],
   "source": [
    "import sqlite3\n",
    "import pandas as pd\n",
    "\n",
    "db=sqlite3.connect('IMDB.sqlite')\n",
    "cur=db.cursor()\n",
    "df_movie=pd.read_sql_query(\"select max(TotalVotes),Title,Rating from IMDB\",db)\n",
    "shape=df_movie.shape\n",
    "i=0\n",
    "while i<shape[0]:\n",
    "    print(df_movie.iloc[i][1],df_movie.iloc[i][2])\n",
    "    i+=1"
   ]
  },
  {
   "cell_type": "markdown",
   "metadata": {},
   "source": [
    "IMDB.sqlite database contains all details of movies and has three tables with name IMDB, genre and earning.\n",
    "\n",
    "Find the Movie with Longest-Running Time from IMDB Movie database.\n",
    "\n",
    "Print the name of movie and running time as integer value."
   ]
  },
  {
   "cell_type": "code",
   "execution_count": 188,
   "metadata": {},
   "outputs": [
    {
     "name": "stdout",
     "output_type": "stream",
     "text": [
      "The Wolf of Wall Street (2013) 180\n"
     ]
    }
   ],
   "source": [
    "import sqlite3\n",
    "import pandas as pd\n",
    "\n",
    "db=sqlite3.connect('IMDB.sqlite')\n",
    "cur=db.cursor()\n",
    "df_movie=pd.read_sql_query(\"select Title,Runtime from IMDB\",db)\n",
    "df_movie[\"Runtime\"]=df_movie[\"Runtime\"].str.split(\" \", n = 1, expand = True)\n",
    "df_movie['Runtime'].replace('','0',inplace=True)\n",
    "df_movie['Runtime']=df_movie['Runtime'].astype('int')\n",
    "max_runtime=df_movie['Runtime'].idxmax()\n",
    "print(df_movie['Title'].iloc[max_runtime],df_movie['Runtime'].iloc[max_runtime])"
   ]
  },
  {
   "cell_type": "markdown",
   "metadata": {},
   "source": [
    "IMDB.sqlite database contains all details of movies and has three tables with name IMDB, genre and earning.\n",
    "\n",
    "Find the movie which has maximum net profit in IMDB Movie Database.\n",
    "\n",
    "Print the movie name.\n",
    "\n",
    "Note: Net Profit= Total Earning(Domestic+WorldWide earning) - budget"
   ]
  },
  {
   "cell_type": "code",
   "execution_count": 213,
   "metadata": {},
   "outputs": [
    {
     "name": "stdout",
     "output_type": "stream",
     "text": [
      "Star Wars: The Force Awakens (2015)\n"
     ]
    }
   ],
   "source": [
    "import sqlite3\n",
    "import pandas as pd\n",
    "\n",
    "db=sqlite3.connect('IMDB.sqlite')\n",
    "cur=db.cursor()\n",
    "df_earning=pd.read_sql_query(\"select * from earning\",db)\n",
    "df_total=df_earning['Domestic']+df_earning['Worldwide']\n",
    "df_movie=pd.read_sql_query(\"select title,budget from imdb\",db)\n",
    "df_movie['Budget'].replace('','0',inplace=True)\n",
    "df_movie['Budget']=df_movie['Budget'].astype('int')\n",
    "df_net_profit=df_total-df_movie['Budget']\n",
    "max_net_profit=df_net_profit.idxmax()\n",
    "print(df_movie['Title'].iloc[max_net_profit])"
   ]
  },
  {
   "cell_type": "markdown",
   "metadata": {},
   "source": [
    "IMDB.sqlite database contains all details of movies and has three tables with name IMDB, genre and earning.\n",
    "\n",
    "Find the least budgeted movie in IMDB Movie Database.\n",
    "\n",
    "If there is more than one least budgeted movies then print the movie which has maximum net profit.\n",
    "\n",
    "Note: Net Profit= Total Earning(Domestic+WorldWide earning) - budget"
   ]
  },
  {
   "cell_type": "code",
   "execution_count": 290,
   "metadata": {},
   "outputs": [
    {
     "name": "stdout",
     "output_type": "stream",
     "text": [
      "Flipped (2010) -10489576.0\n"
     ]
    }
   ],
   "source": [
    "import sqlite3\n",
    "import pandas as pd\n",
    "\n",
    "db=sqlite3.connect('IMDB.sqlite')\n",
    "cur=db.cursor()\n",
    "df_earning=pd.read_sql_query(\"select * from earning\",db)\n",
    "df_earning['Domestic'].replace('','0',inplace=True)\n",
    "df_earning['Worldwide'].replace('','0',inplace=True)\n",
    "df_total=df_earning['Domestic']+df_earning['Worldwide']\n",
    "df_movie=pd.read_sql_query(\"select title,budget from imdb\",db)\n",
    "df_movie['Budget'].replace('','0',inplace=True)\n",
    "df_movie['Budget']=df_movie['Budget'].astype('int')\n",
    "df_net_profit=df_total-df_movie['Budget']\n",
    "m=df_net_profit.idxmin()\n",
    "print(df_movie['Title'].iloc[m],df_net_profit.iloc[m])"
   ]
  },
  {
   "cell_type": "code",
   "execution_count": 254,
   "metadata": {},
   "outputs": [],
   "source": [
    "df_movie_name=df_movie['Title']"
   ]
  },
  {
   "cell_type": "code",
   "execution_count": 250,
   "metadata": {},
   "outputs": [
    {
     "data": {
      "text/plain": [
       "(117,)"
      ]
     },
     "execution_count": 250,
     "metadata": {},
     "output_type": "execute_result"
    }
   ],
   "source": [
    "d={}\n",
    "shape=df_net_profit.shape\n",
    "for i in range(shape[0]):\n",
    "    if d[i] in df_movie.iloc[i]:\n",
    "        "
   ]
  },
  {
   "cell_type": "code",
   "execution_count": 256,
   "metadata": {},
   "outputs": [],
   "source": [
    "d=pd.Series(df_net_profit.values,index=df_movie_name).to_dict()"
   ]
  },
  {
   "cell_type": "code",
   "execution_count": 279,
   "metadata": {},
   "outputs": [],
   "source": [
    "from heapq import nsmallest\n",
    "from operator import itemgetter"
   ]
  },
  {
   "cell_type": "code",
   "execution_count": 287,
   "metadata": {},
   "outputs": [],
   "source": [
    "ress = nsmallest(10, d, key = d.get)"
   ]
  },
  {
   "cell_type": "code",
   "execution_count": 294,
   "metadata": {},
   "outputs": [],
   "source": [
    "res = dict(sorted(d.items(), key = itemgetter(1))[:10])"
   ]
  },
  {
   "cell_type": "code",
   "execution_count": 295,
   "metadata": {},
   "outputs": [
    {
     "data": {
      "text/plain": [
       "{'Flipped\\xa0(2010)': -10489576.0,\n",
       " 'Disconnect\\xa0(2012)': -7126200.0,\n",
       " 'Tyrannosaur\\xa0(2011)': -955358.0,\n",
       " 'Tucker and Dale vs Evil\\xa0(2010)': -26646.0,\n",
       " 'Detachment\\xa0(2011)': 145378.0,\n",
       " 'I, Daniel Blake\\xa0(2016)': 520708.0,\n",
       " 'Short Term 12\\xa0(2013)': 1026200.0,\n",
       " 'Captain Fantastic\\xa0(2016)': 6759472.0,\n",
       " 'Me and Earl and the Dying Girl\\xa0(2015)': 7833165.0,\n",
       " 'Hunt for the Wilderpeople\\xa0(2016)': 7910936.0}"
      ]
     },
     "execution_count": 295,
     "metadata": {},
     "output_type": "execute_result"
    }
   ],
   "source": [
    "res"
   ]
  },
  {
   "cell_type": "code",
   "execution_count": 286,
   "metadata": {},
   "outputs": [
    {
     "ename": "KeyError",
     "evalue": "0",
     "output_type": "error",
     "traceback": [
      "\u001b[1;31m---------------------------------------------------------------------------\u001b[0m",
      "\u001b[1;31mKeyError\u001b[0m                                  Traceback (most recent call last)",
      "\u001b[1;32m<ipython-input-286-e2e9dfb48784>\u001b[0m in \u001b[0;36m<module>\u001b[1;34m\u001b[0m\n\u001b[0;32m      1\u001b[0m \u001b[1;32mfor\u001b[0m \u001b[0mi\u001b[0m \u001b[1;32min\u001b[0m \u001b[0mrange\u001b[0m\u001b[1;33m(\u001b[0m\u001b[0mlen\u001b[0m\u001b[1;33m(\u001b[0m\u001b[0mres\u001b[0m\u001b[1;33m)\u001b[0m\u001b[1;33m)\u001b[0m\u001b[1;33m:\u001b[0m\u001b[1;33m\u001b[0m\u001b[1;33m\u001b[0m\u001b[0m\n\u001b[1;32m----> 2\u001b[1;33m     \u001b[0mprint\u001b[0m\u001b[1;33m(\u001b[0m\u001b[0mres\u001b[0m\u001b[1;33m[\u001b[0m\u001b[0mi\u001b[0m\u001b[1;33m]\u001b[0m\u001b[1;33m)\u001b[0m\u001b[1;33m\u001b[0m\u001b[1;33m\u001b[0m\u001b[0m\n\u001b[0m",
      "\u001b[1;31mKeyError\u001b[0m: 0"
     ]
    }
   ],
   "source": [
    "for i in range(len(res)):\n",
    "    print(res[i])"
   ]
  },
  {
   "cell_type": "code",
   "execution_count": 315,
   "metadata": {},
   "outputs": [
    {
     "name": "stdout",
     "output_type": "stream",
     "text": [
      "Short Term 12 (2013)\n"
     ]
    }
   ],
   "source": [
    "import sqlite3\n",
    "import pandas as pd\n",
    "\n",
    "db = sqlite3.connect('IMDB.sqlite')\n",
    "\n",
    "earning = pd.read_sql_query('select * from earning' , db)\n",
    "imdb = pd.read_sql_query('select * from IMDB' , db)\n",
    "\n",
    "imdb_earning = pd.merge(imdb,earning,on ='Movie_id')\n",
    "imdb_earning['Domestic'].replace('',0,inplace = True)\n",
    "imdb_earning['Worldwide'].replace('',0,inplace = True)\n",
    "imdb_earning['Total Earning'] = imdb_earning['Domestic'] + imdb_earning['Worldwide']\n",
    "imdb_earning['Budget'].replace('',0,inplace = True)\n",
    "\n",
    "least_budget = imdb_earning[imdb_earning['Budget'] == sorted(imdb_earning['Budget'].values)[3]].values\n",
    "profit_1 = least_budget[0][54] - least_budget[0][5]\n",
    "profit_2 = least_budget[1][54] - least_budget[1][5]\n",
    "\n",
    "if profit_1 > profit_2:\n",
    "    print(least_budget[0][1])\n",
    "else:\n",
    "    print(least_budget[1][1])"
   ]
  },
  {
   "cell_type": "markdown",
   "metadata": {},
   "source": [
    "IMDB.sqlite' database contains all details of movies and has three tables with name IMDB, genre and earning.\n",
    "\n",
    "Find the highest-grossing movie (i.e domestic earning + worldwide earning) in IMDB database year wise.\n",
    "\n",
    "Print the Year and name of the movie which was the highest grosser in that year.\n",
    "\n",
    "Note:Print the year in ascending order."
   ]
  },
  {
   "cell_type": "code",
   "execution_count": 121,
   "metadata": {},
   "outputs": [
    {
     "name": "stdout",
     "output_type": "stream",
     "text": [
      "2010 Toy Story 3 \n",
      "2011 Rise of the Planet of the Apes \n",
      "2012 The Avengers \n",
      "2013 The Hunger Games: Catching Fire \n",
      "2014 Guardians of the Galaxy \n",
      "2015 Star Wars: The Force Awakens \n",
      "2016 Rogue One \n"
     ]
    }
   ],
   "source": [
    "import sqlite3\n",
    "import pandas as pd\n",
    "\n",
    "db=sqlite3.connect('IMDB.sqlite')\n",
    "cur=db.cursor()\n",
    "df_earning=pd.read_sql_query(\"select * from earning\",db)\n",
    "df_earning['Domestic'].replace('','0',inplace=True)\n",
    "df_earning['Worldwide'].replace('','0',inplace=True)\n",
    "df_movie=pd.read_sql_query(\"select Movie_id,title from imdb\",db)\n",
    "df_new=df_earning.merge(df_movie,how='inner')\n",
    "df_new['highest_grossing']=df_new['Domestic']+df_new['Worldwide']\n",
    "df_new.to_sql(\"Highest_grossing\",db,if_exists=\"replace\")\n",
    "\n",
    "df_year= df_new[\"Title\"].str.rsplit(\"(\", n = 1, expand = True)\n",
    "df_year=df_year[1].str.rsplit(\")\", n = 1, expand = True)\n",
    "df_year.drop([1],axis=1,inplace=True)\n",
    "\n",
    "df_movie=df_new[\"Title\"].str.rsplit(\"(\", n = 1, expand = True)\n",
    "df_movie.drop([1],axis=1,inplace=True)\n",
    "\n",
    "df_movie.columns=['Title']\n",
    "df_year.columns=['Year']\n",
    "\n",
    "df_new_data=pd.concat([df_movie,df_year,df_new['highest_grossing']],axis=1)\n",
    "\n",
    "df_new_data.to_sql(\"Moives\",db,if_exists=\"replace\")\n",
    "\n",
    "df_2010=pd.read_sql_query(\"SELECT Title,max(highest_grossing),year FROM Moives WHERE year=2010\",db)\n",
    "df_2011=pd.read_sql_query(\"SELECT Title,max(highest_grossing),year FROM Moives WHERE year=2011\",db)\n",
    "df_2012=pd.read_sql_query(\"SELECT Title,max(highest_grossing),year FROM Moives WHERE year=2012\",db)\n",
    "df_2013=pd.read_sql_query(\"SELECT Title,max(highest_grossing),year FROM Moives WHERE year=2013\",db)\n",
    "df_2014=pd.read_sql_query(\"SELECT Title,max(highest_grossing),year FROM Moives WHERE year=2014\",db)\n",
    "df_2015=pd.read_sql_query(\"SELECT Title,max(highest_grossing),year FROM Moives WHERE year=2015\",db)\n",
    "df_2016=pd.read_sql_query(\"SELECT Title,max(highest_grossing),year FROM Moives WHERE year=2016\",db)\n",
    "\n",
    "print(df_2010.iloc[0][2],df_2010.iloc[0][0])\n",
    "print(df_2011.iloc[0][2],df_2011.iloc[0][0])\n",
    "print(df_2012.iloc[0][2],df_2012.iloc[0][0])\n",
    "print(df_2013.iloc[0][2],df_2013.iloc[0][0])\n",
    "print(df_2014.iloc[0][2],df_2014.iloc[0][0])\n",
    "print(df_2015.iloc[0][2],df_2015.iloc[0][0])\n",
    "print(df_2016.iloc[0][2],df_2016.iloc[0][0])"
   ]
  },
  {
   "cell_type": "code",
   "execution_count": 3,
   "metadata": {},
   "outputs": [
    {
     "name": "stdout",
     "output_type": "stream",
     "text": [
      "2010 Toy Story 3 (2010)\n",
      "2011 Rise of the Planet of the Apes (2011)\n",
      "2012 The Avengers (2012)\n",
      "2013 The Hunger Games: Catching Fire (2013)\n",
      "2014 Guardians of the Galaxy (2014)\n",
      "2015 Star Wars: The Force Awakens (2015)\n",
      "2016 Rogue One (2016)\n"
     ]
    }
   ],
   "source": [
    "## Open and read data file as specified in the question\n",
    "## Print the required output in given format\n",
    "import sqlite3\n",
    "import pandas as pd\n",
    "db=sqlite3.connect(\"IMDB.sqlite\")\n",
    "ans=pd.read_sql_query(\"select * from IMDB INNER JOIN earning on IMDB.Movie_id=earning.Movie_id\",db)\n",
    "ans.dropna()\n",
    "ans['year']=ans[\"Title\"].str[-5:-1]\n",
    "ans[\"year\"]=ans[\"year\"].astype(int)\n",
    "ans[\"grossing\"]=ans[\"Domestic\"]+ans[\"Worldwide\"]\n",
    "id=ans[\"year\"].value_counts().sort_index()\n",
    "y=id.index.tolist()\n",
    "for i in range(len(y)):\n",
    "    ans1=ans[ans[\"year\"]==y[i]]\n",
    "    ans1=ans1[ans1[\"grossing\"]==ans1[\"grossing\"].describe()[\"max\"]]\n",
    "    print(y[i],ans1[\"Title\"].iloc[0])"
   ]
  },
  {
   "cell_type": "markdown",
   "metadata": {},
   "source": [
    "IMDB.sqlite' database contains all details of movies and has three tables with name IMDB, genre and earning.\n",
    "Find out the percentage of the budget for each genre in IMDB Movie Dataset?Plot the pie chart.\n",
    "Print the genre and percentage of movies budget present in that genre with 2 decimal place after rounding off..\n",
    "Note: Movies has multiple genres, so calculate the percentage for each genre.Replace empty budget column to zero."
   ]
  },
  {
   "cell_type": "code",
   "execution_count": 66,
   "metadata": {},
   "outputs": [
    {
     "name": "stderr",
     "output_type": "stream",
     "text": [
      "D:\\ProgramFiles\\Anaconda3\\lib\\site-packages\\ipykernel_launcher.py:17: RuntimeWarning: overflow encountered in long_scalars\n"
     ]
    },
    {
     "data": {
      "image/png": "[encoded data removed]",
      "text/plain": [
       "<Figure size 432x288 with 1 Axes>"
      ]
     },
     "metadata": {},
     "output_type": "display_data"
    }
   ],
   "source": [
    "import sqlite3\n",
    "import pandas as pd\n",
    "import matplotlib.pyplot as plt\n",
    "\n",
    "db=sqlite3.connect(\"IMDB.sqlite\")\n",
    "df_genre=pd.read_sql_query(\"select IMDB.budget,genre.genre from IMDB INNER JOIN genre on IMDB.Movie_id=genre.Movie_id\",db)\n",
    "\n",
    "df_genre['Budget'].replace('','0',inplace=True)\n",
    "\n",
    "df_genre['Budget']=df_genre['Budget'].astype('int')\n",
    "df_budget=df_genre['Budget']\n",
    "df_genres=df_genre['genre']\n",
    "d={}\n",
    "j=0\n",
    "for i in df_genres:\n",
    "    if i in d:\n",
    "        d[i]=d[i]+df_budget[j]\n",
    "    else:\n",
    "        d[i]=df_budget[j]\n",
    "    j+=1\n",
    "del d['']\n",
    "\n",
    "X=[]\n",
    "Y=[]\n",
    "for i in d:\n",
    "    X.append(i)\n",
    "    Y.append(d[i])\n",
    "    \n",
    "plt.pie(Y,autopct='%.2f%%',labels=X)\n",
    "plt.show()\n",
    "\n",
    "sumy=sum(Y)\n",
    "for i in range(len(Y)):\n",
    "    print(X[i],format((Y[i]/sumy)*100, '.2f')) "
   ]
  },
  {
   "cell_type": "markdown",
   "metadata": {},
   "source": [
    "IMDB.sqlite' database contains all details of movies and has three tables with name IMDB, genre and earning.\n",
    "Find out the percentage of the total earning for each genre in IMDB Movie Dataset?Plot the pie chart.\n",
    "Print the genre and percentage of movies total earning present in that genre with 2 decimal place after rounding off.\n",
    "Note: Movies has multiple genres, so calculate the percentage for each genre.Total Earning=Domestic earning + WorldWide earning."
   ]
  },
  {
   "cell_type": "code",
   "execution_count": 82,
   "metadata": {},
   "outputs": [
    {
     "data": {
      "image/png": "[encoded data removed]",
      "text/plain": [
       "<Figure size 432x288 with 1 Axes>"
      ]
     },
     "metadata": {},
     "output_type": "display_data"
    },
    {
     "name": "stdout",
     "output_type": "stream",
     "text": [
      "Biography 3.42\n",
      "Adventure 23.57\n",
      "Comedy 7.69\n",
      "Drama 11.96\n",
      "Action 17.91\n",
      "Animation 6.77\n",
      "Crime 1.55\n",
      "Mystery 2.01\n",
      "Romance 1.45\n",
      "Thriller 4.42\n",
      "History 1.04\n",
      "Sport 0.32\n",
      "Western 0.65\n",
      "Sci-Fi 9.95\n",
      "Family 1.05\n",
      "Musical 0.38\n",
      "Fantasy 5.15\n",
      "War 0.25\n",
      "Horror 0.01\n",
      "Music 0.43\n"
     ]
    }
   ],
   "source": [
    "import sqlite3\n",
    "import pandas as pd\n",
    "import matplotlib.pyplot as plt\n",
    "\n",
    "db=sqlite3.connect(\"IMDB.sqlite\")\n",
    "df_genre_earning=pd.read_sql_query(\"select genre.genre,earning.domestic,earning.worldwide from genre INNER JOIN earning on genre.Movie_id=earning.Movie_id\",db)\n",
    "\n",
    "df_genre_earning['Total Earning']=df_genre_earning['Domestic']+df_genre_earning['Worldwide']\n",
    "\n",
    "d={}\n",
    "j=0\n",
    "for i in df_genre_earning['genre']:\n",
    "    if i in d:\n",
    "        d[i]=d[i]+df_genre_earning['Total Earning'].iloc[j]\n",
    "    else:\n",
    "        d[i]=df_genre_earning['Total Earning'].iloc[j]\n",
    "    j+=1\n",
    "del d['']\n",
    "X=[]\n",
    "Y=[]\n",
    "for i in d:\n",
    "    X.append(i)\n",
    "    Y.append(d[i])\n",
    "plt.pie(Y,autopct='%.2f%%',labels=X)\n",
    "plt.show()\n",
    "\n",
    "sumy=sum(Y)\n",
    "for i in range(len(Y)):\n",
    "    print(X[i],format((Y[i]/sumy)*100, '.2f')) "
   ]
  },
  {
   "cell_type": "markdown",
   "metadata": {},
   "source": [
    "IMDB.sqlite' database contains all details of movies and has three tables with name IMDB, genre and earning.\n",
    "\n",
    "Find the movie which has genre of 'Sci-Fi' and 'Mystery' and movie rating is greater or equal to 8 from IMDB Movie Database.\n",
    "\n",
    "Print the movie name.\n",
    "\n",
    "Movies has multiple genre."
   ]
  },
  {
   "cell_type": "code",
   "execution_count": 93,
   "metadata": {},
   "outputs": [
    {
     "name": "stdout",
     "output_type": "stream",
     "text": [
      "Arrival (2016)\n"
     ]
    }
   ],
   "source": [
    "import sqlite3\n",
    "import pandas as pd\n",
    "import matplotlib.pyplot as plt\n",
    "\n",
    "db=sqlite3.connect(\"IMDB.sqlite\")\n",
    "cur=db.cursor()\n",
    "df_genre_earning=pd.read_sql_query(\"select IMDB.Title FROM IMDB INNER JOIN genre on IMDB.Movie_id=genre.Movie_id WHERE Rating>=8 AND genre in ('Sci-Fi','Mystery') limit 1;\",db)\n",
    "cur.execute(\"select IMDB.Title FROM IMDB INNER JOIN genre on IMDB.Movie_id=genre.Movie_id WHERE Rating>=8 AND genre in ('Sci-Fi','Mystery') limit 1\")\n",
    "ans=cur.fetchall()\n",
    "print(ans[0][0])"
   ]
  },
  {
   "cell_type": "code",
   "execution_count": null,
   "metadata": {},
   "outputs": [],
   "source": []
  }
 ],
 "metadata": {
  "kernelspec": {
   "display_name": "Python 3",
   "language": "python",
   "name": "python3"
  },
  "language_info": {
   "codemirror_mode": {
    "name": "ipython",
    "version": 3
   },
   "file_extension": ".py",
   "mimetype": "text/x-python",
   "name": "python",
   "nbconvert_exporter": "python",
   "pygments_lexer": "ipython3",
   "version": "3.7.4"
  }
 },
 "nbformat": 4,
 "nbformat_minor": 2
}
