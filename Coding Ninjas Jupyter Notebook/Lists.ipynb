{
 "cells": [
  {
   "cell_type": "code",
   "execution_count": 1,
   "metadata": {},
   "outputs": [],
   "source": [
    "a=[1,2,3]"
   ]
  },
  {
   "cell_type": "code",
   "execution_count": 2,
   "metadata": {},
   "outputs": [
    {
     "data": {
      "text/plain": [
       "[1, 2, 3]"
      ]
     },
     "execution_count": 2,
     "metadata": {},
     "output_type": "execute_result"
    }
   ],
   "source": [
    "a"
   ]
  },
  {
   "cell_type": "code",
   "execution_count": 3,
   "metadata": {},
   "outputs": [
    {
     "data": {
      "text/plain": [
       "list"
      ]
     },
     "execution_count": 3,
     "metadata": {},
     "output_type": "execute_result"
    }
   ],
   "source": [
    "type(a)"
   ]
  },
  {
   "cell_type": "code",
   "execution_count": 6,
   "metadata": {},
   "outputs": [
    {
     "data": {
      "text/plain": [
       "[]"
      ]
     },
     "execution_count": 6,
     "metadata": {},
     "output_type": "execute_result"
    }
   ],
   "source": [
    "empty=[]\n",
    "empty"
   ]
  },
  {
   "cell_type": "code",
   "execution_count": 7,
   "metadata": {},
   "outputs": [
    {
     "data": {
      "text/plain": [
       "list"
      ]
     },
     "execution_count": 7,
     "metadata": {},
     "output_type": "execute_result"
    }
   ],
   "source": [
    "type(empty)"
   ]
  },
  {
   "cell_type": "code",
   "execution_count": 14,
   "metadata": {},
   "outputs": [
    {
     "data": {
      "text/plain": [
       "4"
      ]
     },
     "execution_count": 14,
     "metadata": {},
     "output_type": "execute_result"
    }
   ],
   "source": [
    "a=[1,2,3,4,5]\n",
    "a[3]"
   ]
  },
  {
   "cell_type": "code",
   "execution_count": 16,
   "metadata": {},
   "outputs": [],
   "source": [
    "a\n",
    "a[3]=6"
   ]
  },
  {
   "cell_type": "code",
   "execution_count": 17,
   "metadata": {},
   "outputs": [
    {
     "data": {
      "text/plain": [
       "[1, 2, 3, 6, 5]"
      ]
     },
     "execution_count": 17,
     "metadata": {},
     "output_type": "execute_result"
    }
   ],
   "source": [
    "a"
   ]
  },
  {
   "cell_type": "code",
   "execution_count": 18,
   "metadata": {},
   "outputs": [],
   "source": [
    "new=[1,2,3,'Naman']"
   ]
  },
  {
   "cell_type": "code",
   "execution_count": 19,
   "metadata": {},
   "outputs": [
    {
     "data": {
      "text/plain": [
       "[1, 2, 3, 'Naman']"
      ]
     },
     "execution_count": 19,
     "metadata": {},
     "output_type": "execute_result"
    }
   ],
   "source": [
    "new"
   ]
  },
  {
   "cell_type": "code",
   "execution_count": 20,
   "metadata": {},
   "outputs": [],
   "source": [
    "lists=[1,2,3,[1,2,3],\"Naman\",True]"
   ]
  },
  {
   "cell_type": "code",
   "execution_count": 21,
   "metadata": {},
   "outputs": [
    {
     "data": {
      "text/plain": [
       "[1, 2, 3, [1, 2, 3], 'Naman', True]"
      ]
     },
     "execution_count": 21,
     "metadata": {},
     "output_type": "execute_result"
    }
   ],
   "source": [
    "lists"
   ]
  },
  {
   "cell_type": "code",
   "execution_count": 22,
   "metadata": {},
   "outputs": [
    {
     "data": {
      "text/plain": [
       "[0, 1, 2, 3, 4, 5, 6, 7, 8, 9]"
      ]
     },
     "execution_count": 22,
     "metadata": {},
     "output_type": "execute_result"
    }
   ],
   "source": [
    "b=[i for i in range(10)]\n",
    "b"
   ]
  },
  {
   "cell_type": "code",
   "execution_count": 25,
   "metadata": {},
   "outputs": [
    {
     "data": {
      "text/plain": [
       "[0, 0, 0, 0, 0, 0, 0, 0, 0, 0]"
      ]
     },
     "execution_count": 25,
     "metadata": {},
     "output_type": "execute_result"
    }
   ],
   "source": [
    "x=[0 for i in range(10)]\n",
    "x"
   ]
  },
  {
   "cell_type": "code",
   "execution_count": 27,
   "metadata": {},
   "outputs": [
    {
     "data": {
      "text/plain": [
       "[0, 1, 4, 9, 16, 25, 36, 49, 64, 81, 100]"
      ]
     },
     "execution_count": 27,
     "metadata": {},
     "output_type": "execute_result"
    }
   ],
   "source": [
    "sqr=[i*i for i in range(11)]\n",
    "sqr"
   ]
  },
  {
   "cell_type": "code",
   "execution_count": 29,
   "metadata": {},
   "outputs": [
    {
     "data": {
      "text/plain": [
       "list"
      ]
     },
     "execution_count": 29,
     "metadata": {},
     "output_type": "execute_result"
    }
   ],
   "source": [
    "lists=list()\n",
    "type(list())"
   ]
  },
  {
   "cell_type": "code",
   "execution_count": 30,
   "metadata": {},
   "outputs": [
    {
     "data": {
      "text/plain": [
       "list"
      ]
     },
     "execution_count": 30,
     "metadata": {},
     "output_type": "execute_result"
    }
   ],
   "source": [
    "list1=list([1,2,3])\n",
    "type(list1)"
   ]
  },
  {
   "cell_type": "code",
   "execution_count": 31,
   "metadata": {},
   "outputs": [
    {
     "data": {
      "text/plain": [
       "['h', 'e', 'l', 'l', 'o']"
      ]
     },
     "execution_count": 31,
     "metadata": {},
     "output_type": "execute_result"
    }
   ],
   "source": [
    "list(\"hello\")"
   ]
  },
  {
   "cell_type": "code",
   "execution_count": 33,
   "metadata": {},
   "outputs": [
    {
     "data": {
      "text/plain": [
       "['hello']"
      ]
     },
     "execution_count": 33,
     "metadata": {},
     "output_type": "execute_result"
    }
   ],
   "source": [
    "lists=list([\"hello\"])\n",
    "lists"
   ]
  },
  {
   "cell_type": "markdown",
   "metadata": {},
   "source": [
    "# Functions"
   ]
  },
  {
   "cell_type": "code",
   "execution_count": 34,
   "metadata": {},
   "outputs": [
    {
     "data": {
      "text/plain": [
       "[1, 3, 4, 5]"
      ]
     },
     "execution_count": 34,
     "metadata": {},
     "output_type": "execute_result"
    }
   ],
   "source": [
    "a=[1,3,4,5]\n",
    "a"
   ]
  },
  {
   "cell_type": "code",
   "execution_count": 36,
   "metadata": {},
   "outputs": [
    {
     "data": {
      "text/plain": [
       "[1, 2, 4, 5]"
      ]
     },
     "execution_count": 36,
     "metadata": {},
     "output_type": "execute_result"
    }
   ],
   "source": [
    "b=[1,2,4,5]\n",
    "b"
   ]
  },
  {
   "cell_type": "code",
   "execution_count": 37,
   "metadata": {},
   "outputs": [
    {
     "data": {
      "text/plain": [
       "[1, 3, 4, 5, 1, 2, 4, 5]"
      ]
     },
     "execution_count": 37,
     "metadata": {},
     "output_type": "execute_result"
    }
   ],
   "source": [
    "a+b"
   ]
  },
  {
   "cell_type": "code",
   "execution_count": 41,
   "metadata": {},
   "outputs": [
    {
     "data": {
      "text/plain": [
       "[1, 3, 4, 5, 1, 3, 4, 5, 1, 3, 4, 5]"
      ]
     },
     "execution_count": 41,
     "metadata": {},
     "output_type": "execute_result"
    }
   ],
   "source": [
    "a*3"
   ]
  },
  {
   "cell_type": "code",
   "execution_count": 43,
   "metadata": {},
   "outputs": [],
   "source": [
    "#add data to the end\n",
    "a.append(6)"
   ]
  },
  {
   "cell_type": "code",
   "execution_count": 44,
   "metadata": {},
   "outputs": [
    {
     "data": {
      "text/plain": [
       "[1, 3, 4, 5, 6]"
      ]
     },
     "execution_count": 44,
     "metadata": {},
     "output_type": "execute_result"
    }
   ],
   "source": [
    "a"
   ]
  },
  {
   "cell_type": "code",
   "execution_count": 53,
   "metadata": {},
   "outputs": [],
   "source": [
    "#add to the specific index\n",
    "#a.insert(index,value)\n",
    "a.insert(4,5)"
   ]
  },
  {
   "cell_type": "code",
   "execution_count": 54,
   "metadata": {},
   "outputs": [
    {
     "data": {
      "text/plain": [
       "[1, 2, 3, 4, 5, 6, 1, 2, 4]"
      ]
     },
     "execution_count": 54,
     "metadata": {},
     "output_type": "execute_result"
    }
   ],
   "source": [
    "a"
   ]
  },
  {
   "cell_type": "code",
   "execution_count": 55,
   "metadata": {},
   "outputs": [],
   "source": [
    "#adding an another list in list\n",
    "a.extend(b)"
   ]
  },
  {
   "cell_type": "code",
   "execution_count": 56,
   "metadata": {},
   "outputs": [
    {
     "data": {
      "text/plain": [
       "[1, 2, 3, 4, 5, 6, 1, 2, 4, 1, 2, 4, 5]"
      ]
     },
     "execution_count": 56,
     "metadata": {},
     "output_type": "execute_result"
    }
   ],
   "source": [
    "a"
   ]
  },
  {
   "cell_type": "code",
   "execution_count": 57,
   "metadata": {},
   "outputs": [
    {
     "data": {
      "text/plain": [
       "[1, 2, 3, 4, 6, 1, 2, 4, 1, 2, 4, 5]"
      ]
     },
     "execution_count": 57,
     "metadata": {},
     "output_type": "execute_result"
    }
   ],
   "source": [
    "#delete the element not the index's element\n",
    "a.remove(5)\n",
    "a"
   ]
  },
  {
   "cell_type": "code",
   "execution_count": 66,
   "metadata": {},
   "outputs": [
    {
     "data": {
      "text/plain": [
       "6"
      ]
     },
     "execution_count": 66,
     "metadata": {},
     "output_type": "execute_result"
    }
   ],
   "source": [
    "#removes at the particular index's element and it return the value which is remove\n",
    "a=[1,2,3,4,5,6,7]\n",
    "a.pop(5)"
   ]
  },
  {
   "cell_type": "code",
   "execution_count": 67,
   "metadata": {},
   "outputs": [
    {
     "data": {
      "text/plain": [
       "[1, 2, 3, 4, 5, 7]"
      ]
     },
     "execution_count": 67,
     "metadata": {},
     "output_type": "execute_result"
    }
   ],
   "source": [
    "a"
   ]
  },
  {
   "cell_type": "code",
   "execution_count": 68,
   "metadata": {},
   "outputs": [],
   "source": [
    "#delete the element at the particular index but it retun nothing\n",
    "del a[4]"
   ]
  },
  {
   "cell_type": "code",
   "execution_count": 69,
   "metadata": {},
   "outputs": [
    {
     "data": {
      "text/plain": [
       "[1, 2, 3, 4, 7]"
      ]
     },
     "execution_count": 69,
     "metadata": {},
     "output_type": "execute_result"
    }
   ],
   "source": [
    "a"
   ]
  },
  {
   "cell_type": "code",
   "execution_count": 70,
   "metadata": {},
   "outputs": [
    {
     "data": {
      "text/plain": [
       "[1, 4, 3, 7, 2, 6, 8]"
      ]
     },
     "execution_count": 70,
     "metadata": {},
     "output_type": "execute_result"
    }
   ],
   "source": [
    "a=[1,4,3,7,2,6,8]\n",
    "a"
   ]
  },
  {
   "cell_type": "code",
   "execution_count": 71,
   "metadata": {},
   "outputs": [
    {
     "data": {
      "text/plain": [
       "[1, 2, 3, 4, 6, 7, 8]"
      ]
     },
     "execution_count": 71,
     "metadata": {},
     "output_type": "execute_result"
    }
   ],
   "source": [
    "#sort\n",
    "a.sort()\n",
    "a"
   ]
  },
  {
   "cell_type": "code",
   "execution_count": 73,
   "metadata": {},
   "outputs": [
    {
     "data": {
      "text/plain": [
       "8"
      ]
     },
     "execution_count": 73,
     "metadata": {},
     "output_type": "execute_result"
    }
   ],
   "source": [
    "#max\n",
    "max(a)"
   ]
  },
  {
   "cell_type": "code",
   "execution_count": 79,
   "metadata": {},
   "outputs": [
    {
     "data": {
      "text/plain": [
       "1"
      ]
     },
     "execution_count": 79,
     "metadata": {},
     "output_type": "execute_result"
    }
   ],
   "source": [
    "#min\n",
    "min(a)"
   ]
  },
  {
   "cell_type": "code",
   "execution_count": 80,
   "metadata": {},
   "outputs": [
    {
     "data": {
      "text/plain": [
       "2"
      ]
     },
     "execution_count": 80,
     "metadata": {},
     "output_type": "execute_result"
    }
   ],
   "source": [
    "#index return the index value of element\n",
    "a.index(3)"
   ]
  },
  {
   "cell_type": "code",
   "execution_count": 82,
   "metadata": {},
   "outputs": [
    {
     "data": {
      "text/plain": [
       "True"
      ]
     },
     "execution_count": 82,
     "metadata": {},
     "output_type": "execute_result"
    }
   ],
   "source": [
    "#find the number in list\n",
    "4 in a"
   ]
  },
  {
   "cell_type": "code",
   "execution_count": 83,
   "metadata": {},
   "outputs": [
    {
     "data": {
      "text/plain": [
       "5"
      ]
     },
     "execution_count": 83,
     "metadata": {},
     "output_type": "execute_result"
    }
   ],
   "source": [
    "listExample=['h','e','l','l','o']\n",
    "len(listExample)"
   ]
  },
  {
   "cell_type": "code",
   "execution_count": 84,
   "metadata": {},
   "outputs": [
    {
     "data": {
      "text/plain": [
       "12454"
      ]
     },
     "execution_count": 84,
     "metadata": {},
     "output_type": "execute_result"
    }
   ],
   "source": [
    "max([2445,133,12454,123])"
   ]
  },
  {
   "cell_type": "code",
   "execution_count": 88,
   "metadata": {},
   "outputs": [
    {
     "name": "stdout",
     "output_type": "stream",
     "text": [
      "['h', 'e', 'l', 'l', 'o']\n"
     ]
    }
   ],
   "source": [
    "print([i.lower() for i in \"HELLO\"])"
   ]
  },
  {
   "cell_type": "code",
   "execution_count": 89,
   "metadata": {},
   "outputs": [
    {
     "name": "stdout",
     "output_type": "stream",
     "text": [
      "['h', 'e', 'l', 'l', 'o']\n"
     ]
    }
   ],
   "source": [
    "print([i.lower() for i in \"HELLO\"])"
   ]
  },
  {
   "cell_type": "code",
   "execution_count": 90,
   "metadata": {},
   "outputs": [
    {
     "name": "stdout",
     "output_type": "stream",
     "text": [
      "abc\n"
     ]
    }
   ],
   "source": [
    "aList = [123, 'xyz', 'zara', 'abc'];\n",
    "print(aList.pop())"
   ]
  },
  {
   "cell_type": "markdown",
   "metadata": {},
   "source": [
    "# Taking List as a Input"
   ]
  },
  {
   "cell_type": "code",
   "execution_count": 92,
   "metadata": {},
   "outputs": [
    {
     "name": "stdout",
     "output_type": "stream",
     "text": [
      "1\n",
      "2\n",
      "3\n",
      "4\n",
      "5\n",
      "6\n"
     ]
    }
   ],
   "source": [
    "#For printing the list\n",
    "a=[1,2,3,4,5,6]\n",
    "for i in a:\n",
    "    print(i)"
   ]
  },
  {
   "cell_type": "code",
   "execution_count": 94,
   "metadata": {},
   "outputs": [
    {
     "name": "stdout",
     "output_type": "stream",
     "text": [
      "Enter the size of a list:- 5\n",
      "1\n",
      "2\n",
      "3\n",
      "4\n",
      "5\n"
     ]
    },
    {
     "data": {
      "text/plain": [
       "[1, 2, 3, 4, 5]"
      ]
     },
     "execution_count": 94,
     "metadata": {},
     "output_type": "execute_result"
    }
   ],
   "source": [
    "#taking input of size and the list of that size\n",
    "n=int(input(\"Enter the size of a list:- \"))\n",
    "a=[]\n",
    "for i in range(n):\n",
    "    ne=int(input())\n",
    "    a.append(ne)\n",
    "a"
   ]
  },
  {
   "cell_type": "code",
   "execution_count": 101,
   "metadata": {},
   "outputs": [
    {
     "name": "stdout",
     "output_type": "stream",
     "text": [
      "1 2 3 4 5\n"
     ]
    },
    {
     "data": {
      "text/plain": [
       "[1, 2, 3, 4, 5]"
      ]
     },
     "execution_count": 101,
     "metadata": {},
     "output_type": "execute_result"
    }
   ],
   "source": [
    "s=input()\n",
    "l=s.split()\n",
    "a=[]\n",
    "for i in l:\n",
    "    a.append(int(i))\n",
    "a"
   ]
  },
  {
   "cell_type": "code",
   "execution_count": 102,
   "metadata": {},
   "outputs": [
    {
     "name": "stdout",
     "output_type": "stream",
     "text": [
      "1 2 3 4 5\n"
     ]
    },
    {
     "data": {
      "text/plain": [
       "[1, 2, 3, 4, 5]"
      ]
     },
     "execution_count": 102,
     "metadata": {},
     "output_type": "execute_result"
    }
   ],
   "source": [
    "s=input()\n",
    "l=s.split()\n",
    "a=[int(i) for i in l]\n",
    "a"
   ]
  },
  {
   "cell_type": "code",
   "execution_count": 103,
   "metadata": {},
   "outputs": [
    {
     "name": "stdout",
     "output_type": "stream",
     "text": [
      "1 2 3 4 5\n"
     ]
    },
    {
     "data": {
      "text/plain": [
       "[1, 2, 3, 4, 5]"
      ]
     },
     "execution_count": 103,
     "metadata": {},
     "output_type": "execute_result"
    }
   ],
   "source": [
    "l=input().split()\n",
    "a=[int(i) for i in l]\n",
    "a"
   ]
  },
  {
   "cell_type": "code",
   "execution_count": 146,
   "metadata": {},
   "outputs": [
    {
     "name": "stdout",
     "output_type": "stream",
     "text": [
      "1 2 3 4 5\n"
     ]
    },
    {
     "data": {
      "text/plain": [
       "[1, 2, 3, 4, 5]"
      ]
     },
     "execution_count": 146,
     "metadata": {},
     "output_type": "execute_result"
    }
   ],
   "source": [
    "a=[int(i) for i in input().split()]\n",
    "a"
   ]
  },
  {
   "cell_type": "code",
   "execution_count": 110,
   "metadata": {},
   "outputs": [
    {
     "name": "stdout",
     "output_type": "stream",
     "text": [
      "Enter the size:- 5\n",
      "1 2 3 4 5\n"
     ]
    },
    {
     "data": {
      "text/plain": [
       "[1, 2, 3, 4, 5]"
      ]
     },
     "execution_count": 110,
     "metadata": {},
     "output_type": "execute_result"
    }
   ],
   "source": [
    "n=int(input(\"Enter the size:- \"))\n",
    "a=[int(i) for i in input().split()]\n",
    "a"
   ]
  },
  {
   "cell_type": "code",
   "execution_count": 113,
   "metadata": {},
   "outputs": [
    {
     "name": "stdout",
     "output_type": "stream",
     "text": [
      "5 1 2 3 4 5\n",
      "The size of a list is:-  5\n",
      "The list is:-  [1, 2, 3, 4, 5]\n"
     ]
    }
   ],
   "source": [
    "a=[int(i) for i in input().split()]\n",
    "size=a[0]\n",
    "newlist=a[1:size+1]\n",
    "print(\"The size of a list is:- \",size)\n",
    "print(\"The list is:- \",newlist)"
   ]
  },
  {
   "cell_type": "code",
   "execution_count": 115,
   "metadata": {},
   "outputs": [
    {
     "name": "stdout",
     "output_type": "stream",
     "text": [
      "1 2 3 4 5 6 7 8 9 10\n",
      "Even number is :-  [2, 4, 6, 8, 10]\n",
      "Odd number is:-  [1, 3, 5, 7, 9]\n"
     ]
    }
   ],
   "source": [
    "lists=[int(i) for i in input().split()]\n",
    "evenLists=[]\n",
    "oddLists=[]\n",
    "for i in lists:\n",
    "    if i%2==0:\n",
    "        evenLists.append(i)\n",
    "    else:\n",
    "        oddLists.append(i)\n",
    "print(\"Even number is :- \",evenLists)\n",
    "print(\"Odd number is:- \",oddLists)"
   ]
  },
  {
   "cell_type": "code",
   "execution_count": 118,
   "metadata": {},
   "outputs": [
    {
     "name": "stdout",
     "output_type": "stream",
     "text": [
      "1 2 3 4 5 6 7 8 9 13 12 11\n",
      "Differevence between Even sum and Odd Sum:-  -17\n"
     ]
    }
   ],
   "source": [
    "lists=[int(i) for i in input().split()]\n",
    "evenSum=0\n",
    "oddSum=0\n",
    "for i in lists:\n",
    "    if i%2==0:\n",
    "        evenSum+=i\n",
    "    else:\n",
    "        oddSum+=i\n",
    "print(\"Differevence between Even sum and Odd Sum:- \",evenSum-oddSum)"
   ]
  },
  {
   "cell_type": "code",
   "execution_count": 2,
   "metadata": {},
   "outputs": [
    {
     "name": "stdout",
     "output_type": "stream",
     "text": [
      "1\n",
      "5\n",
      "1\n",
      "2\n",
      "3\n",
      "4\n",
      "5\n"
     ]
    },
    {
     "data": {
      "text/plain": [
       "['1', '2', '3', '4', '5']"
      ]
     },
     "execution_count": 2,
     "metadata": {},
     "output_type": "execute_result"
    }
   ],
   "source": [
    "num=int(input())\n",
    "\n",
    "for i in range(0,num):\n",
    "    arr=[]\n",
    "    size=int(input())\n",
    "    for j in range(size):\n",
    "        ne=input()\n",
    "        arr.append(ne)\n",
    "arr"
   ]
  },
  {
   "cell_type": "code",
   "execution_count": 8,
   "metadata": {},
   "outputs": [
    {
     "name": "stdout",
     "output_type": "stream",
     "text": [
      "1 2 3 4 5 6 7\n"
     ]
    },
    {
     "data": {
      "text/plain": [
       "[1, 2, 3, 4, 5, 6, 7]"
      ]
     },
     "execution_count": 8,
     "metadata": {},
     "output_type": "execute_result"
    }
   ],
   "source": [
    "a=[int(i) for i in input().split()]\n",
    "a"
   ]
  },
  {
   "cell_type": "code",
   "execution_count": 9,
   "metadata": {},
   "outputs": [
    {
     "data": {
      "text/plain": [
       "[2, 1, 4, 3, 6, 5, 7]"
      ]
     },
     "execution_count": 9,
     "metadata": {},
     "output_type": "execute_result"
    }
   ],
   "source": [
    "l=len(a)\n",
    "i=0\n",
    "if l%2==0:\n",
    "    while i<=l-1:\n",
    "        t=a[i]\n",
    "        a[i]=a[i+1]\n",
    "        a[i+1]=t\n",
    "        i+=2\n",
    "else:\n",
    "    while i<l-1:\n",
    "        t=a[i]\n",
    "        a[i]=a[i+1]\n",
    "        a[i+1]=t\n",
    "        i+=2\n",
    "    #a.append(a[i])\n",
    "a"
   ]
  },
  {
   "cell_type": "code",
   "execution_count": 80,
   "metadata": {},
   "outputs": [
    {
     "data": {
      "text/plain": [
       "[4, 1, 3, 9, 2]"
      ]
     },
     "execution_count": 80,
     "metadata": {},
     "output_type": "execute_result"
    }
   ],
   "source": [
    "l=len(a)\n",
    "i=0\n",
    "b=[]\n",
    "if l%2==0:\n",
    "    while i<=l-1:\n",
    "        b.append(a[i+1])\n",
    "        b.append(a[i])\n",
    "        i+=2\n",
    "else:\n",
    "    while i<l-1:\n",
    "        b.append(a[i+1])\n",
    "        b.append(a[i])\n",
    "        i+=2\n",
    "    b.append(a[i])\n",
    "b"
   ]
  },
  {
   "cell_type": "code",
   "execution_count": 101,
   "metadata": {},
   "outputs": [
    {
     "data": {
      "text/plain": [
       "[1, 4, 9, 3, 2]"
      ]
     },
     "execution_count": 101,
     "metadata": {},
     "output_type": "execute_result"
    }
   ],
   "source": [
    "arr=[1,4,9,3,2]\n",
    "arr"
   ]
  },
  {
   "cell_type": "code",
   "execution_count": 102,
   "metadata": {},
   "outputs": [
    {
     "name": "stdout",
     "output_type": "stream",
     "text": [
      "-1\n"
     ]
    }
   ],
   "source": [
    "l=len(a)\n",
    "for i in range(0,l):\n",
    "    leftSum=0\n",
    "    rightSum=0\n",
    "    for j in range(i):\n",
    "        leftSum+=a[j]\n",
    "    for j in range(i+1,l):\n",
    "        rightSum+=a[j]\n",
    "if leftSum==rightSum:\n",
    "    print(i)\n",
    "else:\n",
    "    print(-1)"
   ]
  },
  {
   "cell_type": "code",
   "execution_count": 109,
   "metadata": {},
   "outputs": [
    {
     "data": {
      "text/plain": [
       "\"For a given array/list(ARR) of size 'N,' find and return the 'Equilibrium Index' of the array/list.\\n\\nEquilibrium Index of an array/list is an index 'i' such that the sum of elements at indices [0 to (i - 1)] is equal to the sum \\nof elements at indices [(i + 1) to (N-1)]. One thing to note here is, the item at the index 'i' is not included in either part.\\n\\nIf more than one equilibrium indices are present, \\nthen the index appearing first in left to right fashion should be returned. Negative one(-1) if no such index is present.\""
      ]
     },
     "execution_count": 109,
     "metadata": {},
     "output_type": "execute_result"
    }
   ],
   "source": [
    "'''For a given array/list(ARR) of size 'N,' find and return the 'Equilibrium Index' of the array/list.\n",
    "\n",
    "Equilibrium Index of an array/list is an index 'i' such that the sum of elements at indices [0 to (i - 1)] is equal to the sum \n",
    "of elements at indices [(i + 1) to (N-1)]. One thing to note here is, the item at the index 'i' is not included in either part.\n",
    "\n",
    "If more than one equilibrium indices are present, \n",
    "then the index appearing first in left to right fashion should be returned. Negative one(-1) if no such index is present.'''"
   ]
  },
  {
   "cell_type": "code",
   "execution_count": 107,
   "metadata": {},
   "outputs": [
    {
     "name": "stdout",
     "output_type": "stream",
     "text": [
      "2\n"
     ]
    }
   ],
   "source": [
    "n=len(arr)\n",
    "rightSum=0\n",
    "leftSum=0\n",
    "\n",
    "for i in range(n):\n",
    "    rightSum+=arr[i]\n",
    "\n",
    "for i in range(n):\n",
    "    rightSum-=arr[i]\n",
    "\n",
    "    if rightSum==leftSum:\n",
    "        print(i)\n",
    "\n",
    "    leftSum+=arr[i]"
   ]
  },
  {
   "cell_type": "markdown",
   "metadata": {},
   "source": [
    "# List Slicing"
   ]
  },
  {
   "cell_type": "code",
   "execution_count": 110,
   "metadata": {},
   "outputs": [
    {
     "data": {
      "text/plain": [
       "[1, 2, 3, 4, 5, 'aa', 'bb', True]"
      ]
     },
     "execution_count": 110,
     "metadata": {},
     "output_type": "execute_result"
    }
   ],
   "source": [
    "a=[1,2,3,4,5,'aa','bb',True]\n",
    "a"
   ]
  },
  {
   "cell_type": "code",
   "execution_count": 111,
   "metadata": {},
   "outputs": [
    {
     "data": {
      "text/plain": [
       "[1, 2, 3]"
      ]
     },
     "execution_count": 111,
     "metadata": {},
     "output_type": "execute_result"
    }
   ],
   "source": [
    "a[0:3]"
   ]
  },
  {
   "cell_type": "code",
   "execution_count": 112,
   "metadata": {},
   "outputs": [
    {
     "data": {
      "text/plain": [
       "[True, 'bb', 'aa', 5, 4, 3, 2, 1]"
      ]
     },
     "execution_count": 112,
     "metadata": {},
     "output_type": "execute_result"
    }
   ],
   "source": [
    "a[::-1]"
   ]
  },
  {
   "cell_type": "code",
   "execution_count": 113,
   "metadata": {},
   "outputs": [
    {
     "data": {
      "text/plain": [
       "[True, 'bb', 'aa', 5]"
      ]
     },
     "execution_count": 113,
     "metadata": {},
     "output_type": "execute_result"
    }
   ],
   "source": [
    "a[10:3:-1]"
   ]
  },
  {
   "cell_type": "code",
   "execution_count": 114,
   "metadata": {},
   "outputs": [
    {
     "data": {
      "text/plain": [
       "[True, 'bb', 'aa', 5]"
      ]
     },
     "execution_count": 114,
     "metadata": {},
     "output_type": "execute_result"
    }
   ],
   "source": [
    "a[:3:-1]"
   ]
  },
  {
   "cell_type": "code",
   "execution_count": 120,
   "metadata": {},
   "outputs": [
    {
     "data": {
      "text/plain": [
       "[1, 2, 3, 4, 5, 'aa', 'bb']"
      ]
     },
     "execution_count": 120,
     "metadata": {},
     "output_type": "execute_result"
    }
   ],
   "source": [
    "a[:-1]"
   ]
  },
  {
   "cell_type": "code",
   "execution_count": 121,
   "metadata": {},
   "outputs": [
    {
     "data": {
      "text/plain": [
       "[1, 2, 3, 4, 5]"
      ]
     },
     "execution_count": 121,
     "metadata": {},
     "output_type": "execute_result"
    }
   ],
   "source": [
    "a[:-3]"
   ]
  },
  {
   "cell_type": "code",
   "execution_count": 122,
   "metadata": {},
   "outputs": [
    {
     "data": {
      "text/plain": [
       "[1, 2, 3, 4, 5, 'aa', 'bb', True]"
      ]
     },
     "execution_count": 122,
     "metadata": {},
     "output_type": "execute_result"
    }
   ],
   "source": [
    "a"
   ]
  },
  {
   "cell_type": "code",
   "execution_count": 123,
   "metadata": {},
   "outputs": [],
   "source": [
    "a.reverse()"
   ]
  },
  {
   "cell_type": "code",
   "execution_count": 124,
   "metadata": {},
   "outputs": [
    {
     "data": {
      "text/plain": [
       "[True, 'bb', 'aa', 5, 4, 3, 2, 1]"
      ]
     },
     "execution_count": 124,
     "metadata": {},
     "output_type": "execute_result"
    }
   ],
   "source": [
    "a"
   ]
  },
  {
   "cell_type": "markdown",
   "metadata": {},
   "source": [
    "# Multidimensional List"
   ]
  },
  {
   "cell_type": "code",
   "execution_count": 125,
   "metadata": {},
   "outputs": [
    {
     "data": {
      "text/plain": [
       "[[1, 2, 3, 4], [5, 6, 7, 8], [9, 10, 11, 12]]"
      ]
     },
     "execution_count": 125,
     "metadata": {},
     "output_type": "execute_result"
    }
   ],
   "source": [
    "a=[[1,2,3,4],[5,6,7,8],[9,10,11,12]]\n",
    "a"
   ]
  },
  {
   "cell_type": "code",
   "execution_count": 126,
   "metadata": {},
   "outputs": [
    {
     "data": {
      "text/plain": [
       "[1, 2, 3, 4]"
      ]
     },
     "execution_count": 126,
     "metadata": {},
     "output_type": "execute_result"
    }
   ],
   "source": [
    "a[0]"
   ]
  },
  {
   "cell_type": "code",
   "execution_count": 127,
   "metadata": {},
   "outputs": [
    {
     "data": {
      "text/plain": [
       "[5, 6, 7, 8]"
      ]
     },
     "execution_count": 127,
     "metadata": {},
     "output_type": "execute_result"
    }
   ],
   "source": [
    "a[1]"
   ]
  },
  {
   "cell_type": "code",
   "execution_count": 128,
   "metadata": {},
   "outputs": [
    {
     "data": {
      "text/plain": [
       "[9, 10, 11, 12]"
      ]
     },
     "execution_count": 128,
     "metadata": {},
     "output_type": "execute_result"
    }
   ],
   "source": [
    "a[2]"
   ]
  },
  {
   "cell_type": "code",
   "execution_count": 132,
   "metadata": {},
   "outputs": [
    {
     "data": {
      "text/plain": [
       "4"
      ]
     },
     "execution_count": 132,
     "metadata": {},
     "output_type": "execute_result"
    }
   ],
   "source": [
    "a[0][3]"
   ]
  },
  {
   "cell_type": "code",
   "execution_count": 134,
   "metadata": {},
   "outputs": [
    {
     "data": {
      "text/plain": [
       "4"
      ]
     },
     "execution_count": 134,
     "metadata": {},
     "output_type": "execute_result"
    }
   ],
   "source": [
    "len(a[0])"
   ]
  },
  {
   "cell_type": "code",
   "execution_count": 136,
   "metadata": {},
   "outputs": [
    {
     "name": "stdout",
     "output_type": "stream",
     "text": [
      "3 4\n",
      "1 2 3 4\n",
      "5 6 7 8\n",
      "9 10 11 12\n"
     ]
    },
    {
     "data": {
      "text/plain": [
       "[[1, 2, 3, 4], [5, 6, 7, 8], [9, 10, 11, 12]]"
      ]
     },
     "execution_count": 136,
     "metadata": {},
     "output_type": "execute_result"
    }
   ],
   "source": [
    "#taking input from user for creating a 2d list\n",
    "sizes=input().split()\n",
    "m=int(sizes[0])\n",
    "n=int(sizes[1])\n",
    "l=[]\n",
    "for i in range(m):\n",
    "    next_row=[int(j) for j in input().split()]\n",
    "    l.append(next_row)\n",
    "l"
   ]
  },
  {
   "cell_type": "code",
   "execution_count": 138,
   "metadata": {},
   "outputs": [
    {
     "name": "stdout",
     "output_type": "stream",
     "text": [
      "3 4\n",
      "1\n",
      "2\n",
      "3\n",
      "4\n",
      "5\n",
      "6\n",
      "7\n",
      "8\n",
      "9\n",
      "10\n",
      "11\n",
      "12\n"
     ]
    },
    {
     "data": {
      "text/plain": [
       "[[1, 2, 3, 4], [5, 6, 7, 8], [9, 10, 11, 12]]"
      ]
     },
     "execution_count": 138,
     "metadata": {},
     "output_type": "execute_result"
    }
   ],
   "source": [
    "#another way taking input in differenet line of each row and each element\n",
    "sizes=input().split()\n",
    "m=int(sizes[0])\n",
    "n=int(sizes[1])\n",
    "l=[]\n",
    "for i in range(m):\n",
    "    next_row=[]\n",
    "    for i in range(n):\n",
    "        element=int(input())\n",
    "        next_row.append(element)\n",
    "    l.append(next_row)\n",
    "l"
   ]
  },
  {
   "cell_type": "code",
   "execution_count": 141,
   "metadata": {},
   "outputs": [
    {
     "name": "stdout",
     "output_type": "stream",
     "text": [
      "3 3\n",
      "1 2 3 4 5 6 7 8 9\n"
     ]
    },
    {
     "data": {
      "text/plain": [
       "[[1, 2, 3], [4, 5, 6], [7, 8, 9]]"
      ]
     },
     "execution_count": 141,
     "metadata": {},
     "output_type": "execute_result"
    }
   ],
   "source": [
    "#taking input all elements in single line\n",
    "sizes=input().split()\n",
    "m=int(sizes[0])\n",
    "n=int(sizes[1])\n",
    "l_1d=[int(i) for i in input().split()]\n",
    "l=[]\n",
    "\n",
    "for i in range(m):\n",
    "    s_index=n*i\n",
    "    e_index=n*(i+1)\n",
    "    next_row=l_1d[s_index:e_index]\n",
    "    l.append(next_row)\n",
    "l"
   ]
  },
  {
   "cell_type": "code",
   "execution_count": 142,
   "metadata": {},
   "outputs": [
    {
     "name": "stdout",
     "output_type": "stream",
     "text": [
      "[1, 5, 9]\n"
     ]
    }
   ],
   "source": [
    "A = [[1, 2, 3],\n",
    "    [4, 5, 6],\n",
    "    [7, 8, 9]]\n",
    "print([A[i][i] for i in range(len(A))])"
   ]
  },
  {
   "cell_type": "code",
   "execution_count": 143,
   "metadata": {},
   "outputs": [
    {
     "name": "stdout",
     "output_type": "stream",
     "text": [
      "[11, 12, 13, 14, 10, 20, 30, 40, 50, 60, 70, 80, 90]\n"
     ]
    }
   ],
   "source": [
    "r = [11, 12, 13, 14]\n",
    "A = [[0, 10, 20],\n",
    "     [30, 40, 50],\n",
    "     [60, 70, 80]]\n",
    "for row in A:\n",
    "    for col in row:\n",
    "        r.append(col+10)\n",
    "print(r)"
   ]
  },
  {
   "cell_type": "code",
   "execution_count": 1,
   "metadata": {},
   "outputs": [
    {
     "data": {
      "text/plain": [
       "[[1, 2], [1, 2], [1, 2], [1, 2], [1, 2]]"
      ]
     },
     "execution_count": 1,
     "metadata": {},
     "output_type": "execute_result"
    }
   ],
   "source": [
    "a=[[1,2] for i in range(5)]\n",
    "a"
   ]
  },
  {
   "cell_type": "code",
   "execution_count": 3,
   "metadata": {},
   "outputs": [
    {
     "data": {
      "text/plain": [
       "[[0, 1, 2, 3, 4],\n",
       " [0, 1, 2, 3, 4],\n",
       " [0, 1, 2, 3, 4],\n",
       " [0, 1, 2, 3, 4],\n",
       " [0, 1, 2, 3, 4]]"
      ]
     },
     "execution_count": 3,
     "metadata": {},
     "output_type": "execute_result"
    }
   ],
   "source": [
    "a=[[j for j in range(5)] for i in range(5)]\n",
    "a"
   ]
  },
  {
   "cell_type": "code",
   "execution_count": 6,
   "metadata": {},
   "outputs": [
    {
     "data": {
      "text/plain": [
       "[[2], [4], [6], [8], [10], [12], [14], [16], [18], [20]]"
      ]
     },
     "execution_count": 6,
     "metadata": {},
     "output_type": "execute_result"
    }
   ],
   "source": [
    "a=[[i*2 for j in range(1)] for i in range(1,11)]\n",
    "a"
   ]
  },
  {
   "cell_type": "code",
   "execution_count": 61,
   "metadata": {},
   "outputs": [
    {
     "name": "stdout",
     "output_type": "stream",
     "text": [
      "0\n",
      "5\n",
      "10\n",
      "15\n",
      "20\n"
     ]
    }
   ],
   "source": [
    "#Columns wise Sum\n",
    "b=[[j forr j in range(5)] for i in range(5)]\n",
    "m=len(b)\n",
    "if m==0:\n",
    "    print(\"Empty\")\n",
    "else:\n",
    "    n=len(b[0])\n",
    "    for k in range(n):\n",
    "        sum_j=0\n",
    "        for l in range(m):\n",
    "            sum_j+=b[l][k]\n",
    "        print(sum_j)"
   ]
  },
  {
   "cell_type": "code",
   "execution_count": 62,
   "metadata": {},
   "outputs": [
    {
     "data": {
      "text/plain": [
       "[[0, 1, 2, 3, 4],\n",
       " [0, 1, 2, 3, 4],\n",
       " [0, 1, 2, 3, 4],\n",
       " [0, 1, 2, 3, 4],\n",
       " [0, 1, 2, 3, 4]]"
      ]
     },
     "execution_count": 62,
     "metadata": {},
     "output_type": "execute_result"
    }
   ],
   "source": [
    "b"
   ]
  },
  {
   "cell_type": "markdown",
   "metadata": {},
   "source": [
    "# assignment"
   ]
  },
  {
   "cell_type": "code",
   "execution_count": 84,
   "metadata": {},
   "outputs": [
    {
     "name": "stdout",
     "output_type": "stream",
     "text": [
      "0\n",
      "5\n",
      "40\n",
      "135\n",
      "320\n"
     ]
    }
   ],
   "source": [
    "#\n",
    "lists=[[i*i*i for j in range(5)] for i in range(5)]\n",
    "m=len(lists)\n",
    "if m==0:\n",
    "    print(\"Empty\")\n",
    "else:\n",
    "    n=len(lists[0])\n",
    "    for r in range(m):\n",
    "        sum_j=0\n",
    "        for c in range(n):\n",
    "            sum_j+=lists[r][c]\n",
    "        print(sum_j)"
   ]
  },
  {
   "cell_type": "code",
   "execution_count": 85,
   "metadata": {},
   "outputs": [
    {
     "data": {
      "text/plain": [
       "[[0, 0, 0, 0, 0],\n",
       " [1, 1, 1, 1, 1],\n",
       " [8, 8, 8, 8, 8],\n",
       " [27, 27, 27, 27, 27],\n",
       " [64, 64, 64, 64, 64]]"
      ]
     },
     "execution_count": 85,
     "metadata": {},
     "output_type": "execute_result"
    }
   ],
   "source": [
    "lists"
   ]
  },
  {
   "cell_type": "code",
   "execution_count": 74,
   "metadata": {},
   "outputs": [
    {
     "name": "stdout",
     "output_type": "stream",
     "text": [
      "100\n"
     ]
    }
   ],
   "source": [
    "#Diagonal\n",
    "x=[[i*j*i for j in range(5)] for i in range(5)]\n",
    "m=len(x)\n",
    "if m==0:\n",
    "    print(\"Empty\")\n",
    "else:\n",
    "    sum=0\n",
    "    n=len(x[0])\n",
    "    for r in range(m):\n",
    "        for c in range(n):\n",
    "            if r==c:\n",
    "                sum+=x[r][c]\n",
    "    print(sum)"
   ]
  },
  {
   "cell_type": "code",
   "execution_count": 75,
   "metadata": {},
   "outputs": [
    {
     "data": {
      "text/plain": [
       "[[0, 0, 0, 0, 0],\n",
       " [0, 1, 2, 3, 4],\n",
       " [0, 4, 8, 12, 16],\n",
       " [0, 9, 18, 27, 36],\n",
       " [0, 16, 32, 48, 64]]"
      ]
     },
     "execution_count": 75,
     "metadata": {},
     "output_type": "execute_result"
    }
   ],
   "source": [
    "x"
   ]
  },
  {
   "cell_type": "code",
   "execution_count": 46,
   "metadata": {},
   "outputs": [
    {
     "name": "stdout",
     "output_type": "stream",
     "text": [
      "[[0, 10, 20], [30, 40, 50]]\n"
     ]
    }
   ],
   "source": [
    "A = [[0, 10, 20],\n",
    "       [30, 40, 50],\n",
    "       [60, 70, 80]]\n",
    "\n",
    "print(A[0:2][0:2])"
   ]
  },
  {
   "cell_type": "code",
   "execution_count": 47,
   "metadata": {},
   "outputs": [
    {
     "name": "stdout",
     "output_type": "stream",
     "text": [
      "[10, 23, 56, [95]]\n"
     ]
    }
   ],
   "source": [
    "a = [10,23,56,[78]]\n",
    "b = list(a)\n",
    "a[3][0] = 95\n",
    "a[1] = 34\n",
    "print(b)"
   ]
  },
  {
   "cell_type": "code",
   "execution_count": 48,
   "metadata": {},
   "outputs": [
    {
     "name": "stdout",
     "output_type": "stream",
     "text": [
      "[[0.5, 7], [1, 2], [3, 1.5]]\n"
     ]
    }
   ],
   "source": [
    "points = [[1, 2], [3, 1.5], [0.5,7]]\n",
    "points.sort()\n",
    "print(points)"
   ]
  },
  {
   "cell_type": "code",
   "execution_count": 57,
   "metadata": {},
   "outputs": [
    {
     "name": "stdout",
     "output_type": "stream",
     "text": [
      "0\n",
      "1\n",
      "5\n",
      "14\n",
      "30\n"
     ]
    }
   ],
   "source": [
    "mat=[[i*j for j in range(5)] for i in range(5)]\n",
    "mCols=len(mat)\n",
    "if mCols==0:\n",
    "    print(\"Empty\")\n",
    "else:\n",
    "    sum1=0\n",
    "    nRows=len(mat[0])\n",
    "    for r in range(nRows):\n",
    "        for c in range(mCols):\n",
    "            if r==c:\n",
    "                sum1+=mat[r][c]\n",
    "        print(sum1)\n"
   ]
  },
  {
   "cell_type": "code",
   "execution_count": 58,
   "metadata": {},
   "outputs": [
    {
     "data": {
      "text/plain": [
       "[[0, 0, 0, 0, 0],\n",
       " [0, 1, 2, 3, 4],\n",
       " [0, 2, 4, 6, 8],\n",
       " [0, 3, 6, 9, 12],\n",
       " [0, 4, 8, 12, 16]]"
      ]
     },
     "execution_count": 58,
     "metadata": {},
     "output_type": "execute_result"
    }
   ],
   "source": [
    "mat"
   ]
  },
  {
   "cell_type": "code",
   "execution_count": 105,
   "metadata": {},
   "outputs": [
    {
     "data": {
      "text/plain": [
       "[[0, 1], [0, 1], [0, 1], [0, 1]]"
      ]
     },
     "execution_count": 105,
     "metadata": {},
     "output_type": "execute_result"
    }
   ],
   "source": [
    "lists=[[1*j for j in range(2)] for i in range(4)]\n",
    "lists"
   ]
  },
  {
   "cell_type": "code",
   "execution_count": 106,
   "metadata": {},
   "outputs": [
    {
     "name": "stdout",
     "output_type": "stream",
     "text": [
      "4 2\n"
     ]
    }
   ],
   "source": [
    "m=len(lists)\n",
    "n=len(lists[0])\n",
    "print(m,n)"
   ]
  },
  {
   "cell_type": "code",
   "execution_count": 99,
   "metadata": {},
   "outputs": [
    {
     "name": "stdout",
     "output_type": "stream",
     "text": [
      "0\n",
      "4\n"
     ]
    }
   ],
   "source": [
    "#col_wise sum\n",
    "m=len(lists)\n",
    "if m==0:\n",
    "    print(\"Empty\")\n",
    "else:\n",
    "    n=len(lists[0])\n",
    "    for c in range(n):\n",
    "        sum_col=0\n",
    "        for r in range(m):\n",
    "            sum_col+=lists[r][c]\n",
    "        print(sum_col)"
   ]
  },
  {
   "cell_type": "code",
   "execution_count": 102,
   "metadata": {},
   "outputs": [
    {
     "name": "stdout",
     "output_type": "stream",
     "text": [
      "1\n",
      "1\n",
      "1\n",
      "1\n"
     ]
    }
   ],
   "source": [
    "#row_wise sum\n",
    "m=len(lists)\n",
    "if m==0:\n",
    "    print(\"Empty\")\n",
    "else:\n",
    "    n=len(lists[0])\n",
    "    for r in range(m):\n",
    "        sum_row=0\n",
    "        for c in range(n):\n",
    "            sum_row+=lists[r][c]\n",
    "        print(sum_row)"
   ]
  },
  {
   "cell_type": "code",
   "execution_count": null,
   "metadata": {},
   "outputs": [],
   "source": [
    "mCols=len(mat)\n",
    "    if mCols==0:\n",
    "        return\n",
    "    else:\n",
    "        nRows=len(mat[0])\n",
    "        for r in range(mCols):\n",
    "            sum_row=0\n",
    "            for c in range(nRows):\n",
    "                sum_row+=mat[r][c]\n",
    "            print(sum_row,end=' ')"
   ]
  },
  {
   "cell_type": "code",
   "execution_count": 103,
   "metadata": {},
   "outputs": [],
   "source": [
    "def rowWiseSum(mat, nRows, mCols):\n",
    "    mCols=len(mat)\n",
    "    if mCols==0:\n",
    "        return\n",
    "    else:\n",
    "        nRows=len(mat[0])\n",
    "        for r in range(mCols):\n",
    "            sum_row=0\n",
    "            for c in range(nRows):\n",
    "                sum_row+=mat[r][c]\n",
    "            return sum_row"
   ]
  },
  {
   "cell_type": "code",
   "execution_count": 116,
   "metadata": {},
   "outputs": [
    {
     "name": "stdout",
     "output_type": "stream",
     "text": [
      "1 4 7 10 11 8 5 2 3 6 9 12 "
     ]
    }
   ],
   "source": [
    "#Wave Print\n",
    "x=[[1,2,3],[4,5,6],[7,8,9],[10,11,12]]\n",
    "m=len(x)\n",
    "n=len(x[0])\n",
    "c=0\n",
    "wave=1\n",
    "#wave=1 Wave direction down\n",
    "#wave=0 wave direction up\n",
    "while c<=n-1:    \n",
    "    if wave==1:\n",
    "        for r in range(m):\n",
    "            print(x[r][c],end=' ')\n",
    "        wave=0\n",
    "        c+=1\n",
    "    else:\n",
    "        for r in range(m-1,-1,-1):\n",
    "            print(x[r][c],end=' ')\n",
    "        wave=1\n",
    "        c+=1"
   ]
  },
  {
   "cell_type": "code",
   "execution_count": 123,
   "metadata": {},
   "outputs": [
    {
     "name": "stdout",
     "output_type": "stream",
     "text": [
      "1 4 7 10 11 8 5 2 3 6 9 12 "
     ]
    }
   ],
   "source": [
    "def wavePrint(mat, nRows, mCols):\n",
    "    #Your code goes here\n",
    "    mCols=len(mat)\n",
    "    nRows=len(mat[0])\n",
    "    c=0\n",
    "    wave=1\n",
    "    #wave=1 Wave direction down\n",
    "    #wave=0 wave direction up\n",
    "    while c<=nRows-1:    \n",
    "        if wave==1:\n",
    "            for r in range(mCols):\n",
    "                print(mat[r][c],end=' ')\n",
    "            wave=0\n",
    "            c+=1\n",
    "        else:\n",
    "            for r in range(mCols-1,-1,-1):\n",
    "                print(mat[r][c],end=' ')\n",
    "            wave=1\n",
    "            c+=1\n",
    "mat=[[1,2,3],[4,5,6],[7,8,9],[10,11,12]]\n",
    "nRows=4\n",
    "mCols=3\n",
    "wavePrint(mat,nRows,mCols)"
   ]
  },
  {
   "cell_type": "code",
   "execution_count": 5,
   "metadata": {},
   "outputs": [
    {
     "name": "stdout",
     "output_type": "stream",
     "text": [
      "7\n",
      "1 3 5 7 6 4 2 "
     ]
    }
   ],
   "source": [
    "#Arrange Number in an array like n=7 (1,3,5,7,6,4,2)\n",
    "n=int(input())\n",
    "arr=[None]*n\n",
    "odd=1\n",
    "i=0\n",
    "while i<=(n-1)/2:\n",
    "    arr[i]=odd\n",
    "    odd+=2\n",
    "    i+=1\n",
    "if n%2==0:\n",
    "    even=n\n",
    "else:\n",
    "    even=n-1\n",
    "while i<n:\n",
    "    arr[i]=even\n",
    "    even-=2\n",
    "    i+=1\n",
    "for j in arr:\n",
    "    print(j,end=' ')"
   ]
  },
  {
   "cell_type": "code",
   "execution_count": 15,
   "metadata": {},
   "outputs": [
    {
     "name": "stdout",
     "output_type": "stream",
     "text": [
      "6\n",
      "1 3 5 6 4 2 "
     ]
    }
   ],
   "source": [
    "#Another Approach\n",
    "n=int(input())\n",
    "value=1\n",
    "startIndex=0\n",
    "endIndex=n-1\n",
    "i=0\n",
    "arr=[None]*n\n",
    "while i<=(n-1)/2:\n",
    "    arr[startIndex]=value\n",
    "    value+=1\n",
    "    startIndex+=1\n",
    "    arr[endIndex]=value\n",
    "    value+=1\n",
    "    endIndex-=1\n",
    "    i+=1\n",
    "for j in arr:\n",
    "    print(j,end=' ')"
   ]
  },
  {
   "cell_type": "code",
   "execution_count": 44,
   "metadata": {},
   "outputs": [
    {
     "name": "stdout",
     "output_type": "stream",
     "text": [
      "5\n",
      "1 3 5 4 2 "
     ]
    }
   ],
   "source": [
    "def arrange(arr, n) :\n",
    "    #Your code goes here\n",
    "    odd=1\n",
    "    i=0\n",
    "    while i<=(n-1)/2:\n",
    "        arr[i]=odd\n",
    "        odd+=2\n",
    "        i+=1\n",
    "    if n%2==0:\n",
    "        even=n\n",
    "    else:\n",
    "        even=n-1\n",
    "    while i<n:\n",
    "        arr[i]=even\n",
    "        even-=2\n",
    "        i+=1\n",
    "    for j in arr:\n",
    "        print(j,end=' ')\n",
    "\n",
    "n=int(input())\n",
    "arr=[0]*n\n",
    "arrange(arr,n)"
   ]
  },
  {
   "cell_type": "code",
   "execution_count": 66,
   "metadata": {},
   "outputs": [
    {
     "name": "stdout",
     "output_type": "stream",
     "text": [
      "5\n",
      "13 17 5 4 6\n",
      "17 6 "
     ]
    }
   ],
   "source": [
    "n=int(input())\n",
    "arr=[int(i) for i in input().split()]\n",
    "for i in range(0,n):\n",
    "    for j in range(i,n):\n",
    "        if arr[i]<arr[j]:\n",
    "            break\n",
    "        if j==n-1:\n",
    "            print(arr[i],end=' ')"
   ]
  },
  {
   "cell_type": "code",
   "execution_count": 67,
   "metadata": {},
   "outputs": [
    {
     "name": "stdout",
     "output_type": "stream",
     "text": [
      "5\n",
      "13 17 5 4 6\n",
      "17 6 "
     ]
    }
   ],
   "source": [
    "def printLeaders(arr,size):  \n",
    "      \n",
    "    for i in range(0, size):  \n",
    "        for j in range(i, size):  \n",
    "            if arr[i]<arr[j]:  \n",
    "                break\n",
    "            if j == size-1:\n",
    "                print (arr[i],end=' ')  \n",
    "    \n",
    "n=int(input())\n",
    "arr=[int(i) for i in input().split()]  \n",
    "printLeaders(arr,n)  "
   ]
  },
  {
   "cell_type": "code",
   "execution_count": 58,
   "metadata": {},
   "outputs": [
    {
     "ename": "IndexError",
     "evalue": "list assignment index out of range",
     "output_type": "error",
     "traceback": [
      "\u001b[1;31m---------------------------------------------------------------------------\u001b[0m",
      "\u001b[1;31mIndexError\u001b[0m                                Traceback (most recent call last)",
      "\u001b[1;32m<ipython-input-58-f9d85fc44341>\u001b[0m in \u001b[0;36m<module>\u001b[1;34m\u001b[0m\n\u001b[0;32m     10\u001b[0m \u001b[1;33m\u001b[0m\u001b[0m\n\u001b[0;32m     11\u001b[0m \u001b[0marr\u001b[0m\u001b[1;33m=\u001b[0m \u001b[1;33m[\u001b[0m\u001b[1;36m13\u001b[0m\u001b[1;33m,\u001b[0m\u001b[1;36m17\u001b[0m\u001b[1;33m,\u001b[0m\u001b[1;36m5\u001b[0m\u001b[1;33m,\u001b[0m\u001b[1;36m4\u001b[0m\u001b[1;33m,\u001b[0m\u001b[1;36m6\u001b[0m\u001b[1;33m]\u001b[0m\u001b[1;33m\u001b[0m\u001b[1;33m\u001b[0m\u001b[0m\n\u001b[1;32m---> 12\u001b[1;33m \u001b[0mprintLeaders\u001b[0m\u001b[1;33m(\u001b[0m\u001b[0marr\u001b[0m\u001b[1;33m,\u001b[0m \u001b[0mlen\u001b[0m\u001b[1;33m(\u001b[0m\u001b[0marr\u001b[0m\u001b[1;33m)\u001b[0m\u001b[1;33m)\u001b[0m\u001b[1;33m\u001b[0m\u001b[1;33m\u001b[0m\u001b[0m\n\u001b[0m",
      "\u001b[1;32m<ipython-input-58-f9d85fc44341>\u001b[0m in \u001b[0;36mprintLeaders\u001b[1;34m(arr, size)\u001b[0m\n\u001b[0;32m      2\u001b[0m     \u001b[0mnew\u001b[0m\u001b[1;33m=\u001b[0m\u001b[1;33m[\u001b[0m\u001b[1;33m]\u001b[0m\u001b[1;33m\u001b[0m\u001b[1;33m\u001b[0m\u001b[0m\n\u001b[0;32m      3\u001b[0m     \u001b[0mmax_from_right\u001b[0m \u001b[1;33m=\u001b[0m \u001b[0marr\u001b[0m\u001b[1;33m[\u001b[0m\u001b[0msize\u001b[0m\u001b[1;33m-\u001b[0m\u001b[1;36m1\u001b[0m\u001b[1;33m]\u001b[0m\u001b[1;33m\u001b[0m\u001b[1;33m\u001b[0m\u001b[0m\n\u001b[1;32m----> 4\u001b[1;33m     \u001b[0mnew\u001b[0m\u001b[1;33m[\u001b[0m\u001b[0msize\u001b[0m\u001b[1;33m-\u001b[0m\u001b[1;36m1\u001b[0m\u001b[1;33m]\u001b[0m\u001b[1;33m=\u001b[0m\u001b[0mmax_from_right\u001b[0m\u001b[1;33m\u001b[0m\u001b[1;33m\u001b[0m\u001b[0m\n\u001b[0m\u001b[0;32m      5\u001b[0m     \u001b[1;32mfor\u001b[0m \u001b[0mi\u001b[0m \u001b[1;32min\u001b[0m \u001b[0mrange\u001b[0m\u001b[1;33m(\u001b[0m \u001b[0msize\u001b[0m\u001b[1;33m-\u001b[0m\u001b[1;36m2\u001b[0m\u001b[1;33m,\u001b[0m \u001b[1;33m-\u001b[0m\u001b[1;36m1\u001b[0m\u001b[1;33m,\u001b[0m \u001b[1;33m-\u001b[0m\u001b[1;36m1\u001b[0m\u001b[1;33m)\u001b[0m\u001b[1;33m:\u001b[0m\u001b[1;33m\u001b[0m\u001b[1;33m\u001b[0m\u001b[0m\n\u001b[0;32m      6\u001b[0m         \u001b[1;32mif\u001b[0m \u001b[0mmax_from_right\u001b[0m \u001b[1;33m<=\u001b[0m \u001b[0marr\u001b[0m\u001b[1;33m[\u001b[0m\u001b[0mi\u001b[0m\u001b[1;33m]\u001b[0m\u001b[1;33m:\u001b[0m\u001b[1;33m\u001b[0m\u001b[1;33m\u001b[0m\u001b[0m\n",
      "\u001b[1;31mIndexError\u001b[0m: list assignment index out of range"
     ]
    }
   ],
   "source": [
    "def printLeaders(arr, size): \n",
    "    new=[]\n",
    "    max_from_right = arr[size-1]    \n",
    "    new[size-1]=max_from_right     \n",
    "    for i in range( size-2, -1, -1):         \n",
    "        if max_from_right <= arr[i]:         \n",
    "            new[i]=arr[i] \n",
    "            max_from_right = arr[i] \n",
    "\n",
    "\n",
    "arr= [13,17,5,4,6] \n",
    "printLeaders(arr, len(arr))"
   ]
  },
  {
   "cell_type": "code",
   "execution_count": 61,
   "metadata": {},
   "outputs": [
    {
     "name": "stdout",
     "output_type": "stream",
     "text": [
      "17  is a leader\n",
      "6  is a leader\n"
     ]
    }
   ],
   "source": [
    "def leaderprint(arr, n):\n",
    " \n",
    "    for i in range(0, n):\n",
    "        for j in range(i, n):\n",
    "            if (arr[i] < arr[j]):\n",
    "                break\n",
    "            if (j == n - 1):\n",
    "                print(arr[i],\" is a leader\")\n",
    "arr=[13,17,5,4,6]\n",
    "n = len(arr)\n",
    "# calling function\n",
    "leaderprint(arr, n)"
   ]
  },
  {
   "cell_type": "code",
   "execution_count": 3,
   "metadata": {},
   "outputs": [
    {
     "name": "stdout",
     "output_type": "stream",
     "text": [
      "Enter the size of 1st array:- 5\n",
      "Input the array of size  5\n",
      "2 4 3 6 5\n",
      "Enter the size of Secomnd Array:- 6\n",
      "Input the array of size  6\n",
      "1 4 3 6 2 4\n",
      "['2', '4', '3', '6', '5']\n",
      "['1', '4', '3', '6', '2', '4']\n"
     ]
    }
   ],
   "source": [
    "#Maximise the sum\n",
    "#1st Array\n",
    "size1=int(input(\"Enter the size of 1st array:- \"))\n",
    "print(\"Input the array of size \",size1)\n",
    "arr1=[i for i in input().split()]\n",
    "\n",
    "#2nd Array\n",
    "size2=int(input(\"Enter the size of Secomnd Array:- \"))\n",
    "print(\"Input the array of size \",size2)\n",
    "arr2=[j for j in input().split()]\n",
    "\n",
    "\n",
    "print(arr1)\n",
    "print(arr2)"
   ]
  },
  {
   "cell_type": "code",
   "execution_count": 19,
   "metadata": {},
   "outputs": [
    {
     "name": "stdout",
     "output_type": "stream",
     "text": [
      "6\n",
      "1 5 10 15 20 25\n",
      "5\n",
      "2 4 5 9 15\n",
      "81\n"
     ]
    }
   ],
   "source": [
    "def maxPathSum(ar1, ar2, m, n):\n",
    " \n",
    "    # initialize indexes for ar1[] and ar2[]\n",
    "    i, j = 0, 0\n",
    " \n",
    "    # Initialize result and current sum through ar1[] and ar2[]\n",
    "    result, sum1, sum2 = 0, 0, 0\n",
    " \n",
    "    # Below 3 loops are similar to merge in merge sort\n",
    "    while (i < m and j < n):\n",
    " \n",
    "        # Add elements of ar1[] to sum1\n",
    "        if ar1[i] < ar2[j]:\n",
    "            sum1 += ar1[i]\n",
    "            i += 1\n",
    " \n",
    "        # Add elements of ar2[] to sum1\n",
    "        elif ar1[i] > ar2[j]:\n",
    "            sum2 += ar2[j]\n",
    "            j += 1\n",
    " \n",
    "        else:   # we reached a common point\n",
    " \n",
    "            # Take the maximum of two sums and add to result\n",
    "            result += max(sum1, sum2)\n",
    " \n",
    "            # Update sum1 and sum2 for elements after this intersection point\n",
    "            sum1, sum2 = 0, 0\n",
    " \n",
    "            # Keep updating result while there are more common elements\n",
    "            temp = i\n",
    "            while i < m and ar1[i] == ar2[j]:\n",
    "                sum1 += ar1[i];\n",
    "                i += 1\n",
    "            while j<n and ar1[temp] == ar2[j]:\n",
    "                sum2 += ar2[j]\n",
    "                j += 1\n",
    "            result += max(sum1,sum2)\n",
    "            sum1 = sum2 = 0;           \n",
    " \n",
    "    # Add remaining elements of ar1[]\n",
    "    while i < m:\n",
    "        sum1 += ar1[i]\n",
    "        i += 1\n",
    "    # Add remaining elements of b[]\n",
    "    while j < n:\n",
    "        sum2 += ar2[j]\n",
    "        j += 1\n",
    " \n",
    "    # Add maximum of two sums of remaining elements\n",
    "    result += max(sum1, sum2)\n",
    " \n",
    "    return result\n",
    " \n",
    "\n",
    "size1=int(input())\n",
    "arr1=[int(i) for i in input().split()]\n",
    "\n",
    "#2nd Array\n",
    "size2=int(input())\n",
    "arr2=[int(j) for j in input().split()]\n",
    "m=len(arr1)\n",
    "n=len(arr2)\n",
    " \n",
    "# Function call\n",
    "print (maxPathSum(ar1, ar2, m, n))"
   ]
  },
  {
   "cell_type": "code",
   "execution_count": 18,
   "metadata": {},
   "outputs": [
    {
     "name": "stdout",
     "output_type": "stream",
     "text": [
      "Enter the size of 1st array:- 6\n",
      "Input the array of size  6\n",
      "1 5 10 15 20 25\n",
      "Enter the size of Secomnd Array:- 5\n",
      "Input the array of size  5\n",
      "2 4 5 9 15\n",
      "81\n"
     ]
    }
   ],
   "source": [
    "#Maximise the sum\n",
    "#1st Array\n",
    "size1=int(input())\n",
    "arr1=[int(i) for i in input().split()]\n",
    "\n",
    "#2nd Array\n",
    "size2=int(input())\n",
    "arr2=[int(j) for j in input().split()]\n",
    "m=len(arr1)\n",
    "n=len(arr2)\n",
    "\n",
    "i=0\n",
    "j=0\n",
    "result=0\n",
    "sum1=0\n",
    "sum2=0\n",
    "\n",
    "while i<m and j<n:\n",
    "    if arr1[i]<arr2[j]:\n",
    "        sum1+=arr1[i]\n",
    "        i+=1\n",
    "    elif arr1[i]>arr2[j]:\n",
    "        sum2+=arr2[j]\n",
    "        j+=1\n",
    "    #if both value are equal\n",
    "    else:\n",
    "        result=result+max(sum1,sum2)\n",
    "        sum1=0\n",
    "        sum2=0\n",
    "        temp=i\n",
    "        while i<m and arr1[i]==arr2[j]:\n",
    "            sum1+=arr1[i]\n",
    "            i+=1\n",
    "        while j<n and arr1[temp]==arr2[j]:\n",
    "            sum2+=arr2[j]\n",
    "            j+=1\n",
    "        result=result+max(sum1,sum2)\n",
    "        sum1=0\n",
    "        sum2=0\n",
    "        \n",
    "#remaning element\n",
    "while i<m:\n",
    "    sum1+=arr1[i]\n",
    "    i+=1\n",
    "while j<n:\n",
    "    sum2+=arr2[j]\n",
    "    j+=1\n",
    "result+=max(sum1,sum2)\n",
    "print(result)"
   ]
  },
  {
   "cell_type": "code",
   "execution_count": 21,
   "metadata": {},
   "outputs": [
    {
     "name": "stdout",
     "output_type": "stream",
     "text": [
      "6\n",
      "1 5 10 15 20 25\n",
      "5\n",
      "2 4 5 9 15\n",
      "81\n"
     ]
    }
   ],
   "source": [
    "# Function to find maximum sum path in two given lists\n",
    "# Below code is similar to merge routine of mergesort algorithm\n",
    "def maxSum(X, Y):\n",
    "\n",
    "    sum = sum_x = sum_y = 0\n",
    "\n",
    "    m = len(X)\n",
    "    n = len(Y)\n",
    "\n",
    "    # i and j denotes current not index of X and Y respectively\n",
    "    i = j = 0\n",
    "\n",
    "    # loop till X and Y are empty\n",
    "    while i < m and j < n:\n",
    "\n",
    "        # to handle duplicate elements in X\n",
    "        while i < m-1 and X[i] == X[i+1]:\n",
    "            sum_x += X[i]\n",
    "            i = i + 1\n",
    "\n",
    "        # to handle duplicate elements in Y\n",
    "        while j < n-1 and Y[j] == Y[j+1]:\n",
    "            sum_y += Y[j]\n",
    "            j = j + 1\n",
    "\n",
    "        # if current element of Y is less than current element of X\n",
    "        if Y[j] < X[i]:\n",
    "            sum_y += Y[j]\n",
    "            j = j + 1\n",
    "\n",
    "        # if current element of X is less than current element of Y\n",
    "        elif X[i] < Y[j]:\n",
    "            sum_x += X[i]\n",
    "            i = i + 1\n",
    "\n",
    "        else: # if X[i] == Y[j]:\n",
    "            # consider maximum sum and include value of current cell\n",
    "            sum += max(sum_x, sum_y) + X[i]\n",
    "\n",
    "            # move both indices by 1 position\n",
    "            i = i + 1\n",
    "            j = j + 1\n",
    "\n",
    "            # reset both sums\n",
    "            sum_x = 0\n",
    "            sum_y = 0\n",
    "\n",
    "    # process remaining elements of X (if any)\n",
    "    while i < m:\n",
    "        sum_x += X[i]\n",
    "        i = i + 1\n",
    "\n",
    "    # process remaining elements of Y (if any)\n",
    "    while j < n:\n",
    "        sum_y += Y[j]\n",
    "        j = j + 1\n",
    "\n",
    "    sum += max(sum_x, sum_y)\n",
    "    return sum\n",
    "if __name__ == '__main__':\n",
    "\n",
    "    size1=int(input())\n",
    "    arr1=[int(i) for i in input().split()]\n",
    "\n",
    "    #2nd Array\n",
    "    size2=int(input())\n",
    "    arr2=[int(j) for j in input().split()]\n",
    "\n",
    "    # Function call\n",
    "    print (maxSum(ar1, ar2))"
   ]
  },
  {
   "cell_type": "code",
   "execution_count": 22,
   "metadata": {},
   "outputs": [
    {
     "name": "stdout",
     "output_type": "stream",
     "text": [
      "6\n",
      "1 5 10 15 20 25\n",
      "5\n",
      "2 4 5 9 15\n",
      "81\n"
     ]
    }
   ],
   "source": [
    "def maxPathSum(ar1, ar2, m, n):\n",
    " \n",
    "    # initialize indexes for ar1[] and ar2[]\n",
    "    i, j = 0, 0\n",
    " \n",
    "    # Initialize result and current sum through ar1[] and ar2[]\n",
    "    result, sum1, sum2 = 0, 0, 0\n",
    " \n",
    "    # Below 3 loops are similar to merge in merge sort\n",
    "    while (i < m and j < n):\n",
    " \n",
    "        # Add elements of ar1[] to sum1\n",
    "        if ar1[i] < ar2[j]:\n",
    "            sum1 += ar1[i]\n",
    "            i += 1\n",
    " \n",
    "        # Add elements of ar2[] to sum1\n",
    "        elif ar1[i] > ar2[j]:\n",
    "            sum2 += ar2[j]\n",
    "            j += 1\n",
    " \n",
    "        else:   # we reached a common point # Take the maximum of two sums and add to result\n",
    "            result += max(sum1, sum2)\n",
    "            sum1 = 0\n",
    "            sum2 = 0\n",
    "            while (i < m and j < n and ar1[i] == ar2[j]):\n",
    "                   result += ar1[i]\n",
    "                   i += 1\n",
    "                   j += 1\n",
    "                   \n",
    "            \n",
    "            # Update sum1 and sum2 for elements after this intersection point\n",
    "#             sum1, sum2 = 0, 0\n",
    " \n",
    "#             # Keep updating result while there are more common elements\n",
    "#             temp = i\n",
    "#             while i < m and ar1[i] == ar2[j]:\n",
    "#                 sum1 += ar1[i];\n",
    "#                 i += 1\n",
    "#             while j<n and ar1[temp] == ar2[j]:\n",
    "#                 sum2 += ar2[j]\n",
    "#                 j += 1\n",
    "#             result += max(sum1,sum2)\n",
    "#             sum1 = sum2 = 0;           \n",
    " \n",
    "    # Add remaining elements of ar1[]\n",
    "    while i < m:\n",
    "        sum1 += ar1[i]\n",
    "        i += 1\n",
    "    # Add remaining elements of b[]\n",
    "    while j < n:\n",
    "        sum2 += ar2[j]\n",
    "        j += 1\n",
    " \n",
    "    # Add maximum of two sums of remaining elements\n",
    "    result += max(sum1, sum2)\n",
    " \n",
    "    return result\n",
    " \n",
    "\n",
    "m=int(input())\n",
    "arr1=[int(i) for i in input().strip().split()]\n",
    "\n",
    "#2nd Array\n",
    "n=int(input())\n",
    "arr2=[int(j) for j in input().strip().split()]\n",
    "\n",
    "# Function call\n",
    "print (maxPathSum(arr1, arr2, m, n))"
   ]
  },
  {
   "cell_type": "code",
   "execution_count": 6,
   "metadata": {},
   "outputs": [
    {
     "name": "stdout",
     "output_type": "stream",
     "text": [
      "3\n",
      "3\n",
      "1 2 3\n",
      "4 5 6\n",
      "7 8 9\n",
      "1 1 1\n",
      "1111\n",
      "1\n",
      "1\n",
      "1\n",
      "1\n"
     ]
    },
    {
     "data": {
      "text/plain": [
       "[[1, 2, 3], [4, 5, 6], [7, 8, 9], [1, 1, 1], [1111], [1], [1], [1], [1]]"
      ]
     },
     "execution_count": 6,
     "metadata": {},
     "output_type": "execute_result"
    }
   ],
   "source": []
  },
  {
   "cell_type": "code",
   "execution_count": 33,
   "metadata": {},
   "outputs": [
    {
     "name": "stdout",
     "output_type": "stream",
     "text": [
      "3 2\n",
      "6 9 8 5 9 2\n",
      "[[6, 9], [8, 5], [9, 2]]\n",
      "column 0 23\n"
     ]
    }
   ],
   "source": [
    "#taking input all elements in single line\n",
    "sizes=input().split()\n",
    "n=int(sizes[0])\n",
    "m=int(sizes[1])\n",
    "l_1d=[int(i) for i in input().split()]\n",
    "l=[]\n",
    "\n",
    "for i in range(n):\n",
    "    s_index=m*i\n",
    "    e_index=m*(i+1)\n",
    "    next_row=l_1d[s_index:e_index]\n",
    "    l.append(next_row)\n",
    "print(l)\n",
    "\n",
    "#for row sum\n",
    "sum_r=0\n",
    "row=[]\n",
    "for r in range(n):\n",
    "    sum_r=0\n",
    "    for c in range(m):\n",
    "        sum_r+=l[r][c]\n",
    "    row.append(sum_r)\n",
    "#print(row)\n",
    "\n",
    "#for column sum\n",
    "sum_c=0\n",
    "col=[]\n",
    "for c in range(m):\n",
    "    sum_c=0\n",
    "    for r in range(n):\n",
    "        sum_c+=l[r][c]\n",
    "    col.append(sum_c)\n",
    "#print(col)\n",
    "\n",
    "#row_max\n",
    "row_max=row[0]\n",
    "i_r=0\n",
    "for r in range(len(row)):\n",
    "    if row[r]>row_max:\n",
    "        row_max=row[r]\n",
    "        i_r=r\n",
    "#print(row_max,i_r)\n",
    "\n",
    "#col_max\n",
    "col_max=col[0]\n",
    "i_c=0\n",
    "for c in range(len(col)):\n",
    "    if col[c]>col_max:\n",
    "        col_max=col[c]\n",
    "        i_c=c\n",
    "#print(col_max,i_c)\n",
    "\n",
    "if row_max>=col_max:\n",
    "    print(\"row \"+str(i_r)+\" \"+str(row_max))\n",
    "else:\n",
    "    print(\"column \"+str(i_c)+\" \"+str(col_max))"
   ]
  },
  {
   "cell_type": "code",
   "execution_count": 28,
   "metadata": {},
   "outputs": [
    {
     "name": "stdout",
     "output_type": "stream",
     "text": [
      "0 0\n",
      "\n"
     ]
    }
   ],
   "source": [
    "def findLargest(arr, nRows, mCols):\n",
    "    #Your code goes here\n",
    "    if mCols==0 or nRows==0:\n",
    "        print(\"row 0 -2147483648\"\n",
    "    else:\n",
    "        #for row sum\n",
    "        sum_r=0\n",
    "        row=[]\n",
    "        for r in range(mCols):\n",
    "            sum_r=0\n",
    "            for c in range(nRows):\n",
    "                sum_r+=arr[r][c]\n",
    "            row.append(sum_r)\n",
    "        #print(row)\n",
    "\n",
    "        #for column sum\n",
    "        sum_c=0\n",
    "        col=[]\n",
    "        for c in range(nRows):\n",
    "            sum_c=0\n",
    "            for r in range(mCols):\n",
    "                sum_c+=arr[r][c]\n",
    "            col.append(sum_c)\n",
    "        #print(col)\n",
    "\n",
    "        #row_max\n",
    "        row_max=row[0]\n",
    "        i_r=0\n",
    "        for r in range(len(row)):\n",
    "            if row[r]>row_max:\n",
    "                row_max=row[r]\n",
    "                i_r=r\n",
    "        #print(row_max,i_r)\n",
    "\n",
    "        #col_max\n",
    "        col_max=col[0]\n",
    "        i_c=0\n",
    "        for c in range(len(col)):\n",
    "            if col[c]>col_max:\n",
    "                col_max=col[c]\n",
    "                i_c=c\n",
    "        #print(col_max,i_c)\n",
    "    \n",
    "        if row_max>col_max:\n",
    "            print(\"row\"+str(i_r)+\" \"+str(row_max))\n",
    "        else:\n",
    "            print(\"column \"+str(i_c)+\" \"+str(col_max))\n",
    "\n",
    "sizes=input().split()\n",
    "m=int(sizes[0])\n",
    "n=int(sizes[1])\n",
    "l_1d=[int(i) for i in input().split()]\n",
    "l=[]\n",
    "\n",
    "for i in range(m):\n",
    "    s_index=n*i\n",
    "    e_index=n*(i+1)\n",
    "    next_row=l_1d[s_index:e_index]\n",
    "    l.append(next_row)        \n",
    "findLargest(l,n,m)"
   ]
  },
  {
   "cell_type": "code",
   "execution_count": 3,
   "metadata": {},
   "outputs": [
    {
     "name": "stdout",
     "output_type": "stream",
     "text": [
      "3 3\n",
      "1 2 3 4 5 6 7 8 9\n",
      "[[1, 2, 3], [4, 5, 6], [7, 8, 9]]\n",
      "1 2 3 6 9 8 7 4 5 "
     ]
    }
   ],
   "source": [
    "#Spiral Printing\n",
    "sizes=input().split()\n",
    "n=int(sizes[0])\n",
    "m=int(sizes[1])\n",
    "l_1d=[int(i) for i in input().split()]\n",
    "x=[]\n",
    "\n",
    "for i in range(n):\n",
    "    s_index=m*i\n",
    "    e_index=m*(i+1)\n",
    "    next_row=l_1d[s_index:e_index]\n",
    "    x.append(next_row)\n",
    "print(x)\n",
    "\n",
    "cs=0\n",
    "ce=m-1\n",
    "rs=0\n",
    "re=n-1\n",
    "#print(cs,ce,rs,re)\n",
    "count=0\n",
    "i=cs\n",
    "while count<n*m:    \n",
    "    while i<=ce:\n",
    "        print(x[rs][i],end=' ')\n",
    "        i+=1\n",
    "        count+=1\n",
    "    rs+=1\n",
    "    i=rs\n",
    "    while i<=re:\n",
    "        print(x[i][ce],end=' ')\n",
    "        i+=1\n",
    "        count+=1\n",
    "    ce-=1\n",
    "    i=ce\n",
    "    while i>=cs:\n",
    "        print(x[re][i],end=' ')\n",
    "        i-=1\n",
    "        count+=1\n",
    "    re-=1\n",
    "    i=re\n",
    "    while i>=rs:\n",
    "        print(x[i][cs],end=' ')\n",
    "        i-=1\n",
    "        count+=1\n",
    "    cs+=1\n",
    "    i=cs"
   ]
  },
  {
   "cell_type": "code",
   "execution_count": null,
   "metadata": {},
   "outputs": [],
   "source": [
    "def spiralPrint(x, n, m):\n",
    "    #Your code goes here\n",
    "    cs=0\n",
    "    ce=m-1\n",
    "    rs=0\n",
    "    re=n-1\n",
    "    #print(cs,ce,rs,re)\n",
    "    count=0\n",
    "    while count<n*m:\n",
    "        i=cs\n",
    "        while i<=ce:\n",
    "            print(x[rs][i],end=' ')\n",
    "            i+=1\n",
    "            count+=1\n",
    "        rs+=1\n",
    "        i=rs\n",
    "        while i<=re:\n",
    "            print(x[i][ce],end=' ')\n",
    "            i+=1\n",
    "            count+=1\n",
    "        ce-=1\n",
    "        i=ce\n",
    "        while i>=cs:\n",
    "            print(x[re][i],end=' ')\n",
    "            i-=1\n",
    "            count+=1\n",
    "        re-=1\n",
    "        i=re\n",
    "        while i>=rs:\n",
    "            print(x[i][cs],end=' ')\n",
    "            i-=1\n",
    "            count+=1\n",
    "        cs+=1\n",
    "\n",
    "sizes=input().split()\n",
    "n=int(sizes[0])\n",
    "m=int(sizes[1])\n",
    "l_1d=[int(i) for i in input().split()]\n",
    "x=[]\n",
    "\n",
    "for i in range(n):\n",
    "    s_index=m*i\n",
    "    e_index=m*(i+1)\n",
    "    next_row=l_1d[s_index:e_index]\n",
    "    x.append(next_row)\n",
    "spiralPrint(x,n,m)"
   ]
  },
  {
   "cell_type": "code",
   "execution_count": 85,
   "metadata": {},
   "outputs": [
    {
     "name": "stdout",
     "output_type": "stream",
     "text": [
      "10 20 30 "
     ]
    }
   ],
   "source": [
    "def spiralPrint(m, n, a):\n",
    "    k = 0\n",
    "    l = 0\n",
    " \n",
    "    while (k < m and l < n):\n",
    " \n",
    "        # Print the first row from\n",
    "        # the remaining rows\n",
    "        for i in range(l, n):\n",
    "            print(a[k][i], end=\" \")\n",
    " \n",
    "        k += 1\n",
    " \n",
    "        # Print the last column from\n",
    "        # the remaining columns\n",
    "        for i in range(k, m):\n",
    "            print(a[i][n - 1], end=\" \")\n",
    " \n",
    "        n -= 1\n",
    " \n",
    "        # Print the last row from\n",
    "        # the remaining rows\n",
    "        if (k < m):\n",
    " \n",
    "            for i in range(n - 1, (l - 1), -1):\n",
    "                print(a[m - 1][i], end=\" \")\n",
    " \n",
    "            m -= 1\n",
    " \n",
    "        # Print the first column from\n",
    "        # the remaining columns\n",
    "        if (l < n):\n",
    "            for i in range(m - 1, k - 1, -1):\n",
    "                print(a[i][l], end=\" \")\n",
    " \n",
    "            l += 1"
   ]
  },
  {
   "cell_type": "code",
   "execution_count": 5,
   "metadata": {},
   "outputs": [
    {
     "name": "stdout",
     "output_type": "stream",
     "text": [
      "1 2 \n",
      "3 1 \n"
     ]
    }
   ],
   "source": [
    "l=[[1,2],[3,1]]\n",
    "for i in range(len(l)):\n",
    "    for j in range(len(l[i])):\n",
    "        print(l[i][j],end=' ')\n",
    "    print()"
   ]
  },
  {
   "cell_type": "code",
   "execution_count": 2,
   "metadata": {},
   "outputs": [
    {
     "name": "stdout",
     "output_type": "stream",
     "text": [
      "1\n",
      "2\n",
      "3\n",
      "4\n",
      "5\n"
     ]
    }
   ],
   "source": [
    "l=[1,2,3,4,5]\n",
    "for i in l:\n",
    "    print(i)"
   ]
  },
  {
   "cell_type": "code",
   "execution_count": null,
   "metadata": {},
   "outputs": [],
   "source": []
  }
 ],
 "metadata": {
  "kernelspec": {
   "display_name": "Python 3",
   "language": "python",
   "name": "python3"
  },
  "language_info": {
   "codemirror_mode": {
    "name": "ipython",
    "version": 3
   },
   "file_extension": ".py",
   "mimetype": "text/x-python",
   "name": "python",
   "nbconvert_exporter": "python",
   "pygments_lexer": "ipython3",
   "version": "3.7.4"
  }
 },
 "nbformat": 4,
 "nbformat_minor": 2
}
