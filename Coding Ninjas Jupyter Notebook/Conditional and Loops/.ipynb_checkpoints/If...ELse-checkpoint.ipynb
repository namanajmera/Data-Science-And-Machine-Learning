{
 "cells": [
  {
   "cell_type": "code",
   "execution_count": 1,
   "metadata": {},
   "outputs": [
    {
     "name": "stdout",
     "output_type": "stream",
     "text": [
      "I am inside If\n"
     ]
    }
   ],
   "source": [
    "a=True\n",
    "if a:\n",
    "    print(\"I am inside If\")\n",
    "else:\n",
    "    print(\"I am in else\")"
   ]
  },
  {
   "cell_type": "code",
   "execution_count": 2,
   "metadata": {},
   "outputs": [
    {
     "name": "stdout",
     "output_type": "stream",
     "text": [
      "I am in else\n"
     ]
    }
   ],
   "source": [
    "b=False\n",
    "if b:\n",
    "    print(\"I am inside If\")\n",
    "else:\n",
    "    print(\"I am in else\")"
   ]
  },
  {
   "cell_type": "code",
   "execution_count": 9,
   "metadata": {},
   "outputs": [
    {
     "name": "stdout",
     "output_type": "stream",
     "text": [
      "2\n",
      "Even\n"
     ]
    }
   ],
   "source": [
    "#check number is to be odd or even\n",
    "n=int(input())\n",
    "if n%2==0:\n",
    "    print(\"Even\")\n",
    "else:\n",
    "    print(\"Odd\")"
   ]
  },
  {
   "cell_type": "code",
   "execution_count": 7,
   "metadata": {},
   "outputs": [
    {
     "name": "stdout",
     "output_type": "stream",
     "text": [
      "too low\n"
     ]
    }
   ],
   "source": [
    "n = 10\n",
    "#Check If the number is between 1 to 10\n",
    "if n>=1 and n<=10:\n",
    "    print(\"too low\")\n",
    "\n",
    "#Check If the number is between 11 to 20\n",
    "elif n>=10 and n<=20:\n",
    "    print(\"medium\")\n",
    "\n",
    "#Check If the number is between 21 to 30\n",
    "elif n>=20 and n<=30:\n",
    "    print(\"large\")\n",
    "#Check if the number is greater than 30 \n",
    "else:\n",
    "    print(\"too large\")"
   ]
  },
  {
   "cell_type": "code",
   "execution_count": 8,
   "metadata": {},
   "outputs": [
    {
     "name": "stdout",
     "output_type": "stream",
     "text": [
      "Hello\n",
      "Hi\n"
     ]
    }
   ],
   "source": [
    "x = 5\n",
    "if x < 6:\n",
    "    print(\"Hello\")\n",
    "if x == 5:\n",
    "    print(\"Hi\")\n",
    "else:\n",
    "    print(\"Hey\")"
   ]
  },
  {
   "cell_type": "markdown",
   "metadata": {},
   "source": [
    "# Using Operators in If..Else"
   ]
  },
  {
   "cell_type": "code",
   "execution_count": 4,
   "metadata": {},
   "outputs": [
    {
     "name": "stdout",
     "output_type": "stream",
     "text": [
      "a=11\n",
      "b=23\n",
      "Yes both are greater than 10.\n"
     ]
    }
   ],
   "source": [
    "a=int(input(\"a=\"))\n",
    "b=int(input(\"b=\"))\n",
    "if a>10 and b>10:\n",
    "    print(\"Yes both are greater than 10.\")\n",
    "else:\n",
    "    print(\"No.\")"
   ]
  },
  {
   "cell_type": "code",
   "execution_count": 6,
   "metadata": {},
   "outputs": [
    {
     "name": "stdout",
     "output_type": "stream",
     "text": [
      "7\n",
      "yes it is 7\n"
     ]
    }
   ],
   "source": [
    "x=int(input())\n",
    "if x==7:\n",
    "    print(\"yes it is 7\")\n",
    "else:\n",
    "    print(\"No.\")"
   ]
  },
  {
   "cell_type": "code",
   "execution_count": 9,
   "metadata": {},
   "outputs": [
    {
     "name": "stdout",
     "output_type": "stream",
     "text": [
      "5\n",
      "No it not =7\n"
     ]
    }
   ],
   "source": [
    "x=int(input())\n",
    "if x!=7:\n",
    "    print(\"No it not =7\")\n",
    "else:\n",
    "    print(\"yes it is 7\")"
   ]
  },
  {
   "cell_type": "code",
   "execution_count": 1,
   "metadata": {},
   "outputs": [
    {
     "name": "stdout",
     "output_type": "stream",
     "text": [
      "a=3\n",
      "b=3\n",
      "c=1\n",
      "Some values are equal.\n"
     ]
    }
   ],
   "source": [
    "#greates number finding.\n",
    "a=int(input(\"a=\"))\n",
    "b=int(input(\"b=\"))\n",
    "c=int(input(\"c=\"))\n",
    "\n",
    "if a>b and a>c:\n",
    "    print(\"a is greater.\")\n",
    "elif b>a and b>c:\n",
    "    print(\"b is greater.\")\n",
    "elif c>a and c>b:\n",
    "    print(\"c is greater.\")\n",
    "else:\n",
    "    print(\"Some values are equal.\")"
   ]
  },
  {
   "cell_type": "code",
   "execution_count": 5,
   "metadata": {},
   "outputs": [
    {
     "name": "stdout",
     "output_type": "stream",
     "text": [
      "-3\n",
      "Don't do anything\n"
     ]
    }
   ],
   "source": [
    "n=int(input())\n",
    "if n>10:\n",
    "    print(\"Red\")\n",
    "elif n<=10 and n>=5:\n",
    "    print(\"Green\")\n",
    "elif n<5 and n>0:\n",
    "    print(\"Yellow\")\n",
    "else:\n",
    "    print(\"Don't do anything\")"
   ]
  },
  {
   "cell_type": "code",
   "execution_count": 7,
   "metadata": {},
   "outputs": [
    {
     "name": "stdout",
     "output_type": "stream",
     "text": [
      "12\n",
      "Red\n"
     ]
    }
   ],
   "source": [
    "n=int(input())\n",
    "if n>10:\n",
    "    print(\"Red\")\n",
    "elif n>=5:\n",
    "    print(\"Green\")\n",
    "elif n>0:\n",
    "    print(\"Yellow\")\n",
    "else:\n",
    "    print(\"Don't do anything\")"
   ]
  },
  {
   "cell_type": "markdown",
   "metadata": {},
   "source": [
    "# Nested If...Else"
   ]
  },
  {
   "cell_type": "code",
   "execution_count": 12,
   "metadata": {},
   "outputs": [
    {
     "name": "stdout",
     "output_type": "stream",
     "text": [
      "0\n",
      "n is Even\n",
      "n is Zero\n"
     ]
    }
   ],
   "source": [
    "#check number is to be odd or even\n",
    "n=int(input())\n",
    "if n%2==0:\n",
    "    print(\"n is Even\")\n",
    "    if n==0:\n",
    "        print(\"n is Zero\")\n",
    "else:\n",
    "    print(\"n is Odd\")"
   ]
  },
  {
   "cell_type": "code",
   "execution_count": 16,
   "metadata": {},
   "outputs": [
    {
     "name": "stdout",
     "output_type": "stream",
     "text": [
      "3\n",
      "2\n",
      "N is odd\n",
      "3\n"
     ]
    }
   ],
   "source": [
    "n=int(input())\n",
    "m=int(input())\n",
    "\n",
    "if n%2==0:\n",
    "    print(\"N is even\")\n",
    "    if m%2==0:\n",
    "        print(1)\n",
    "    else:\n",
    "        print(2)\n",
    "else:\n",
    "    print(\"N is odd\")\n",
    "    print(3)"
   ]
  },
  {
   "cell_type": "code",
   "execution_count": 17,
   "metadata": {},
   "outputs": [
    {
     "name": "stdout",
     "output_type": "stream",
     "text": [
      "B\n"
     ]
    }
   ],
   "source": [
    "if (10 < 0) and (0 < -10):\n",
    "    print(\"A\")\n",
    "elif (10 > 0) or False:\n",
    "    print(\"B\")\n",
    "else:\n",
    "    print(\"C\")"
   ]
  },
  {
   "cell_type": "code",
   "execution_count": 18,
   "metadata": {},
   "outputs": [
    {
     "name": "stdout",
     "output_type": "stream",
     "text": [
      "B\n"
     ]
    }
   ],
   "source": [
    "if True or True:\n",
    "    if False and True or False:\n",
    "        print('A')\n",
    "    elif False and False or True and True:\n",
    "        print('B')\n",
    "    else:\n",
    "        print('C')\n",
    "else:\n",
    "     print('D')"
   ]
  },
  {
   "cell_type": "code",
   "execution_count": null,
   "metadata": {},
   "outputs": [],
   "source": [
    "n=int(input())\n",
    "while True:\n",
    "    if n==1:\n",
    "        x=int(input())\n",
    "        y=int(input())\n",
    "        print(x+y)\n",
    "        n=int(input())\n",
    "    elif n==2:\n",
    "        x=int(input())\n",
    "        y=int(input())\n",
    "        print(x-y)\n",
    "        n=int(input())\n",
    "    elif n==3:\n",
    "        x=int(input())\n",
    "        y=int(input())\n",
    "        print(x*y)\n",
    "        n=int(input())\n",
    "    elif n==4:\n",
    "        x=int(input())\n",
    "        y=int(input())\n",
    "        print(x//y)\n",
    "        n=int(input())\n",
    "    elif n==5:\n",
    "        x=int(input())\n",
    "        y=int(input())\n",
    "        print(x%y)\n",
    "        n=int(input())\n",
    "    elif n==6:\n",
    "        exit()\n",
    "    elif n>6 and n>0:\n",
    "        print(\"Invalid Operation\")\n",
    "        n=int(input())"
   ]
  },
  {
   "cell_type": "markdown",
   "metadata": {},
   "source": [
    " "
   ]
  }
 ],
 "metadata": {
  "kernelspec": {
   "display_name": "Python 3",
   "language": "python",
   "name": "python3"
  },
  "language_info": {
   "codemirror_mode": {
    "name": "ipython",
    "version": 3
   },
   "file_extension": ".py",
   "mimetype": "text/x-python",
   "name": "python",
   "nbconvert_exporter": "python",
   "pygments_lexer": "ipython3",
   "version": "3.7.4"
  }
 },
 "nbformat": 4,
 "nbformat_minor": 2
}
