{
 "cells": [
  {
   "cell_type": "code",
   "execution_count": 5,
   "metadata": {},
   "outputs": [
    {
     "name": "stdout",
     "output_type": "stream",
     "text": [
      "5\n",
      "1\n",
      "2\n",
      "3\n",
      "4\n",
      "5\n"
     ]
    }
   ],
   "source": [
    "#print n natural number\n",
    "n=int(input())\n",
    "i=1\n",
    "while i<=n:\n",
    "    print(i)\n",
    "    i=i+1"
   ]
  },
  {
   "cell_type": "code",
   "execution_count": 10,
   "metadata": {},
   "outputs": [
    {
     "name": "stdout",
     "output_type": "stream",
     "text": [
      "101\n",
      "n is a prime number\n"
     ]
    }
   ],
   "source": [
    "#Prime Number Check\n",
    "n=int(input())\n",
    "d=2\n",
    "flag=True\n",
    "while d<n:\n",
    "    if n%d==0:\n",
    "        flag=False\n",
    "    d=d+1\n",
    "if flag:\n",
    "    print(\"n is a prime number\")\n",
    "else:\n",
    "    print(\"n is not a prime number.\")    "
   ]
  },
  {
   "cell_type": "code",
   "execution_count": 21,
   "metadata": {},
   "outputs": [
    {
     "name": "stdout",
     "output_type": "stream",
     "text": [
      "10\n",
      "2\n",
      "3\n",
      "5\n",
      "7\n"
     ]
    }
   ],
   "source": [
    "#Printing Prime Numbers\n",
    "n=int(input())\n",
    "k=2\n",
    "while k<=n:\n",
    "    d=2\n",
    "    flag=True\n",
    "    while d<k:\n",
    "        if k%d==0:\n",
    "            flag=False\n",
    "        d=d+1\n",
    "    if flag:\n",
    "        print(k)\n",
    "    k=k+1"
   ]
  },
  {
   "cell_type": "code",
   "execution_count": null,
   "metadata": {},
   "outputs": [],
   "source": []
  }
 ],
 "metadata": {
  "kernelspec": {
   "display_name": "Python 3",
   "language": "python",
   "name": "python3"
  },
  "language_info": {
   "codemirror_mode": {
    "name": "ipython",
    "version": 3
   },
   "file_extension": ".py",
   "mimetype": "text/x-python",
   "name": "python",
   "nbconvert_exporter": "python",
   "pygments_lexer": "ipython3",
   "version": "3.7.4"
  }
 },
 "nbformat": 4,
 "nbformat_minor": 2
}
