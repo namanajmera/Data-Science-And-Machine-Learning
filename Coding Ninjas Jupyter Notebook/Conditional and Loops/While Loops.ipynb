{
 "cells": [
  {
   "cell_type": "code",
   "execution_count": 5,
   "metadata": {},
   "outputs": [
    {
     "name": "stdout",
     "output_type": "stream",
     "text": [
      "5\n",
      "1\n",
      "2\n",
      "3\n",
      "4\n",
      "5\n"
     ]
    }
   ],
   "source": [
    "#print n natural number\n",
    "n=int(input())\n",
    "i=1\n",
    "while i<=n:\n",
    "    print(i)\n",
    "    i=i+1"
   ]
  },
  {
   "cell_type": "code",
   "execution_count": 3,
   "metadata": {},
   "outputs": [
    {
     "name": "stdout",
     "output_type": "stream",
     "text": [
      "4\n",
      "n is not a prime number.\n"
     ]
    }
   ],
   "source": [
    "#Prime Number Check\n",
    "n=int(input())\n",
    "d=2\n",
    "flag=True\n",
    "while d<n:\n",
    "    if n%d==0:\n",
    "        flag=False\n",
    "    d=d+1\n",
    "if flag:\n",
    "    print(\"n is a prime number\")\n",
    "else:\n",
    "    print(\"n is not a prime number.\")    "
   ]
  },
  {
   "cell_type": "code",
   "execution_count": 21,
   "metadata": {},
   "outputs": [
    {
     "name": "stdout",
     "output_type": "stream",
     "text": [
      "10\n",
      "2\n",
      "3\n",
      "5\n",
      "7\n"
     ]
    }
   ],
   "source": [
    "#Printing Prime Numbers\n",
    "n=int(input())\n",
    "k=2\n",
    "while k<=n:\n",
    "    d=2\n",
    "    flag=True\n",
    "    while d<k:\n",
    "        if k%d==0:\n",
    "            flag=False\n",
    "        d=d+1\n",
    "    if flag:\n",
    "        print(k)\n",
    "    k=k+1"
   ]
  },
  {
   "cell_type": "code",
   "execution_count": 26,
   "metadata": {},
   "outputs": [
    {
     "name": "stdout",
     "output_type": "stream",
     "text": [
      "20\n",
      "119\n",
      "13\n",
      "20   -6\n",
      "33   0\n",
      "46   7\n",
      "59   15\n",
      "72   22\n",
      "85   29\n",
      "98   36\n",
      "111   43\n"
     ]
    }
   ],
   "source": [
    "S=int(input())\n",
    "E=int(input())\n",
    "W=int(input())\n",
    "\n",
    "while S<=E:\n",
    "    val1=S\n",
    "    val2=(val1-32)/1.8\n",
    "    S=S+W\n",
    "    print(val1, \" \", int(val2))"
   ]
  },
  {
   "cell_type": "code",
   "execution_count": 6,
   "metadata": {},
   "outputs": [
    {
     "name": "stdout",
     "output_type": "stream",
     "text": [
      "10800\n",
      "801\n"
     ]
    }
   ],
   "source": [
    "#Reverse of a number\n",
    "def reverse(n):\n",
    "    reverse=0\n",
    "    while n>0:\n",
    "        r=n%10\n",
    "        reverse=(reverse*10)+r\n",
    "        n=n//10\n",
    "    return reverse\n",
    "\n",
    "n=int(input())\n",
    "result = reverse(n)\n",
    "print(result)"
   ]
  },
  {
   "cell_type": "code",
   "execution_count": 10,
   "metadata": {},
   "outputs": [
    {
     "name": "stdout",
     "output_type": "stream",
     "text": [
      "1032\n",
      "false\n"
     ]
    }
   ],
   "source": [
    "#palindrome number\n",
    "def checkPalindrome(num):\n",
    "    reverse=0\n",
    "    temp=num\n",
    "    while num>0:\n",
    "        r=num%10\n",
    "        reverse=(reverse*10)+r\n",
    "        num=num//10\n",
    "    if temp==reverse:\n",
    "        return True\n",
    "    else:\n",
    "        return False\n",
    "\n",
    "num = int(input())\n",
    "isPalindrome = checkPalindrome(num)\n",
    "if(isPalindrome):\n",
    "    print('true')\n",
    "else:\n",
    "    print('false')"
   ]
  },
  {
   "cell_type": "code",
   "execution_count": 15,
   "metadata": {},
   "outputs": [
    {
     "name": "stdout",
     "output_type": "stream",
     "text": [
      "552245\n",
      "8   15\n"
     ]
    }
   ],
   "source": [
    "#Write a program to input an integer N and print the sum of all its even digits and sum of all its odd digits separately.\n",
    "#Digits mean numbers, not the places! That is, if the given integer is \"13245\", \n",
    "#even digits are 2 & 4 and odd digits are 1, 3 & 5.\n",
    "\n",
    "n=int(input())\n",
    "Sum_of_Even_Digits=0\n",
    "Sum_of_Odd_Digits=0\n",
    "while n>0:\n",
    "    r=n%10\n",
    "    if(r%2==0):\n",
    "        Sum_of_Even_Digits=Sum_of_Even_Digits+r\n",
    "    else:\n",
    "        Sum_of_Odd_Digits=Sum_of_Odd_Digits+r\n",
    "    n=n//10\n",
    "print(Sum_of_Even_Digits,\" \",Sum_of_Odd_Digits)"
   ]
  },
  {
   "cell_type": "code",
   "execution_count": 4,
   "metadata": {},
   "outputs": [
    {
     "name": "stdout",
     "output_type": "stream",
     "text": [
      "5\n",
      "5\n"
     ]
    }
   ],
   "source": [
    "#Fibonaccai Series\n",
    "n=int(input())\n",
    "n1=0\n",
    "n2=1\n",
    "count=0\n",
    "while count<n:\n",
    "    if n==1:\n",
    "        break\n",
    "    else:\n",
    "        t=n1+n2\n",
    "        n1=n2\n",
    "        n2=t\n",
    "        count+=1\n",
    "print(n1)"
   ]
  },
  {
   "cell_type": "code",
   "execution_count": null,
   "metadata": {},
   "outputs": [],
   "source": []
  }
 ],
 "metadata": {
  "kernelspec": {
   "display_name": "Python 3",
   "language": "python",
   "name": "python3"
  },
  "language_info": {
   "codemirror_mode": {
    "name": "ipython",
    "version": 3
   },
   "file_extension": ".py",
   "mimetype": "text/x-python",
   "name": "python",
   "nbconvert_exporter": "python",
   "pygments_lexer": "ipython3",
   "version": "3.7.4"
  }
 },
 "nbformat": 4,
 "nbformat_minor": 2
}
