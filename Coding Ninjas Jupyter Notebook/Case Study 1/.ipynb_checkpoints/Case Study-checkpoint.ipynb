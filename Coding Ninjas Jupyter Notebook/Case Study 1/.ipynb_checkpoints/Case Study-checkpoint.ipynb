{
 "cells": [
  {
   "cell_type": "markdown",
   "metadata": {},
   "source": [
    "# Case Study Of StartUp Funding"
   ]
  },
  {
   "cell_type": "code",
   "execution_count": 24,
   "metadata": {},
   "outputs": [],
   "source": [
    "import pandas as pd\n",
    "import numpy as np\n",
    "import matplotlib.pyplot as plt"
   ]
  },
  {
   "cell_type": "code",
   "execution_count": 28,
   "metadata": {},
   "outputs": [
    {
     "data": {
      "text/html": [
       "<div>\n",
       "<style scoped>\n",
       "    .dataframe tbody tr th:only-of-type {\n",
       "        vertical-align: middle;\n",
       "    }\n",
       "\n",
       "    .dataframe tbody tr th {\n",
       "        vertical-align: top;\n",
       "    }\n",
       "\n",
       "    .dataframe thead th {\n",
       "        text-align: right;\n",
       "    }\n",
       "</style>\n",
       "<table border=\"1\" class=\"dataframe\">\n",
       "  <thead>\n",
       "    <tr style=\"text-align: right;\">\n",
       "      <th></th>\n",
       "      <th>SNo</th>\n",
       "      <th>Date</th>\n",
       "      <th>StartupName</th>\n",
       "      <th>IndustryVertical</th>\n",
       "      <th>SubVertical</th>\n",
       "      <th>CityLocation</th>\n",
       "      <th>InvestorsName</th>\n",
       "      <th>InvestmentType</th>\n",
       "      <th>AmountInUSD</th>\n",
       "      <th>Remarks</th>\n",
       "    </tr>\n",
       "  </thead>\n",
       "  <tbody>\n",
       "    <tr>\n",
       "      <td>0</td>\n",
       "      <td>0</td>\n",
       "      <td>01/08/2017</td>\n",
       "      <td>TouchKin</td>\n",
       "      <td>Technology</td>\n",
       "      <td>Predictive Care Platform</td>\n",
       "      <td>Bangalore</td>\n",
       "      <td>Kae Capital</td>\n",
       "      <td>Private Equity</td>\n",
       "      <td>1,300,000</td>\n",
       "      <td>NaN</td>\n",
       "    </tr>\n",
       "    <tr>\n",
       "      <td>1</td>\n",
       "      <td>1</td>\n",
       "      <td>02/08/2017</td>\n",
       "      <td>Ethinos</td>\n",
       "      <td>Technology</td>\n",
       "      <td>Digital Marketing Agency</td>\n",
       "      <td>Mumbai</td>\n",
       "      <td>Triton Investment Advisors</td>\n",
       "      <td>Private Equity</td>\n",
       "      <td>NaN</td>\n",
       "      <td>NaN</td>\n",
       "    </tr>\n",
       "    <tr>\n",
       "      <td>2</td>\n",
       "      <td>2</td>\n",
       "      <td>02/08/2017</td>\n",
       "      <td>Leverage Edu</td>\n",
       "      <td>Consumer Internet</td>\n",
       "      <td>Online platform for Higher Education Services</td>\n",
       "      <td>New Delhi</td>\n",
       "      <td>Kashyap Deorah, Anand Sankeshwar, Deepak Jain,...</td>\n",
       "      <td>Seed Funding</td>\n",
       "      <td>NaN</td>\n",
       "      <td>NaN</td>\n",
       "    </tr>\n",
       "    <tr>\n",
       "      <td>3</td>\n",
       "      <td>3</td>\n",
       "      <td>02/08/2017</td>\n",
       "      <td>Zepo</td>\n",
       "      <td>Consumer Internet</td>\n",
       "      <td>DIY Ecommerce platform</td>\n",
       "      <td>Mumbai</td>\n",
       "      <td>Kunal Shah, LetsVenture, Anupam Mittal, Hetal ...</td>\n",
       "      <td>Seed Funding</td>\n",
       "      <td>500,000</td>\n",
       "      <td>NaN</td>\n",
       "    </tr>\n",
       "    <tr>\n",
       "      <td>4</td>\n",
       "      <td>4</td>\n",
       "      <td>02/08/2017</td>\n",
       "      <td>Click2Clinic</td>\n",
       "      <td>Consumer Internet</td>\n",
       "      <td>healthcare service aggregator</td>\n",
       "      <td>Hyderabad</td>\n",
       "      <td>Narottam Thudi, Shireesh Palle</td>\n",
       "      <td>Seed Funding</td>\n",
       "      <td>850,000</td>\n",
       "      <td>NaN</td>\n",
       "    </tr>\n",
       "  </tbody>\n",
       "</table>\n",
       "</div>"
      ],
      "text/plain": [
       "   SNo        Date   StartupName   IndustryVertical  \\\n",
       "0    0  01/08/2017      TouchKin         Technology   \n",
       "1    1  02/08/2017       Ethinos         Technology   \n",
       "2    2  02/08/2017  Leverage Edu  Consumer Internet   \n",
       "3    3  02/08/2017          Zepo  Consumer Internet   \n",
       "4    4  02/08/2017  Click2Clinic  Consumer Internet   \n",
       "\n",
       "                                     SubVertical CityLocation  \\\n",
       "0                       Predictive Care Platform    Bangalore   \n",
       "1                       Digital Marketing Agency       Mumbai   \n",
       "2  Online platform for Higher Education Services    New Delhi   \n",
       "3                         DIY Ecommerce platform       Mumbai   \n",
       "4                  healthcare service aggregator    Hyderabad   \n",
       "\n",
       "                                       InvestorsName  InvestmentType  \\\n",
       "0                                        Kae Capital  Private Equity   \n",
       "1                         Triton Investment Advisors  Private Equity   \n",
       "2  Kashyap Deorah, Anand Sankeshwar, Deepak Jain,...    Seed Funding   \n",
       "3  Kunal Shah, LetsVenture, Anupam Mittal, Hetal ...    Seed Funding   \n",
       "4                     Narottam Thudi, Shireesh Palle    Seed Funding   \n",
       "\n",
       "  AmountInUSD Remarks  \n",
       "0   1,300,000     NaN  \n",
       "1         NaN     NaN  \n",
       "2         NaN     NaN  \n",
       "3     500,000     NaN  \n",
       "4     850,000     NaN  "
      ]
     },
     "execution_count": 28,
     "metadata": {},
     "output_type": "execute_result"
    }
   ],
   "source": [
    "df=pd.read_csv(\"startup_funding.csv\")\n",
    "df.head()"
   ]
  },
  {
   "cell_type": "code",
   "execution_count": 43,
   "metadata": {
    "scrolled": true
   },
   "outputs": [
    {
     "name": "stderr",
     "output_type": "stream",
     "text": [
      "D:\\ProgramFiles\\Anaconda3\\lib\\site-packages\\ipykernel_launcher.py:13: SettingWithCopyWarning: \n",
      "A value is trying to be set on a copy of a slice from a DataFrame\n",
      "\n",
      "See the caveats in the documentation: http://pandas.pydata.org/pandas-docs/stable/user_guide/indexing.html#returning-a-view-versus-a-copy\n",
      "  del sys.path[0]\n",
      "D:\\ProgramFiles\\Anaconda3\\lib\\site-packages\\ipykernel_launcher.py:14: SettingWithCopyWarning: \n",
      "A value is trying to be set on a copy of a slice from a DataFrame\n",
      "\n",
      "See the caveats in the documentation: http://pandas.pydata.org/pandas-docs/stable/user_guide/indexing.html#returning-a-view-versus-a-copy\n",
      "  \n",
      "D:\\ProgramFiles\\Anaconda3\\lib\\site-packages\\ipykernel_launcher.py:15: SettingWithCopyWarning: \n",
      "A value is trying to be set on a copy of a slice from a DataFrame\n",
      "\n",
      "See the caveats in the documentation: http://pandas.pydata.org/pandas-docs/stable/user_guide/indexing.html#returning-a-view-versus-a-copy\n",
      "  from ipykernel import kernelapp as app\n",
      "D:\\ProgramFiles\\Anaconda3\\lib\\site-packages\\ipykernel_launcher.py:16: SettingWithCopyWarning: \n",
      "A value is trying to be set on a copy of a slice from a DataFrame\n",
      "\n",
      "See the caveats in the documentation: http://pandas.pydata.org/pandas-docs/stable/user_guide/indexing.html#returning-a-view-versus-a-copy\n",
      "  app.launch_new_instance()\n"
     ]
    },
    {
     "data": {
      "image/png": "[encoded data removed]",
      "text/plain": [
       "<Figure size 432x288 with 1 Axes>"
      ]
     },
     "metadata": {
      "needs_background": "light"
     },
     "output_type": "display_data"
    },
    {
     "name": "stdout",
     "output_type": "stream",
     "text": [
      "2015 936\n",
      "2016 993\n",
      "2017 443\n"
     ]
    }
   ],
   "source": [
    "#Problem Statement :\n",
    "#Check the trend of investments over the years. To check the trend, find -\n",
    "#Total number of fundings done in each year.\n",
    "#Plot a line graph between year and number of fundings. Take year on x-axis and number of fundings on y-axis.\n",
    "\n",
    "import pandas as pd\n",
    "import numpy as np\n",
    "import matplotlib.pyplot as plt\n",
    "\n",
    "df=pd.read_csv(\"startup_funding.csv\")\n",
    "df.head()\n",
    "\n",
    "df['Date'][df['Date']=='12/05.2015'] = '12/05/2015'\n",
    "df['Date'][df['Date']=='13/04.2015'] = '13/04/2015'\n",
    "df['Date'][df['Date']=='15/01.2015'] = '15/01/2015'\n",
    "df['Date'][df['Date']=='22/01//2015'] = '22/01/2015'\n",
    "\n",
    "df_date=df['Date'].str.split('/').str[2]\n",
    "year={}\n",
    "for i in df_date:\n",
    "    if i in year:\n",
    "        year[i]=year[i]+1\n",
    "    else:\n",
    "        year[i]=1\n",
    "X=[]\n",
    "Y=[]\n",
    "for i in year:\n",
    "    X.append(int(i))\n",
    "    Y.append(year[i])\n",
    "    \n",
    "plt.plot(X,Y)\n",
    "plt.xticks(X)\n",
    "plt.show()\n",
    "\n",
    "l=len(year)-1\n",
    "while l>=0:\n",
    "    print(X[l],Y[l])\n",
    "    l-=1"
   ]
  },
  {
   "cell_type": "code",
   "execution_count": 150,
   "metadata": {},
   "outputs": [
    {
     "name": "stdout",
     "output_type": "stream",
     "text": [
      "['Bangalore' 'Mumbai' 'New Delhi' ... 'Bangalore' 'Chennai' 'Noida']\n"
     ]
    },
    {
     "name": "stderr",
     "output_type": "stream",
     "text": [
      "D:\\ProgramFiles\\Anaconda3\\lib\\site-packages\\ipykernel_launcher.py:19: SettingWithCopyWarning: \n",
      "A value is trying to be set on a copy of a slice from a DataFrame\n",
      "\n",
      "See the caveats in the documentation: http://pandas.pydata.org/pandas-docs/stable/user_guide/indexing.html#returning-a-view-versus-a-copy\n",
      "D:\\ProgramFiles\\Anaconda3\\lib\\site-packages\\ipykernel_launcher.py:20: SettingWithCopyWarning: \n",
      "A value is trying to be set on a copy of a slice from a DataFrame\n",
      "\n",
      "See the caveats in the documentation: http://pandas.pydata.org/pandas-docs/stable/user_guide/indexing.html#returning-a-view-versus-a-copy\n",
      "D:\\ProgramFiles\\Anaconda3\\lib\\site-packages\\ipykernel_launcher.py:21: SettingWithCopyWarning: \n",
      "A value is trying to be set on a copy of a slice from a DataFrame\n",
      "\n",
      "See the caveats in the documentation: http://pandas.pydata.org/pandas-docs/stable/user_guide/indexing.html#returning-a-view-versus-a-copy\n"
     ]
    },
    {
     "data": {
      "image/png": "[encoded data removed]",
      "text/plain": [
       "<Figure size 432x288 with 1 Axes>"
      ]
     },
     "metadata": {},
     "output_type": "display_data"
    },
    {
     "name": "stdout",
     "output_type": "stream",
     "text": [
      "Bangalore 635\n",
      "Mumbai 449\n",
      "New Delhi 389\n",
      "Gurgaon 241\n",
      "Pune 91\n",
      "Noida 79\n",
      "Hyderabad 77\n",
      "Chennai 67\n",
      "Ahmedabad 35\n",
      "Jaipur 25\n"
     ]
    }
   ],
   "source": [
    "#Find out which cities are generally chosen for starting a startup.\n",
    "#Find top 10 Indian cities which have most number of startups ?\n",
    "#Plot a pie chart and visualise it.\n",
    "#Print the city name and number of startups in that city also.\n",
    "#Note :\n",
    "#Take city name \"Delhi\" as \"New Delhi\".\n",
    "#Check the case-sensitiveness of cities also. That means - at some place, instead of \"Bangalore\", \"bangalore\" is given. Take city name as \"Bangalore\".\n",
    "#For few startups multiple locations are given, one Indian and one Foreign. Count those startups in Indian startup also. Indian city name is first.\n",
    "#Print the city in descending order with respect to the number of startups.\n",
    "\n",
    "import pandas as pd\n",
    "import numpy as np\n",
    "import matplotlib.pyplot as plt\n",
    "from collections import OrderedDict\n",
    "\n",
    "df=pd.read_csv(\"startup_funding.csv\")\n",
    "df.head()\n",
    "\n",
    "df['CityLocation'][df['CityLocation']=='Delhi'] = 'New Delhi'\n",
    "df['CityLocation'][df['CityLocation']=='bangalore'] = 'Bangalore'\n",
    "df['CityLocation'][df['CityLocation']=='Banglore'] = 'Bangalore'\n",
    "df_city=df['CityLocation'].str.split(\"/\").str[0]\n",
    "df_city=df_city.dropna()\n",
    "df_city_array=np.array(df_city)\n",
    "for i in range(len(df_city_array)) :\n",
    "        df_city_array[i]=df_city_array[i].split('/')[0].strip()\n",
    "print(df_city_array)\n",
    "city={}\n",
    "for i in df_city_array:\n",
    "    if i in city:\n",
    "        city[i]=city[i]+1\n",
    "    else:\n",
    "        city[i]=1\n",
    "max_city={}\n",
    "from collections import Counter\n",
    "\n",
    "max_city=dict(Counter(city).most_common(10))\n",
    "X=[]\n",
    "Y=[]\n",
    "for i in max_city:\n",
    "    X.append(i)\n",
    "    Y.append(max_city[i])\n",
    "    \n",
    "explodes=[0.1,0.1,0.1,0.1,0.2,0.2,0.2,0.2,0.2,0.2]\n",
    "plt.pie(Y,autopct='%.2f',explode=explodes,labels=X)\n",
    "plt.show()\n",
    "\n",
    "for i in range(len(X)):\n",
    "    print(X[i],Y[i])"
   ]
  },
  {
   "cell_type": "code",
   "execution_count": 219,
   "metadata": {},
   "outputs": [
    {
     "name": "stderr",
     "output_type": "stream",
     "text": [
      "D:\\ProgramFiles\\Anaconda3\\lib\\site-packages\\ipykernel_launcher.py:17: SettingWithCopyWarning: \n",
      "A value is trying to be set on a copy of a slice from a DataFrame\n",
      "\n",
      "See the caveats in the documentation: http://pandas.pydata.org/pandas-docs/stable/user_guide/indexing.html#returning-a-view-versus-a-copy\n",
      "D:\\ProgramFiles\\Anaconda3\\lib\\site-packages\\ipykernel_launcher.py:18: SettingWithCopyWarning: \n",
      "A value is trying to be set on a copy of a slice from a DataFrame\n",
      "\n",
      "See the caveats in the documentation: http://pandas.pydata.org/pandas-docs/stable/user_guide/indexing.html#returning-a-view-versus-a-copy\n",
      "D:\\ProgramFiles\\Anaconda3\\lib\\site-packages\\ipykernel_launcher.py:19: SettingWithCopyWarning: \n",
      "A value is trying to be set on a copy of a slice from a DataFrame\n",
      "\n",
      "See the caveats in the documentation: http://pandas.pydata.org/pandas-docs/stable/user_guide/indexing.html#returning-a-view-versus-a-copy\n"
     ]
    },
    {
     "data": {
      "image/png": "[encoded data removed]",
      "text/plain": [
       "<Figure size 432x288 with 1 Axes>"
      ]
     },
     "metadata": {
      "needs_background": "light"
     },
     "output_type": "display_data"
    },
    {
     "name": "stdout",
     "output_type": "stream",
     "text": [
      "Bangalore 49.71\n",
      "New Delhi 16.65\n",
      "Mumbai 13.90\n",
      "Gurgaon 12.21\n",
      "Chennai 2.43\n",
      "Pune 2.16\n",
      "Hyderabad 1.15\n",
      "Noida 1.01\n",
      "Ahmedabad 0.58\n",
      "Jaipur 0.21\n"
     ]
    }
   ],
   "source": [
    "#Find out if cities play any role in receiving funding.\n",
    "#Find top 10 Indian cities with most amount of fundings received. Find out percentage of funding each city has got (among top 10 Indian cities only).\n",
    "#Print the city and percentage with 2 decimal place after rounding off.\n",
    "#Note:\n",
    "#Take city name \"Delhi\" as \"New Delhi\".\n",
    "#Check the case-sensitiveness of cities also. That means - at some place, instead of \"Bangalore\", \"bangalore\" is given. Take city name as \"Bangalore\".\n",
    "#For few startups multiple locations are given, one Indian and one Foreign. Count those startups in Indian startup also. Indian city name is first.\n",
    "#Print the city in descending order with respect to the percentage of funding.\n",
    "\n",
    "import pandas as pd\n",
    "import numpy as np\n",
    "import matplotlib.pyplot as plt\n",
    "from collections import Counter\n",
    "\n",
    "df=pd.read_csv(\"startup_funding.csv\")\n",
    "\n",
    "df['CityLocation'][df['CityLocation']=='Delhi'] = 'New Delhi'\n",
    "df['CityLocation'][df['CityLocation']=='bangalore'] = 'Bangalore'\n",
    "df['CityLocation'][df['CityLocation']=='Banglore'] = 'Bangalore'\n",
    "df[\"AmountInUSD\"] = df[\"AmountInUSD\"].apply(lambda x: float(str(x).replace(\",\",\"\")))\n",
    "df[\"AmountInUSD\"] = pd.to_numeric(df[\"AmountInUSD\"])\n",
    "df_amount_usd=df['AmountInUSD'].fillna(0)\n",
    "df_city=df['CityLocation'].str.split(\"/\").str[0]\n",
    "df_city=df_city.str.split(' ').str[0]\n",
    "df_amount_array=np.array(df_amount_usd,dtype='int64')\n",
    "df_city_array=np.array(df_city)\n",
    "funding_dict={}\n",
    "for i in range(len(df_city_array)):\n",
    "    if df_city_array[i] in funding_dict:\n",
    "        funding_dict[df_city_array[i]]+=df_amount_array[i]\n",
    "    else:\n",
    "        funding_dict[df_city_array[i]]=df_amount_array[i]\n",
    "funding_dict['New Delhi'] = funding_dict.pop('New')\n",
    "\n",
    "max_funding_dict=dict(Counter(funding_dict).most_common(11))\n",
    "X=[]\n",
    "Y=[]\n",
    "for i in max_funding_dict:\n",
    "    X.append(i)\n",
    "    Y.append(max_funding_dict[i])\n",
    "X.pop(4)\n",
    "Y.pop(4)\n",
    "\n",
    "plt.bar(X,Y)\n",
    "plt.xticks(rotation=70)\n",
    "plt.show()\n",
    "\n",
    "for i in range(len(X)):\n",
    "    print(X[i],'%.2f'%(Y[i]/sum(Y)*100))"
   ]
  },
  {
   "cell_type": "code",
   "execution_count": 2,
   "metadata": {},
   "outputs": [
    {
     "name": "stdout",
     "output_type": "stream",
     "text": [
      "['Bangalore' 'New Delhi' 'Mumbai' 'Gurgaon' 'Chennai' 'Pune' 'Hyderabad'\n",
      " 'Noida' 'Ahmedabad' 'Jaipur']\n",
      "[8422974108 2818247500 2354934500 2069021500  411105000  366653000\n",
      "  195362000  170638000   98186000   35560000]\n"
     ]
    },
    {
     "data": {
      "image/png": "[encoded data removed]",
      "text/plain": [
       "<Figure size 1080x720 with 1 Axes>"
      ]
     },
     "metadata": {
      "needs_background": "light"
     },
     "output_type": "display_data"
    },
    {
     "name": "stdout",
     "output_type": "stream",
     "text": [
      "Bangalore 49.71\n",
      "New Delhi 16.63\n",
      "Mumbai 13.90\n",
      "Gurgaon 12.21\n",
      "Chennai 2.43\n",
      "Pune 2.16\n",
      "Hyderabad 1.15\n",
      "Noida 1.01\n",
      "Ahmedabad 0.58\n",
      "Jaipur 0.21\n"
     ]
    }
   ],
   "source": [
    "import csv\n",
    "import pandas as pd\n",
    "import numpy as np\n",
    "import matplotlib.pyplot as plt\n",
    "\n",
    "data=pd.read_csv('startup_funding.csv')\n",
    "df=data.copy()\n",
    "df.drop(df.index[df.CityLocation.isnull()], inplace=True)\n",
    "df.reset_index(inplace=True, drop=True)\n",
    "df.loc[df['AmountInUSD'].isnull(), 'AmountInUSD']='0'\n",
    "df.loc[df.CityLocation=='bangalore','CityLocation']='Bangalore'\n",
    "df.loc[df.CityLocation=='Delhi', 'CityLocation']='New Delhi'\n",
    "city=[]\n",
    "amount=[]\n",
    "for i in df.CityLocation:\n",
    "    city.append(i)\n",
    "for i in df.AmountInUSD:\n",
    "    amount.append(i)\n",
    "\n",
    "for i in range(len(amount)):\n",
    "    amount[i]=''.join(amount[i].split(','))\n",
    "    city[i]=city[i].split('/')[0].strip()\n",
    "np_amount=np.array(amount, dtype='int64')\n",
    "np_city=np.array(city)\n",
    "\n",
    "\n",
    "\n",
    "dic=dict()\n",
    "for i in range(len(np_city)):\n",
    "    if np_city[i] in dic:\n",
    "        dic[np_city[i]]+=np_amount[i]\n",
    "    else:\n",
    "        dic[np_city[i]]=np_amount[i]\n",
    "#print(dic)\n",
    "xaxis=list(dic.keys())\n",
    "yaxis=list(dic.values())\n",
    "\n",
    "np_xaxis=np.array(xaxis)\n",
    "np_yaxis=np.array(yaxis)\n",
    "\n",
    "np_xaxis=np_xaxis[np.argsort(np_yaxis)]\n",
    "np_yaxis=np.sort(np_yaxis)\n",
    "\n",
    "np_xaxis=np_xaxis[len(np_xaxis)-1:len(np_xaxis)-1-10:-1]\n",
    "np_yaxis=np_yaxis[len(np_yaxis)-1:len(np_yaxis)-1-10:-1]\n",
    "print(np_xaxis)\n",
    "print(np_yaxis)\n",
    "plt.subplots(figsize=(15, 10))\n",
    "plt.bar(np_xaxis, np_yaxis, color='red')\n",
    "plt.xticks(rotation=45, size=16)\n",
    "plt.yticks(size=16)\n",
    "plt.xlabel('City--->', size=16)\n",
    "plt.ylabel('Funding--->', size=16)\n",
    "plt.show()\n",
    "\n",
    "for i in range(len(np_xaxis)):\n",
    "    print(np_xaxis[i],format((np_yaxis[i]*100)/sum(np_yaxis), '.2f'))"
   ]
  },
  {
   "cell_type": "code",
   "execution_count": 258,
   "metadata": {},
   "outputs": [
    {
     "name": "stderr",
     "output_type": "stream",
     "text": [
      "D:\\ProgramFiles\\Anaconda3\\lib\\site-packages\\ipykernel_launcher.py:7: SettingWithCopyWarning: \n",
      "A value is trying to be set on a copy of a slice from a DataFrame\n",
      "\n",
      "See the caveats in the documentation: http://pandas.pydata.org/pandas-docs/stable/user_guide/indexing.html#returning-a-view-versus-a-copy\n",
      "  import sys\n",
      "D:\\ProgramFiles\\Anaconda3\\lib\\site-packages\\ipykernel_launcher.py:8: SettingWithCopyWarning: \n",
      "A value is trying to be set on a copy of a slice from a DataFrame\n",
      "\n",
      "See the caveats in the documentation: http://pandas.pydata.org/pandas-docs/stable/user_guide/indexing.html#returning-a-view-versus-a-copy\n",
      "  \n",
      "D:\\ProgramFiles\\Anaconda3\\lib\\site-packages\\ipykernel_launcher.py:9: SettingWithCopyWarning: \n",
      "A value is trying to be set on a copy of a slice from a DataFrame\n",
      "\n",
      "See the caveats in the documentation: http://pandas.pydata.org/pandas-docs/stable/user_guide/indexing.html#returning-a-view-versus-a-copy\n",
      "  if __name__ == '__main__':\n"
     ]
    },
    {
     "data": {
      "image/png": "[encoded data removed]",
      "text/plain": [
       "<Figure size 432x288 with 1 Axes>"
      ]
     },
     "metadata": {},
     "output_type": "display_data"
    },
    {
     "name": "stdout",
     "output_type": "stream",
     "text": [
      "Private Equity 98.15\n",
      "Seed Funding 1.81\n",
      "Debt Funding 0.04\n",
      "Crowd Funding 0.00\n"
     ]
    }
   ],
   "source": [
    "#There are 4 different type of investments. Find out percentage of amount funded for each investment type.\n",
    "#Plot a pie chart to visualise.\n",
    "#Print the investment type and percentage of amount funded with 2 decimal places after rounding off.\n",
    "#Note :\n",
    "#Correct spelling of investment types are - \"Private Equity\", \"Seed Funding\", \"Debt Funding\", and \"Crowd Funding\". Keep an eye for any spelling mistake. You can find this by printing unique values from this column.\n",
    "#Print the investment type in descending order with respect to the percentage of the amount funded.\n",
    "\n",
    "import pandas as pd\n",
    "import numpy as np\n",
    "import matplotlib.pyplot as plt\n",
    "from collections import Counter\n",
    "\n",
    "df=pd.read_csv(\"startup_funding.csv\")\n",
    "df['InvestmentType'][df['InvestmentType']=='Crowd funding'] = 'Crowd Funding'\n",
    "df['InvestmentType'][df['InvestmentType']=='PrivateEquity'] = 'Private Equity'\n",
    "df['InvestmentType'][df['InvestmentType']=='SeedFunding'] = 'Seed Funding'\n",
    "df[\"AmountInUSD\"] = df[\"AmountInUSD\"].apply(lambda x: float(str(x).replace(\",\",\"\")))\n",
    "df[\"AmountInUSD\"] = pd.to_numeric(df[\"AmountInUSD\"])\n",
    "df_amount_usd=df['AmountInUSD'].fillna(0)\n",
    "df_investment=df['InvestmentType']\n",
    "np_amount_usd=np.array(df_amount_usd,dtype='int64')\n",
    "np_investment_type=np.array(df_investment)\n",
    "\n",
    "investmentType={}\n",
    "\n",
    "for i in range(len(np_investment_type)):\n",
    "    if np_investment_type[i] in investmentType:\n",
    "        investmentType[np_investment_type[i]]+=np_amount_usd[i]\n",
    "    else:\n",
    "        investmentType[np_investment_type[i]]=np_amount_usd[i]\n",
    "X=[]\n",
    "Y=[]\n",
    "for i in investmentType:\n",
    "    X.append(i)\n",
    "    Y.append(investmentType[i])\n",
    "X.pop(3)\n",
    "Y.pop(3)\n",
    "explodes=[0.1,0.1,0.1,0.1]\n",
    "plt.pie(Y,autopct='%.2f',explode=explodes)\n",
    "plt.show()\n",
    "\n",
    "for i in range(len(X)):\n",
    "    print(X[i],'%.2f'%(Y[i]/sum(Y)*100))"
   ]
  },
  {
   "cell_type": "code",
   "execution_count": 281,
   "metadata": {},
   "outputs": [
    {
     "name": "stdout",
     "output_type": "stream",
     "text": [
      "Ecommerce 40.53\n",
      "Consumer Internet 35.95\n",
      "Technology 10.45\n",
      "Online Marketplace 6.63\n",
      "E-Commerce & M-Commerce platform 6.44\n"
     ]
    },
    {
     "name": "stderr",
     "output_type": "stream",
     "text": [
      "D:\\ProgramFiles\\Anaconda3\\lib\\site-packages\\ipykernel_launcher.py:14: SettingWithCopyWarning: \n",
      "A value is trying to be set on a copy of a slice from a DataFrame\n",
      "\n",
      "See the caveats in the documentation: http://pandas.pydata.org/pandas-docs/stable/user_guide/indexing.html#returning-a-view-versus-a-copy\n",
      "  \n",
      "D:\\ProgramFiles\\Anaconda3\\lib\\site-packages\\ipykernel_launcher.py:15: SettingWithCopyWarning: \n",
      "A value is trying to be set on a copy of a slice from a DataFrame\n",
      "\n",
      "See the caveats in the documentation: http://pandas.pydata.org/pandas-docs/stable/user_guide/indexing.html#returning-a-view-versus-a-copy\n",
      "  from ipykernel import kernelapp as app\n",
      "D:\\ProgramFiles\\Anaconda3\\lib\\site-packages\\ipykernel_launcher.py:16: SettingWithCopyWarning: \n",
      "A value is trying to be set on a copy of a slice from a DataFrame\n",
      "\n",
      "See the caveats in the documentation: http://pandas.pydata.org/pandas-docs/stable/user_guide/indexing.html#returning-a-view-versus-a-copy\n",
      "  app.launch_new_instance()\n"
     ]
    }
   ],
   "source": [
    "#Which type of companies got more easily funding. To answer this question, find -\n",
    "#Top 5 industries and percentage of the total amount funded to that industry. (among top 5 only)\n",
    "#Print the industry name and percentage of the amount funded with 2 decimal place after rounding off.\n",
    "#Note :\n",
    "#Ecommerce is the right word in IndustryVertical, so correct it.\n",
    "#Print the industry in descending order with respect to the percentage of the amount funded.\n",
    "\n",
    "import pandas as pd\n",
    "import numpy as np\n",
    "import matplotlib.pyplot as plt\n",
    "from collections import Counter\n",
    "\n",
    "df=pd.read_csv(\"startup_funding.csv\")\n",
    "df['IndustryVertical'][df['IndustryVertical']=='eCommerce'] = 'Ecommerce'\n",
    "df['IndustryVertical'][df['IndustryVertical']=='ecommerce'] = 'Ecommerce'\n",
    "df['IndustryVertical'][df['IndustryVertical']=='ECommerce'] = 'Ecommerce'\n",
    "df[\"AmountInUSD\"] = df[\"AmountInUSD\"].apply(lambda x: float(str(x).replace(\",\",\"\")))\n",
    "df[\"AmountInUSD\"] = pd.to_numeric(df[\"AmountInUSD\"])\n",
    "df_amount_usd=df['AmountInUSD'].fillna(0)\n",
    "df_industry=df['IndustryVertical']\n",
    "\n",
    "np_amount=np.array(df_amount_usd,dtype='int64')\n",
    "np_industry=np.array(df_industry)\n",
    "\n",
    "industry={}\n",
    "for i in range(len(np_industry)):\n",
    "    if np_industry[i] in industry:\n",
    "        industry[np_industry[i]]+=np_amount[i]\n",
    "    else:\n",
    "        industry[np_industry[i]]=np_amount[i]\n",
    "max_Industry=dict(Counter(industry).most_common(6))\n",
    "X=[]\n",
    "Y=[]\n",
    "for i in max_Industry:\n",
    "    X.append(i)\n",
    "    Y.append(max_Industry[i])\n",
    "X.pop(2)\n",
    "Y.pop(2)\n",
    "\n",
    "for i in range(len(X)):\n",
    "    print(X[i],'%.2f'%(Y[i]/sum(Y)*100))"
   ]
  },
  {
   "cell_type": "code",
   "execution_count": 313,
   "metadata": {},
   "outputs": [
    {
     "name": "stdout",
     "output_type": "stream",
     "text": [
      "Paytm\n",
      "Flipkart\n",
      "Ola\n",
      "Snapdeal\n",
      "Oyo\n"
     ]
    }
   ],
   "source": [
    "#Find top 5 startups with most amount of total funding.\n",
    "#Print the startup name in descending order with respect to amount of funding.\n",
    "#Note:\n",
    "#Ola, Flipkart, Oyo, Paytm are important startups, so correct their names. \n",
    "#There are many errors in startup names, ignore correcting all, just handle important ones.\n",
    "\n",
    "import pandas as pd\n",
    "import numpy as np\n",
    "import matplotlib.pyplot as plt\n",
    "from collections import Counter\n",
    "\n",
    "df=pd.read_csv(\"startup_funding.csv\")\n",
    "#df['IndustryVertical'][df['IndustryVertical']=='eCommerce'] = 'Ecommerce'\n",
    "df[\"AmountInUSD\"] = df[\"AmountInUSD\"].apply(lambda x: float(str(x).replace(\",\",\"\")))\n",
    "df[\"AmountInUSD\"] = pd.to_numeric(df[\"AmountInUSD\"])\n",
    "df_amount=df['AmountInUSD'].fillna(0)\n",
    "np_amount=np.array(df_amount,dtype='int64')\n",
    "df_startup=df['StartupName']\n",
    "np_startup=np.array(df_startup)\n",
    "\n",
    "for i in range(len(np_startup)):\n",
    "    if 'Ola' in np_startup[i]:\n",
    "        np_startup[i]='Ola'\n",
    "    if 'Flipkart' in np_startup[i]:\n",
    "        np_startup[i]='Flipkart'\n",
    "    if 'Oyo' in np_startup[i] or 'OYO Rooms' in np_startup[i]:\n",
    "        np_startup[i]='Oyo'\n",
    "    if 'Paytm' in np_startup[i]:\n",
    "        np_startup[i]='Paytm'\n",
    "startup={}\n",
    "for i in range(len(np_startup)):\n",
    "    if np_startup[i] in startup:\n",
    "        startup[np_startup[i]]+=np_amount[i]\n",
    "    else:\n",
    "        startup[np_startup[i]]=np_amount[i]\n",
    "        \n",
    "max_startup=dict(Counter(startup).most_common(5))\n",
    "for i in max_startup:\n",
    "    print(i)"
   ]
  },
  {
   "cell_type": "code",
   "execution_count": 312,
   "metadata": {},
   "outputs": [
    {
     "name": "stdout",
     "output_type": "stream",
     "text": [
      "Ola 9\n",
      "Swiggy 7\n",
      "UrbanClap 6\n",
      "Paytm 6\n",
      "Oyo 6\n"
     ]
    }
   ],
   "source": [
    "#Find the top 5 startups who received the most number of funding rounds. That means, startups which got fundings \n",
    "#maximum number of times.\n",
    "#Print the startup name in descending order with respect to the number of funding round as integer value.\n",
    "#Note:\n",
    "#Ola, Flipkart, Oyo, Paytm are important startups, so correct their names. \n",
    "#There are many errors in startup names, ignore correcting all, just handle important ones.\n",
    "\n",
    "import pandas as pd\n",
    "import numpy as np\n",
    "import matplotlib.pyplot as plt\n",
    "from collections import Counter\n",
    "\n",
    "df=pd.read_csv(\"startup_funding.csv\")\n",
    "#df['IndustryVertical'][df['IndustryVertical']=='eCommerce'] = 'Ecommerce'\n",
    "df[\"AmountInUSD\"] = df[\"AmountInUSD\"].apply(lambda x: float(str(x).replace(\",\",\"\")))\n",
    "df[\"AmountInUSD\"] = pd.to_numeric(df[\"AmountInUSD\"])\n",
    "df_amount=df['AmountInUSD'].fillna(0)\n",
    "np_amount=np.array(df_amount,dtype='int64')\n",
    "df_startup=df['StartupName']\n",
    "np_startup=np.array(df_startup)\n",
    "\n",
    "for i in range(len(np_startup)):\n",
    "    if 'Ola' in np_startup[i]:\n",
    "        np_startup[i]='Ola'\n",
    "    if 'Flipkart' in np_startup[i]:\n",
    "        np_startup[i]='Flipkart'\n",
    "    if 'Oyo' in np_startup[i] or 'OYO Rooms' in np_startup[i]:\n",
    "        np_startup[i]='Oyo'\n",
    "    if 'Paytm' in np_startup[i]:\n",
    "        np_startup[i]='Paytm'\n",
    "startup={}\n",
    "for i in np_startup:\n",
    "    if i in startup.keys():\n",
    "        startup[i]+=1\n",
    "    else:\n",
    "        startup[i]=1\n",
    "max_startup=dict(Counter(startup).most_common(5))\n",
    "for i in max_startup:\n",
    "    print(i,max_startup[i])"
   ]
  },
  {
   "cell_type": "code",
   "execution_count": 389,
   "metadata": {},
   "outputs": [
    {
     "name": "stdout",
     "output_type": "stream",
     "text": [
      "Sequoia Capital 64\n"
     ]
    }
   ],
   "source": [
    "#Find the Investors who have invested maximum number of times.\n",
    "#Print the investor name and number of times invested as integer value.\n",
    "#Note:\n",
    "#In startup, multiple investors might have invested. So consider each investor for that startup.\n",
    "#Ignore the undisclosed investors.\n",
    "\n",
    "import pandas as pd\n",
    "import numpy as np\n",
    "import matplotlib.pyplot as plt\n",
    "from collections import Counter\n",
    "import csv\n",
    "\n",
    "with open(\"startup_funding.csv\", encoding='utf8') as file_obj:\n",
    "    file_data=csv.DictReader(file_obj, skipinitialspace=True)\n",
    "    investors=[]\n",
    "    for row in file_data:\n",
    "        for i in row['InvestorsName'].split(','):\n",
    "            investors.append(i.strip())\n",
    "    invest={}\n",
    "    for i in investors:\n",
    "        if i in invest:\n",
    "            invest[i]+=1\n",
    "        else:\n",
    "            invest[i]=1\n",
    "    max_invest=dict(Counter(invest).most_common(1))\n",
    "    for i in max_invest:\n",
    "        print(i,max_invest[i])"
   ]
  },
  {
   "cell_type": "code",
   "execution_count": null,
   "metadata": {},
   "outputs": [],
   "source": []
  }
 ],
 "metadata": {
  "kernelspec": {
   "display_name": "Python 3",
   "language": "python",
   "name": "python3"
  },
  "language_info": {
   "codemirror_mode": {
    "name": "ipython",
    "version": 3
   },
   "file_extension": ".py",
   "mimetype": "text/x-python",
   "name": "python",
   "nbconvert_exporter": "python",
   "pygments_lexer": "ipython3",
   "version": "3.7.4"
  }
 },
 "nbformat": 4,
 "nbformat_minor": 2
}
