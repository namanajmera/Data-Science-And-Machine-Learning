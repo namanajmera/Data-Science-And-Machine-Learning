{
 "cells": [
  {
   "cell_type": "code",
   "execution_count": 1,
   "metadata": {},
   "outputs": [
    {
     "data": {
      "text/plain": [
       "dict"
      ]
     },
     "execution_count": 1,
     "metadata": {},
     "output_type": "execute_result"
    }
   ],
   "source": [
    "a={}\n",
    "type(a)"
   ]
  },
  {
   "cell_type": "code",
   "execution_count": 6,
   "metadata": {},
   "outputs": [
    {
     "name": "stdout",
     "output_type": "stream",
     "text": [
      "{'a', 'b', 'c'}\n"
     ]
    }
   ],
   "source": [
    "a={'a','b','c'}\n",
    "print(a)"
   ]
  },
  {
   "cell_type": "code",
   "execution_count": 7,
   "metadata": {},
   "outputs": [
    {
     "data": {
      "text/plain": [
       "{'one': 1, 'two': 2, 'three': 3}"
      ]
     },
     "execution_count": 7,
     "metadata": {},
     "output_type": "execute_result"
    }
   ],
   "source": [
    "d={\"one\":1,\"two\":2,\"three\":3,4:\"Four\"}\n",
    "d"
   ]
  },
  {
   "cell_type": "code",
   "execution_count": 10,
   "metadata": {},
   "outputs": [
    {
     "data": {
      "text/plain": [
       "3"
      ]
     },
     "execution_count": 10,
     "metadata": {},
     "output_type": "execute_result"
    }
   ],
   "source": [
    "len(d)"
   ]
  },
  {
   "cell_type": "code",
   "execution_count": 13,
   "metadata": {},
   "outputs": [
    {
     "data": {
      "text/plain": [
       "{'one': 1, 'two': 2, 'three': 3}"
      ]
     },
     "execution_count": 13,
     "metadata": {},
     "output_type": "execute_result"
    }
   ],
   "source": [
    "dd=d.copy()\n",
    "dd"
   ]
  },
  {
   "cell_type": "code",
   "execution_count": 16,
   "metadata": {},
   "outputs": [
    {
     "data": {
      "text/plain": [
       "{'one': 1, 'two': 2, 'three': 3}"
      ]
     },
     "execution_count": 16,
     "metadata": {},
     "output_type": "execute_result"
    }
   ],
   "source": [
    "c=dict([('one',1),('two',2),('three',3)])\n",
    "c"
   ]
  },
  {
   "cell_type": "code",
   "execution_count": 23,
   "metadata": {},
   "outputs": [
    {
     "data": {
      "text/plain": [
       "{'abc': 1, 1: 1, 2: 1}"
      ]
     },
     "execution_count": 23,
     "metadata": {},
     "output_type": "execute_result"
    }
   ],
   "source": [
    "x=dict.fromkeys(['abc',1,2],1)\n",
    "x"
   ]
  },
  {
   "cell_type": "code",
   "execution_count": 24,
   "metadata": {},
   "outputs": [],
   "source": [
    "x['abc']=2"
   ]
  },
  {
   "cell_type": "code",
   "execution_count": 25,
   "metadata": {},
   "outputs": [
    {
     "data": {
      "text/plain": [
       "{'abc': 2, 1: 1, 2: 1}"
      ]
     },
     "execution_count": 25,
     "metadata": {},
     "output_type": "execute_result"
    }
   ],
   "source": [
    "x"
   ]
  },
  {
   "cell_type": "markdown",
   "metadata": {},
   "source": [
    "# Accessing and Looping the Dictonaries"
   ]
  },
  {
   "cell_type": "code",
   "execution_count": 27,
   "metadata": {},
   "outputs": [
    {
     "data": {
      "text/plain": [
       "{1: 2, 3: 4, 'list': [1, 2], 'dict': {1, 2}}"
      ]
     },
     "execution_count": 27,
     "metadata": {},
     "output_type": "execute_result"
    }
   ],
   "source": [
    "a={1:2,3:4,\"list\":[1,2],\"dict\":{1,2}}\n",
    "a"
   ]
  },
  {
   "cell_type": "code",
   "execution_count": 28,
   "metadata": {},
   "outputs": [
    {
     "data": {
      "text/plain": [
       "2"
      ]
     },
     "execution_count": 28,
     "metadata": {},
     "output_type": "execute_result"
    }
   ],
   "source": [
    "a[1]"
   ]
  },
  {
   "cell_type": "code",
   "execution_count": 29,
   "metadata": {},
   "outputs": [
    {
     "data": {
      "text/plain": [
       "[1, 2]"
      ]
     },
     "execution_count": 29,
     "metadata": {},
     "output_type": "execute_result"
    }
   ],
   "source": [
    "a[\"list\"]"
   ]
  },
  {
   "cell_type": "code",
   "execution_count": 31,
   "metadata": {},
   "outputs": [
    {
     "data": {
      "text/plain": [
       "[1, 2]"
      ]
     },
     "execution_count": 31,
     "metadata": {},
     "output_type": "execute_result"
    }
   ],
   "source": [
    " a.get('list')"
   ]
  },
  {
   "cell_type": "code",
   "execution_count": 32,
   "metadata": {},
   "outputs": [
    {
     "name": "stdout",
     "output_type": "stream",
     "text": [
      "None\n"
     ]
    }
   ],
   "source": [
    "print(a.get('li'))"
   ]
  },
  {
   "cell_type": "code",
   "execution_count": 34,
   "metadata": {},
   "outputs": [
    {
     "data": {
      "text/plain": [
       "0"
      ]
     },
     "execution_count": 34,
     "metadata": {},
     "output_type": "execute_result"
    }
   ],
   "source": [
    " a.get('li',0)"
   ]
  },
  {
   "cell_type": "code",
   "execution_count": 35,
   "metadata": {},
   "outputs": [
    {
     "data": {
      "text/plain": [
       "dict_keys([1, 3, 'list', 'dict'])"
      ]
     },
     "execution_count": 35,
     "metadata": {},
     "output_type": "execute_result"
    }
   ],
   "source": [
    "a.keys()"
   ]
  },
  {
   "cell_type": "code",
   "execution_count": 36,
   "metadata": {},
   "outputs": [
    {
     "data": {
      "text/plain": [
       "dict_values([2, 4, [1, 2], {1, 2}])"
      ]
     },
     "execution_count": 36,
     "metadata": {},
     "output_type": "execute_result"
    }
   ],
   "source": [
    "a.values()"
   ]
  },
  {
   "cell_type": "code",
   "execution_count": 37,
   "metadata": {},
   "outputs": [
    {
     "data": {
      "text/plain": [
       "dict_items([(1, 2), (3, 4), ('list', [1, 2]), ('dict', {1, 2})])"
      ]
     },
     "execution_count": 37,
     "metadata": {},
     "output_type": "execute_result"
    }
   ],
   "source": [
    "a.items()"
   ]
  },
  {
   "cell_type": "code",
   "execution_count": 2,
   "metadata": {},
   "outputs": [
    {
     "name": "stdout",
     "output_type": "stream",
     "text": [
      "naman\n",
      "1 2 3\n",
      "ajmera\n",
      "4 5 6\n"
     ]
    },
    {
     "data": {
      "text/plain": [
       "{'naman': [1, 2, 3], 'ajmera': [4, 5, 6]}"
      ]
     },
     "execution_count": 2,
     "metadata": {},
     "output_type": "execute_result"
    }
   ],
   "source": [
    "#taking input from user and create a dictonary\n",
    "d={}\n",
    "for a in range(2):\n",
    "    names=input()\n",
    "    scoress=[int(i) for i in input().split()]\n",
    "    d[names]=scoress\n",
    "d"
   ]
  },
  {
   "cell_type": "markdown",
   "metadata": {},
   "source": [
    "# Looping"
   ]
  },
  {
   "cell_type": "code",
   "execution_count": 41,
   "metadata": {},
   "outputs": [
    {
     "name": "stdout",
     "output_type": "stream",
     "text": [
      "1 2\n",
      "3 4\n",
      "list [1, 2]\n",
      "dict {1, 2}\n"
     ]
    }
   ],
   "source": [
    "#it show the key with values\n",
    "for i in a:\n",
    "    print(i,a[i])"
   ]
  },
  {
   "cell_type": "code",
   "execution_count": 42,
   "metadata": {},
   "outputs": [
    {
     "name": "stdout",
     "output_type": "stream",
     "text": [
      "1\n",
      "3\n",
      "list\n",
      "dict\n"
     ]
    }
   ],
   "source": [
    "#it show the key\n",
    "for i in a:\n",
    "    print(i)"
   ]
  },
  {
   "cell_type": "code",
   "execution_count": 43,
   "metadata": {},
   "outputs": [
    {
     "name": "stdout",
     "output_type": "stream",
     "text": [
      "2\n",
      "4\n",
      "[1, 2]\n",
      "{1, 2}\n"
     ]
    }
   ],
   "source": [
    "#it shows the values\n",
    "for i in a.values():\n",
    "    print(i)"
   ]
  },
  {
   "cell_type": "code",
   "execution_count": 47,
   "metadata": {},
   "outputs": [
    {
     "data": {
      "text/plain": [
       "True"
      ]
     },
     "execution_count": 47,
     "metadata": {},
     "output_type": "execute_result"
    }
   ],
   "source": [
    "#check the key is there or not\n",
    "\"list\" in a"
   ]
  },
  {
   "cell_type": "markdown",
   "metadata": {},
   "source": [
    "# Adding and Removing the Data in Dictonaries"
   ]
  },
  {
   "cell_type": "code",
   "execution_count": 49,
   "metadata": {},
   "outputs": [
    {
     "data": {
      "text/plain": [
       "{1: 2, 3: 4, 'list': [1, 2], 'dict': {1, 2}}"
      ]
     },
     "execution_count": 49,
     "metadata": {},
     "output_type": "execute_result"
    }
   ],
   "source": [
    "a"
   ]
  },
  {
   "cell_type": "code",
   "execution_count": 57,
   "metadata": {},
   "outputs": [],
   "source": [
    "#for adding\n",
    "a['tuple']=(1,2,3,4)"
   ]
  },
  {
   "cell_type": "code",
   "execution_count": 58,
   "metadata": {},
   "outputs": [
    {
     "data": {
      "text/plain": [
       "{1: 10, 3: 4, 'list': [1, 2], 'dict': {1, 2}, 'tuple': (1, 2, 3, 4)}"
      ]
     },
     "execution_count": 58,
     "metadata": {},
     "output_type": "execute_result"
    }
   ],
   "source": [
    "a"
   ]
  },
  {
   "cell_type": "code",
   "execution_count": 59,
   "metadata": {},
   "outputs": [
    {
     "data": {
      "text/plain": [
       "tuple"
      ]
     },
     "execution_count": 59,
     "metadata": {},
     "output_type": "execute_result"
    }
   ],
   "source": [
    "type(a['tuple'])"
   ]
  },
  {
   "cell_type": "code",
   "execution_count": 60,
   "metadata": {},
   "outputs": [],
   "source": [
    "#for updating\n",
    "a[1]=10"
   ]
  },
  {
   "cell_type": "code",
   "execution_count": 61,
   "metadata": {},
   "outputs": [
    {
     "data": {
      "text/plain": [
       "{1: 10, 3: 4, 'list': [1, 2], 'dict': {1, 2}, 'tuple': (1, 2, 3, 4)}"
      ]
     },
     "execution_count": 61,
     "metadata": {},
     "output_type": "execute_result"
    }
   ],
   "source": [
    "a"
   ]
  },
  {
   "cell_type": "code",
   "execution_count": 62,
   "metadata": {},
   "outputs": [
    {
     "data": {
      "text/plain": [
       "{3: 5, 'the': 4, 2: 1000}"
      ]
     },
     "execution_count": 62,
     "metadata": {},
     "output_type": "execute_result"
    }
   ],
   "source": [
    "b={3:5,'the':4,2:1000}\n",
    "b"
   ]
  },
  {
   "cell_type": "code",
   "execution_count": 63,
   "metadata": {},
   "outputs": [],
   "source": [
    "a.update(b)"
   ]
  },
  {
   "cell_type": "code",
   "execution_count": 64,
   "metadata": {},
   "outputs": [
    {
     "data": {
      "text/plain": [
       "{1: 10,\n",
       " 3: 5,\n",
       " 'list': [1, 2],\n",
       " 'dict': {1, 2},\n",
       " 'tuple': (1, 2, 3, 4),\n",
       " 'the': 4,\n",
       " 2: 1000}"
      ]
     },
     "execution_count": 64,
     "metadata": {},
     "output_type": "execute_result"
    }
   ],
   "source": [
    "a"
   ]
  },
  {
   "cell_type": "code",
   "execution_count": 65,
   "metadata": {},
   "outputs": [
    {
     "data": {
      "text/plain": [
       "1000"
      ]
     },
     "execution_count": 65,
     "metadata": {},
     "output_type": "execute_result"
    }
   ],
   "source": [
    "a.pop(2)"
   ]
  },
  {
   "cell_type": "code",
   "execution_count": 66,
   "metadata": {},
   "outputs": [
    {
     "data": {
      "text/plain": [
       "{1: 10, 3: 5, 'list': [1, 2], 'dict': {1, 2}, 'tuple': (1, 2, 3, 4), 'the': 4}"
      ]
     },
     "execution_count": 66,
     "metadata": {},
     "output_type": "execute_result"
    }
   ],
   "source": [
    "a"
   ]
  },
  {
   "cell_type": "code",
   "execution_count": 67,
   "metadata": {},
   "outputs": [],
   "source": [
    "del a['the']"
   ]
  },
  {
   "cell_type": "code",
   "execution_count": 68,
   "metadata": {},
   "outputs": [
    {
     "data": {
      "text/plain": [
       "{1: 10, 3: 5, 'list': [1, 2], 'dict': {1, 2}, 'tuple': (1, 2, 3, 4)}"
      ]
     },
     "execution_count": 68,
     "metadata": {},
     "output_type": "execute_result"
    }
   ],
   "source": [
    "a"
   ]
  },
  {
   "cell_type": "code",
   "execution_count": 69,
   "metadata": {},
   "outputs": [
    {
     "data": {
      "text/plain": [
       "{'abc': 2, 1: 1, 2: 1}"
      ]
     },
     "execution_count": 69,
     "metadata": {},
     "output_type": "execute_result"
    }
   ],
   "source": [
    "x"
   ]
  },
  {
   "cell_type": "code",
   "execution_count": 70,
   "metadata": {},
   "outputs": [],
   "source": [
    "del x"
   ]
  },
  {
   "cell_type": "markdown",
   "metadata": {},
   "source": [
    "# Print all words with freq k"
   ]
  },
  {
   "cell_type": "code",
   "execution_count": 1,
   "metadata": {},
   "outputs": [],
   "source": [
    "a=\"this i a word string having many many word\"\n",
    "k=2"
   ]
  },
  {
   "cell_type": "code",
   "execution_count": 10,
   "metadata": {},
   "outputs": [],
   "source": [
    "words=a.split()"
   ]
  },
  {
   "cell_type": "code",
   "execution_count": 11,
   "metadata": {},
   "outputs": [
    {
     "data": {
      "text/plain": [
       "['this', 'i', 'a', 'word', 'string', 'having', 'many', 'many', 'word']"
      ]
     },
     "execution_count": 11,
     "metadata": {},
     "output_type": "execute_result"
    }
   ],
   "source": [
    "words"
   ]
  },
  {
   "cell_type": "code",
   "execution_count": 12,
   "metadata": {},
   "outputs": [],
   "source": [
    "#create a dictionaries of words\n",
    "d={}\n",
    "for w in words:\n",
    "    if w in d:\n",
    "        d[w]=d[w]+1\n",
    "    else:\n",
    "        d[w]=1"
   ]
  },
  {
   "cell_type": "code",
   "execution_count": 13,
   "metadata": {},
   "outputs": [
    {
     "data": {
      "text/plain": [
       "{'this': 1, 'i': 1, 'a': 1, 'word': 2, 'string': 1, 'having': 1, 'many': 2}"
      ]
     },
     "execution_count": 13,
     "metadata": {},
     "output_type": "execute_result"
    }
   ],
   "source": [
    "d"
   ]
  },
  {
   "cell_type": "code",
   "execution_count": 16,
   "metadata": {},
   "outputs": [
    {
     "data": {
      "text/plain": [
       "{'this': 1, 'i': 1, 'a': 1, 'word': 2, 'string': 1, 'having': 1, 'many': 2}"
      ]
     },
     "execution_count": 16,
     "metadata": {},
     "output_type": "execute_result"
    }
   ],
   "source": [
    "l={}\n",
    "for w in words:\n",
    "    l[w]=l.get(w,0)+1\n",
    "l"
   ]
  },
  {
   "cell_type": "code",
   "execution_count": 17,
   "metadata": {},
   "outputs": [
    {
     "name": "stdout",
     "output_type": "stream",
     "text": [
      "word\n",
      "many\n"
     ]
    }
   ],
   "source": [
    "for w in d:\n",
    "    if d[w]==k:\n",
    "        print(w)"
   ]
  },
  {
   "cell_type": "code",
   "execution_count": 18,
   "metadata": {},
   "outputs": [],
   "source": [
    "def printKFrequencyWords(s,k):\n",
    "    words=s.split()\n",
    "    d={}\n",
    "    for w in words:\n",
    "        d[w]=d.get(w,0)+1\n",
    "    for w in d:\n",
    "        if d[w]==k:\n",
    "            print(w)        "
   ]
  },
  {
   "cell_type": "code",
   "execution_count": 19,
   "metadata": {},
   "outputs": [
    {
     "name": "stdout",
     "output_type": "stream",
     "text": [
      "word\n",
      "many\n"
     ]
    }
   ],
   "source": [
    "printKFrequencyWords(a,2)"
   ]
  },
  {
   "cell_type": "code",
   "execution_count": 20,
   "metadata": {},
   "outputs": [
    {
     "name": "stdout",
     "output_type": "stream",
     "text": [
      "this\n",
      "i\n",
      "a\n",
      "string\n",
      "having\n"
     ]
    }
   ],
   "source": [
    "printKFrequencyWords(a,1)"
   ]
  },
  {
   "cell_type": "code",
   "execution_count": 75,
   "metadata": {},
   "outputs": [
    {
     "name": "stdout",
     "output_type": "stream",
     "text": [
      "5\n",
      "1 2 2 3 2\n"
     ]
    },
    {
     "data": {
      "text/plain": [
       "2"
      ]
     },
     "execution_count": 75,
     "metadata": {},
     "output_type": "execute_result"
    }
   ],
   "source": [
    "# Highest frequency Number.\n",
    "n=int(input())\n",
    "l=[int(i) for i in input().split()]\n",
    "d={}\n",
    "for value in l:\n",
    "    d[value]=d.get(value,0)+1\n",
    "keymax=max(d,key=d.get)\n",
    "keymax"
   ]
  },
  {
   "cell_type": "code",
   "execution_count": 76,
   "metadata": {},
   "outputs": [
    {
     "data": {
      "text/plain": [
       "{1: 1, 2: 3, 3: 1}"
      ]
     },
     "execution_count": 76,
     "metadata": {},
     "output_type": "execute_result"
    }
   ],
   "source": [
    "d"
   ]
  },
  {
   "cell_type": "code",
   "execution_count": 72,
   "metadata": {},
   "outputs": [
    {
     "name": "stdout",
     "output_type": "stream",
     "text": [
      "10\n",
      "675 28 -429 -290 444 -949 992 -850 280 810\n",
      "675\n"
     ]
    }
   ],
   "source": [
    "#Iterative over list\n",
    "n=int(input())\n",
    "l=[int(i) for i in input().split()]\n",
    "d={}\n",
    "for value in l:\n",
    "    d[value]=d.get(value,0)+1\n",
    "max_freq=-1\n",
    "best_elem=0\n",
    "for elem in l:\n",
    "    if (d[elem] > max_freq):\n",
    "        max_freq=d[elem]\n",
    "        best_elem=elem\n",
    "        \n",
    "print(best_elem)"
   ]
  },
  {
   "cell_type": "code",
   "execution_count": 82,
   "metadata": {},
   "outputs": [
    {
     "name": "stdout",
     "output_type": "stream",
     "text": [
      "10\n",
      "675 28 -429 -290 444 -949 992 -850 280 810\n",
      "675\n"
     ]
    }
   ],
   "source": [
    "# show the maximum frequency key \n",
    "n=int(input())\n",
    "l=[int(i) for i in input().split()]\n",
    "d={}\n",
    "for value in l:\n",
    "    d[value]=d.get(value,0)+1\n",
    "\n",
    "max_freq=-1\n",
    "ans_elem=0\n",
    "for elem in l:\n",
    "    if d[elem]>max_freq:\n",
    "        max_freq=d[elem]\n",
    "        ans_elem=elem\n",
    "print(ans_elem)"
   ]
  },
  {
   "cell_type": "code",
   "execution_count": 83,
   "metadata": {},
   "outputs": [
    {
     "name": "stdout",
     "output_type": "stream",
     "text": [
      "10\n",
      "675 28 -429 -290 444 -949 992 -850 280 810\n",
      "1\n"
     ]
    }
   ],
   "source": [
    "# show the maximum frequency value \n",
    "n=int(input())\n",
    "l=[int(i) for i in input().split()]\n",
    "d={}\n",
    "for value in l:\n",
    "    d[value]=d.get(value,0)+1\n",
    "\n",
    "max_freq=-1\n",
    "ans_elem=0\n",
    "for elem in l:\n",
    "    if d[elem]>max_freq:\n",
    "        max_freq=d[elem]\n",
    "        ans_elem=max_freq\n",
    "print(ans_elem)"
   ]
  },
  {
   "cell_type": "code",
   "execution_count": 129,
   "metadata": {},
   "outputs": [
    {
     "name": "stdout",
     "output_type": "stream",
     "text": [
      "20\n",
      "113 193 122 188 143 193 109 122 178 177 167 197 191 131 160 122 115 184 178 123\n"
     ]
    },
    {
     "data": {
      "text/plain": [
       "[[0],\n",
       " [1, 5],\n",
       " [2, 7, 15],\n",
       " [3],\n",
       " [4],\n",
       " [5],\n",
       " [6],\n",
       " [7, 15],\n",
       " [8, 18],\n",
       " [9],\n",
       " [10],\n",
       " [11],\n",
       " [12],\n",
       " [13],\n",
       " [14],\n",
       " [15],\n",
       " [16],\n",
       " [17],\n",
       " [18],\n",
       " [19]]"
      ]
     },
     "execution_count": 129,
     "metadata": {},
     "output_type": "execute_result"
    }
   ],
   "source": [
    "n=int(input())\n",
    "l=[int(i) for i in input().split()]\n",
    "b=[]\n",
    "for i in range(0,len(l)):\n",
    "    a=[]\n",
    "    for j in range(i,len(l)):\n",
    "        if l[i]==l[j]:\n",
    "            a.append(j)\n",
    "    b.append(a)\n",
    "b"
   ]
  },
  {
   "cell_type": "code",
   "execution_count": 127,
   "metadata": {},
   "outputs": [
    {
     "data": {
      "text/plain": [
       "[0,\n",
       " 1,\n",
       " 5,\n",
       " 2,\n",
       " 7,\n",
       " 15,\n",
       " 3,\n",
       " 4,\n",
       " 5,\n",
       " 6,\n",
       " 7,\n",
       " 15,\n",
       " 8,\n",
       " 18,\n",
       " 9,\n",
       " 10,\n",
       " 11,\n",
       " 12,\n",
       " 13,\n",
       " 14,\n",
       " 15,\n",
       " 16,\n",
       " 17,\n",
       " 18,\n",
       " 19]"
      ]
     },
     "execution_count": 127,
     "metadata": {},
     "output_type": "execute_result"
    }
   ],
   "source": [
    "c=[]\n",
    "for i in range(len(b)):\n",
    "    for j in range(len(b[i])):\n",
    "        c.append(b[i][j])\n",
    "c"
   ]
  },
  {
   "cell_type": "code",
   "execution_count": 128,
   "metadata": {},
   "outputs": [
    {
     "ename": "IndexError",
     "evalue": "list index out of range",
     "output_type": "error",
     "traceback": [
      "\u001b[1;31m---------------------------------------------------------------------------\u001b[0m",
      "\u001b[1;31mIndexError\u001b[0m                                Traceback (most recent call last)",
      "\u001b[1;32m<ipython-input-128-885170c0bb3d>\u001b[0m in \u001b[0;36m<module>\u001b[1;34m\u001b[0m\n\u001b[0;32m      7\u001b[0m \u001b[1;32melse\u001b[0m\u001b[1;33m:\u001b[0m\u001b[1;33m\u001b[0m\u001b[1;33m\u001b[0m\u001b[0m\n\u001b[0;32m      8\u001b[0m     \u001b[1;32mfor\u001b[0m \u001b[0mi\u001b[0m \u001b[1;32min\u001b[0m \u001b[0mrange\u001b[0m\u001b[1;33m(\u001b[0m\u001b[1;36m0\u001b[0m\u001b[1;33m,\u001b[0m\u001b[0mlen\u001b[0m\u001b[1;33m(\u001b[0m\u001b[0mc\u001b[0m\u001b[1;33m)\u001b[0m\u001b[1;33m)\u001b[0m\u001b[1;33m:\u001b[0m\u001b[1;33m\u001b[0m\u001b[1;33m\u001b[0m\u001b[0m\n\u001b[1;32m----> 9\u001b[1;33m         \u001b[0mans\u001b[0m\u001b[1;33m=\u001b[0m\u001b[0mc\u001b[0m\u001b[1;33m[\u001b[0m\u001b[0mi\u001b[0m\u001b[1;33m+\u001b[0m\u001b[1;36m1\u001b[0m\u001b[1;33m]\u001b[0m\u001b[1;33m-\u001b[0m\u001b[0mc\u001b[0m\u001b[1;33m[\u001b[0m\u001b[0mi\u001b[0m\u001b[1;33m]\u001b[0m\u001b[1;33m\u001b[0m\u001b[1;33m\u001b[0m\u001b[0m\n\u001b[0m\u001b[0;32m     10\u001b[0m         \u001b[0msum1\u001b[0m\u001b[1;33m.\u001b[0m\u001b[0mappend\u001b[0m\u001b[1;33m(\u001b[0m\u001b[0mans\u001b[0m\u001b[1;33m)\u001b[0m\u001b[1;33m\u001b[0m\u001b[1;33m\u001b[0m\u001b[0m\n\u001b[0;32m     11\u001b[0m         \u001b[0mi\u001b[0m\u001b[1;33m=\u001b[0m\u001b[0mi\u001b[0m\u001b[1;33m+\u001b[0m\u001b[1;36m2\u001b[0m\u001b[1;33m\u001b[0m\u001b[1;33m\u001b[0m\u001b[0m\n",
      "\u001b[1;31mIndexError\u001b[0m: list index out of range"
     ]
    }
   ],
   "source": [
    "sum1=[]\n",
    "if len(c)%2==0:\n",
    "    for i in range(0,len(c)-1):\n",
    "        ans=c[i+1]-c[i]\n",
    "        sum1.append(ans)\n",
    "        i=i+2\n",
    "else:\n",
    "    for i in range(0,len(c)):\n",
    "        ans=c[i+1]-c[i]\n",
    "        sum1.append(ans)\n",
    "        i=i+2"
   ]
  },
  {
   "cell_type": "code",
   "execution_count": 120,
   "metadata": {},
   "outputs": [
    {
     "data": {
      "text/plain": [
       "7"
      ]
     },
     "execution_count": 120,
     "metadata": {},
     "output_type": "execute_result"
    }
   ],
   "source": [
    "max(sum1)"
   ]
  },
  {
   "cell_type": "code",
   "execution_count": 133,
   "metadata": {},
   "outputs": [
    {
     "name": "stdout",
     "output_type": "stream",
     "text": [
      "20\n",
      "113 193 122 188 143 193 109 122 178 177 167 197 191 131 160 122 115 184 178 123\n",
      "10\n"
     ]
    }
   ],
   "source": [
    "#macimum Distance when only there is two repeatation\n",
    "n=int(input())\n",
    "l=[int(i) for i in input().split()]\n",
    "b=[]\n",
    "for i in range(0,len(l)):\n",
    "    a=[]\n",
    "    for j in range(i,len(l)):\n",
    "        if l[i]==l[j]:\n",
    "            a.append(j)\n",
    "    b.append(a)\n",
    "c=[]\n",
    "for i in range(len(b)):\n",
    "    for j in range(len(b[i])):\n",
    "        c.append(b[i][j])\n",
    "sum1=[]\n",
    "i=0\n",
    "n=len(c)\n",
    "if n%2==0:\n",
    "    while i<=n-1:\n",
    "        ans=c[i+1]-c[i]\n",
    "        sum1.append(ans)\n",
    "        i=i+2\n",
    "else:\n",
    "    while i<n-1:\n",
    "        ans=c[i+1]-c[i]\n",
    "        sum1.append(ans)\n",
    "        i=i+2\n",
    "print(max(sum1))"
   ]
  },
  {
   "cell_type": "code",
   "execution_count": 4,
   "metadata": {},
   "outputs": [
    {
     "name": "stdout",
     "output_type": "stream",
     "text": [
      "20\n",
      "113 193 122 188 143 193 109 122 178 177 167 197 191 131 160 122 115 184 178 123\n",
      "{113: 0, 193: 1, 122: 2, 188: 3, 143: 4, 109: 6, 178: 8, 177: 9, 167: 10, 197: 11, 191: 12, 131: 13, 160: 14, 115: 16, 184: 17, 123: 19}\n",
      "13\n"
     ]
    }
   ],
   "source": [
    "#Maximum Distance\n",
    "def maxDistance(arr, n): \n",
    "    mp = {} \n",
    "    maxDict = 0\n",
    "    for i in range(n): \n",
    "        if arr[i] not in mp.keys(): \n",
    "            mp[arr[i]] = i  \n",
    "        else: \n",
    "            maxDict = max(maxDict, i-mp[arr[i]])\n",
    "    print(mp)\n",
    "    print(maxDict)\n",
    "n=int(input())\n",
    "l=[int(i) for i in input().split()]\n",
    "\n",
    "maxDistance(l,n)"
   ]
  },
  {
   "cell_type": "code",
   "execution_count": 49,
   "metadata": {},
   "outputs": [
    {
     "name": "stdout",
     "output_type": "stream",
     "text": [
      "DAIHWaObMefwBsBaJ\n",
      "['D', 'A', 'I', 'H', 'W', 'a', 'O', 'b', 'M', 'e', 'f', 'w', 'B', 's', 'B', 'a', 'J']\n",
      "{'D': 1, 'A': 1, 'I': 1, 'H': 1, 'W': 1, 'a': 2, 'O': 1, 'b': 1, 'M': 1, 'e': 1, 'f': 1, 'w': 1, 'B': 2, 's': 1, 'J': 1}\n",
      "D\n"
     ]
    }
   ],
   "source": [
    "#First Non Repeating Character\n",
    "s=input()\n",
    "l=list(s)\n",
    "print(l)\n",
    "d={}\n",
    "for w in l:\n",
    "    d[w]=d.get(w,0)+1\n",
    "print(d)\n",
    "for w in l:\n",
    "        if d[w]==1:\n",
    "            print(w)\n",
    "            break"
   ]
  },
  {
   "cell_type": "code",
   "execution_count": 15,
   "metadata": {},
   "outputs": [
    {
     "name": "stdout",
     "output_type": "stream",
     "text": [
      "DAIHWaObMefwBsBaJ\n",
      "D\n"
     ]
    }
   ],
   "source": [
    "s=input()\n",
    "l=list(s)\n",
    "d={}\n",
    "for w in l:\n",
    "    d[w]=d.get(w,0)+1\n",
    "for w in d:\n",
    "        if d[w]==1:\n",
    "            print(w)\n",
    "            break"
   ]
  },
  {
   "cell_type": "code",
   "execution_count": 54,
   "metadata": {},
   "outputs": [
    {
     "name": "stdout",
     "output_type": "stream",
     "text": [
      "Naman Ajmera Aditya Arpit Naman Ajmera Naman Ashu\n",
      "Naman 3\n",
      "Ajmera 2\n"
     ]
    }
   ],
   "source": [
    "#Different Names\n",
    "s=input().split()\n",
    "l=list(s)\n",
    "d={}\n",
    "for w in l:\n",
    "    d[w]=d.get(w,0)+1\n",
    "new=[]\n",
    "for w in d:\n",
    "    new.append(d[w])\n",
    "if max(new)==1:\n",
    "    print(-1)\n",
    "else:\n",
    "    for w in d:\n",
    "        if d[w]>=2:\n",
    "            print(w,d[w])"
   ]
  },
  {
   "cell_type": "code",
   "execution_count": 55,
   "metadata": {},
   "outputs": [
    {
     "name": "stdout",
     "output_type": "stream",
     "text": [
      "4 7 1 7 1 9 \n",
      "{4: 1, 7: 2, 1: 2, 9: 1}\n",
      "7\n"
     ]
    }
   ],
   "source": [
    "l=[int(i) for i in input().split()]\n",
    "d={}\n",
    "for w in l:\n",
    "    d[w]=d.get(w,0)+1\n",
    "print(d)\n",
    "for w in l:\n",
    "        if d[w]%2==0:\n",
    "            print(w)\n",
    "            break"
   ]
  },
  {
   "cell_type": "code",
   "execution_count": 56,
   "metadata": {},
   "outputs": [
    {
     "name": "stdout",
     "output_type": "stream",
     "text": [
      "4 7 1 7 1 9 \n",
      "7\n"
     ]
    }
   ],
   "source": [
    "#Even Sum\n",
    "l=[int(i) for i in input().split()]\n",
    "d={}\n",
    "for w in l:\n",
    "    d[w]=d.get(w,0)+1\n",
    "for w in l:\n",
    "        if d[w]%2==0:\n",
    "            print(w)\n",
    "            break"
   ]
  },
  {
   "cell_type": "code",
   "execution_count": 57,
   "metadata": {},
   "outputs": [
    {
     "ename": "NameError",
     "evalue": "name 'k' is not defined",
     "output_type": "error",
     "traceback": [
      "\u001b[1;31m---------------------------------------------------------------------------\u001b[0m",
      "\u001b[1;31mNameError\u001b[0m                                 Traceback (most recent call last)",
      "\u001b[1;32m<ipython-input-57-d4c3b9e1e9c6>\u001b[0m in \u001b[0;36m<module>\u001b[1;34m\u001b[0m\n\u001b[1;32m----> 1\u001b[1;33m \u001b[1;32mif\u001b[0m \u001b[0mk\u001b[0m\u001b[1;33m<\u001b[0m\u001b[1;36m0\u001b[0m\u001b[1;33m:\u001b[0m\u001b[1;33m\u001b[0m\u001b[1;33m\u001b[0m\u001b[0m\n\u001b[0m\u001b[0;32m      2\u001b[0m     \u001b[0mk\u001b[0m\u001b[1;33m*=\u001b[0m\u001b[1;33m-\u001b[0m\u001b[1;36m1\u001b[0m\u001b[1;33m\u001b[0m\u001b[1;33m\u001b[0m\u001b[0m\n\u001b[0;32m      3\u001b[0m \u001b[0mm\u001b[0m\u001b[1;33m=\u001b[0m\u001b[1;33m{\u001b[0m\u001b[1;33m}\u001b[0m\u001b[1;33m\u001b[0m\u001b[1;33m\u001b[0m\u001b[0m\n\u001b[0;32m      4\u001b[0m \u001b[1;32mfor\u001b[0m \u001b[0mnum\u001b[0m \u001b[1;32min\u001b[0m \u001b[0ml\u001b[0m\u001b[1;33m:\u001b[0m\u001b[1;33m\u001b[0m\u001b[1;33m\u001b[0m\u001b[0m\n\u001b[0;32m      5\u001b[0m     \u001b[1;32mif\u001b[0m \u001b[0mnum\u001b[0m\u001b[1;33m+\u001b[0m\u001b[0mk\u001b[0m \u001b[1;32min\u001b[0m \u001b[0mm\u001b[0m\u001b[1;33m:\u001b[0m\u001b[1;33m\u001b[0m\u001b[1;33m\u001b[0m\u001b[0m\n",
      "\u001b[1;31mNameError\u001b[0m: name 'k' is not defined"
     ]
    }
   ],
   "source": [
    "if k<0:\n",
    "    k*=-1\n",
    "m={}\n",
    "for num in l:\n",
    "    if num+k in m:\n",
    "        for i in range(0,m[num+k]):\n",
    "            print(num,num+k)\n",
    "    if k!=0 and num-k in m:\n",
    "        for i in range(0,m[num-k]):\n",
    "            print(num-k,num)\n",
    "    \n",
    "    if num in m:\n",
    "        m[num]+=1\n",
    "    else:\n",
    "        m[num]=1"
   ]
  },
  {
   "cell_type": "code",
   "execution_count": null,
   "metadata": {},
   "outputs": [],
   "source": [
    "def printPairDiffK(l, k):\n",
    "    if k<0:\n",
    "        k*=-1\n",
    "    m={}\n",
    "    for num in l:\n",
    "        if num+k in m:\n",
    "            for i in range(0,m[num+k]):\n",
    "                print(num,num+k)\n",
    "        if k!=0 and num-k in m:\n",
    "            for i in range(0,m[num-k]):\n",
    "                print(num-k,num)\n",
    "\n",
    "        if num in m:\n",
    "            m[num]+=1\n",
    "        else:\n",
    "            m[num]=1\n",
    "#Implement Your Code Here\n",
    "\n",
    "\n",
    "n=int(input())\n",
    "l=list(int(i) for i in input().strip().split(' '))\n",
    "k=int(input())\n",
    "printPairDiffK(l, k)"
   ]
  },
  {
   "cell_type": "code",
   "execution_count": 1,
   "metadata": {},
   "outputs": [],
   "source": [
    "d={'March 1, 2018': 13, 'February 28, 2018': 42, 'February 27, 2018': 37, 'February 26, 2018': 33, 'February 25, 2018': 6, 'February 24, 2018': 5, 'February 23, 2018': 28, 'February 22, 2018': 35, 'February 21, 2018': 47, 'February 20, 2018': 36, 'February 19, 2018': 26, 'February 18, 2018': 5, 'February 16, 2018': 19, 'February 15, 2018': 41, 'February 14, 2018': 50, 'February 13, 2018': 40, 'February 12, 2018': 36, 'February 11, 2018': 6, 'February 9, 2018': 20, 'February 8, 2018': 39, 'February 7, 2018': 46, 'February 6, 2018': 51, 'February 5, 2018': 51, 'February 4, 2018': 4, 'February 3, 2018': 4, 'February 2, 2018': 52, 'February 1, 2018': 31, 'January 31, 2018': 31, 'January 30, 2018': 42, 'January 29, 2018': 56, 'January 28, 2018': 5, 'January 26, 2018': 25, 'January 25, 2018': 35, 'January 24, 2018': 44, 'January 23, 2018': 44, 'January 22, 2018': 35, 'January 21, 2018': 3, 'January 19, 2018': 34, 'January 18, 2018': 42, 'January 17, 2018': 57, 'January 16, 2018': 36, 'January 15, 2018': 45, 'January 14, 2018': 5, 'January 12, 2018': 41, 'January 11, 2018': 36, 'January 10, 2018': 36, 'January 9, 2018': 43, 'January 8, 2018': 46, 'January 7, 2018': 4, 'January 6, 2018': 11, 'January 5, 2018': 31, 'January 4, 2018': 39, 'January 3, 2018': 48, 'January 2, 2018': 33, 'December 30, 2017': 5, 'December 29, 2017': 10, 'December 28, 2017': 7, 'December 27, 2017': 20, 'December 26, 2017': 3, 'December 25, 2017': 3, 'December 24, 2017': 1, 'December 23, 2017': 24, 'December 22, 2017': 17, 'December 21, 2017': 11, 'December 20, 2017': 25, 'December 19, 2017': 24, 'December 18, 2017': 25, 'December 17, 2017': 3, 'December 15, 2017': 12, 'December 14, 2017': 15, 'December 13, 2017': 22, 'December 12, 2017': 22, 'December 11, 2017': 16, 'December 10, 2017': 1, 'December 8, 2017': 15, 'December 7, 2017': 16, 'December 6, 2017': 25, 'December 5, 2017': 23, 'December 4, 2017': 17, 'December 3, 2017': 1, 'December 2, 2017': 1, 'December 1, 2017': 7, 'November 30, 2017': 8, 'November 29, 2017': 17, 'November 28, 2017': 18, 'November 27, 2017': 13, 'November 24, 2017': 3, 'November 22, 2017': 5, 'November 21, 2017': 11, 'November 20, 2017': 8, 'November 19, 2017': 3, 'November 17, 2017': 11, 'November 16, 2017': 20, 'November 15, 2017': 16, 'November 14, 2017': 11, 'November 13, 2017': 17, 'November 12, 2017': 4, 'November 11, 2017': 1, 'November 10, 2017': 3, 'November 9, 2017': 11, 'November 8, 2017': 9, 'November 7, 2017': 19, 'November 6, 2017': 12, 'November 3, 2017': 6, 'November 2, 2017': 12, 'November 1, 2017': 14, 'October 31, 2017': 8, 'October 30, 2017': 15, 'October 27, 2017': 4, 'October 26, 2017': 20, 'October 25, 2017': 9, 'October 24, 2017': 13, 'October 23, 2017': 8, 'October 22, 2017': 1, 'October 20, 2017': 9, 'October 19, 2017': 8, 'October 18, 2017': 6, 'October 17, 2017': 7, 'October 16, 2017': 6, 'October 13, 2017': 14, 'October 12, 2017': 16, 'October 11, 2017': 5, 'October 10, 2017': 12, 'October 9, 2017': 6, 'October 6, 2017': 10, 'October 5, 2017': 5, 'October 4, 2017': 16, 'October 3, 2017': 9, 'October 2, 2017': 6, 'October 1, 2017': 2, 'September 29, 2017': 10, 'September 28, 2017': 5, 'September 27, 2017': 8, 'September 26, 2017': 13, 'September 25, 2017': 6, 'September 22, 2017': 12, 'September 21, 2017': 3, 'September 20, 2017': 6, 'September 19, 2017': 10, 'September 18, 2017': 6, 'September 17, 2017': 2, 'September 15, 2017': 2, 'September 14, 2017': 10, 'September 13, 2017': 7, 'September 12, 2017': 7, 'September 11, 2017': 4, 'September 10, 2017': 3, 'September 8, 2017': 5, 'September 7, 2017': 5, 'September 6, 2017': 4, 'September 5, 2017': 6, 'September 4, 2017': 7, 'September 1, 2017': 4, 'August 31, 2017': 3, 'August 30, 2017': 2, 'August 29, 2017': 11, 'August 28, 2017': 9, 'August 27, 2017': 3, 'August 25, 2017': 5, 'August 24, 2017': 2, 'August 23, 2017': 5, 'August 22, 2017': 8, 'August 21, 2017': 4, 'August 18, 2017': 5, 'August 17, 2017': 7, 'August 16, 2017': 5, 'August 15, 2017': 7, 'August 14, 2017': 4, 'August 11, 2017': 4, 'August 10, 2017': 5, 'August 9, 2017': 5, 'August 8, 2017': 7, 'August 7, 2017': 12, 'August 6, 2017': 3, 'August 4, 2017': 7, 'August 3, 2017': 3, 'August 2, 2017': 7, 'August 1, 2017': 2, 'July 31, 2017': 2, 'July 30, 2017': 1, 'July 28, 2017': 1, 'July 27, 2017': 2, 'July 26, 2017': 2, 'July 25, 2017': 4, 'July 24, 2017': 5, 'July 23, 2017': 7, 'July 21, 2017': 4, 'July 20, 2017': 2, 'July 19, 2017': 8, 'July 17, 2017': 8, 'July 16, 2017': 2, 'July 14, 2017': 2, 'July 13, 2017': 2, 'July 12, 2017': 4, 'July 11, 2017': 5, 'July 10, 2017': 8, 'July 7, 2017': 5, 'July 6, 2017': 2, 'July 5, 2017': 6, 'July 4, 2017': 1, 'July 3, 2017': 3, 'June 30, 2017': 2, 'June 29, 2017': 6, 'June 28, 2017': 5, 'June 26, 2017': 2, 'June 25, 2017': 1, 'June 23, 2017': 4, 'June 22, 2017': 5, 'June 21, 2017': 8, 'June 20, 2017': 8, 'June 19, 2017': 2, 'June 17, 2017': 1, 'June 16, 2017': 1, 'June 14, 2017': 7, 'June 13, 2017': 3, 'June 12, 2017': 5, 'June 9, 2017': 6, 'June 8, 2017': 5, 'June 7, 2017': 3, 'June 6, 2017': 3, 'June 5, 2017': 2, 'June 2, 2017': 7, 'June 1, 2017': 2, 'May 31, 2017': 6, 'May 30, 2017': 5, 'May 26, 2017': 2, 'May 25, 2017': 11, 'May 24, 2017': 3, 'May 23, 2017': 4, 'May 22, 2017': 3, 'May 19, 2017': 8, 'May 18, 2017': 4, 'May 17, 2017': 5, 'May 16, 2017': 5, 'May 15, 2017': 5, 'May 14, 2017': 2, 'May 12, 2017': 2, 'May 11, 2017': 8, 'May 10, 2017': 5, 'May 9, 2017': 3, 'May 8, 2017': 4, 'May 5, 2017': 2, 'May 4, 2017': 3, 'May 3, 2017': 6, 'May 2, 2017': 3, 'May 1, 2017': 2, 'April 28, 2017': 4, 'April 27, 2017': 2, 'April 26, 2017': 1, 'April 25, 2017': 3, 'April 24, 2017': 1, 'April 23, 2017': 1, 'April 21, 2017': 3, 'April 20, 2017': 2, 'April 19, 2017': 2, 'April 18, 2017': 2, 'April 13, 2017': 6, 'April 12, 2017': 2, 'April 11, 2017': 2, 'April 10, 2017': 4, 'April 9, 2017': 1, 'April 7, 2017': 3, 'April 6, 2017': 2, 'April 5, 2017': 1, 'April 4, 2017': 2, 'April 3, 2017': 5, 'March 31, 2017': 1, 'March 29, 2017': 7, 'March 28, 2017': 4, 'March 27, 2017': 4, 'March 24, 2017': 2, 'March 23, 2017': 1, 'March 22, 2017': 2, 'March 21, 2017': 1, 'March 20, 2017': 3, 'March 15, 2017': 1, 'March 14, 2017': 2, 'March 13, 2017': 8, 'March 10, 2017': 3, 'March 9, 2017': 2, 'March 8, 2017': 5, 'March 7, 2017': 2, 'March 6, 2017': 7, 'March 3, 2017': 1, 'March 2, 2017': 2, 'March 1, 2017': 1, 'February 28, 2017': 1, 'February 27, 2017': 3, 'February 26, 2017': 1, 'February 24, 2017': 1, 'February 23, 2017': 2, 'February 22, 2017': 4, 'February 21, 2017': 3, 'February 20, 2017': 1, 'February 18, 2017': 1, 'February 17, 2017': 1, 'February 16, 2017': 2, 'February 15, 2017': 4, 'February 14, 2017': 3, 'February 13, 2017': 5, 'February 10, 2017': 3, 'February 9, 2017': 5, 'February 8, 2017': 10, 'February 7, 2017': 4, 'February 6, 2017': 3, 'February 5, 2017': 2, 'February 3, 2017': 5, 'February 2, 2017': 1, 'February 1, 2017': 3, 'January 31, 2017': 1, 'January 30, 2017': 4, 'January 27, 2017': 3, 'January 26, 2017': 1, 'January 25, 2017': 1, 'January 24, 2017': 2, 'January 20, 2017': 6, 'January 19, 2017': 2, 'January 18, 2017': 2, 'January 17, 2017': 2, 'January 16, 2017': 3, 'January 13, 2017': 2, 'January 12, 2017': 5, 'January 11, 2017': 2, 'January 10, 2017': 1, 'January 9, 2017': 2, 'January 6, 2017': 2, 'January 5, 2017': 2, 'January 4, 2017': 1, 'January 3, 2017': 1, 'December 29, 2016': 1, 'December 27, 2016': 2, 'December 22, 2016': 1, 'December 21, 2016': 2, 'December 19, 2016': 2, 'December 16, 2016': 1, 'December 13, 2016': 5, 'December 9, 2016': 1, 'December 8, 2016': 1, 'December 2, 2016': 3, 'November 30, 2016': 1, 'November 28, 2016': 1, 'November 22, 2016': 1, 'November 17, 2016': 1, 'November 16, 2016': 1, 'November 15, 2016': 1, 'November 14, 2016': 2, 'November 11, 2016': 1, 'November 9, 2016': 1, 'November 8, 2016': 1, 'November 4, 2016': 1, 'October 31, 2016': 2, 'October 28, 2016': 1, 'October 27, 2016': 1, 'October 26, 2016': 2, 'October 21, 2016': 1, 'October 18, 2016': 1, 'October 14, 2016': 4, 'October 13, 2016': 3, 'October 12, 2016': 1, 'October 11, 2016': 4, 'October 10, 2016': 2, 'October 5, 2016': 1, 'October 3, 2016': 1, 'September 30, 2016': 1, 'September 29, 2016': 1, 'September 28, 2016': 1, 'September 23, 2016': 2, 'September 21, 2016': 1, 'September 15, 2016': 2, 'September 13, 2016': 1, 'September 12, 2016': 2, 'September 7, 2016': 2, 'September 2, 2016': 1, 'August 30, 2016': 2, 'August 29, 2016': 2, 'August 24, 2016': 1, 'August 23, 2016': 2, 'August 22, 2016': 1, 'August 16, 2016': 1, 'August 15, 2016': 1, 'August 10, 2016': 1, 'August 8, 2016': 1, 'August 3, 2016': 1, 'July 18, 2016': 1, 'July 14, 2016': 1, 'July 13, 2016': 1, 'July 7, 2016': 1, 'July 5, 2016': 1, 'June 29, 2016': 3, 'June 27, 2016': 1, 'June 23, 2016': 1, 'June 13, 2016': 2, 'June 9, 2016': 1, 'June 2, 2016': 1, 'May 31, 2016': 1, 'May 20, 2016': 1, 'May 10, 2016': 1, 'April 28, 2016': 1, 'April 25, 2016': 1, 'April 22, 2016': 2, 'April 18, 2016': 1, 'March 21, 2016': 1, 'March 20, 2016': 2, 'March 8, 2016': 1, 'March 4, 2016': 1, 'February 25, 2016': 2, 'February 24, 2016': 1, 'February 22, 2016': 1, 'February 15, 2016': 1, 'February 10, 2016': 1, 'February 1, 2016': 1, 'January 26, 2016': 2, 'January 13, 2016': 3, 'January 8, 2016': 1, 'January 4, 2016': 1, 'December 22, 2015': 1, 'December 15, 2015': 1, 'December 7, 2015': 1, 'November 10, 2015': 2, 'November 6, 2015': 1, 'September 17, 2015': 1, 'September 15, 2015': 2, 'September 8, 2015': 1, 'September 4, 2015': 1, 'August 24, 2015': 1, 'August 13, 2015': 1, 'August 12, 2015': 2, 'July 17, 2015': 2, 'July 15, 2015': 1, 'June 18, 2015': 1, 'May 14, 2015': 4, 'April 17, 2015': 1, 'April 2, 2015': 1, 'February 9, 2015': 1, 'February 6, 2015': 1, 'February 5, 2015': 1, 'January 13, 2015': 1, 'November 20, 2014': 1, 'November 17, 2014': 1, 'October 10, 2014': 1, 'June 4, 2014': 1, 'April 21, 2014': 1, 'September 26, 2013': 1, 'February 5, 2013': 1, 'January 3, 2013': 1, 'November 19, 2012': 1, 'October 21, 2012': 3, 'August 29, 2012': 1, 'April 23, 2012': 1, 'March 6, 2012': 1}"
   ]
  },
  {
   "cell_type": "code",
   "execution_count": 18,
   "metadata": {},
   "outputs": [],
   "source": [
    "d={'US, WA, Seattle ': 1310, 'IN, KA, Bangalore ': 55, 'US, CA, Cupertino ': 50, 'US, CA, East Palo Alto ': 69, 'US, CA, Santa Monica ': 15, 'US, CA, Sunnyvale ': 96, 'US, CA, Palo Alto ': 98, 'US, MA, Boston ': 4, 'US, MA, Cambridge ': 94, 'CA, BC, Vancouver ': 87, 'US, TX, Austin ': 30, 'IN, TS, Hyderabad ': 25, 'US, CA, San Francisco ': 30, 'RO, Iasi ': 9, 'PL, Gdansk ': 16, 'PL, Bielany Wroclawskie ': 1, 'US, CA, Irvine ': 13, 'CA, ON, Toronto ': 17, 'US, MA, North Reading ': 10, 'US, MN, Minneapolis ': 4, 'AE, Dubai ': 1, 'US, CA, San Diego ': 6, 'US, CA, Santa Barbara ': 5, 'US, OR, Portland ': 5, 'ES, Madrid ': 13, 'US, NJ, Newark ': 16, 'US, NY, New York ': 33, 'IN, TN, Chennai ': 26, 'IL, Herzliya ': 2, 'DE, Aachen ': 3, 'US, MA, Westborough ': 1, 'DE, Berlin ': 14, 'US, WA, Bellevue ': 42, 'UK, London ': 15, 'US, CO, Boulder ': 7, 'US, CA, Santa Cruz ': 6, 'US, CA, San Luis Obispo ': 3, 'UK, Cambridge ': 12, 'SG, Singapore ': 1, 'AU, NSW, Sydney ': 9, 'US, VA, Herndon ': 32, 'US, CO, Broomfield ': 5, 'UK, Edinburgh ': 1, 'US, AZ, Tempe ': 5, 'IE, DUBLIN, Dublin ': 30, 'IN, DL, Gurgaon ': 1, 'IN, HR, Gurgaon ': 3, 'CN, Beijing ': 11, 'MX, EMEX, Mexico City ': 2, 'NL, The Hague ': 2, 'ZA, Cape Town ': 12, 'FR, Paris ': 2, 'US, VA, Ballston ': 3, 'JO, Amman ': 2, 'US, PA, Pittsburgh ': 2, 'US, GA, Atlanta ': 2, 'UK, N YORK, Heslington ': 2, 'CA, MB, Winnipeg ': 1, 'TW, TP, Taipei ': 4, 'US, CO, Denver ': 7, 'DE, BY, Graben ': 1, 'CN, Shanghai ': 3, 'LU, Luxembourg ': 6, 'DE, Standortuebergreifend ': 1, 'US, CA, Foster City ': 2, 'UK, CAMBS, Cambridge ': 7, 'BR, SP, Sao Paulo ': 8, 'JP, Meguro ': 4, 'IT, AT, Asti ': 1, 'UK, BRIST, Bristol ': 1, 'US, Virtual ': 1, 'CA, ON, ': 1, 'IN, MH, Pune ': 1, 'US, CA, San Jose ': 2, 'CA, ': 3, 'CA, ON, Ottawa ': 2, '': 1, 'US, NV, Las Vegas ': 1}"
   ]
  },
  {
   "cell_type": "code",
   "execution_count": 19,
   "metadata": {},
   "outputs": [
    {
     "data": {
      "text/plain": [
       "{'US, WA, Seattle ': 1310,\n",
       " 'IN, KA, Bangalore ': 55,\n",
       " 'US, CA, Cupertino ': 50,\n",
       " 'US, CA, East Palo Alto ': 69,\n",
       " 'US, CA, Santa Monica ': 15,\n",
       " 'US, CA, Sunnyvale ': 96,\n",
       " 'US, CA, Palo Alto ': 98,\n",
       " 'US, MA, Boston ': 4,\n",
       " 'US, MA, Cambridge ': 94,\n",
       " 'CA, BC, Vancouver ': 87,\n",
       " 'US, TX, Austin ': 30,\n",
       " 'IN, TS, Hyderabad ': 25,\n",
       " 'US, CA, San Francisco ': 30,\n",
       " 'RO, Iasi ': 9,\n",
       " 'PL, Gdansk ': 16,\n",
       " 'PL, Bielany Wroclawskie ': 1,\n",
       " 'US, CA, Irvine ': 13,\n",
       " 'CA, ON, Toronto ': 17,\n",
       " 'US, MA, North Reading ': 10,\n",
       " 'US, MN, Minneapolis ': 4,\n",
       " 'AE, Dubai ': 1,\n",
       " 'US, CA, San Diego ': 6,\n",
       " 'US, CA, Santa Barbara ': 5,\n",
       " 'US, OR, Portland ': 5,\n",
       " 'ES, Madrid ': 13,\n",
       " 'US, NJ, Newark ': 16,\n",
       " 'US, NY, New York ': 33,\n",
       " 'IN, TN, Chennai ': 26,\n",
       " 'IL, Herzliya ': 2,\n",
       " 'DE, Aachen ': 3,\n",
       " 'US, MA, Westborough ': 1,\n",
       " 'DE, Berlin ': 14,\n",
       " 'US, WA, Bellevue ': 42,\n",
       " 'UK, London ': 15,\n",
       " 'US, CO, Boulder ': 7,\n",
       " 'US, CA, Santa Cruz ': 6,\n",
       " 'US, CA, San Luis Obispo ': 3,\n",
       " 'UK, Cambridge ': 12,\n",
       " 'SG, Singapore ': 1,\n",
       " 'AU, NSW, Sydney ': 9,\n",
       " 'US, VA, Herndon ': 32,\n",
       " 'US, CO, Broomfield ': 5,\n",
       " 'UK, Edinburgh ': 1,\n",
       " 'US, AZ, Tempe ': 5,\n",
       " 'IE, DUBLIN, Dublin ': 30,\n",
       " 'IN, DL, Gurgaon ': 1,\n",
       " 'IN, HR, Gurgaon ': 3,\n",
       " 'CN, Beijing ': 11,\n",
       " 'MX, EMEX, Mexico City ': 2,\n",
       " 'NL, The Hague ': 2,\n",
       " 'ZA, Cape Town ': 12,\n",
       " 'FR, Paris ': 2,\n",
       " 'US, VA, Ballston ': 3,\n",
       " 'JO, Amman ': 2,\n",
       " 'US, PA, Pittsburgh ': 2,\n",
       " 'US, GA, Atlanta ': 2,\n",
       " 'UK, N YORK, Heslington ': 2,\n",
       " 'CA, MB, Winnipeg ': 1,\n",
       " 'TW, TP, Taipei ': 4,\n",
       " 'US, CO, Denver ': 7,\n",
       " 'DE, BY, Graben ': 1,\n",
       " 'CN, Shanghai ': 3,\n",
       " 'LU, Luxembourg ': 6,\n",
       " 'DE, Standortuebergreifend ': 1,\n",
       " 'US, CA, Foster City ': 2,\n",
       " 'UK, CAMBS, Cambridge ': 7,\n",
       " 'BR, SP, Sao Paulo ': 8,\n",
       " 'JP, Meguro ': 4,\n",
       " 'IT, AT, Asti ': 1,\n",
       " 'UK, BRIST, Bristol ': 1,\n",
       " 'US, Virtual ': 1,\n",
       " 'CA, ON, ': 1,\n",
       " 'IN, MH, Pune ': 1,\n",
       " 'US, CA, San Jose ': 2,\n",
       " 'CA, ': 3,\n",
       " 'CA, ON, Ottawa ': 2,\n",
       " '': 1,\n",
       " 'US, NV, Las Vegas ': 1}"
      ]
     },
     "execution_count": 19,
     "metadata": {},
     "output_type": "execute_result"
    }
   ],
   "source": [
    "d"
   ]
  },
  {
   "cell_type": "code",
   "execution_count": 20,
   "metadata": {},
   "outputs": [],
   "source": [
    "l=list(d)"
   ]
  },
  {
   "cell_type": "code",
   "execution_count": 21,
   "metadata": {},
   "outputs": [
    {
     "data": {
      "text/plain": [
       "['US, WA, Seattle ',\n",
       " 'IN, KA, Bangalore ',\n",
       " 'US, CA, Cupertino ',\n",
       " 'US, CA, East Palo Alto ',\n",
       " 'US, CA, Santa Monica ',\n",
       " 'US, CA, Sunnyvale ',\n",
       " 'US, CA, Palo Alto ',\n",
       " 'US, MA, Boston ',\n",
       " 'US, MA, Cambridge ',\n",
       " 'CA, BC, Vancouver ',\n",
       " 'US, TX, Austin ',\n",
       " 'IN, TS, Hyderabad ',\n",
       " 'US, CA, San Francisco ',\n",
       " 'RO, Iasi ',\n",
       " 'PL, Gdansk ',\n",
       " 'PL, Bielany Wroclawskie ',\n",
       " 'US, CA, Irvine ',\n",
       " 'CA, ON, Toronto ',\n",
       " 'US, MA, North Reading ',\n",
       " 'US, MN, Minneapolis ',\n",
       " 'AE, Dubai ',\n",
       " 'US, CA, San Diego ',\n",
       " 'US, CA, Santa Barbara ',\n",
       " 'US, OR, Portland ',\n",
       " 'ES, Madrid ',\n",
       " 'US, NJ, Newark ',\n",
       " 'US, NY, New York ',\n",
       " 'IN, TN, Chennai ',\n",
       " 'IL, Herzliya ',\n",
       " 'DE, Aachen ',\n",
       " 'US, MA, Westborough ',\n",
       " 'DE, Berlin ',\n",
       " 'US, WA, Bellevue ',\n",
       " 'UK, London ',\n",
       " 'US, CO, Boulder ',\n",
       " 'US, CA, Santa Cruz ',\n",
       " 'US, CA, San Luis Obispo ',\n",
       " 'UK, Cambridge ',\n",
       " 'SG, Singapore ',\n",
       " 'AU, NSW, Sydney ',\n",
       " 'US, VA, Herndon ',\n",
       " 'US, CO, Broomfield ',\n",
       " 'UK, Edinburgh ',\n",
       " 'US, AZ, Tempe ',\n",
       " 'IE, DUBLIN, Dublin ',\n",
       " 'IN, DL, Gurgaon ',\n",
       " 'IN, HR, Gurgaon ',\n",
       " 'CN, Beijing ',\n",
       " 'MX, EMEX, Mexico City ',\n",
       " 'NL, The Hague ',\n",
       " 'ZA, Cape Town ',\n",
       " 'FR, Paris ',\n",
       " 'US, VA, Ballston ',\n",
       " 'JO, Amman ',\n",
       " 'US, PA, Pittsburgh ',\n",
       " 'US, GA, Atlanta ',\n",
       " 'UK, N YORK, Heslington ',\n",
       " 'CA, MB, Winnipeg ',\n",
       " 'TW, TP, Taipei ',\n",
       " 'US, CO, Denver ',\n",
       " 'DE, BY, Graben ',\n",
       " 'CN, Shanghai ',\n",
       " 'LU, Luxembourg ',\n",
       " 'DE, Standortuebergreifend ',\n",
       " 'US, CA, Foster City ',\n",
       " 'UK, CAMBS, Cambridge ',\n",
       " 'BR, SP, Sao Paulo ',\n",
       " 'JP, Meguro ',\n",
       " 'IT, AT, Asti ',\n",
       " 'UK, BRIST, Bristol ',\n",
       " 'US, Virtual ',\n",
       " 'CA, ON, ',\n",
       " 'IN, MH, Pune ',\n",
       " 'US, CA, San Jose ',\n",
       " 'CA, ',\n",
       " 'CA, ON, Ottawa ',\n",
       " '',\n",
       " 'US, NV, Las Vegas ']"
      ]
     },
     "execution_count": 21,
     "metadata": {},
     "output_type": "execute_result"
    }
   ],
   "source": [
    "l"
   ]
  },
  {
   "cell_type": "code",
   "execution_count": null,
   "metadata": {},
   "outputs": [],
   "source": []
  }
 ],
 "metadata": {
  "kernelspec": {
   "display_name": "Python 3",
   "language": "python",
   "name": "python3"
  },
  "language_info": {
   "codemirror_mode": {
    "name": "ipython",
    "version": 3
   },
   "file_extension": ".py",
   "mimetype": "text/x-python",
   "name": "python",
   "nbconvert_exporter": "python",
   "pygments_lexer": "ipython3",
   "version": "3.7.4"
  }
 },
 "nbformat": 4,
 "nbformat_minor": 2
}
