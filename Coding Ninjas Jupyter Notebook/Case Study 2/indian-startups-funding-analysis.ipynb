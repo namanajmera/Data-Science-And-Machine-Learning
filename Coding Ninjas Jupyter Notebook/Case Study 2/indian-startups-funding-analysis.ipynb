{
 "cells": [
  {
   "cell_type": "markdown",
   "metadata": {},
   "source": [
    "# This dataset has funding information of the Indian startups from January 2015 to August 2017."
   ]
  },
  {
   "cell_type": "markdown",
   "metadata": {},
   "source": [
    "* Ques 1 :\n",
    "Check the trend of investments over the years. To check the trend, find -\n",
    "Total number of fundings done in each year.\n",
    "Print year-wise total number of fundings also. Print years in ascending order.\n",
    "* Note :\n",
    "There is some error in the 'Date' feature. Make sure to handle that."
   ]
  },
  {
   "cell_type": "code",
   "execution_count": 1,
   "metadata": {},
   "outputs": [
    {
     "name": "stdout",
     "output_type": "stream",
     "text": [
      "2015 936\n",
      "2016 993\n",
      "2017 443\n"
     ]
    }
   ],
   "source": [
    "import pandas as pd\n",
    "import numpy as np\n",
    "import matplotlib.pyplot as plt\n",
    "startup = pd.read_csv(\"../input/startup_funding.csv\")\n",
    "df = startup.copy()\n",
    "y = []\n",
    "for i in df[\"Date\"].values:\n",
    "    if '.' in i:\n",
    "        y.append(i.split('.')[-1])\n",
    "    else:\n",
    "        y.append(i.split('/')[-1])\n",
    "df[\"Year\"] = y\n",
    "p = df[\"Year\"].value_counts()\n",
    "year = p.index\n",
    "q = np.argsort(year)\n",
    "fund = p.values\n",
    "for i in q:\n",
    "    print(year[i],fund[i])"
   ]
  },
  {
   "cell_type": "markdown",
   "metadata": {},
   "source": [
    "* Ques 2 : \n",
    "Find out which cities are generally chosen for starting a startup.\n",
    "Find top 10 Indian cities which have most number of startups ?\n",
    "Plot a pie chart and visualise it.\n",
    "Print the city name and number of startups in that city also.\n",
    "* Note :\n",
    "Take city name \"Delhi\" as \"New Delhi\".\n",
    "Check the case-sensitiveness of cities also. That means - at some place, instead of \"Bangalore\", \"bangalore\" is given. Take city name as \"Bangalore\".\n",
    "For few startups multiple locations are given, one Indian and one Foreign. Count those startups in Indian startup also. Indian city name is first.\n",
    "Print the city in descending order with respect to the number of startups."
   ]
  },
  {
   "cell_type": "code",
   "execution_count": 2,
   "metadata": {},
   "outputs": [
    {
     "name": "stdout",
     "output_type": "stream",
     "text": [
      "Bangalore 635\n",
      "Mumbai 449\n",
      "New Delhi 389\n",
      "Gurgaon 241\n",
      "Pune 91\n",
      "Noida 79\n",
      "Hyderabad 77\n",
      "Chennai 67\n",
      "Ahmedabad 35\n",
      "Jaipur 25\n"
     ]
    },
    {
     "data": {
      "image/png": "[encoded data removed]",
      "text/plain": [
       "<Figure size 432x288 with 1 Axes>"
      ]
     },
     "metadata": {},
     "output_type": "display_data"
    }
   ],
   "source": [
    "import pandas as pd\n",
    "import numpy as np\n",
    "import matplotlib.pyplot as plt\n",
    "startup = pd.read_csv(\"../input/startup_funding.csv\")\n",
    "df = startup.copy()\n",
    "df[\"CityLocation\"].dropna(inplace = True)\n",
    "d = {}\n",
    "for i in df[\"CityLocation\"]:\n",
    "    d[i] = d.get(i,0) + 1\n",
    "    \n",
    "d[\"Bangalore\"] += d[\"bangalore\"] - d['SFO / Bangalore'] - d['Seattle / Bangalore']\n",
    "d[\"New Delhi\"] += d[\"Delhi\"]\n",
    "d[\"Hyderabad\"] -= d[\"Goa/Hyderabad\"] - d['Dallas / Hyderabad'] \n",
    "del d[\"bangalore\"]\n",
    "del d[\"Delhi\"]\n",
    "del d[\"Goa/Hyderabad\"]\n",
    "del d['Dallas / Hyderabad']\n",
    "\n",
    "d1 = sorted(d, key=d.get, reverse=True)\n",
    "\n",
    "c = 1\n",
    "d2 = {}\n",
    "for i in d1:\n",
    "    if c == 11:\n",
    "        break\n",
    "    d2[i] = 0\n",
    "    c += 1\n",
    "    \n",
    "for i in d2:\n",
    "    for j in d:\n",
    "        if i in j:\n",
    "            d2[i] += d[j]\n",
    "              \n",
    "x = []\n",
    "y = []\n",
    "for i in d2:\n",
    "    print(i,d2[i])\n",
    "    x.append(i)\n",
    "    y.append(d2[i])\n",
    "plt.axis(\"equal\")\n",
    "plt.pie(y,labels = x)\n",
    "plt.show()"
   ]
  },
  {
   "cell_type": "markdown",
   "metadata": {},
   "source": [
    "* Ques 3 :\n",
    "Find out if cities play any role in receiving funding.\n",
    "Find top 10 Indian cities with most amount of fundings received. Find out percentage of funding each city has got (among top 10 Indian cities only).\n",
    "Print the city and percentage with 2 decimal place after rounding off.\n",
    "* Note:\n",
    "Take city name \"Delhi\" as \"New Delhi\".\n",
    "Check the case-sensitiveness of cities also. That means - at some place, instead of \"Bangalore\", \"bangalore\" is given. Take city name as \"Bangalore\".\n",
    "For few startups multiple locations are given, one Indian and one Foreign. Count those startups in Indian startup also. Indian city name is first.\n",
    "Print the city in descending order with respect to the percentage of funding."
   ]
  },
  {
   "cell_type": "code",
   "execution_count": 3,
   "metadata": {},
   "outputs": [
    {
     "name": "stdout",
     "output_type": "stream",
     "text": [
      "Bangalore 49.71\n",
      "New Delhi 16.63\n",
      "Mumbai 13.90\n",
      "Gurgaon 12.21\n",
      "Chennai 2.43\n",
      "Pune 2.16\n",
      "Hyderabad 1.15\n",
      "Noida 1.01\n",
      "Ahmedabad 0.58\n",
      "Jaipur 0.21\n"
     ]
    }
   ],
   "source": [
    "def modified(amount):\n",
    "    return int(amount.replace(',',''))\n",
    "def city(c):\n",
    "    c = str(c)\n",
    "    return c.split(\"/\")[0].strip()\n",
    "import pandas as pd\n",
    "import numpy as np\n",
    "import matplotlib.pyplot as plt\n",
    "startup = pd.read_csv(\"../input/startup_funding.csv\")\n",
    "df = startup.copy()\n",
    "df[\"CityLocation\"].fillna('',inplace = True)\n",
    "df[\"AmountInUSD\"].fillna('0',inplace = True)\n",
    "df[\"AmountInUSD\"] = df[\"AmountInUSD\"].apply(modified)\n",
    "df[\"CityLocation\"] = df[\"CityLocation\"].apply(city)\n",
    "df[\"CityLocation\"].replace(\"bangalore\",\"Bangalore\",inplace = True)\n",
    "df[\"CityLocation\"].replace(\"Delhi\",\"New Delhi\",inplace = True)\n",
    "df = df[df[\"CityLocation\"] != \"\"]\n",
    "a = df[\"CityLocation\"]\n",
    "b = df[\"AmountInUSD\"]\n",
    "d = {}\n",
    "for i in a.index:\n",
    "    d[a[i]] = d.get(a[i],0) + b[i]\n",
    "    \n",
    "d1 = sorted(d, key=d.get , reverse=True) \n",
    "\n",
    "\n",
    "c = 1\n",
    "d2 = {}\n",
    "for i in d1:\n",
    "    if c == 11:\n",
    "        break\n",
    "    d2[i] = d2.get(i,0) + d[i]\n",
    "    c += 1\n",
    "sum = 0\n",
    "for i in d2.values():\n",
    "    sum += i\n",
    "for i in d2:\n",
    "    print(i,format(d2[i]*100/sum,\"0.2f\"))"
   ]
  },
  {
   "cell_type": "markdown",
   "metadata": {},
   "source": [
    "* Ques 4 :\n",
    "There are 4 different type of investments. Find out percentage of amount funded for each investment type.\n",
    "Plot a pie chart to visualise.\n",
    "Print the investment type and percentage of amount funded with 2 decimal places after rounding off.\n",
    "* Note :\n",
    "Correct spelling of investment types are - \"Private Equity\", \"Seed Funding\", \"Debt Funding\", and \"Crowd Funding\". Keep an eye for any spelling mistake. You can find this by printing unique values from this column.\n",
    "Print the investment type in descending order with respect to the percentage of the amount funded."
   ]
  },
  {
   "cell_type": "code",
   "execution_count": 4,
   "metadata": {},
   "outputs": [
    {
     "name": "stdout",
     "output_type": "stream",
     "text": [
      "Private Equity 98.15\n",
      "Seed Funding 1.81\n",
      "Debt Funding 0.04\n",
      "Crowd Funding 0.00\n"
     ]
    },
    {
     "data": {
      "image/png": "[encoded data removed]",
      "text/plain": [
       "<Figure size 432x288 with 1 Axes>"
      ]
     },
     "metadata": {},
     "output_type": "display_data"
    }
   ],
   "source": [
    "def modified(amount):\n",
    "    return int(amount.replace(',',''))\n",
    "import pandas as pd\n",
    "import numpy as np\n",
    "import matplotlib.pyplot as plt\n",
    "startup = pd.read_csv(\"../input/startup_funding.csv\")\n",
    "df = startup.copy()\n",
    "df[\"AmountInUSD\"].fillna('0',inplace = True)\n",
    "df[\"AmountInUSD\"] = df[\"AmountInUSD\"].apply(modified)\n",
    "df[\"InvestmentType\"].fillna(\"\",inplace = True)\n",
    "df = df[df[\"InvestmentType\"] != \"\"]\n",
    "a = df[\"InvestmentType\"]\n",
    "b = df[\"AmountInUSD\"]\n",
    "d ={}\n",
    "for i in a.index:\n",
    "    d[a[i]] = d.get(a[i],0) + b[i]\n",
    "d['Seed Funding'] += d['SeedFunding']\n",
    "d['Private Equity'] += d['PrivateEquity']\n",
    "d['Crowd Funding'] += d['Crowd funding']\n",
    "del d['SeedFunding']\n",
    "del d['PrivateEquity']\n",
    "del d['Crowd funding']\n",
    "sum = 0\n",
    "for i in d:\n",
    "    sum += d[i]\n",
    "for i in d:\n",
    "    print(i,format(d[i]*100/sum,\"0.2f\"))\n",
    "plt.pie(d.values(),labels = d.keys())\n",
    "plt.axis(\"equal\")\n",
    "plt.show()"
   ]
  },
  {
   "cell_type": "markdown",
   "metadata": {},
   "source": [
    "* Ques 5 :\n",
    "Which type of companies got more easily funding. To answer this question, find -\n",
    "Top 5 industries and percentage of the total amount funded to that industry. (among top 5 only)\n",
    "Print the industry name and percentage of the amount funded with 2 decimal place after rounding off.\n",
    "* Note :\n",
    "Ecommerce is the right word in IndustryVertical, so correct it.\n",
    "Print the industry in descending order with respect to the percentage of the amount funded."
   ]
  },
  {
   "cell_type": "code",
   "execution_count": 5,
   "metadata": {},
   "outputs": [
    {
     "name": "stdout",
     "output_type": "stream",
     "text": [
      "Ecommerce 40.53\n",
      "Consumer Internet 35.95\n",
      "Technology 10.45\n",
      "Online Marketplace 6.63\n",
      "E-Commerce & M-Commerce platform 6.44\n"
     ]
    }
   ],
   "source": [
    "def modified(amount):\n",
    "    return int(amount.replace(',',''))\n",
    "import pandas as pd\n",
    "import numpy as np\n",
    "import matplotlib.pyplot as plt\n",
    "startup = pd.read_csv(\"../input/startup_funding.csv\")\n",
    "df = startup.copy()\n",
    "df[\"AmountInUSD\"].fillna('0',inplace = True)\n",
    "df[\"AmountInUSD\"] = df[\"AmountInUSD\"].apply(modified)\n",
    "df[\"IndustryVertical\"].fillna(\"\",inplace = True)\n",
    "df[\"IndustryVertical\"].replace(\"eCommerce\",\"Ecommerce\",inplace = True)\n",
    "df[\"IndustryVertical\"].replace(\"ECommerce\",\"Ecommerce\",inplace = True)\n",
    "df[\"IndustryVertical\"].replace(\"ecommerce\",\"Ecommerce\",inplace = True)\n",
    "df = df[df[\"IndustryVertical\"] != \"\"]\n",
    "a = df[\"IndustryVertical\"]\n",
    "b = df[\"AmountInUSD\"]\n",
    "d ={}\n",
    "for i in a.index:\n",
    "    d[a[i]] = d.get(a[i],0) + b[i]\n",
    "d1 = sorted(d, key=d.get , reverse=True) \n",
    "d1 = d1[:5]\n",
    "d2 = {}\n",
    "for i in d1:\n",
    "    d2[i] = d[i]\n",
    "sum = 0\n",
    "for i in d2:\n",
    "    sum += d2[i]\n",
    "for i in d2:\n",
    "    print(i,format(d2[i]*100/sum,\"0.2f\"))"
   ]
  },
  {
   "cell_type": "markdown",
   "metadata": {},
   "source": [
    "* Ques 6 :\n",
    "Find top 5 startups with most amount of total funding.\n",
    "Print the startup name in descending order with respect to amount of funding.\n",
    "* Note:\n",
    "Ola, Flipkart, Oyo, Paytm are important startups, so correct their names. There are many errors in startup names, ignore correcting all, just handle important ones."
   ]
  },
  {
   "cell_type": "code",
   "execution_count": 6,
   "metadata": {},
   "outputs": [
    {
     "name": "stdout",
     "output_type": "stream",
     "text": [
      "Paytm\n",
      "Flipkart\n",
      "Ola\n",
      "Snapdeal\n",
      "Oyo\n"
     ]
    }
   ],
   "source": [
    "def modified(amount):\n",
    "    return int(amount.replace(',',''))\n",
    "import pandas as pd\n",
    "import numpy as np\n",
    "import matplotlib.pyplot as plt\n",
    "startup = pd.read_csv(\"../input/startup_funding.csv\")\n",
    "df = startup.copy()\n",
    "df[\"AmountInUSD\"].fillna('0',inplace = True)\n",
    "df[\"AmountInUSD\"] = df[\"AmountInUSD\"].apply(modified)\n",
    "df[\"StartupName\"].fillna(\"\",inplace = True)\n",
    "df[\"StartupName\"].replace(\"Flipkart.com\",\"Flipkart\",inplace = True)\n",
    "df[\"StartupName\"].replace(\"Ola Cabs\",\"Ola\",inplace = True)\n",
    "df[\"StartupName\"].replace(\"Olacabs\",\"Ola\",inplace = True)\n",
    "df[\"StartupName\"].replace(\"Oyorooms\",\"Oyo\",inplace = True)\n",
    "df[\"StartupName\"].replace(\"OyoRooms\",\"Oyo\",inplace = True)\n",
    "df[\"StartupName\"].replace(\"OYO Rooms\",\"Oyo\",inplace = True)\n",
    "df[\"StartupName\"].replace(\"Oyo Rooms\",\"Oyo\",inplace = True)\n",
    "df[\"StartupName\"].replace(\"Paytm Marketplace\",\"Paytm\",inplace = True)\n",
    "df = df[df[\"StartupName\"] != \"\"]\n",
    "a = df[\"StartupName\"]\n",
    "b = df[\"AmountInUSD\"]\n",
    "d = {}\n",
    "for i in a.index:\n",
    "    d[a[i]] = d.get(a[i],0) + b[i]\n",
    "d1 = sorted(d, key=d.get , reverse=True) \n",
    "d1 = d1[:5]\n",
    "for i in d1:\n",
    "    print(i)"
   ]
  },
  {
   "cell_type": "markdown",
   "metadata": {},
   "source": [
    "* Ques 7 :\n",
    "Find the Investors who have invested maximum number of times.\n",
    "Print the investor name and number of times invested as integer value.\n",
    "* Note:\n",
    "In startup, multiple investors might have invested. So consider each investor for that startup.\n",
    "Ignore the undisclosed investors."
   ]
  },
  {
   "cell_type": "code",
   "execution_count": 7,
   "metadata": {},
   "outputs": [
    {
     "name": "stdout",
     "output_type": "stream",
     "text": [
      "Sequoia Capital 64\n"
     ]
    }
   ],
   "source": [
    "import pandas as pd\n",
    "import matplotlib.pyplot as plt\n",
    "startup = pd.read_csv(\"../input/startup_funding.csv\")\n",
    "df = startup.copy()\n",
    "df[\"InvestorsName\"].fillna('',inplace = True)\n",
    "df = df[df[\"InvestorsName\"] != '']\n",
    "df[\"InvestorsName\"] = df[\"InvestorsName\"].str.replace(\",\\xa0 \",\", \")\n",
    "df[\"InvestorsName\"] = df[\"InvestorsName\"].str.replace(\", \",\"^\")\n",
    "df[\"InvestorsName\"] = df[\"InvestorsName\"].str.replace(\",\",\"^\")\n",
    "d = {}\n",
    "for i in df[\"InvestorsName\"]:\n",
    "    if \"^\" in i:\n",
    "        j = i.strip().split('^')\n",
    "        for a in j:\n",
    "            d[a] = d.get(a,0) + 1\n",
    "    else:\n",
    "        d[i] = d.get(i,0) + 1\n",
    "d1 = sorted(d, key=d.get , reverse=True) \n",
    "print(d1[0],d[d1[0]])"
   ]
  },
  {
   "cell_type": "markdown",
   "metadata": {},
   "source": [
    "* Ques 8 :\n",
    "Your Friend has developed the Product and he wants to establish the product startup and he is searching for a perfect location where getting the investment has a high chance. But due to its financial restriction, he can choose only between three locations -  Bangalore, Mumbai, and NCR. As a friend, you want to help your friend deciding the location. NCR include Gurgaon, Noida and New Delhi. Find the location where the most number of funding is done. That means, find the location where startups has received funding maximum number of times. Plot the bar graph between location and number of funding. Take city name \"Delhi\" as \"New Delhi\". Check the case-sensitiveness of cities also. That means, at some place instead of \"Bangalore\", \"bangalore\" is given. Take city name as \"Bangalore\". For few startups multiple locations are given, one Indian and one Foreign. Consider the startup if any one of the city lies in given locations."
   ]
  },
  {
   "cell_type": "code",
   "execution_count": 8,
   "metadata": {},
   "outputs": [
    {
     "name": "stdout",
     "output_type": "stream",
     "text": [
      "Bangalore\n"
     ]
    },
    {
     "data": {
      "image/png": "[encoded data removed]",
      "text/plain": [
       "<Figure size 432x288 with 1 Axes>"
      ]
     },
     "metadata": {
      "needs_background": "light"
     },
     "output_type": "display_data"
    }
   ],
   "source": [
    "import pandas as pd\n",
    "import matplotlib.pyplot as plt\n",
    "startup = pd.read_csv(\"../input/startup_funding.csv\")  #reading data from startup_funding.csv file\n",
    "df = startup.copy()  #creating a copy of startup dataframe...\n",
    "\n",
    "df.dropna(subset = [\"CityLocation\"],inplace = True)  #removing row's having nan's in city location column\n",
    "df[\"CityLocation\"].replace(\"bangalore\",\"Bangalore\",inplace = True)  #replacing the wrong word with the correct one..\n",
    "df[\"CityLocation\"].replace(\"Delhi\",\"New Delhi\",inplace = True)\n",
    "\n",
    "d1 = {}   #dictionary to maintain the number of fundings in the provided locations...\n",
    "\n",
    "for i in df[\"CityLocation\"]: #traversing through all the locations and maintaining the number of times the provided locations fetched...using if else..\n",
    "    if \"Bangalore\" in i:\n",
    "        d1[\"Bangalore\"] = d1.get(\"Bangalore\",0) + 1  \n",
    "    elif \"Mumbai\" in i:\n",
    "        d1[\"Mumbai\"] = d1.get(\"Mumbai\",0) + 1\n",
    "    elif \"New Delhi\" in i:\n",
    "        d1[\"New Delhi\"] = d1.get(\"New Delhi\",0) + 1\n",
    "    elif \"Noida\" in i:\n",
    "        d1[\"Noida\"] = d1.get(\"Noida\",0) + 1\n",
    "    elif \"Gurgaon\" in i:\n",
    "        d1[\"Gurgaon\"] = d1.get(\"Gurgaon\",0) + 1\n",
    "        \n",
    "cities = sorted(d1, key=d1.get , reverse=True)   #sorting the keys in reverse order(descending to aescending) according to the values...\n",
    "fundings = []  \n",
    "\n",
    "for i in cities:  #traversing through the cities...and created a new list of values...in sorted format \n",
    "    fundings.append(d1[i])\n",
    "    \n",
    "print(cities[0]) #printing the location having most number of fundings\n",
    "\n",
    "plt.bar(cities,fundings,width = 0.5,color = \"red\" , edgecolor = \"yellow\")  #ploting the bar graph....cities vs no of fundings..\n",
    "plt.xlabel(\"Locations\")   #labeling x-axis\n",
    "plt.ylabel(\"Number of Fundings\")  #labeling y_axis\n",
    "plt.xticks(rotation = 40) #rotating names in x-axis\n",
    "plt.show()"
   ]
  },
  {
   "cell_type": "markdown",
   "metadata": {},
   "source": [
    "* Ques 9 :\n",
    "Even after trying for so many times, your friend’s startup could not find the investment. So you decided to take this matter in your hand and try to find the list of investors who probably can invest in your friend’s startup. Your list will increase the chance of your friend startup getting some initial investment by contacting these investors. Find the top 5 investors who have invested maximum number of times (consider repeat investments in one company also). In a startup, multiple investors might have invested. So consider each investor for that startup. Ignore undisclosed investors."
   ]
  },
  {
   "cell_type": "code",
   "execution_count": 9,
   "metadata": {},
   "outputs": [
    {
     "name": "stdout",
     "output_type": "stream",
     "text": [
      "Sequoia Capital\n",
      "Accel Partners\n",
      "Kalaari Capital\n",
      "SAIF Partners\n",
      "Indian Angel Network\n"
     ]
    }
   ],
   "source": [
    "import pandas as pd\n",
    "import matplotlib.pyplot as plt\n",
    "startup = pd.read_csv(\"../input/startup_funding.csv\")\n",
    "df = startup.copy()\n",
    "\n",
    "df.dropna(subset = [\"InvestorsName\"],inplace = True)  #removing row's having nan's in Investors name column..\n",
    "\n",
    "d = {}  #creating a dictionary to maintain the number of times the investors name appeared...\n",
    "for i in df[\"InvestorsName\"].values:  #traversing through the investor names..to see the number of times the names appeared..\n",
    "    if \",\" in i:  #if it contains multiple names ..then spliting it ..and traversing through each names separately..\n",
    "        for j in i.strip().split(','):\n",
    "            d[j.strip()] = d.get(j.strip(),0) + 1\n",
    "    else:\n",
    "        d[i.strip()] = d.get(i.strip(),0) + 1\n",
    "d1 = sorted(d, key=d.get , reverse=True)[0:5]  #sorting the keys in reverse order(descending to aescending) according to the values...\n",
    "for i in d1:  #printing the top 5 investors...funded maximum number of times...\n",
    "    print(i)"
   ]
  },
  {
   "cell_type": "markdown",
   "metadata": {},
   "source": [
    "* Ques 10 :\n",
    "After re-analysing the dataset you found out that some investors have invested in the same startup at different number of funding rounds. So before finalising the previous list, you want to improvise it by finding the top 5 investors who have invested in different number of startups. This list will be more helpful than your previous list in finding the investment for your friend startup. Find the top 5 investors who have invested maximum number of times in different companies. That means, if one investor has invested multiple times in one startup, count one for that company. There are many errors in startup names. Ignore correcting all, just handle the important ones - Ola, Flipkart, Oyo and Paytm."
   ]
  },
  {
   "cell_type": "code",
   "execution_count": 1,
   "metadata": {},
   "outputs": [
    {
     "name": "stdout",
     "output_type": "stream",
     "text": [
      "Sequoia Capital\n",
      "Accel Partners\n",
      "Kalaari Capital\n",
      "Indian Angel Network\n",
      "Blume Ventures\n"
     ]
    }
   ],
   "source": [
    "import pandas as pd\n",
    "import numpy as np\n",
    "import matplotlib.pyplot as plt\n",
    "startup = pd.read_csv(\"startup_funding.csv\")\n",
    "df = startup.copy()\n",
    "\n",
    "df.dropna(subset = [\"StartupName\",\"InvestorsName\"],inplace = True)  #removing row's having nan's in Investors name and startupnames columns..\n",
    "df[\"StartupName\"].replace(\"Flipkart.com\",\"Flipkart\",inplace = True)  #replacing the wrong word with the correct one..\n",
    "df[\"StartupName\"].replace(\"Ola Cabs\",\"Ola\",inplace = True)\n",
    "df[\"StartupName\"].replace(\"Olacabs\",\"Ola\",inplace = True)\n",
    "df[\"StartupName\"].replace(\"Oyorooms\",\"Oyo\",inplace = True)\n",
    "df[\"StartupName\"].replace(\"OyoRooms\",\"Oyo\",inplace = True)\n",
    "df[\"StartupName\"].replace(\"OYO Rooms\",\"Oyo\",inplace = True)\n",
    "df[\"StartupName\"].replace(\"Oyo Rooms\",\"Oyo\",inplace = True)\n",
    "df[\"StartupName\"].replace(\"Paytm Marketplace\",\"Paytm\",inplace = True)\n",
    "\n",
    "#firstly ...created a dictionary ...for each investor names ... maintained a set..means each key(investor's name) \n",
    "#having a value set(names of stratup's in which they invested)..\n",
    "#set is taken as a value to avoid count of multiple investment in a single startup by an investor...\n",
    "#in the set ..there are startup names in which investor's had invested...\n",
    "#in case there are multiple investors for a single startup...used split function to split that ..and \n",
    "#traversed through each name separately...\n",
    "d = {}\n",
    "for i in df.index:\n",
    "    e = df[\"InvestorsName\"][i].strip()\n",
    "    if \",\" in e:\n",
    "        for j in e.strip().split(','):\n",
    "            if j.strip() in d:\n",
    "                d[j.strip()].add(df[\"StartupName\"][i].strip())\n",
    "            else:\n",
    "                s = set()\n",
    "                d[j.strip()] = s\n",
    "                d[j.strip()].add(df[\"StartupName\"][i].strip())\n",
    "    else:\n",
    "        a = e.strip()\n",
    "        if a in d: \n",
    "            d[a].add(df[\"StartupName\"][i].strip())\n",
    "        else:\n",
    "            s = set()\n",
    "            d[a] = s\n",
    "            d[a].add(df[\"StartupName\"][i].strip())\n",
    "            \n",
    "d1 = {}  #created a dictionary where key is investor's name and value is count of startup's in which they had invested..\n",
    "for i in d:\n",
    "    if i == \"\":\n",
    "        continue\n",
    "    d1[i] = len(d[i])\n",
    "    \n",
    "d2 = sorted(d1, key=d1.get , reverse=True)[0:5]  #sorting the keys according to there values in descending order..and taking the top 5 investor's among all..\n",
    "for i in d2:\n",
    "    print(i)"
   ]
  },
  {
   "cell_type": "markdown",
   "metadata": {},
   "source": [
    "* Ques 11 :\n",
    "Even after putting so much effort in finding the probable investors, it didn't turn out to be helpful for your friend. So you went to your investor friend to understand the situation better and your investor friend explained to you about the different Investment Types and their features. This new information will be helpful in finding the right investor. Since your friend startup is at an early stage startup, the best-suited investment type would be - Seed Funding and Crowdfunding. Find the top 5 investors who have invested in a different number of startups and their investment type is Crowdfunding or Seed Funding. Correct spelling of investment types are - \"Private Equity\", \"Seed Funding\", \"Debt Funding\", and \"Crowd Funding\". Keep an eye for any spelling mistake. You can find this by printing unique values from this column. There are many errors in startup names. Ignore correcting all, just handle the important ones - Ola, Flipkart, Oyo and Paytm."
   ]
  },
  {
   "cell_type": "code",
   "execution_count": 11,
   "metadata": {},
   "outputs": [
    {
     "name": "stdout",
     "output_type": "stream",
     "text": [
      "Indian Angel Network\n",
      "Rajan Anandan\n",
      "LetsVenture\n",
      "Anupam Mittal\n",
      "Kunal Shah\n"
     ]
    }
   ],
   "source": [
    "import pandas as pd\n",
    "import numpy as np\n",
    "import matplotlib.pyplot as plt\n",
    "startup = pd.read_csv(\"../input/startup_funding.csv\")\n",
    "df = startup.copy()\n",
    "df.dropna(subset = [\"InvestorsName\"],inplace = True) #removing row's having nan's in Investors name column..\n",
    "df[\"InvestorsName\"].replace(\"Undisclosed Investors\",\"\",inplace = True) #replacing the undisclosed investors name by null values ..\n",
    "df[\"InvestorsName\"].replace(\"Undisclosed investors\",\"\",inplace = True)\n",
    "df = df[(df[\"InvestmentType\"] == \"Seed Funding\") | (df[\"InvestmentType\"] == \"Crowd Funding\")]  #keeping only those rows having investment type seed funding and crowd funding..\n",
    "\n",
    "d = {}  #creating a dictionary to maintain the number of times the investors name appeared...\n",
    "for i in df[\"InvestorsName\"].values:  #traversing through the investor names..to see the number of times the names appeared..\n",
    "    if \",\" in i:  #if it contains multiple names ..then spliting it ..and traversing through each names separately..\n",
    "        for j in i.strip().split(','):\n",
    "            d[j.strip()] = d.get(j.strip(),0) + 1\n",
    "    else:\n",
    "        d[i.strip()] = d.get(i.strip(),0) + 1\n",
    "        \n",
    "del d[\"\"] #deleting the NULL key from dictionary\n",
    "\n",
    "d1 = sorted(d, key=d.get , reverse=True)[0:5]  #sorting the keys according to there values in descending order..and taking the top 5 investor's among all..\n",
    "for i in d1:\n",
    "    print(i)"
   ]
  },
  {
   "cell_type": "markdown",
   "metadata": {},
   "source": [
    " * Ques 12 :\n",
    "Due to your immense help, your friend startup successfully got seed funding and it is on the operational mode. Now your friend wants to expand his startup and he is looking for new investors for his startup. Now you again come as a saviour to help your friend and want to create a list of probable new new investors. Before moving forward you remember your investor friend advice that finding the investors by analysing the investment type. Since your friend startup is not in early phase it is in growth stage so the best-suited investment type is Private Equity. Find the top 5 investors who have invested in a different number of startups and their investment type is Private Equity. Correct spelling of investment types are - \"Private Equity\", \"Seed Funding\", \"Debt Funding\", and \"Crowd Funding\". Keep an eye for any spelling mistake. You can find this by printing unique values from this column.There are many errors in startup names. Ignore correcting all, just handle the important ones - Ola, Flipkart, Oyo and Paytm."
   ]
  },
  {
   "cell_type": "code",
   "execution_count": 12,
   "metadata": {},
   "outputs": [
    {
     "name": "stdout",
     "output_type": "stream",
     "text": [
      "Sequoia Capital\n",
      "Accel Partners\n",
      "Kalaari Capital\n",
      "SAIF Partners\n",
      "Blume Ventures\n"
     ]
    }
   ],
   "source": [
    "import pandas as pd\n",
    "import numpy as np\n",
    "import matplotlib.pyplot as plt\n",
    "startup = pd.read_csv(\"../input/startup_funding.csv\")\n",
    "df = startup.copy()\n",
    "df.dropna(subset = [\"InvestorsName\"],inplace = True)  #removing row's having nan's in Investors name column..\n",
    "df[\"InvestorsName\"].replace(\"Undisclosed Investors\",\"\",inplace = True)  #replacing the undisclosed investors name by null values ..\n",
    "df[\"InvestorsName\"].replace(\"Undisclosed investors\",\"\",inplace = True)\n",
    "df = df[(df[\"InvestmentType\"] == \"Private Equity\")]  #keeping only those rows having investment type private equity..\n",
    "\n",
    "d = {}  #creating a dictionary to maintain the number of times the investors name appeared...\n",
    "for i in df[\"InvestorsName\"].values:  #traversing through the investor names..to see the number of times the names appeared..\n",
    "    if \",\" in i:  #if it contains multiple names ..then spliting it ..and traversing through each names separately..\n",
    "        for j in i.strip().split(','):\n",
    "            d[j.strip()] = d.get(j.strip(),0) + 1\n",
    "    else:\n",
    "        d[i.strip()] = d.get(i.strip(),0) + 1\n",
    "        \n",
    "del d[\"\"] #deleting the NULL key from dictionary\n",
    "\n",
    "d1 = sorted(d, key=d.get , reverse=True)[0:5]  #sorting the keys according to there values in descending order..and taking the top 5 investor's among all..\n",
    "for i in d1:\n",
    "    print(i)"
   ]
  }
 ],
 "metadata": {
  "kernelspec": {
   "display_name": "Python 3",
   "language": "python",
   "name": "python3"
  },
  "language_info": {
   "codemirror_mode": {
    "name": "ipython",
    "version": 3
   },
   "file_extension": ".py",
   "mimetype": "text/x-python",
   "name": "python",
   "nbconvert_exporter": "python",
   "pygments_lexer": "ipython3",
   "version": "3.7.4"
  }
 },
 "nbformat": 4,
 "nbformat_minor": 1
}
