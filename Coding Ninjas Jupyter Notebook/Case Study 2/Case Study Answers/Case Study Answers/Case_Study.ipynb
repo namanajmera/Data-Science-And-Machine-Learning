{
 "cells": [
  {
   "cell_type": "markdown",
   "metadata": {},
   "source": [
    "Your project will be evaluated on following parameters -\n",
    "\n",
    "Plots and graphs (Max Score 20)\n",
    "\n",
    "Justification (Max Score 20)\n",
    "\n",
    "Answer correctness (Max Score 10)\n"
   ]
  },
  {
   "cell_type": "markdown",
   "metadata": {},
   "source": [
    "Your Friend has developed the Product and he wants to establish the product startup and he is searching for a perfect location where getting the investment has a high chance. But due to its financial restriction, he can choose only between three locations -  Bangalore, Mumbai, and NCR. As a friend, you want to help your friend deciding the location. NCR include Gurgaon, Noida and New Delhi. Find the location where the most number of funding is done. That means, find the location where startups has received funding maximum number of times. Plot the bar graph between location and number of funding. Take city name \"Delhi\" as \"New Delhi\". Check the case-sensitiveness of cities also. That means, at some place instead of \"Bangalore\", \"bangalore\" is given. Take city name as \"Bangalore\". For few startups multiple locations are given, one Indian and one Foreign. Consider the startup if any one of the city lies in given locations."
   ]
  },
  {
   "cell_type": "code",
   "execution_count": 2,
   "metadata": {},
   "outputs": [
    {
     "name": "stdout",
     "output_type": "stream",
     "text": [
      "The location where startups has received funding maximum number of times:- \n",
      "Bangalore\n"
     ]
    },
    {
     "data": {
      "image/png": "[encoded data removed]",
      "text/plain": [
       "<Figure size 432x288 with 1 Axes>"
      ]
     },
     "metadata": {
      "needs_background": "light"
     },
     "output_type": "display_data"
    }
   ],
   "source": [
    "import pandas as pd\n",
    "import numpy as np\n",
    "import matplotlib.pyplot as plt\n",
    "\n",
    "#reading the csv file\n",
    "df=pd.read_csv(\"startup_funding.csv\") \n",
    "#removing the nan values\n",
    "df.dropna(subset=['CityLocation'],inplace=True)\n",
    "#replacing the case sensitive values of Bangalore\n",
    "df['CityLocation'].replace(\"bangalore\",\"Bangalore\",inplace=True)\n",
    "#replacing the Delhi to New Delhi\n",
    "df['CityLocation'].replace(\"Delhi\",\"New Delhi\")\n",
    "#create a series of city\n",
    "df_city=df['CityLocation']\n",
    "#empty dictonaries create\n",
    "city={}\n",
    "#transfer the 5 city name and there number of times funding in city dictonaries.\n",
    "for i in df_city:\n",
    "    if \"Bangalore\" in i:\n",
    "        city['Bangalore']=city.get('Bangalore',0)+1\n",
    "    elif \"Mumbai\" in i:\n",
    "        city['Mumbai']=city.get('Mumbai',0)+1\n",
    "    elif \"New Delhi\" in i:\n",
    "        city['New Delhi']=city.get('New Delhi',0)+1\n",
    "    elif \"Noida\" in i:\n",
    "        city['Noida']=city.get('Noida',0)+1\n",
    "    elif \"Gurgaon\" in i:\n",
    "        city['Gurgaon']=city.get('Gurgaon',0)+1\n",
    "#create a empty list\n",
    "X=[]\n",
    "Y=[]\n",
    "#Appending the key in X and Values in Y lists\n",
    "for i in city:\n",
    "    X.append(i)\n",
    "    Y.append(city[i])\n",
    "#Print the maximum number of funding in city\n",
    "print(\"The location where startups has received funding maximum number of times:- \")\n",
    "print(max(city,key=city.get))\n",
    "\n",
    "#ploting the Bar Graph\n",
    "plt.bar(X,Y,width=0.5,color='red')\n",
    "plt.xlabel(\"City\")\n",
    "plt.ylabel(\"Number of Funding\")\n",
    "plt.show()"
   ]
  },
  {
   "cell_type": "markdown",
   "metadata": {},
   "source": [
    "Even after trying for so many times, your friend’s startup could not find the investment. So you decided to take this matter in your hand and try to find the list of investors who probably can invest in your friend’s startup. Your list will increase the chance of your friend startup getting some initial investment by contacting these investors. Find the top 5 investors who have invested maximum number of times (consider repeat investments in one company also). In a startup, multiple investors might have invested. So consider each investor for that startup. Ignore undisclosed investors."
   ]
  },
  {
   "cell_type": "code",
   "execution_count": 3,
   "metadata": {},
   "outputs": [
    {
     "name": "stdout",
     "output_type": "stream",
     "text": [
      "Top 5 investors:- \n",
      "Sequoia Capital 64\n",
      "Accel Partners 53\n",
      "Kalaari Capital 44\n",
      "SAIF Partners 41\n",
      "Indian Angel Network 40\n"
     ]
    }
   ],
   "source": [
    "import pandas as pd\n",
    "import numpy as np\n",
    "import matplotlib.pyplot as plt\n",
    "from collections import Counter\n",
    "import csv\n",
    "\n",
    "#reading the csv file in file handling\n",
    "with open(\"startup_funding.csv\", encoding='utf8') as file_obj:\n",
    "    file_data=csv.DictReader(file_obj, skipinitialspace=True)\n",
    "    #empty list created\n",
    "    investors=[]\n",
    "    #transfer the all investors name in investors list by spliting by ','\n",
    "    for row in file_data:\n",
    "        for i in row['InvestorsName'].split(','):\n",
    "            investors.append(i.strip())\n",
    "    #create the empty dictonaries\n",
    "    invest={}\n",
    "    #transfer the data in key value pair where key is investor names and value is total times of investment \n",
    "    for i in investors:\n",
    "        if i in invest:\n",
    "            invest[i]+=1\n",
    "        else:\n",
    "            invest[i]=1\n",
    "    #removing the empty key and Undisclosed Investors\n",
    "    del invest['']\n",
    "    del invest['Undisclosed Investors']\n",
    "    del invest['Undisclosed investors']\n",
    "    #finding the top five investors using Counter rom Collection by most_common method.\n",
    "    max_invest=dict(Counter(invest).most_common(5))\n",
    "#printing the top five investors with respect to their number of times invesment.\n",
    "print('Top 5 investors:- ')\n",
    "for i in max_invest:\n",
    "    print(i,max_invest[i])"
   ]
  },
  {
   "cell_type": "markdown",
   "metadata": {},
   "source": [
    "After re-analysing the dataset you found out that some investors have invested in the same startup at different number of funding rounds. So before finalising the previous list, you want to improvise it by finding the top 5 investors who have invested in different number of startups. This list will be more helpful than your previous list in finding the investment for your friend startup. Find the top 5 investors who have invested maximum number of times in different companies. That means, if one investor has invested multiple times in one startup, count one for that company. There are many errors in startup names. Ignore correcting all, just handle the important ones - Ola, Flipkart, Oyo and Paytm."
   ]
  },
  {
   "cell_type": "code",
   "execution_count": 4,
   "metadata": {},
   "outputs": [
    {
     "name": "stdout",
     "output_type": "stream",
     "text": [
      "Top 5 investors:- \n",
      "Sequoia Capital\n",
      "Accel Partners\n",
      "Kalaari Capital\n",
      "Indian Angel Network\n",
      "Blume Ventures\n"
     ]
    }
   ],
   "source": [
    "import pandas as pd\n",
    "import numpy as np\n",
    "import matplotlib.pyplot as plt\n",
    "from collections import Counter\n",
    "\n",
    "df=pd.read_csv(\"startup_funding.csv\")\n",
    "#removing row's having nan's in Investors name and startupnames columns..\n",
    "df.dropna(subset = [\"StartupName\",\"InvestorsName\"],inplace = True)\n",
    "#replacing the wrong word with the correct one..\n",
    "df['StartupName'].replace('FlipKart.com','Flipkart',inplace=True)\n",
    "df[\"StartupName\"].replace(\"Ola Cabs\",\"Ola\",inplace = True)\n",
    "df[\"StartupName\"].replace(\"Olacabs\",\"Ola\",inplace = True)\n",
    "df[\"StartupName\"].replace(\"Oyorooms\",\"Oyo\",inplace = True)\n",
    "df[\"StartupName\"].replace(\"OyoRooms\",\"Oyo\",inplace = True)\n",
    "df[\"StartupName\"].replace(\"OYO Rooms\",\"Oyo\",inplace = True)\n",
    "df[\"StartupName\"].replace(\"Oyo Rooms\",\"Oyo\",inplace = True)\n",
    "df[\"StartupName\"].replace(\"Paytm Marketplace\",\"Paytm\",inplace = True)\n",
    "\n",
    "#firstly ...created a dictionary ...for each investor names ... maintained a set..means each key(investor's name) \n",
    "#having a value set(names of stratup's in which they invested)..\n",
    "#set is taken as a value to avoid count of multiple investment in a single startup by an investor...\n",
    "#in the set ..there are startup names in which investor's had invested...\n",
    "#in case there are multiple investors for a single startup...used split function to split that ..and \n",
    "#traversed through each name separately...\n",
    "\n",
    "d = {}\n",
    "for i in df.index:\n",
    "    e = df[\"InvestorsName\"][i].strip()\n",
    "    if \",\" in e:\n",
    "        for j in e.strip().split(','):\n",
    "            if j.strip() in d:\n",
    "                d[j.strip()].add(df[\"StartupName\"][i].strip())\n",
    "            else:\n",
    "                s = set()\n",
    "                d[j.strip()] = s\n",
    "                d[j.strip()].add(df[\"StartupName\"][i].strip())\n",
    "    else:\n",
    "        a = e.strip()\n",
    "        if a in d: \n",
    "            d[a].add(df[\"StartupName\"][i].strip())\n",
    "        else:\n",
    "            s = set()\n",
    "            d[a] = s\n",
    "            d[a].add(df[\"StartupName\"][i].strip())\n",
    "\n",
    "#created a dictionary where key is investor's name and value is count of startup's in which they had invested..\n",
    "d1 = {}\n",
    "for i in d:\n",
    "    if i == \"\":\n",
    "        continue\n",
    "    d1[i] = len(d[i])\n",
    "#Finding the top 5 investor name using counter.\n",
    "max_invest=dict(Counter(d1).most_common(5))\n",
    "print('Top 5 investors:- ')\n",
    "for i in max_invest:\n",
    "    print(i)"
   ]
  },
  {
   "cell_type": "markdown",
   "metadata": {},
   "source": [
    "Even after putting so much effort in finding the probable investors, it didn't turn out to be helpful for your friend. So you went to your investor friend to understand the situation better and your investor friend explained to you about the different Investment Types and their features. This new information will be helpful in finding the right investor. Since your friend startup is at an early stage startup, the best-suited investment type would be - Seed Funding and Crowdfunding. Find the top 5 investors who have invested in a different number of startups and their investment type is Crowdfunding or Seed Funding. Correct spelling of investment types are - \"Private Equity\", \"Seed Funding\", \"Debt Funding\", and \"Crowd Funding\". Keep an eye for any spelling mistake. You can find this by printing unique values from this column. There are many errors in startup names. Ignore correcting all, just handle the important ones - Ola, Flipkart, Oyo and Paytm."
   ]
  },
  {
   "cell_type": "code",
   "execution_count": 5,
   "metadata": {},
   "outputs": [
    {
     "name": "stdout",
     "output_type": "stream",
     "text": [
      "Top 5 investors:- \n",
      "Indian Angel Network\n",
      "Rajan Anandan\n",
      "LetsVenture\n",
      "Anupam Mittal\n",
      "Group of Angel Investors\n"
     ]
    }
   ],
   "source": [
    "import pandas as pd\n",
    "import numpy as np\n",
    "import matplotlib.pyplot as plt\n",
    "\n",
    "df=pd.read_csv(\"startup_funding.csv\")\n",
    "df.head()\n",
    "\n",
    "#Corrcting the name in Startup and Investment type\n",
    "df['StartupName'].replace('FlipKart.com','Flipkart',inplace=True)\n",
    "df[\"StartupName\"].replace(\"Ola Cabs\",\"Ola\",inplace = True)\n",
    "df[\"StartupName\"].replace(\"Olacabs\",\"Ola\",inplace = True)\n",
    "df[\"StartupName\"].replace(\"Oyorooms\",\"Oyo\",inplace = True)\n",
    "df[\"StartupName\"].replace(\"OyoRooms\",\"Oyo\",inplace = True)\n",
    "df[\"StartupName\"].replace(\"OYO Rooms\",\"Oyo\",inplace = True)\n",
    "df[\"StartupName\"].replace(\"Oyo Rooms\",\"Oyo\",inplace = True)\n",
    "df[\"StartupName\"].replace(\"Paytm Marketplace\",\"Paytm\",inplace = True)\n",
    "df[\"InvestmentType\"].replace(\"Crowd funding\",\"Crowd Funding\",inplace = True)\n",
    "df[\"InvestmentType\"].replace(\"SeedFunding\",\"Seed Funding\",inplace = True)\n",
    "\n",
    "#set the whole df where investment type is Seed and Crowd Funding\n",
    "df=df[(df['InvestmentType']==\"Seed Funding\")| (df['InvestmentType']==\"Crowd Funding\")]\n",
    "\n",
    "#removing the null values in Investors Name\n",
    "df.dropna(subset=['InvestorsName'],inplace=True)\n",
    "#create an empty dictonary\n",
    "investors={}\n",
    "\n",
    "#insert in dictonary of every investors by seperating the ','\n",
    "for i in df['InvestorsName'].values:\n",
    "    if \",\" in i:\n",
    "        for j in i.strip().split(','):\n",
    "            investors[j.strip()]=investors.get(j.strip(),0)+1\n",
    "    else:\n",
    "        investors[i.strip()]=investors.get(i.strip(),0)+1\n",
    "#deleting the empty key and Undiclosed investors\n",
    "del investors['']\n",
    "del investors['Undisclosed investors']\n",
    "del investors['Undisclosed Investors']\n",
    "\n",
    "#finding the top 5 investors using Counter\n",
    "max_invest=dict(Counter(investors).most_common(5))\n",
    "\n",
    "#printing the top 5 investors name\n",
    "print('Top 5 investors:- ')\n",
    "for i in max_invest:\n",
    "    print(i)"
   ]
  },
  {
   "cell_type": "markdown",
   "metadata": {},
   "source": [
    "Due to your immense help, your friend startup successfully got seed funding and it is on the operational mode. Now your friend wants to expand his startup and he is looking for new investors for his startup. Now you again come as a saviour to help your friend and want to create a list of probable new new investors. Before moving forward you remember your investor friend advice that finding the investors by analysing the investment type. Since your friend startup is not in early phase it is in growth stage so the best-suited investment type is Private Equity. Find the top 5 investors who have invested in a different number of startups and their investment type is Private Equity. Correct spelling of investment types are - \"Private Equity\", \"Seed Funding\", \"Debt Funding\", and \"Crowd Funding\". Keep an eye for any spelling mistake. You can find this by printing unique values from this column.There are many errors in startup names. Ignore correcting all, just handle the important ones - Ola, Flipkart, Oyo and Paytm."
   ]
  },
  {
   "cell_type": "code",
   "execution_count": 6,
   "metadata": {},
   "outputs": [
    {
     "name": "stdout",
     "output_type": "stream",
     "text": [
      "Top 5 investors:- \n",
      "Sequoia Capital\n",
      "Accel Partners\n",
      "Kalaari Capital\n",
      "SAIF Partners\n",
      "Blume Ventures\n"
     ]
    }
   ],
   "source": [
    "import pandas as pd\n",
    "import numpy as np\n",
    "import matplotlib.pyplot as plt\n",
    "\n",
    "df=pd.read_csv(\"startup_funding.csv\")\n",
    "df.head()\n",
    "\n",
    "#Corrcting the name in Startup and Investment type\n",
    "df['StartupName'].replace('FlipKart.com','Flipkart',inplace=True)\n",
    "df[\"StartupName\"].replace(\"Ola Cabs\",\"Ola\",inplace = True)\n",
    "df[\"StartupName\"].replace(\"Olacabs\",\"Ola\",inplace = True)\n",
    "df[\"StartupName\"].replace(\"Oyorooms\",\"Oyo\",inplace = True)\n",
    "df[\"StartupName\"].replace(\"OyoRooms\",\"Oyo\",inplace = True)\n",
    "df[\"StartupName\"].replace(\"OYO Rooms\",\"Oyo\",inplace = True)\n",
    "df[\"StartupName\"].replace(\"Oyo Rooms\",\"Oyo\",inplace = True)\n",
    "df[\"StartupName\"].replace(\"Paytm Marketplace\",\"Paytm\",inplace = True)\n",
    "df[\"InvestmentType\"].replace(\"PrivateEquity\",\"Private Equity\",inplace = True)\n",
    "\n",
    "#set the whole df where investment type is Seed and Crowd Funding\n",
    "df=df[(df['InvestmentType']==\"Private Equity\")]\n",
    "df.dropna(subset=['InvestorsName'],inplace=True)\n",
    "\n",
    "#create an empty dictonary\n",
    "investors={}\n",
    "\n",
    "#insert in dictonary of every investors by seperating the ','\n",
    "for i in df['InvestorsName'].values:\n",
    "    if \",\" in i:\n",
    "        for j in i.strip().split(','):\n",
    "            investors[j.strip()]=investors.get(j.strip(),0)+1\n",
    "    else:\n",
    "        investors[i.strip()]=investors.get(i.strip(),0)+1\n",
    "#deleting the empty key and Undiclosed investors\n",
    "del investors['']\n",
    "del investors['Undisclosed investors']\n",
    "del investors['Undisclosed Investors']\n",
    "\n",
    "#finding the top 5 investors using Counter\n",
    "max_invest=dict(Counter(investors).most_common(5))\n",
    "\n",
    "#printing the top 5 investors name\n",
    "print('Top 5 investors:- ')\n",
    "for i in max_invest:\n",
    "    print(i)"
   ]
  },
  {
   "cell_type": "code",
   "execution_count": null,
   "metadata": {},
   "outputs": [],
   "source": []
  }
 ],
 "metadata": {
  "kernelspec": {
   "display_name": "Python 3",
   "language": "python",
   "name": "python3"
  },
  "language_info": {
   "codemirror_mode": {
    "name": "ipython",
    "version": 3
   },
   "file_extension": ".py",
   "mimetype": "text/x-python",
   "name": "python",
   "nbconvert_exporter": "python",
   "pygments_lexer": "ipython3",
   "version": "3.7.4"
  }
 },
 "nbformat": 4,
 "nbformat_minor": 2
}
