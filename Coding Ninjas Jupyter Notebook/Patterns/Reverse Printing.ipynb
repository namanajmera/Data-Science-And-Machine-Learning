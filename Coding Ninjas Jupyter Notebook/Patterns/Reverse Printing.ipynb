{
 "cells": [
  {
   "cell_type": "code",
   "execution_count": 4,
   "metadata": {},
   "outputs": [
    {
     "name": "stdout",
     "output_type": "stream",
     "text": [
      "4\n",
      "   *\n",
      "  **\n",
      " ***\n",
      "****\n"
     ]
    }
   ],
   "source": [
    "n=int(input())\n",
    "i=1\n",
    "while i<=n:\n",
    "    j=1\n",
    "    k=1\n",
    "    while j<=n-i:\n",
    "        print(' ',end='')\n",
    "        j=j+1\n",
    "    while k<=i:\n",
    "        print(\"*\",end='')\n",
    "        k=k+1\n",
    "    print()\n",
    "    i=i+1"
   ]
  },
  {
   "cell_type": "code",
   "execution_count": 6,
   "metadata": {},
   "outputs": [
    {
     "name": "stdout",
     "output_type": "stream",
     "text": [
      "4\n",
      "   1\n",
      "  12\n",
      " 123\n",
      "1234\n"
     ]
    }
   ],
   "source": [
    "n=int(input())\n",
    "i=1\n",
    "while i<=n:\n",
    "    j=1\n",
    "    k=1\n",
    "    count=1\n",
    "    while j<=n-i:\n",
    "        print(' ',end='')\n",
    "        j=j+1\n",
    "    while k<=i:\n",
    "        print(count,end='')\n",
    "        k=k+1\n",
    "        count=count+1\n",
    "    print()\n",
    "    i=i+1"
   ]
  },
  {
   "cell_type": "code",
   "execution_count": 14,
   "metadata": {},
   "outputs": [
    {
     "name": "stdout",
     "output_type": "stream",
     "text": [
      "5\n",
      "    1\n",
      "   121\n",
      "  12321\n",
      " 1234321\n",
      "123454321\n"
     ]
    }
   ],
   "source": [
    "n=int(input())\n",
    "i=1\n",
    "while i<=n:\n",
    "    s=1\n",
    "    inc=1\n",
    "    count=1\n",
    "    while s<=n-i:\n",
    "        print(' ',end='')\n",
    "        s=s+1\n",
    "    while inc<=i:\n",
    "        print(count,end='')\n",
    "        inc=inc+1\n",
    "        count=count+1\n",
    "    dec=2\n",
    "    count=i-1\n",
    "    while dec<=i+1-1:\n",
    "        print(count,end='')\n",
    "        dec=dec+1\n",
    "        count=count-1\n",
    "    print()\n",
    "    i=i+1"
   ]
  },
  {
   "cell_type": "code",
   "execution_count": 15,
   "metadata": {},
   "outputs": [
    {
     "name": "stdout",
     "output_type": "stream",
     "text": [
      "4\n",
      "   1\n",
      "  121\n",
      " 12321\n",
      "1234321\n"
     ]
    }
   ],
   "source": [
    "n=int(input())\n",
    "i=1\n",
    "while i<=n:\n",
    "    s=1\n",
    "    inc=1\n",
    "    count=1\n",
    "    while s<=n-i:\n",
    "        print(' ',end='')\n",
    "        s=s+1\n",
    "    while inc<=i:\n",
    "        print(count,end='')\n",
    "        inc=inc+1\n",
    "        count=count+1\n",
    "    count=i-1\n",
    "    while count>=1:\n",
    "        print(count,end='')\n",
    "        count=count-1\n",
    "    print()\n",
    "    i=i+1"
   ]
  },
  {
   "cell_type": "code",
   "execution_count": null,
   "metadata": {},
   "outputs": [],
   "source": []
  },
  {
   "cell_type": "code",
   "execution_count": 20,
   "metadata": {},
   "outputs": [
    {
     "name": "stdout",
     "output_type": "stream",
     "text": [
      "4\n",
      "   *\n",
      "  ***\n",
      " *****\n",
      "*******\n"
     ]
    }
   ],
   "source": [
    "n=int(input())\n",
    "i=1\n",
    "while i<=n:\n",
    "    s=1\n",
    "    inc=1\n",
    "    while s<=n-i:\n",
    "        print(' ',end='')\n",
    "        s=s+1\n",
    "    while inc<=i:\n",
    "        print(\"*\",end='')\n",
    "        inc=inc+1\n",
    "    count=i-1\n",
    "    while count>=1:\n",
    "        print(\"*\",end='')\n",
    "        count=count-1\n",
    "    print()\n",
    "    i=i+1"
   ]
  },
  {
   "cell_type": "code",
   "execution_count": 33,
   "metadata": {},
   "outputs": [
    {
     "name": "stdout",
     "output_type": "stream",
     "text": [
      "4\n",
      "   1\n",
      "  232\n",
      " 34543\n",
      "4567654\n"
     ]
    }
   ],
   "source": [
    "n=int(input())\n",
    "i=1\n",
    "while i<=n:\n",
    "    j=1\n",
    "    while j<=n-i:\n",
    "        print(' ',end='')\n",
    "        j=j+1\n",
    "    k=1\n",
    "    count=i\n",
    "    while k<=i:\n",
    "        print(count,end='')\n",
    "        count=count+1\n",
    "        k=k+1\n",
    "    dec=i-1\n",
    "    count=i*2-2\n",
    "    while dec>=1:\n",
    "        print(count,end='')\n",
    "        dec=dec-1\n",
    "        count=count-1\n",
    "    print()\n",
    "    i=i+1"
   ]
  },
  {
   "cell_type": "code",
   "execution_count": 44,
   "metadata": {},
   "outputs": [
    {
     "name": "stdout",
     "output_type": "stream",
     "text": [
      "5\n",
      "    *\n",
      "   ***\n",
      "  *****\n",
      " *******\n",
      "*********\n"
     ]
    }
   ],
   "source": [
    "n=int(input())\n",
    "i=1\n",
    "while i<=n:\n",
    "    s=1\n",
    "    inc=1\n",
    "    while s<=n-i:\n",
    "        print(' ',end='')\n",
    "        s=s+1\n",
    "    while inc<=i:\n",
    "        print(\"*\",end='')\n",
    "        inc=inc+1 \n",
    "    count=i-1\n",
    "    while count>=1:\n",
    "        print(\"*\",end='')\n",
    "        count=count-1\n",
    "    print()\n",
    "    i=i+1"
   ]
  },
  {
   "cell_type": "code",
   "execution_count": 61,
   "metadata": {},
   "outputs": [
    {
     "name": "stdout",
     "output_type": "stream",
     "text": [
      "2\n",
      "**\n",
      " *\n"
     ]
    }
   ],
   "source": [
    "n=int(input())\n",
    "i=1\n",
    "while i<=n:\n",
    "    j=1\n",
    "    while j<=i-1:\n",
    "        print(' ',end='')\n",
    "        j=j+1\n",
    "    k=1\n",
    "    while k<=n-i+1:\n",
    "        print(\"*\",end='')\n",
    "        k=k+1\n",
    "    print()\n",
    "    i=i+1"
   ]
  },
  {
   "cell_type": "code",
   "execution_count": 70,
   "metadata": {},
   "outputs": [
    {
     "name": "stdout",
     "output_type": "stream",
     "text": [
      "2\n",
      "**\n",
      "*\n"
     ]
    }
   ],
   "source": [
    "n=int(input())\n",
    "i=1\n",
    "while i<=n:\n",
    "    j=1\n",
    "    while j<=n-i+1:\n",
    "        print(\"*\",end='')\n",
    "        j=j+1\n",
    "    print()\n",
    "    i=i+1"
   ]
  },
  {
   "cell_type": "code",
   "execution_count": 74,
   "metadata": {},
   "outputs": [
    {
     "name": "stdout",
     "output_type": "stream",
     "text": [
      "3\n",
      " *\n",
      "***\n",
      " *\n"
     ]
    }
   ],
   "source": [
    "n=int(input())\n",
    "i=1\n",
    "m=(n//2)+1\n",
    "while i<=m:\n",
    "    j=1\n",
    "    while j<=m-i:\n",
    "        print(' ',end='')\n",
    "        j=j+1\n",
    "    k=1\n",
    "    while k<=i:\n",
    "        print('*',end='')\n",
    "        k=k+1\n",
    "    p=i-1\n",
    "    while p>=1:\n",
    "        print('*',end='')\n",
    "        p=p-1\n",
    "    print()\n",
    "    i=i+1\n",
    "s=n-m\n",
    "a=1\n",
    "while a<=s:\n",
    "    b=1\n",
    "    while b<=a:\n",
    "        print(' ',end='')\n",
    "        b=b+1\n",
    "    c=1\n",
    "    while c<=s-a+1:\n",
    "        print(\"*\",end='')\n",
    "        c=c+1\n",
    "    d=a\n",
    "    while d<=s-1:\n",
    "        print(\"*\",end='')\n",
    "        d=d+1\n",
    "    print()\n",
    "    a=a+1"
   ]
  },
  {
   "cell_type": "code",
   "execution_count": null,
   "metadata": {},
   "outputs": [],
   "source": []
  },
  {
   "cell_type": "code",
   "execution_count": null,
   "metadata": {},
   "outputs": [],
   "source": []
  }
 ],
 "metadata": {
  "kernelspec": {
   "display_name": "Python 3",
   "language": "python",
   "name": "python3"
  },
  "language_info": {
   "codemirror_mode": {
    "name": "ipython",
    "version": 3
   },
   "file_extension": ".py",
   "mimetype": "text/x-python",
   "name": "python",
   "nbconvert_exporter": "python",
   "pygments_lexer": "ipython3",
   "version": "3.7.4"
  }
 },
 "nbformat": 4,
 "nbformat_minor": 2
}
