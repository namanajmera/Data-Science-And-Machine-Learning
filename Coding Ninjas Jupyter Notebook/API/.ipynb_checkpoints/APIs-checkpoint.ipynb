{
 "cells": [
  {
   "cell_type": "code",
   "execution_count": 9,
   "metadata": {},
   "outputs": [],
   "source": [
    "import requests\n",
    "\n",
    "#for maiking the api call\n",
    "response=requests.get(\"http://codingninjas.in/api/v3/courses\")"
   ]
  },
  {
   "cell_type": "code",
   "execution_count": 2,
   "metadata": {},
   "outputs": [
    {
     "name": "stdout",
     "output_type": "stream",
     "text": [
      "200\n"
     ]
    }
   ],
   "source": [
    "#check the api is successful or not\n",
    "#200|2xx-Successfull\n",
    "#404|4xx-fail\n",
    "print(response.status_code)"
   ]
  },
  {
   "cell_type": "code",
   "execution_count": 3,
   "metadata": {},
   "outputs": [
    {
     "name": "stdout",
     "output_type": "stream",
     "text": [
      "None\n"
     ]
    }
   ],
   "source": [
    "#encoding-show the encoding format\n",
    "print(response.encoding)"
   ]
  },
  {
   "cell_type": "code",
   "execution_count": 4,
   "metadata": {},
   "outputs": [
    {
     "name": "stdout",
     "output_type": "stream",
     "text": [
      "{\"data\":{\"courses\":[{\"id\":16,\"title\":\"Competitive Programmer\",\"online_title\":\"online-competitive-programming-track\",\"offline_title\":\"\",\"name\":\"Ninja Competitive Programmer Track\",\"level\":\"Career Tracks\",\"brief_intro\":\"Competitive Track\",\"preview_image_url\":\"https://files.codingninjas.in/0000000000001177.png\",\"available_online\":true,\"available_offline\":false,\"is_career_track\":true,\"course_group_id\":3,\"classroom_icon_url\":\"https://files.codingninjas.in/0000000000003775.png\"},{\"id\":34,\"title\":\"Front End (React)\",\"online_title\":\"online-web-dev-with-react\",\"offline_title\":\"\",\"name\":\"Advanced  Front-End Web Development with React\",\"level\":\"Development Courses\",\"brief_intro\":\"Advanced  Front-End Web Development with React\",\"preview_image_url\":\"https://ninjasfiles.s3.amazonaws.com/0000000000001179.png\",\"available_online\":true,\"available_offline\":false,\"is_career_track\":false,\"course_group_id\":2,\"classroom_icon_url\":\"https://files.codingninjas.in/0000000000003769.png\"},{\"id\":1,\"title\":\"C++ \\u0026 Data Structures\",\"online_title\":\"onlline-c-plus-plus-course\",\"offline_title\":\"classroom-c-plus-plus-course\",\"name\":\"C++ Foundation with Data Structures\",\"level\":\"Foundation Courses\",\"brief_intro\":\"Brief Intro\",\"preview_image_url\":\"https://files.codingninjas.in/0000000000001176.png\",\"available_online\":true,\"available_offline\":false,\"is_career_track\":false,\"course_group_id\":1,\"classroom_icon_url\":\"https://files.codingninjas.in/0000000000003771.png\"},{\"id\":6,\"title\":\"Machine Learning\",\"online_title\":\"online-machine-learning-course\",\"offline_title\":\"classroom-machine-learning-course\",\"name\":\"Machine Learning \\u0026 Deep Learning Course\",\"level\":\"Advanced Courses\",\"brief_intro\":\"Machine learning engineers build, implement, and maintain machine learning systems in technology products.\",\"preview_image_url\":\"https://ninjasfiles.s3.amazonaws.com/0000000000001181.png\",\"available_online\":true,\"available_offline\":false,\"is_career_track\":false,\"course_group_id\":2,\"classroom_icon_url\":\"https://files.codingninjas.in/0000000000003766.png\"},{\"id\":12,\"title\":\"Web Dev (Full Stack)\",\"online_title\":\"online-full-stack-node-js-web-dev-course\",\"offline_title\":\"\",\"name\":\"Full Stack Web Development\",\"level\":\"Development Courses\",\"brief_intro\":\"Web Development\",\"preview_image_url\":\"https://ninjasfiles.s3.amazonaws.com/0000000000001179.png\",\"available_online\":true,\"available_offline\":false,\"is_career_track\":false,\"course_group_id\":2,\"classroom_icon_url\":\"https://files.codingninjas.in/0000000000003764.png\"},{\"id\":2,\"title\":\"Java \\u0026 Data Structures\",\"online_title\":\"online-java-course\",\"offline_title\":\"classroom-java-course\",\"name\":\"JAVA Foundation with Data Structures\",\"level\":\"Foundation Courses\",\"brief_intro\":\"Brief Intro\",\"preview_image_url\":\"https://ninjasfiles.s3.amazonaws.com/0000000000001255.png\",\"available_online\":true,\"available_offline\":false,\"is_career_track\":false,\"course_group_id\":1,\"classroom_icon_url\":\"https://files.codingninjas.in/0000000000003772.png\"},{\"id\":35,\"title\":\"Android Developer\",\"online_title\":\"online-android-development-career-track\",\"offline_title\":\"\",\"name\":\"Ninja Android Developer Career Track \",\"level\":\"Career Tracks\",\"brief_intro\":\"beginner to pro Android Developer!\",\"preview_image_url\":\"https://ninjasfiles.s3.amazonaws.com/0000000000001175.png\",\"available_online\":true,\"available_offline\":false,\"is_career_track\":true,\"course_group_id\":3,\"classroom_icon_url\":\"https://files.codingninjas.in/0000000000003774.png\"},{\"id\":36,\"title\":\"Python \\u0026 Web Dev (MERN)\",\"online_title\":\"ninja-web-developer-career-track-mern-stack\",\"offline_title\":\"\",\"name\":\"Ninja  Web Developer Career Track - NodeJS \\u0026 ReactJs\",\"level\":\"Career Tracks\",\"brief_intro\":\"Programming foundation + MERN Stack Web Development complete Career Track\",\"preview_image_url\":\"https://ninjasfiles.s3.amazonaws.com/0000000000001179.png\",\"available_online\":true,\"available_offline\":false,\"is_career_track\":true,\"course_group_id\":3,\"classroom_icon_url\":\"https://files.codingninjas.in/0000000000003777.png\"},{\"id\":13,\"title\":\"Data Science\",\"online_title\":\"online-data-science-course\",\"offline_title\":\"\",\"name\":\"Data Science \\u0026 Machine Learning Complete\",\"level\":\"Advanced Courses\",\"brief_intro\":\"Brief Intro\",\"preview_image_url\":\"https://ninjasfiles.s3.amazonaws.com/0000000000001371.png\",\"available_online\":true,\"available_offline\":false,\"is_career_track\":false,\"course_group_id\":2,\"classroom_icon_url\":\"https://files.codingninjas.in/0000000000003763.png\"},{\"id\":4,\"title\":\"Interview Preperation\",\"online_title\":\"online-interview-preparation\",\"offline_title\":\"classroom-interview-preparation\",\"name\":\"Interview Preparation Course\",\"level\":\"Advanced Courses\",\"brief_intro\":\"Brief Intro\",\"preview_image_url\":\"https://ninjasfiles.s3.amazonaws.com/0000000000001178.png\",\"available_online\":true,\"available_offline\":false,\"is_career_track\":false,\"course_group_id\":1,\"classroom_icon_url\":\"https://files.codingninjas.in/0000000000003765.png\"},{\"id\":10,\"title\":\"Competitive Programming\",\"online_title\":\"online-competitive-programming-course\",\"offline_title\":\"\",\"name\":\"Competitive Programming Course\",\"level\":\"Advanced Courses\",\"brief_intro\":\"Eminence\",\"preview_image_url\":\"https://ninjasfiles.s3.amazonaws.com/0000000000001177.png\",\"available_online\":true,\"available_offline\":false,\"is_career_track\":false,\"course_group_id\":1,\"classroom_icon_url\":\"https://files.codingninjas.in/0000000000003762.png\"},{\"id\":17,\"title\":\"C++ \\u0026 Web Dev (Node.js)\",\"online_title\":\"web-developer-career-track\",\"offline_title\":\"\",\"name\":\"Ninja  Web Developer Career Track - NodeJS\",\"level\":\"Career Tracks\",\"brief_intro\":\"Programming foundation + Full Stack Web Development Career Track\",\"preview_image_url\":\"https://ninjasfiles.s3.amazonaws.com/0000000000001179.png\",\"available_online\":true,\"available_offline\":false,\"is_career_track\":true,\"course_group_id\":3,\"classroom_icon_url\":\"https://files.codingninjas.in/0000000000003777.png\"},{\"id\":18,\"title\":\"Data Scientist\",\"online_title\":\"data-Scientist-career-track\",\"offline_title\":\"\",\"name\":\"Ninja Data Scientist Career Track\",\"level\":\"Career Tracks\",\"brief_intro\":\"Programming foundation + Data Science with ML career track\",\"preview_image_url\":\"https://ninjasfiles.s3.amazonaws.com/0000000000001371.png\",\"available_online\":true,\"available_offline\":false,\"is_career_track\":true,\"course_group_id\":3,\"classroom_icon_url\":\"https://files.codingninjas.in/0000000000003778.png\"},{\"id\":11,\"title\":\"Python \\u0026 Data Structures\",\"online_title\":\"online-python-course\",\"offline_title\":\"offline-python-course\",\"name\":\"Python Foundation with Data Structures\",\"level\":\"Foundation Courses\",\"brief_intro\":\"Python Foundation\",\"preview_image_url\":\"https://ninjasfiles.s3.amazonaws.com/0000000000001282.png\",\"available_online\":true,\"available_offline\":false,\"is_career_track\":false,\"course_group_id\":1,\"classroom_icon_url\":\"https://files.codingninjas.in/0000000000003773.png\"},{\"id\":33,\"title\":\"Android (Kotlin)\",\"online_title\":\"online-android-Development-kotlin\",\"offline_title\":\"\",\"name\":\"Android Development with Kotlin\",\"level\":\"Development Courses\",\"brief_intro\":\"Android Development Kotlin\",\"preview_image_url\":\"https://ninjasfiles.s3.amazonaws.com/0000000000001175.png\",\"available_online\":true,\"available_offline\":false,\"is_career_track\":false,\"course_group_id\":2,\"classroom_icon_url\":\"https://files.codingninjas.in/0000000000003761.png\"},{\"id\":21,\"title\":\"Aptitude Preparation\",\"online_title\":\"online-aptitude-preparation\",\"offline_title\":\"\",\"name\":\"Aptitude Preparation Course\",\"level\":\"Foundation Courses\",\"brief_intro\":\"Brief Intro\",\"preview_image_url\":\"https://ninjasfiles.s3.amazonaws.com/0000000000001178.png\",\"available_online\":true,\"available_offline\":false,\"is_career_track\":false,\"course_group_id\":1,\"classroom_icon_url\":\"https://files.codingninjas.in/0000000000003770.png\"},{\"id\":19,\"title\":\"Machine Learning\",\"online_title\":\"machine-learning-engineer-career-track\",\"offline_title\":\"\",\"name\":\"Ninja Machine Learning Engineer Career Track\",\"level\":\"Career Tracks\",\"brief_intro\":\"Programming foundation + Machine Learning career track\",\"preview_image_url\":\"https://ninjasfiles.s3.amazonaws.com/0000000000001181.png\",\"available_online\":true,\"available_offline\":false,\"is_career_track\":true,\"course_group_id\":3,\"classroom_icon_url\":\"https://files.codingninjas.in/0000000000003776.png\"}],\"course_groups\":[{\"id\":1,\"name\":\"Foundation, Algorithmic \\u0026 Advanced\",\"order\":1,\"course_ids\":[1,2,4,10,11,21],\"json_data\":{\"color\":\"#FFEBC2\",\"image_link\":\"https://ninjasfiles.s3.amazonaws.com/0000000000003821.png\",\"text_color\":\"#AC933C\",\"short_description\":\"Foundation courses are designed such that \\u003cstrong\\u003eno prerequisites are required.\\u003c/strong\\u003e Data Structures(DS) and Algorithms(algo.) parts build on the basics to give you a \\u003cstrong\\u003esolid programming foundation\\u003c/strong\\u003e. Competitive is where you start to \\u003cstrong\\u003epush the boundaries!\\u003c/strong\\u003e\",\"mobile_short_description\":\"Foundation courses are designed such that \\u003cspan\\u003eno prerequisites are required.\\u003c/span\\u003e\"},\"is_independent\":false},{\"id\":2,\"name\":\"Data \\u0026 Development\",\"order\":2,\"course_ids\":[34,6,12,13,33],\"json_data\":{\"color\":\"#80D4B1\",\"image_link\":\"https://files.codingninjas.in/0000000000003846.svg\",\"text_color\":\"#257D68\",\"short_description\":\"Data courses dwell in the state of the art algorithms and require good knowledge of programming fundamentals. Web development courses use modern JavaScript to build powerful and fast applications from the ground up. \\u003cstrong\\u003eNo prior development experience needed\\u003c/strong\\u003e\",\"mobile_short_description\":\"Data courses dwell in the state of the art algorithms and require good knowledge of programming fundamentals. Web development courses use modern JavaScript to build powerful and fast applications from the ground up. \\u003cspan\\u003eNo prior development experience needed\\u003c/span\\u003e\"},\"is_independent\":false},{\"id\":3,\"name\":\"Career Track\",\"order\":3,\"course_ids\":[16,35,36,17,18,19],\"json_data\":{\"color\":\"#C898FF\",\"image_link\":\"https://files.codingninjas.in/0000000000003845.svg\",\"text_color\":\"#603CAC\",\"short_description\":\"These are courses that take you from \\u003cstrong\\u003ezero to hero\\u003c/strong\\u003e. Each track is designed specifically to cater to a particular goal you can choose and \\u003cstrong\\u003ecovers everything you need to learn and assumes no prior knowledge.\\u003c/strong\\u003e\",\"mobile_short_description\":\"Each track is designed specifically to cater to a particular goal you can choose and \\u003cspan\\u003ecovers everything you need to learn and assumes no prior knowledge.\\u003c/span\\u003e\"},\"is_independent\":true}]},\"message\":\"Courses\",\"status\":200,\"error\":null,\"disabled\":false,\"update\":false,\"external_rating\":null}\n"
     ]
    }
   ],
   "source": [
    "#text-return the result in text format.\n",
    "print(response.text)"
   ]
  },
  {
   "cell_type": "code",
   "execution_count": 5,
   "metadata": {},
   "outputs": [
    {
     "name": "stdout",
     "output_type": "stream",
     "text": [
      "https://codingninjas.in/api/v3/courses\n"
     ]
    }
   ],
   "source": [
    "print(response.url)"
   ]
  },
  {
   "cell_type": "code",
   "execution_count": 6,
   "metadata": {},
   "outputs": [
    {
     "name": "stdout",
     "output_type": "stream",
     "text": [
      "{'Date': 'Mon, 23 Nov 2020 06:32:40 GMT', 'Content-Type': 'application/json', 'Transfer-Encoding': 'chunked', 'Connection': 'keep-alive', 'Server': 'nginx', 'X-Frame-Options': 'SAMEORIGIN', 'X-XSS-Protection': '1; mode=block', 'X-Content-Type-Options': 'nosniff', 'Access-Control-Allow-Origin': '*', 'Access-Control-Allow-Methods': 'POST, GET, PATCH, PUT, DELETE, OPTIONS', 'Access-Control-Allow-Headers': 'Access-Control-Allow-Headers, Origin,Accept, X-Requested-With, Content-Type, Access-Control-Request-Method, Access-Control-Request-Headers, Authorization', 'Access-Control-Max-Age': '1728000', 'Vary': 'Accept-Encoding', 'Content-Encoding': 'gzip', 'ETag': 'W/\"d12429386a25d9bc0e8420bcf9a81dea\"', 'Cache-Control': 'max-age=0, private, must-revalidate', 'X-Request-Id': '77f11352-4305-4dda-b944-c476cb2be93b', 'X-Runtime': '0.039882', 'Strict-Transport-Security': 'max-age=31536000; includeSubDomains;'}\n"
     ]
    }
   ],
   "source": [
    "print(response.headers)"
   ]
  },
  {
   "cell_type": "code",
   "execution_count": 7,
   "metadata": {},
   "outputs": [
    {
     "name": "stdout",
     "output_type": "stream",
     "text": [
      "application/json\n"
     ]
    }
   ],
   "source": [
    "print(response.headers['Content-Type'])"
   ]
  },
  {
   "cell_type": "code",
   "execution_count": 8,
   "metadata": {},
   "outputs": [
    {
     "name": "stdout",
     "output_type": "stream",
     "text": [
      "Mon, 23 Nov 2020 06:32:40 GMT\n"
     ]
    }
   ],
   "source": [
    "print(response.headers['Date'])"
   ]
  },
  {
   "cell_type": "code",
   "execution_count": 22,
   "metadata": {},
   "outputs": [],
   "source": [
    "new=requests.get(\"http://api.open-notify.org/iss-now.json\")"
   ]
  },
  {
   "cell_type": "code",
   "execution_count": 23,
   "metadata": {},
   "outputs": [
    {
     "name": "stdout",
     "output_type": "stream",
     "text": [
      "200\n"
     ]
    }
   ],
   "source": [
    "print(new.status_code)"
   ]
  },
  {
   "cell_type": "code",
   "execution_count": 1,
   "metadata": {},
   "outputs": [
    {
     "name": "stdout",
     "output_type": "stream",
     "text": [
      "application/json\n"
     ]
    }
   ],
   "source": [
    "import requests\n",
    "\n",
    "res=requests.get(\"https://codingninjas.in/api/v3/events\")\n",
    "print(res.headers['content-type'])"
   ]
  },
  {
   "cell_type": "code",
   "execution_count": 2,
   "metadata": {},
   "outputs": [],
   "source": [
    "import requests\n",
    "\n",
    "#for maiking the api call\n",
    "response=requests.get(\"http://codingninjas.in/api/v3/courses\")"
   ]
  },
  {
   "cell_type": "code",
   "execution_count": 3,
   "metadata": {},
   "outputs": [
    {
     "name": "stdout",
     "output_type": "stream",
     "text": [
      "{\"Student\":\"Mohit\"}\n",
      "{'Student': 'Mohit'}\n",
      "<class 'str'>\n",
      "<class 'dict'>\n",
      "Mohit\n"
     ]
    }
   ],
   "source": [
    "import json\n",
    "\n",
    "json_data='{\"Student\":\"Mohit\"}'\n",
    "python_data=json.loads(json_data)\n",
    "print(json_data)\n",
    "print(python_data)\n",
    "print(type(json_data))\n",
    "print(type(python_data))\n",
    "print(python_data['Student'])"
   ]
  },
  {
   "cell_type": "code",
   "execution_count": 4,
   "metadata": {},
   "outputs": [
    {
     "name": "stdout",
     "output_type": "stream",
     "text": [
      "101\n"
     ]
    }
   ],
   "source": [
    "#for number int\n",
    "\n",
    "json_data='{\"roll_number\":101}'\n",
    "python_data=json.loads(json_data)\n",
    "print(python_data['roll_number'])"
   ]
  },
  {
   "cell_type": "code",
   "execution_count": 6,
   "metadata": {},
   "outputs": [
    {
     "name": "stdout",
     "output_type": "stream",
     "text": [
      "101.2\n"
     ]
    }
   ],
   "source": [
    "#for number float\n",
    "\n",
    "json_data='{\"marks\":101.2}'\n",
    "python_data=json.loads(json_data)\n",
    "print(python_data['marks'])"
   ]
  },
  {
   "cell_type": "code",
   "execution_count": 10,
   "metadata": {},
   "outputs": [
    {
     "name": "stdout",
     "output_type": "stream",
     "text": [
      "Naman\n",
      "101\n"
     ]
    }
   ],
   "source": [
    "#for object \n",
    "\n",
    "json_data='{\"Student\": {\"Name\":\"Naman\",\"roll_number\":101}}'\n",
    "python_data=json.loads(json_data)\n",
    "student_details=python_data['Student']\n",
    "print(student_details['Name'])\n",
    "print(student_details['roll_number'])"
   ]
  },
  {
   "cell_type": "code",
   "execution_count": 14,
   "metadata": {},
   "outputs": [
    {
     "name": "stdout",
     "output_type": "stream",
     "text": [
      "['Apple', 'Orange', 'Mango', 'Guava']\n",
      "<class 'dict'>\n",
      "<class 'list'>\n",
      "Apple\n",
      "Orange\n",
      "Mango\n",
      "Guava\n"
     ]
    }
   ],
   "source": [
    "#for array|list\n",
    "\n",
    "json_data='{\"Fruits\":[\"Apple\",\"Orange\",\"Mango\",\"Guava\"]}'\n",
    "python_data=json.loads(json_data)\n",
    "print(python_data['Fruits'])\n",
    "print(type(python_data))\n",
    "print(type(python_data['Fruits']))\n",
    "for i in python_data['Fruits']:\n",
    "    print(i)"
   ]
  },
  {
   "cell_type": "code",
   "execution_count": 16,
   "metadata": {},
   "outputs": [],
   "source": [
    "import requests\n",
    "\n",
    "#for maiking the api call\n",
    "response=requests.get(\"http://codingninjas.in/api/v3/courses\")"
   ]
  },
  {
   "cell_type": "code",
   "execution_count": 17,
   "metadata": {},
   "outputs": [
    {
     "name": "stdout",
     "output_type": "stream",
     "text": [
      "{\"data\":{\"courses\":[{\"id\":6,\"title\":\"Machine Learning\",\"online_title\":\"online-machine-learning-course\",\"offline_title\":\"classroom-machine-learning-course\",\"name\":\"Machine Learning \\u0026 Deep Learning Course\",\"level\":\"Advanced Courses\",\"brief_intro\":\"Machine learning engineers build, implement, and maintain machine learning systems in technology products.\",\"preview_image_url\":\"https://ninjasfiles.s3.amazonaws.com/0000000000001181.png\",\"available_online\":true,\"available_offline\":false,\"is_career_track\":false,\"course_group_id\":2,\"classroom_icon_url\":\"https://files.codingninjas.in/0000000000003766.png\"},{\"id\":16,\"title\":\"Competitive Programmer\",\"online_title\":\"online-competitive-programming-track\",\"offline_title\":\"\",\"name\":\"Ninja Competitive Programmer Track\",\"level\":\"Career Tracks\",\"brief_intro\":\"Competitive Track\",\"preview_image_url\":\"https://files.codingninjas.in/0000000000001177.png\",\"available_online\":true,\"available_offline\":false,\"is_career_track\":true,\"course_group_id\":3,\"classroom_icon_url\":\"https://files.codingninjas.in/0000000000003775.png\"},{\"id\":34,\"title\":\"Front End (React)\",\"online_title\":\"online-web-dev-with-react\",\"offline_title\":\"\",\"name\":\"Advanced  Front-End Web Development with React\",\"level\":\"Development Courses\",\"brief_intro\":\"Advanced  Front-End Web Development with React\",\"preview_image_url\":\"https://ninjasfiles.s3.amazonaws.com/0000000000001179.png\",\"available_online\":true,\"available_offline\":false,\"is_career_track\":false,\"course_group_id\":2,\"classroom_icon_url\":\"https://files.codingninjas.in/0000000000003769.png\"},{\"id\":1,\"title\":\"C++ \\u0026 Data Structures\",\"online_title\":\"onlline-c-plus-plus-course\",\"offline_title\":\"classroom-c-plus-plus-course\",\"name\":\"C++ Foundation with Data Structures\",\"level\":\"Foundation Courses\",\"brief_intro\":\"Brief Intro\",\"preview_image_url\":\"https://files.codingninjas.in/0000000000001176.png\",\"available_online\":true,\"available_offline\":false,\"is_career_track\":false,\"course_group_id\":1,\"classroom_icon_url\":\"https://files.codingninjas.in/0000000000003771.png\"},{\"id\":35,\"title\":\"Android Developer\",\"online_title\":\"online-android-development-career-track\",\"offline_title\":\"\",\"name\":\"Ninja Android Developer Career Track \",\"level\":\"Career Tracks\",\"brief_intro\":\"beginner to pro Android Developer!\",\"preview_image_url\":\"https://ninjasfiles.s3.amazonaws.com/0000000000001175.png\",\"available_online\":true,\"available_offline\":false,\"is_career_track\":true,\"course_group_id\":3,\"classroom_icon_url\":\"https://files.codingninjas.in/0000000000003774.png\"},{\"id\":2,\"title\":\"Java \\u0026 Data Structures\",\"online_title\":\"online-java-course\",\"offline_title\":\"classroom-java-course\",\"name\":\"JAVA Foundation with Data Structures\",\"level\":\"Foundation Courses\",\"brief_intro\":\"Brief Intro\",\"preview_image_url\":\"https://ninjasfiles.s3.amazonaws.com/0000000000001255.png\",\"available_online\":true,\"available_offline\":false,\"is_career_track\":false,\"course_group_id\":1,\"classroom_icon_url\":\"https://files.codingninjas.in/0000000000003772.png\"},{\"id\":12,\"title\":\"Web Dev (Full Stack)\",\"online_title\":\"online-full-stack-node-js-web-dev-course\",\"offline_title\":\"\",\"name\":\"Full Stack Web Development\",\"level\":\"Development Courses\",\"brief_intro\":\"Web Development\",\"preview_image_url\":\"https://ninjasfiles.s3.amazonaws.com/0000000000001179.png\",\"available_online\":true,\"available_offline\":false,\"is_career_track\":false,\"course_group_id\":2,\"classroom_icon_url\":\"https://files.codingninjas.in/0000000000003764.png\"},{\"id\":36,\"title\":\"Python \\u0026 Web Dev (MERN)\",\"online_title\":\"ninja-web-developer-career-track-mern-stack\",\"offline_title\":\"\",\"name\":\"Ninja  Web Developer Career Track - NodeJS \\u0026 ReactJs\",\"level\":\"Career Tracks\",\"brief_intro\":\"Programming foundation + MERN Stack Web Development complete Career Track\",\"preview_image_url\":\"https://ninjasfiles.s3.amazonaws.com/0000000000001179.png\",\"available_online\":true,\"available_offline\":false,\"is_career_track\":true,\"course_group_id\":3,\"classroom_icon_url\":\"https://files.codingninjas.in/0000000000003777.png\"},{\"id\":4,\"title\":\"Interview Preperation\",\"online_title\":\"online-interview-preparation\",\"offline_title\":\"classroom-interview-preparation\",\"name\":\"Interview Preparation Course\",\"level\":\"Advanced Courses\",\"brief_intro\":\"Brief Intro\",\"preview_image_url\":\"https://ninjasfiles.s3.amazonaws.com/0000000000001178.png\",\"available_online\":true,\"available_offline\":false,\"is_career_track\":false,\"course_group_id\":1,\"classroom_icon_url\":\"https://files.codingninjas.in/0000000000003765.png\"},{\"id\":13,\"title\":\"Data Science\",\"online_title\":\"online-data-science-course\",\"offline_title\":\"\",\"name\":\"Data Science \\u0026 Machine Learning Complete\",\"level\":\"Advanced Courses\",\"brief_intro\":\"Brief Intro\",\"preview_image_url\":\"https://ninjasfiles.s3.amazonaws.com/0000000000001371.png\",\"available_online\":true,\"available_offline\":false,\"is_career_track\":false,\"course_group_id\":2,\"classroom_icon_url\":\"https://files.codingninjas.in/0000000000003763.png\"},{\"id\":17,\"title\":\"C++ \\u0026 Web Dev (Node.js)\",\"online_title\":\"web-developer-career-track\",\"offline_title\":\"\",\"name\":\"Ninja  Web Developer Career Track - NodeJS\",\"level\":\"Career Tracks\",\"brief_intro\":\"Programming foundation + Full Stack Web Development Career Track\",\"preview_image_url\":\"https://ninjasfiles.s3.amazonaws.com/0000000000001179.png\",\"available_online\":true,\"available_offline\":false,\"is_career_track\":true,\"course_group_id\":3,\"classroom_icon_url\":\"https://files.codingninjas.in/0000000000003777.png\"},{\"id\":10,\"title\":\"Competitive Programming\",\"online_title\":\"online-competitive-programming-course\",\"offline_title\":\"\",\"name\":\"Competitive Programming Course\",\"level\":\"Advanced Courses\",\"brief_intro\":\"Eminence\",\"preview_image_url\":\"https://ninjasfiles.s3.amazonaws.com/0000000000001177.png\",\"available_online\":true,\"available_offline\":false,\"is_career_track\":false,\"course_group_id\":1,\"classroom_icon_url\":\"https://files.codingninjas.in/0000000000003762.png\"},{\"id\":11,\"title\":\"Python \\u0026 Data Structures\",\"online_title\":\"online-python-course\",\"offline_title\":\"offline-python-course\",\"name\":\"Python Foundation with Data Structures\",\"level\":\"Foundation Courses\",\"brief_intro\":\"Python Foundation\",\"preview_image_url\":\"https://ninjasfiles.s3.amazonaws.com/0000000000001282.png\",\"available_online\":true,\"available_offline\":false,\"is_career_track\":false,\"course_group_id\":1,\"classroom_icon_url\":\"https://files.codingninjas.in/0000000000003773.png\"},{\"id\":33,\"title\":\"Android (Kotlin)\",\"online_title\":\"online-android-Development-kotlin\",\"offline_title\":\"\",\"name\":\"Android Development with Kotlin\",\"level\":\"Development Courses\",\"brief_intro\":\"Android Development Kotlin\",\"preview_image_url\":\"https://ninjasfiles.s3.amazonaws.com/0000000000001175.png\",\"available_online\":true,\"available_offline\":false,\"is_career_track\":false,\"course_group_id\":2,\"classroom_icon_url\":\"https://files.codingninjas.in/0000000000003761.png\"},{\"id\":18,\"title\":\"Data Scientist\",\"online_title\":\"data-Scientist-career-track\",\"offline_title\":\"\",\"name\":\"Ninja Data Scientist Career Track\",\"level\":\"Career Tracks\",\"brief_intro\":\"Programming foundation + Data Science with ML career track\",\"preview_image_url\":\"https://ninjasfiles.s3.amazonaws.com/0000000000001371.png\",\"available_online\":true,\"available_offline\":false,\"is_career_track\":true,\"course_group_id\":3,\"classroom_icon_url\":\"https://files.codingninjas.in/0000000000003778.png\"},{\"id\":21,\"title\":\"Aptitude Preparation\",\"online_title\":\"online-aptitude-preparation\",\"offline_title\":\"\",\"name\":\"Aptitude Preparation Course\",\"level\":\"Foundation Courses\",\"brief_intro\":\"Brief Intro\",\"preview_image_url\":\"https://ninjasfiles.s3.amazonaws.com/0000000000001178.png\",\"available_online\":true,\"available_offline\":false,\"is_career_track\":false,\"course_group_id\":1,\"classroom_icon_url\":\"https://files.codingninjas.in/0000000000003770.png\"},{\"id\":19,\"title\":\"Machine Learning\",\"online_title\":\"machine-learning-engineer-career-track\",\"offline_title\":\"\",\"name\":\"Ninja Machine Learning Engineer Career Track\",\"level\":\"Career Tracks\",\"brief_intro\":\"Programming foundation + Machine Learning career track\",\"preview_image_url\":\"https://ninjasfiles.s3.amazonaws.com/0000000000001181.png\",\"available_online\":true,\"available_offline\":false,\"is_career_track\":true,\"course_group_id\":3,\"classroom_icon_url\":\"https://files.codingninjas.in/0000000000003776.png\"}],\"course_groups\":[{\"id\":1,\"name\":\"Foundation, Algorithmic \\u0026 Advanced\",\"order\":1,\"course_ids\":[1,2,4,10,11,21],\"json_data\":{\"color\":\"#FFEBC2\",\"image_link\":\"https://ninjasfiles.s3.amazonaws.com/0000000000003821.png\",\"text_color\":\"#AC933C\",\"short_description\":\"Foundation courses are designed such that \\u003cstrong\\u003eno prerequisites are required.\\u003c/strong\\u003e Data Structures(DS) and Algorithms(algo.) parts build on the basics to give you a \\u003cstrong\\u003esolid programming foundation\\u003c/strong\\u003e. Competitive is where you start to \\u003cstrong\\u003epush the boundaries!\\u003c/strong\\u003e\",\"mobile_short_description\":\"Foundation courses are designed such that \\u003cspan\\u003eno prerequisites are required.\\u003c/span\\u003e\"},\"is_independent\":false},{\"id\":2,\"name\":\"Data \\u0026 Development\",\"order\":2,\"course_ids\":[6,34,12,13,33],\"json_data\":{\"color\":\"#80D4B1\",\"image_link\":\"https://files.codingninjas.in/0000000000003846.svg\",\"text_color\":\"#257D68\",\"short_description\":\"Data courses dwell in the state of the art algorithms and require good knowledge of programming fundamentals. Web development courses use modern JavaScript to build powerful and fast applications from the ground up. \\u003cstrong\\u003eNo prior development experience needed\\u003c/strong\\u003e\",\"mobile_short_description\":\"Data courses dwell in the state of the art algorithms and require good knowledge of programming fundamentals. Web development courses use modern JavaScript to build powerful and fast applications from the ground up. \\u003cspan\\u003eNo prior development experience needed\\u003c/span\\u003e\"},\"is_independent\":false},{\"id\":3,\"name\":\"Career Track\",\"order\":3,\"course_ids\":[16,35,36,17,18,19],\"json_data\":{\"color\":\"#C898FF\",\"image_link\":\"https://files.codingninjas.in/0000000000003845.svg\",\"text_color\":\"#603CAC\",\"short_description\":\"These are courses that take you from \\u003cstrong\\u003ezero to hero\\u003c/strong\\u003e. Each track is designed specifically to cater to a particular goal you can choose and \\u003cstrong\\u003ecovers everything you need to learn and assumes no prior knowledge.\\u003c/strong\\u003e\",\"mobile_short_description\":\"Each track is designed specifically to cater to a particular goal you can choose and \\u003cspan\\u003ecovers everything you need to learn and assumes no prior knowledge.\\u003c/span\\u003e\"},\"is_independent\":true}]},\"message\":\"Courses\",\"status\":200,\"error\":null,\"disabled\":false,\"update\":false,\"external_rating\":null}\n"
     ]
    }
   ],
   "source": [
    "print(response.text)"
   ]
  },
  {
   "cell_type": "code",
   "execution_count": 45,
   "metadata": {},
   "outputs": [
    {
     "ename": "TypeError",
     "evalue": "list indices must be integers or slices, not str",
     "output_type": "error",
     "traceback": [
      "\u001b[1;31m---------------------------------------------------------------------------\u001b[0m",
      "\u001b[1;31mTypeError\u001b[0m                                 Traceback (most recent call last)",
      "\u001b[1;32m<ipython-input-45-808d22b2dd25>\u001b[0m in \u001b[0;36m<module>\u001b[1;34m\u001b[0m\n\u001b[0;32m      4\u001b[0m \u001b[0mpython_data\u001b[0m\u001b[1;33m=\u001b[0m\u001b[0mjson\u001b[0m\u001b[1;33m.\u001b[0m\u001b[0mloads\u001b[0m\u001b[1;33m(\u001b[0m\u001b[0mresponse\u001b[0m\u001b[1;33m.\u001b[0m\u001b[0mtext\u001b[0m\u001b[1;33m)\u001b[0m\u001b[1;33m\u001b[0m\u001b[1;33m\u001b[0m\u001b[0m\n\u001b[0;32m      5\u001b[0m \u001b[0mcourses\u001b[0m\u001b[1;33m=\u001b[0m\u001b[0mpython_data\u001b[0m\u001b[1;33m[\u001b[0m\u001b[1;34m'data'\u001b[0m\u001b[1;33m]\u001b[0m\u001b[1;33m[\u001b[0m\u001b[1;34m'courses'\u001b[0m\u001b[1;33m]\u001b[0m\u001b[1;33m\u001b[0m\u001b[1;33m\u001b[0m\u001b[0m\n\u001b[1;32m----> 6\u001b[1;33m \u001b[1;32mfor\u001b[0m \u001b[0mi\u001b[0m \u001b[1;32min\u001b[0m \u001b[0mcourses\u001b[0m\u001b[1;33m[\u001b[0m\u001b[1;34m'courses'\u001b[0m\u001b[1;33m]\u001b[0m\u001b[1;33m:\u001b[0m\u001b[1;33m\u001b[0m\u001b[1;33m\u001b[0m\u001b[0m\n\u001b[0m\u001b[0;32m      7\u001b[0m     \u001b[0mprint\u001b[0m\u001b[1;33m(\u001b[0m\u001b[0mi\u001b[0m\u001b[1;33m)\u001b[0m\u001b[1;33m\u001b[0m\u001b[1;33m\u001b[0m\u001b[0m\n",
      "\u001b[1;31mTypeError\u001b[0m: list indices must be integers or slices, not str"
     ]
    }
   ],
   "source": [
    "import json\n",
    "\n",
    "response=requests.get(\"http://codingninjas.in/api/v3/courses\")\n",
    "python_data=json.loads(response.text)\n",
    "courses=python_data['data']['courses']\n",
    "for i in courses['courses']:\n",
    "    print(i)"
   ]
  },
  {
   "cell_type": "code",
   "execution_count": 25,
   "metadata": {},
   "outputs": [
    {
     "name": "stdout",
     "output_type": "stream",
     "text": [
      "[{'id': 6, 'title': 'Machine Learning', 'online_title': 'online-machine-learning-course', 'offline_title': 'classroom-machine-learning-course', 'name': 'Machine Learning & Deep Learning Course', 'level': 'Advanced Courses', 'brief_intro': 'Machine learning engineers build, implement, and maintain machine learning systems in technology products.', 'preview_image_url': 'https://ninjasfiles.s3.amazonaws.com/0000000000001181.png', 'available_online': True, 'available_offline': False, 'is_career_track': False, 'course_group_id': 2, 'classroom_icon_url': 'https://files.codingninjas.in/0000000000003766.png'}, {'id': 16, 'title': 'Competitive Programmer', 'online_title': 'online-competitive-programming-track', 'offline_title': '', 'name': 'Ninja Competitive Programmer Track', 'level': 'Career Tracks', 'brief_intro': 'Competitive Track', 'preview_image_url': 'https://files.codingninjas.in/0000000000001177.png', 'available_online': True, 'available_offline': False, 'is_career_track': True, 'course_group_id': 3, 'classroom_icon_url': 'https://files.codingninjas.in/0000000000003775.png'}, {'id': 34, 'title': 'Front End (React)', 'online_title': 'online-web-dev-with-react', 'offline_title': '', 'name': 'Advanced  Front-End Web Development with React', 'level': 'Development Courses', 'brief_intro': 'Advanced  Front-End Web Development with React', 'preview_image_url': 'https://ninjasfiles.s3.amazonaws.com/0000000000001179.png', 'available_online': True, 'available_offline': False, 'is_career_track': False, 'course_group_id': 2, 'classroom_icon_url': 'https://files.codingninjas.in/0000000000003769.png'}, {'id': 1, 'title': 'C++ & Data Structures', 'online_title': 'onlline-c-plus-plus-course', 'offline_title': 'classroom-c-plus-plus-course', 'name': 'C++ Foundation with Data Structures', 'level': 'Foundation Courses', 'brief_intro': 'Brief Intro', 'preview_image_url': 'https://files.codingninjas.in/0000000000001176.png', 'available_online': True, 'available_offline': False, 'is_career_track': False, 'course_group_id': 1, 'classroom_icon_url': 'https://files.codingninjas.in/0000000000003771.png'}, {'id': 35, 'title': 'Android Developer', 'online_title': 'online-android-development-career-track', 'offline_title': '', 'name': 'Ninja Android Developer Career Track ', 'level': 'Career Tracks', 'brief_intro': 'beginner to pro Android Developer!', 'preview_image_url': 'https://ninjasfiles.s3.amazonaws.com/0000000000001175.png', 'available_online': True, 'available_offline': False, 'is_career_track': True, 'course_group_id': 3, 'classroom_icon_url': 'https://files.codingninjas.in/0000000000003774.png'}, {'id': 2, 'title': 'Java & Data Structures', 'online_title': 'online-java-course', 'offline_title': 'classroom-java-course', 'name': 'JAVA Foundation with Data Structures', 'level': 'Foundation Courses', 'brief_intro': 'Brief Intro', 'preview_image_url': 'https://ninjasfiles.s3.amazonaws.com/0000000000001255.png', 'available_online': True, 'available_offline': False, 'is_career_track': False, 'course_group_id': 1, 'classroom_icon_url': 'https://files.codingninjas.in/0000000000003772.png'}, {'id': 12, 'title': 'Web Dev (Full Stack)', 'online_title': 'online-full-stack-node-js-web-dev-course', 'offline_title': '', 'name': 'Full Stack Web Development', 'level': 'Development Courses', 'brief_intro': 'Web Development', 'preview_image_url': 'https://ninjasfiles.s3.amazonaws.com/0000000000001179.png', 'available_online': True, 'available_offline': False, 'is_career_track': False, 'course_group_id': 2, 'classroom_icon_url': 'https://files.codingninjas.in/0000000000003764.png'}, {'id': 36, 'title': 'Python & Web Dev (MERN)', 'online_title': 'ninja-web-developer-career-track-mern-stack', 'offline_title': '', 'name': 'Ninja  Web Developer Career Track - NodeJS & ReactJs', 'level': 'Career Tracks', 'brief_intro': 'Programming foundation + MERN Stack Web Development complete Career Track', 'preview_image_url': 'https://ninjasfiles.s3.amazonaws.com/0000000000001179.png', 'available_online': True, 'available_offline': False, 'is_career_track': True, 'course_group_id': 3, 'classroom_icon_url': 'https://files.codingninjas.in/0000000000003777.png'}, {'id': 4, 'title': 'Interview Preperation', 'online_title': 'online-interview-preparation', 'offline_title': 'classroom-interview-preparation', 'name': 'Interview Preparation Course', 'level': 'Advanced Courses', 'brief_intro': 'Brief Intro', 'preview_image_url': 'https://ninjasfiles.s3.amazonaws.com/0000000000001178.png', 'available_online': True, 'available_offline': False, 'is_career_track': False, 'course_group_id': 1, 'classroom_icon_url': 'https://files.codingninjas.in/0000000000003765.png'}, {'id': 13, 'title': 'Data Science', 'online_title': 'online-data-science-course', 'offline_title': '', 'name': 'Data Science & Machine Learning Complete', 'level': 'Advanced Courses', 'brief_intro': 'Brief Intro', 'preview_image_url': 'https://ninjasfiles.s3.amazonaws.com/0000000000001371.png', 'available_online': True, 'available_offline': False, 'is_career_track': False, 'course_group_id': 2, 'classroom_icon_url': 'https://files.codingninjas.in/0000000000003763.png'}, {'id': 17, 'title': 'C++ & Web Dev (Node.js)', 'online_title': 'web-developer-career-track', 'offline_title': '', 'name': 'Ninja  Web Developer Career Track - NodeJS', 'level': 'Career Tracks', 'brief_intro': 'Programming foundation + Full Stack Web Development Career Track', 'preview_image_url': 'https://ninjasfiles.s3.amazonaws.com/0000000000001179.png', 'available_online': True, 'available_offline': False, 'is_career_track': True, 'course_group_id': 3, 'classroom_icon_url': 'https://files.codingninjas.in/0000000000003777.png'}, {'id': 10, 'title': 'Competitive Programming', 'online_title': 'online-competitive-programming-course', 'offline_title': '', 'name': 'Competitive Programming Course', 'level': 'Advanced Courses', 'brief_intro': 'Eminence', 'preview_image_url': 'https://ninjasfiles.s3.amazonaws.com/0000000000001177.png', 'available_online': True, 'available_offline': False, 'is_career_track': False, 'course_group_id': 1, 'classroom_icon_url': 'https://files.codingninjas.in/0000000000003762.png'}, {'id': 11, 'title': 'Python & Data Structures', 'online_title': 'online-python-course', 'offline_title': 'offline-python-course', 'name': 'Python Foundation with Data Structures', 'level': 'Foundation Courses', 'brief_intro': 'Python Foundation', 'preview_image_url': 'https://ninjasfiles.s3.amazonaws.com/0000000000001282.png', 'available_online': True, 'available_offline': False, 'is_career_track': False, 'course_group_id': 1, 'classroom_icon_url': 'https://files.codingninjas.in/0000000000003773.png'}, {'id': 33, 'title': 'Android (Kotlin)', 'online_title': 'online-android-Development-kotlin', 'offline_title': '', 'name': 'Android Development with Kotlin', 'level': 'Development Courses', 'brief_intro': 'Android Development Kotlin', 'preview_image_url': 'https://ninjasfiles.s3.amazonaws.com/0000000000001175.png', 'available_online': True, 'available_offline': False, 'is_career_track': False, 'course_group_id': 2, 'classroom_icon_url': 'https://files.codingninjas.in/0000000000003761.png'}, {'id': 18, 'title': 'Data Scientist', 'online_title': 'data-Scientist-career-track', 'offline_title': '', 'name': 'Ninja Data Scientist Career Track', 'level': 'Career Tracks', 'brief_intro': 'Programming foundation + Data Science with ML career track', 'preview_image_url': 'https://ninjasfiles.s3.amazonaws.com/0000000000001371.png', 'available_online': True, 'available_offline': False, 'is_career_track': True, 'course_group_id': 3, 'classroom_icon_url': 'https://files.codingninjas.in/0000000000003778.png'}, {'id': 21, 'title': 'Aptitude Preparation', 'online_title': 'online-aptitude-preparation', 'offline_title': '', 'name': 'Aptitude Preparation Course', 'level': 'Foundation Courses', 'brief_intro': 'Brief Intro', 'preview_image_url': 'https://ninjasfiles.s3.amazonaws.com/0000000000001178.png', 'available_online': True, 'available_offline': False, 'is_career_track': False, 'course_group_id': 1, 'classroom_icon_url': 'https://files.codingninjas.in/0000000000003770.png'}, {'id': 19, 'title': 'Machine Learning', 'online_title': 'machine-learning-engineer-career-track', 'offline_title': '', 'name': 'Ninja Machine Learning Engineer Career Track', 'level': 'Career Tracks', 'brief_intro': 'Programming foundation + Machine Learning career track', 'preview_image_url': 'https://ninjasfiles.s3.amazonaws.com/0000000000001181.png', 'available_online': True, 'available_offline': False, 'is_career_track': True, 'course_group_id': 3, 'classroom_icon_url': 'https://files.codingninjas.in/0000000000003776.png'}]\n"
     ]
    }
   ],
   "source": [
    "import json\n",
    "\n",
    "response=requests.get(\"http://codingninjas.in/api/v3/courses\")\n",
    "python_data=json.loads(response.text)\n",
    "courses=python_data['data']['courses']\n",
    "print(courses)"
   ]
  },
  {
   "cell_type": "code",
   "execution_count": 46,
   "metadata": {},
   "outputs": [
    {
     "name": "stdout",
     "output_type": "stream",
     "text": [
      "Machine Learning\n",
      "Competitive Programmer\n",
      "Front End (React)\n",
      "C++ & Data Structures\n",
      "Android Developer\n",
      "Java & Data Structures\n",
      "Web Dev (Full Stack)\n",
      "Python & Web Dev (MERN)\n",
      "Interview Preperation\n",
      "Data Science\n",
      "C++ & Web Dev (Node.js)\n",
      "Competitive Programming\n",
      "Python & Data Structures\n",
      "Android (Kotlin)\n",
      "Data Scientist\n",
      "Aptitude Preparation\n",
      "Machine Learning\n"
     ]
    }
   ],
   "source": [
    "import json\n",
    "\n",
    "response=requests.get(\"http://codingninjas.in/api/v3/courses\")\n",
    "python_data=json.loads(response.text)\n",
    "courses=python_data['data']['courses']\n",
    "for i in courses:\n",
    "    print(i['title'])"
   ]
  },
  {
   "cell_type": "code",
   "execution_count": 32,
   "metadata": {},
   "outputs": [
    {
     "name": "stdout",
     "output_type": "stream",
     "text": [
      "17\n"
     ]
    }
   ],
   "source": [
    "print(len(courses))"
   ]
  },
  {
   "cell_type": "code",
   "execution_count": 37,
   "metadata": {},
   "outputs": [
    {
     "name": "stdout",
     "output_type": "stream",
     "text": [
      "<class 'dict'>\n"
     ]
    }
   ],
   "source": [
    "p=requests.get(\"https://dog.ceo/api/breeds/list/all\")\n",
    "#print(p.text)\n",
    "\n",
    "python_data=p.json()\n",
    "print(type(python_data))"
   ]
  },
  {
   "cell_type": "code",
   "execution_count": 41,
   "metadata": {
    "collapsed": true
   },
   "outputs": [
    {
     "name": "stdout",
     "output_type": "stream",
     "text": [
      "affenpinscher : []\n",
      "african : []\n",
      "airedale : []\n",
      "akita : []\n",
      "appenzeller : []\n",
      "australian : ['shepherd']\n",
      "basenji : []\n",
      "beagle : []\n",
      "bluetick : []\n",
      "borzoi : []\n",
      "bouvier : []\n",
      "boxer : []\n",
      "brabancon : []\n",
      "briard : []\n",
      "buhund : ['norwegian']\n",
      "bulldog : ['boston', 'english', 'french']\n",
      "bullterrier : ['staffordshire']\n",
      "cairn : []\n",
      "cattledog : ['australian']\n",
      "chihuahua : []\n",
      "chow : []\n",
      "clumber : []\n",
      "cockapoo : []\n",
      "collie : ['border']\n",
      "coonhound : []\n",
      "corgi : ['cardigan']\n",
      "cotondetulear : []\n",
      "dachshund : []\n",
      "dalmatian : []\n",
      "dane : ['great']\n",
      "deerhound : ['scottish']\n",
      "dhole : []\n",
      "dingo : []\n",
      "doberman : []\n",
      "elkhound : ['norwegian']\n",
      "entlebucher : []\n",
      "eskimo : []\n",
      "finnish : ['lapphund']\n",
      "frise : ['bichon']\n",
      "germanshepherd : []\n",
      "greyhound : ['italian']\n",
      "groenendael : []\n",
      "havanese : []\n",
      "hound : ['afghan', 'basset', 'blood', 'english', 'ibizan', 'plott', 'walker']\n",
      "husky : []\n",
      "keeshond : []\n",
      "kelpie : []\n",
      "komondor : []\n",
      "kuvasz : []\n",
      "labrador : []\n",
      "leonberg : []\n",
      "lhasa : []\n",
      "malamute : []\n",
      "malinois : []\n",
      "maltese : []\n",
      "mastiff : ['bull', 'english', 'tibetan']\n",
      "mexicanhairless : []\n",
      "mix : []\n",
      "mountain : ['bernese', 'swiss']\n",
      "newfoundland : []\n",
      "otterhound : []\n",
      "ovcharka : ['caucasian']\n",
      "papillon : []\n",
      "pekinese : []\n",
      "pembroke : []\n",
      "pinscher : ['miniature']\n",
      "pitbull : []\n",
      "pointer : ['german', 'germanlonghair']\n",
      "pomeranian : []\n",
      "poodle : ['miniature', 'standard', 'toy']\n",
      "pug : []\n",
      "puggle : []\n",
      "pyrenees : []\n",
      "redbone : []\n",
      "retriever : ['chesapeake', 'curly', 'flatcoated', 'golden']\n",
      "ridgeback : ['rhodesian']\n",
      "rottweiler : []\n",
      "saluki : []\n",
      "samoyed : []\n",
      "schipperke : []\n",
      "schnauzer : ['giant', 'miniature']\n",
      "setter : ['english', 'gordon', 'irish']\n",
      "sheepdog : ['english', 'shetland']\n",
      "shiba : []\n",
      "shihtzu : []\n",
      "spaniel : ['blenheim', 'brittany', 'cocker', 'irish', 'japanese', 'sussex', 'welsh']\n",
      "springer : ['english']\n",
      "stbernard : []\n",
      "terrier : ['american', 'australian', 'bedlington', 'border', 'dandie', 'fox', 'irish', 'kerryblue', 'lakeland', 'norfolk', 'norwich', 'patterdale', 'russell', 'scottish', 'sealyham', 'silky', 'tibetan', 'toy', 'westhighland', 'wheaten', 'yorkshire']\n",
      "vizsla : []\n",
      "waterdog : ['spanish']\n",
      "weimaraner : []\n",
      "whippet : []\n",
      "wolfhound : ['irish']\n"
     ]
    }
   ],
   "source": [
    "for key,val in python_data['message'].items():\n",
    "    print(key,\":\",val)"
   ]
  },
  {
   "cell_type": "code",
   "execution_count": 43,
   "metadata": {},
   "outputs": [
    {
     "data": {
      "text/plain": [
       "['blenheim', 'brittany', 'cocker', 'irish', 'japanese', 'sussex', 'welsh']"
      ]
     },
     "execution_count": 43,
     "metadata": {},
     "output_type": "execute_result"
    }
   ],
   "source": [
    "python_data['message']['spaniel']"
   ]
  },
  {
   "cell_type": "code",
   "execution_count": 44,
   "metadata": {},
   "outputs": [
    {
     "name": "stdout",
     "output_type": "stream",
     "text": [
      "blenheim\n",
      "brittany\n",
      "cocker\n",
      "irish\n",
      "japanese\n",
      "sussex\n",
      "welsh\n"
     ]
    }
   ],
   "source": [
    "for i in python_data['message']['spaniel']:\n",
    "    print(i)"
   ]
  },
  {
   "cell_type": "code",
   "execution_count": 14,
   "metadata": {
    "collapsed": true
   },
   "outputs": [
    {
     "name": "stdout",
     "output_type": "stream",
     "text": [
      "{'meta': {'name': 'openaq-api', 'license': 'CC BY 4.0', 'website': 'https://docs.openaq.org/', 'page': 1, 'limit': 100, 'found': 3223}, 'results': [{'country': 'AD', 'name': 'Escaldes-Engordany', 'city': 'Escaldes-Engordany', 'count': 181381, 'locations': 2}, {'country': 'AD', 'name': 'unused', 'city': 'unused', 'count': 16301, 'locations': 1}, {'country': 'AE', 'name': 'Abu Dhabi', 'city': 'Abu Dhabi', 'count': 316846, 'locations': 1}, {'country': 'AE', 'name': 'Dubai', 'city': 'Dubai', 'count': 343924, 'locations': 1}, {'country': 'AE', 'name': 'N/A', 'city': 'N/A', 'count': 40017, 'locations': 2}, {'country': 'AF', 'name': 'Kabul', 'city': 'Kabul', 'count': 163725, 'locations': 1}, {'country': 'AF', 'name': 'N/A', 'city': 'N/A', 'count': 7024, 'locations': 1}, {'country': 'AG', 'name': 'N/A', 'city': 'N/A', 'count': 1, 'locations': 1}, {'country': 'AR', 'name': 'Buenos Aires', 'city': 'Buenos Aires', 'count': 14976, 'locations': 4}, {'country': 'AT', 'name': 'Amt der Burgenländischen Landesregierung', 'city': 'Amt der Burgenländischen Landesregierung', 'count': 471, 'locations': 1}, {'country': 'AT', 'name': 'Amt der Burgenl�ndischen Landesregierung', 'city': 'Amt der Burgenl�ndischen Landesregierung', 'count': 35608, 'locations': 3}, {'country': 'AT', 'name': 'Amt der Kärntner Landesregierung', 'city': 'Amt der Kärntner Landesregierung', 'count': 471, 'locations': 1}, {'country': 'AT', 'name': 'Amt der K�rntner Landesregierung', 'city': 'Amt der K�rntner Landesregierung', 'count': 104663, 'locations': 16}, {'country': 'AT', 'name': 'Amt der Niederösterreichischen Landesregierung', 'city': 'Amt der Niederösterreichischen Landesregierung', 'count': 1413, 'locations': 3}, {'country': 'AT', 'name': 'Amt der Nieder�sterreichischen Landesregierung', 'city': 'Amt der Nieder�sterreichischen Landesregierung', 'count': 322499, 'locations': 39}, {'country': 'AT', 'name': 'Amt der Oberösterreichischen Landesregierung', 'city': 'Amt der Oberösterreichischen Landesregierung', 'count': 2828, 'locations': 6}, {'country': 'AT', 'name': 'Amt der Ober�sterreichischen Landesregierung', 'city': 'Amt der Ober�sterreichischen Landesregierung', 'count': 154329, 'locations': 16}, {'country': 'AT', 'name': 'Amt der Salzburger Landesregierung', 'city': 'Amt der Salzburger Landesregierung', 'count': 94197, 'locations': 12}, {'country': 'AT', 'name': 'Amt der Steiermärkischen Landesregierung', 'city': 'Amt der Steiermärkischen Landesregierung', 'count': 1891, 'locations': 4}, {'country': 'AT', 'name': 'Amt der Steierm�rkischen Landesregierung', 'city': 'Amt der Steierm�rkischen Landesregierung', 'count': 320372, 'locations': 41}, {'country': 'AT', 'name': 'Amt der Tiroler Landesregierung', 'city': 'Amt der Tiroler Landesregierung', 'count': 113161, 'locations': 19}, {'country': 'AT', 'name': 'Austria', 'city': 'Austria', 'count': 121987, 'locations': 174}, {'country': 'AT', 'name': 'Burgenland', 'city': 'Burgenland', 'count': 174864, 'locations': 4}, {'country': 'AT', 'name': 'Gemeinde Wien, MA22 Umweltschutz', 'city': 'Gemeinde Wien, MA22 Umweltschutz', 'count': 130328, 'locations': 21}, {'country': 'AT', 'name': 'Kärnten', 'city': 'Kärnten', 'count': 379442, 'locations': 14}, {'country': 'AT', 'name': 'Niederösterreich', 'city': 'Niederösterreich', 'count': 1095523, 'locations': 40}, {'country': 'AT', 'name': 'Oberösterreich', 'city': 'Oberösterreich', 'count': 681153, 'locations': 16}, {'country': 'AT', 'name': 'Salzburg', 'city': 'Salzburg', 'count': 308291, 'locations': 12}, {'country': 'AT', 'name': 'Steiermark', 'city': 'Steiermark', 'count': 969675, 'locations': 38}, {'country': 'AT', 'name': 'Tirol', 'city': 'Tirol', 'count': 362819, 'locations': 19}, {'country': 'AT', 'name': 'Umweltbundesamt', 'city': 'Umweltbundesamt', 'count': 81025, 'locations': 8}, {'country': 'AT', 'name': 'Umweltinstitut des Landes Vorarlberg', 'city': 'Umweltinstitut des Landes Vorarlberg', 'count': 36108, 'locations': 9}, {'country': 'AT', 'name': 'Vorarlberg', 'city': 'Vorarlberg', 'count': 101892, 'locations': 8}, {'country': 'AT', 'name': 'Wien', 'city': 'Wien', 'count': 537705, 'locations': 17}, {'country': 'AU', 'name': 'Adelaide', 'city': 'Adelaide', 'count': 192777, 'locations': 9}, {'country': 'AU', 'name': 'Altona North', 'city': 'Altona North', 'count': 4359, 'locations': 1}, {'country': 'AU', 'name': 'Altona North 1', 'city': 'Altona North 1', 'count': 81, 'locations': 1}, {'country': 'AU', 'name': 'Altona North 2', 'city': 'Altona North 2', 'count': 78, 'locations': 1}, {'country': 'AU', 'name': 'Bairnsdale', 'city': 'Bairnsdale', 'count': 981, 'locations': 1}, {'country': 'AU', 'name': 'Bairnsdale ', 'city': 'Bairnsdale ', 'count': 50, 'locations': 1}, {'country': 'AU', 'name': 'Bendigo', 'city': 'Bendigo', 'count': 6452, 'locations': 1}, {'country': 'AU', 'name': 'Bright', 'city': 'Bright', 'count': 958, 'locations': 1}, {'country': 'AU', 'name': 'Bulla North', 'city': 'Bulla North', 'count': 66, 'locations': 1}, {'country': 'AU', 'name': 'Bulla South', 'city': 'Bulla South', 'count': 68, 'locations': 1}, {'country': 'AU', 'name': 'Campbellfield', 'city': 'Campbellfield', 'count': 9461, 'locations': 1}, {'country': 'AU', 'name': 'Canberra', 'city': 'Canberra', 'count': 2429484, 'locations': 3}, {'country': 'AU', 'name': 'Cann River', 'city': 'Cann River', 'count': 660, 'locations': 1}, {'country': 'AU', 'name': 'Central Coast', 'city': 'Central Coast', 'count': 242775, 'locations': 1}, {'country': 'AU', 'name': 'Central Queensland', 'city': 'Central Queensland', 'count': 131579, 'locations': 6}, {'country': 'AU', 'name': 'Central Tablelands', 'city': 'Central Tablelands', 'count': 99154, 'locations': 2}, {'country': 'AU', 'name': 'Churchill', 'city': 'Churchill', 'count': 9725, 'locations': 1}, {'country': 'AU', 'name': 'Geelong', 'city': 'Geelong', 'count': 58124, 'locations': 1}, {'country': 'AU', 'name': 'Gladstone', 'city': 'Gladstone', 'count': 686668, 'locations': 8}, {'country': 'AU', 'name': 'Healesville', 'city': 'Healesville', 'count': 8148, 'locations': 1}, {'country': 'AU', 'name': 'Illawarra', 'city': 'Illawarra', 'count': 608866, 'locations': 3}, {'country': 'AU', 'name': 'Lakes Entrance', 'city': 'Lakes Entrance', 'count': 404, 'locations': 1}, {'country': 'AU', 'name': 'Lower Hunter', 'city': 'Lower Hunter', 'count': 618660, 'locations': 3}, {'country': 'AU', 'name': 'Mackay', 'city': 'Mackay', 'count': 30102, 'locations': 2}, {'country': 'AU', 'name': 'Mallacoota', 'city': 'Mallacoota', 'count': 706, 'locations': 1}, {'country': 'AU', 'name': 'Marlo', 'city': 'Marlo', 'count': 604, 'locations': 1}, {'country': 'AU', 'name': 'Melbourne', 'city': 'Melbourne', 'count': 257916, 'locations': 11}, {'country': 'AU', 'name': 'Melton', 'city': 'Melton', 'count': 19308, 'locations': 1}, {'country': 'AU', 'name': 'Moe', 'city': 'Moe', 'count': 10322, 'locations': 1}, {'country': 'AU', 'name': 'Morwell', 'city': 'Morwell', 'count': 85586, 'locations': 2}, {'country': 'AU', 'name': 'Mount Isa', 'city': 'Mount Isa', 'count': 20807, 'locations': 2}, {'country': 'AU', 'name': 'MRI Campbellfield fire', 'city': 'MRI Campbellfield fire', 'count': 222, 'locations': 1}, {'country': 'AU', 'name': 'Mt Isa', 'city': 'Mt Isa', 'count': 43106, 'locations': 2}, {'country': 'AU', 'name': 'Muswellbrook', 'city': 'Muswellbrook', 'count': 32371, 'locations': 1}, {'country': 'AU', 'name': 'Newborough', 'city': 'Newborough', 'count': 9700, 'locations': 1}, {'country': 'AU', 'name': 'Nicholson', 'city': 'Nicholson', 'count': 181, 'locations': 1}, {'country': 'AU', 'name': 'Northern Tablelands', 'city': 'Northern Tablelands', 'count': 20948, 'locations': 1}, {'country': 'AU', 'name': 'North-west Slopes', 'city': 'North-west Slopes', 'count': 141144, 'locations': 3}, {'country': 'AU', 'name': 'Omeo', 'city': 'Omeo', 'count': 991, 'locations': 1}, {'country': 'AU', 'name': 'Orbost', 'city': 'Orbost', 'count': 934, 'locations': 1}, {'country': 'AU', 'name': 'Point Cook', 'city': 'Point Cook', 'count': 16187, 'locations': 1}, {'country': 'AU', 'name': 'Port Augusta', 'city': 'Port Augusta', 'count': 6739, 'locations': 1}, {'country': 'AU', 'name': 'Port Pirie', 'city': 'Port Pirie', 'count': 17145, 'locations': 1}, {'country': 'AU', 'name': 'Rosedale', 'city': 'Rosedale', 'count': 10307, 'locations': 1}, {'country': 'AU', 'name': 'Sarsfield', 'city': 'Sarsfield', 'count': 482, 'locations': 1}, {'country': 'AU', 'name': 'Singleton', 'city': 'Singleton', 'count': 31507, 'locations': 1}, {'country': 'AU', 'name': 'South East Queensland', 'city': 'South East Queensland', 'count': 1245934, 'locations': 15}, {'country': 'AU', 'name': 'Southern Tablelands', 'city': 'Southern Tablelands', 'count': 41781, 'locations': 1}, {'country': 'AU', 'name': 'South West Queensland', 'city': 'South West Queensland', 'count': 255212, 'locations': 5}, {'country': 'AU', 'name': 'South-west Slopes', 'city': 'South-west Slopes', 'count': 153495, 'locations': 2}, {'country': 'AU', 'name': \"Swift's Creek\", 'city': \"Swift's Creek\", 'count': 1003, 'locations': 1}, {'country': 'AU', 'name': 'Sydney East', 'city': 'Sydney East', 'count': 1001714, 'locations': 7}, {'country': 'AU', 'name': 'Sydney North-west', 'city': 'Sydney North-west', 'count': 734152, 'locations': 6}, {'country': 'AU', 'name': 'Sydney South-west', 'city': 'Sydney South-west', 'count': 1134507, 'locations': 6}, {'country': 'AU', 'name': 'Tasmania Region', 'city': 'Tasmania Region', 'count': 876156, 'locations': 34}, {'country': 'AU', 'name': 'Thomastown East', 'city': 'Thomastown East', 'count': 142, 'locations': 1}, {'country': 'AU', 'name': 'Townsville', 'city': 'Townsville', 'count': 152315, 'locations': 5}, {'country': 'AU', 'name': 'Traralgon', 'city': 'Traralgon', 'count': 58571, 'locations': 1}, {'country': 'AU', 'name': 'Upper Hunter - Muswellbrook', 'city': 'Upper Hunter - Muswellbrook', 'count': 129047, 'locations': 1}, {'country': 'AU', 'name': 'Upper Hunter - Singleton', 'city': 'Upper Hunter - Singleton', 'count': 129729, 'locations': 1}, {'country': 'AU', 'name': 'Wangaratta', 'city': 'Wangaratta', 'count': 9669, 'locations': 1}, {'country': 'AU', 'name': 'Warburton', 'city': 'Warburton', 'count': 8179, 'locations': 1}, {'country': 'AU', 'name': 'Whyalla', 'city': 'Whyalla', 'count': 20248, 'locations': 3}, {'country': 'AU', 'name': 'Wodonga', 'city': 'Wodonga', 'count': 1001, 'locations': 1}, {'country': 'AU', 'name': 'Yinnar', 'city': 'Yinnar', 'count': 10069, 'locations': 1}, {'country': 'BA', 'name': 'Goražde', 'city': 'Goražde', 'count': 70797, 'locations': 1}]}\n",
      "https://api.openaq.org/v1/cities?order_by=country\n"
     ]
    }
   ],
   "source": [
    "import requests\n",
    "import json\n",
    "\n",
    "p=requests.get(\"https://api.openaq.org/v1/cities\",params={\"order_by\":\"country\"})\n",
    "#print(p.text)\n",
    "\n",
    "python_data=p.json()\n",
    "print(python_data)\n",
    "print(p.url)"
   ]
  },
  {
   "cell_type": "code",
   "execution_count": 25,
   "metadata": {},
   "outputs": [
    {
     "name": "stdout",
     "output_type": "stream",
     "text": [
      "403\n",
      "https://www.metaweather.com/api/location/search/\n"
     ]
    }
   ],
   "source": [
    "import requests\n",
    "import json\n",
    "\n",
    "p=requests.get(\"https://www.metaweather.com/api/location/search/\")\n",
    "\n",
    "print(p.status_code)\n",
    "print(p.url)"
   ]
  },
  {
   "cell_type": "code",
   "execution_count": 26,
   "metadata": {},
   "outputs": [
    {
     "name": "stdout",
     "output_type": "stream",
     "text": [
      "200\n",
      "https://www.metaweather.com/api/location/search/?query=Delhi\n"
     ]
    }
   ],
   "source": [
    "#providing some method|parameters\n",
    "import requests\n",
    "import json\n",
    "\n",
    "p=requests.get(\"https://www.metaweather.com/api/location/search/\",params={\"query\":\"Delhi\"})\n",
    "\n",
    "print(p.status_code)\n",
    "print(p.url)"
   ]
  },
  {
   "cell_type": "code",
   "execution_count": 27,
   "metadata": {},
   "outputs": [
    {
     "name": "stdout",
     "output_type": "stream",
     "text": [
      "403\n"
     ]
    }
   ],
   "source": [
    "a = requests.get(\"https://api.nasa.gov/planetary/apod\")\n",
    "print(a.status_code)"
   ]
  },
  {
   "cell_type": "code",
   "execution_count": 28,
   "metadata": {},
   "outputs": [
    {
     "name": "stdout",
     "output_type": "stream",
     "text": [
      "200\n",
      "https://api.nasa.gov/planetary/apod?api_key=DEMO_KEY\n"
     ]
    }
   ],
   "source": [
    "a = requests.get(\"https://api.nasa.gov/planetary/apod\",params={\"api_key\":\"DEMO_KEY\"})\n",
    "print(a.status_code)\n",
    "print(a.url)"
   ]
  },
  {
   "cell_type": "markdown",
   "metadata": {},
   "source": [
    "# POST"
   ]
  },
  {
   "cell_type": "code",
   "execution_count": 30,
   "metadata": {},
   "outputs": [
    {
     "name": "stdout",
     "output_type": "stream",
     "text": [
      "200\n",
      "{\n",
      "  \"args\": {}, \n",
      "  \"data\": \"\", \n",
      "  \"files\": {}, \n",
      "  \"form\": {}, \n",
      "  \"headers\": {\n",
      "    \"Accept\": \"*/*\", \n",
      "    \"Accept-Encoding\": \"gzip, deflate\", \n",
      "    \"Content-Length\": \"0\", \n",
      "    \"Host\": \"httpbin.org\", \n",
      "    \"User-Agent\": \"python-requests/2.22.0\", \n",
      "    \"X-Amzn-Trace-Id\": \"Root=1-5fbbe57b-106ce91e2189e51531ab460c\"\n",
      "  }, \n",
      "  \"json\": null, \n",
      "  \"origin\": \"157.47.229.104\", \n",
      "  \"url\": \"http://httpbin.org/post\"\n",
      "}\n",
      "\n",
      "{'Date': 'Mon, 23 Nov 2020 16:38:19 GMT', 'Content-Type': 'application/json', 'Content-Length': '399', 'Connection': 'keep-alive', 'Server': 'gunicorn/19.9.0', 'Access-Control-Allow-Origin': '*', 'Access-Control-Allow-Credentials': 'true'}\n"
     ]
    }
   ],
   "source": [
    "import requests\n",
    "\n",
    "response=requests.post('http://httpbin.org/post')\n",
    "\n",
    "print(response.status_code)\n",
    "print(response.text)\n",
    "print(response.headers)"
   ]
  },
  {
   "cell_type": "code",
   "execution_count": 32,
   "metadata": {},
   "outputs": [
    {
     "name": "stdout",
     "output_type": "stream",
     "text": [
      "200\n",
      "{\n",
      "  \"args\": {}, \n",
      "  \"data\": \"\", \n",
      "  \"files\": {}, \n",
      "  \"form\": {\n",
      "    \"key1\": \"val1\", \n",
      "    \"key2\": \"val2\"\n",
      "  }, \n",
      "  \"headers\": {\n",
      "    \"Accept\": \"*/*\", \n",
      "    \"Accept-Encoding\": \"gzip, deflate\", \n",
      "    \"Content-Length\": \"19\", \n",
      "    \"Content-Type\": \"application/x-www-form-urlencoded\", \n",
      "    \"Host\": \"httpbin.org\", \n",
      "    \"User-Agent\": \"python-requests/2.22.0\", \n",
      "    \"X-Amzn-Trace-Id\": \"Root=1-5fbbe648-5c46d12b66230c71735b2a42\"\n",
      "  }, \n",
      "  \"json\": null, \n",
      "  \"origin\": \"157.47.229.104\", \n",
      "  \"url\": \"http://httpbin.org/post\"\n",
      "}\n",
      "\n"
     ]
    }
   ],
   "source": [
    "import requests\n",
    "\n",
    "response=requests.post('http://httpbin.org/post',data={\"key1\" : \"val1\", \"key2\" : \"val2\"})\n",
    "print(response.status_code)\n",
    "print(response.text)"
   ]
  },
  {
   "cell_type": "code",
   "execution_count": 33,
   "metadata": {},
   "outputs": [
    {
     "name": "stdout",
     "output_type": "stream",
     "text": [
      "200\n",
      "{\n",
      "  \"args\": {}, \n",
      "  \"data\": \"\", \n",
      "  \"files\": {}, \n",
      "  \"form\": {\n",
      "    \"key1\": [\n",
      "      \"val1\", \n",
      "      \"val3\"\n",
      "    ], \n",
      "    \"key2\": \"val2\"\n",
      "  }, \n",
      "  \"headers\": {\n",
      "    \"Accept\": \"*/*\", \n",
      "    \"Accept-Encoding\": \"gzip, deflate\", \n",
      "    \"Content-Length\": \"29\", \n",
      "    \"Content-Type\": \"application/x-www-form-urlencoded\", \n",
      "    \"Host\": \"httpbin.org\", \n",
      "    \"User-Agent\": \"python-requests/2.22.0\", \n",
      "    \"X-Amzn-Trace-Id\": \"Root=1-5fbbe65c-49df7876709bde1a504845c0\"\n",
      "  }, \n",
      "  \"json\": null, \n",
      "  \"origin\": \"157.47.229.104\", \n",
      "  \"url\": \"http://httpbin.org/post\"\n",
      "}\n",
      "\n"
     ]
    }
   ],
   "source": [
    "import requests\n",
    "\n",
    "response=requests.post('http://httpbin.org/post',data={\"key1\" : [\"val1\",\"val3\"], \"key2\" : \"val2\"})\n",
    "print(response.status_code)\n",
    "print(response.text)"
   ]
  },
  {
   "cell_type": "code",
   "execution_count": 37,
   "metadata": {},
   "outputs": [
    {
     "name": "stdout",
     "output_type": "stream",
     "text": [
      "200\n",
      "{\n",
      "  \"args\": {}, \n",
      "  \"data\": \"\", \n",
      "  \"files\": {}, \n",
      "  \"form\": {\n",
      "    \"key1\": [\n",
      "      \"val1\", \n",
      "      \"val2\"\n",
      "    ], \n",
      "    \"key2\": \"val3\"\n",
      "  }, \n",
      "  \"headers\": {\n",
      "    \"Accept\": \"*/*\", \n",
      "    \"Accept-Encoding\": \"gzip, deflate\", \n",
      "    \"Content-Length\": \"29\", \n",
      "    \"Content-Type\": \"application/x-www-form-urlencoded\", \n",
      "    \"Host\": \"httpbin.org\", \n",
      "    \"User-Agent\": \"python-requests/2.22.0\", \n",
      "    \"X-Amzn-Trace-Id\": \"Root=1-5fbbe743-6117052c2408d9c5073772c6\"\n",
      "  }, \n",
      "  \"json\": null, \n",
      "  \"origin\": \"157.47.229.104\", \n",
      "  \"url\": \"http://httpbin.org/post\"\n",
      "}\n",
      "\n",
      "http://httpbin.org/post\n"
     ]
    }
   ],
   "source": [
    "import requests\n",
    "\n",
    "response=requests.post('http://httpbin.org/post',data=[(\"key1\",\"val1\"),(\"key1\",\"val2\"),(\"key2\",\"val3\")])\n",
    "print(response.status_code)\n",
    "print(response.text)\n",
    "print(response.url)"
   ]
  },
  {
   "cell_type": "code",
   "execution_count": 39,
   "metadata": {},
   "outputs": [
    {
     "name": "stdout",
     "output_type": "stream",
     "text": [
      "201\n",
      "{\n",
      "  \"id\": 101\n",
      "}\n",
      "https://jsonplaceholder.typicode.com/posts\n"
     ]
    }
   ],
   "source": [
    "import requests\n",
    "\n",
    "response=requests.post('https://jsonplaceholder.typicode.com/posts')\n",
    "print(response.status_code)\n",
    "print(response.text)\n",
    "print(response.url)"
   ]
  },
  {
   "cell_type": "code",
   "execution_count": null,
   "metadata": {},
   "outputs": [],
   "source": [
    "import requests\n",
    "\n",
    "response=requests.post('https://jsonplaceholder.typicode.com/posts',data=)\n",
    "print(response.status_code)\n",
    "print(response.text)\n",
    "print(response.url)"
   ]
  }
 ],
 "metadata": {
  "kernelspec": {
   "display_name": "Python 3",
   "language": "python",
   "name": "python3"
  },
  "language_info": {
   "codemirror_mode": {
    "name": "ipython",
    "version": 3
   },
   "file_extension": ".py",
   "mimetype": "text/x-python",
   "name": "python",
   "nbconvert_exporter": "python",
   "pygments_lexer": "ipython3",
   "version": "3.7.4"
  }
 },
 "nbformat": 4,
 "nbformat_minor": 2
}
