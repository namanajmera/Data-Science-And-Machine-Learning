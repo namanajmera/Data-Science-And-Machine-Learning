{
 "cells": [
  {
   "cell_type": "code",
   "execution_count": 1,
   "metadata": {},
   "outputs": [],
   "source": [
    "#API Key:- 578df7331e2e44dcf8aab845eb486529"
   ]
  },
  {
   "cell_type": "markdown",
   "metadata": {},
   "source": [
    "Fetch the cuisine_id of ‘Mexican’ cuisine using Zomato API.\n",
    "\n",
    "Print the cuisine_id."
   ]
  },
  {
   "cell_type": "code",
   "execution_count": 57,
   "metadata": {},
   "outputs": [
    {
     "name": "stdout",
     "output_type": "stream",
     "text": [
      "73\n"
     ]
    }
   ],
   "source": [
    "import requests\n",
    "import json\n",
    "\n",
    "header = {\"User-agent\": \"curl/7.43.0\", \"Accept\": \"application/json\", \"user_key\": \"578df7331e2e44dcf8aab845eb486529\"}\n",
    "\n",
    "fetch = requests.get('https://developers.zomato.com/api/v2.1/cuisines?city_id=1', headers=header)\n",
    "data=fetch.json()\n",
    "new_data=data['cuisines']\n",
    "for i in new_data:\n",
    "    if i['cuisine']['cuisine_name']=='Mexican':\n",
    "        print(i['cuisine']['cuisine_id'])"
   ]
  },
  {
   "cell_type": "markdown",
   "metadata": {},
   "source": [
    "Fetch the entityid and entitytype of place Connaught Place.\n",
    "\n",
    "Print the entityid and entitytype"
   ]
  },
  {
   "cell_type": "code",
   "execution_count": 69,
   "metadata": {},
   "outputs": [
    {
     "name": "stdout",
     "output_type": "stream",
     "text": [
      "subzone 104\n"
     ]
    }
   ],
   "source": [
    "import requests\n",
    "import json\n",
    "\n",
    "header = {\"User-agent\": \"curl/7.43.0\", \"Accept\": \"application/json\", \"user_key\": \"578df7331e2e44dcf8aab845eb486529\"}\n",
    "\n",
    "fetch = requests.get('https://developers.zomato.com/api/v2.1/geocode?lat=28.6304&lon=77.2177', headers=header)\n",
    "data=fetch.json()\n",
    "location=data['location']\n",
    "print(location['entity_type'],location['entity_id'])"
   ]
  },
  {
   "cell_type": "markdown",
   "metadata": {},
   "source": [
    "Fetch the top 10 best-rated restaurant serving ‘Mexican’ cuisine present in Connaught Place.\n",
    "\n",
    "Print the restaurant name, user rating and restaurant id."
   ]
  },
  {
   "cell_type": "code",
   "execution_count": 124,
   "metadata": {},
   "outputs": [
    {
     "name": "stdout",
     "output_type": "stream",
     "text": [
      "Station Bar 4.6 18851371\n",
      "Farzi Cafe 4.5 18233593\n",
      "Tamasha 4.4 18238278\n",
      "Ministry Of Beer 4.4 18418277\n",
      "Master Of Malts 4.4 18391149\n",
      "Chili's Grill & Bar 4.4 18537536\n",
      "Local 4.3 18382360\n",
      "Xero Degrees 4.3 18729557\n",
      "The Junkyard Cafe 4.3 313256\n",
      "Teddy Boy 4.3 18281985\n"
     ]
    }
   ],
   "source": [
    "import requests\n",
    "import json\n",
    "\n",
    "header = {\"User-agent\": \"curl/7.43.0\", \"Accept\": \"application/json\", \"user_key\": \"578df7331e2e44dcf8aab845eb486529\"}\n",
    "\n",
    "fetch = requests.get('https://developers.zomato.com/api/v2.1/search?entity_id=104&entity_type=subzone&cuisines=73&sort=rating', headers=header)\n",
    "data=fetch.json()\n",
    "restaurants=data['restaurants']\n",
    "j=0\n",
    "for i in restaurants:\n",
    "    if j<10:\n",
    "        print(i['restaurant']['name'],i['restaurant']['user_rating']['aggregate_rating'],i['restaurant']['id'])\n",
    "        j+=1"
   ]
  },
  {
   "cell_type": "markdown",
   "metadata": {},
   "source": [
    "Fetch the category id of category type ‘Cafes’ using Zomato API."
   ]
  },
  {
   "cell_type": "code",
   "execution_count": 138,
   "metadata": {},
   "outputs": [
    {
     "name": "stdout",
     "output_type": "stream",
     "text": [
      "6\n"
     ]
    }
   ],
   "source": [
    "import requests\n",
    "import json\n",
    "\n",
    "header = {\"User-agent\": \"curl/7.43.0\", \"Accept\": \"application/json\", \"user_key\": \"578df7331e2e44dcf8aab845eb486529\"}\n",
    "\n",
    "fetch = requests.get('https://developers.zomato.com/api/v2.1/categories', headers=header)\n",
    "data=fetch.json()\n",
    "categories=data['categories']\n",
    "for i in categories:\n",
    "    if i['categories']['name']=='Cafes':\n",
    "        print(i['categories']['id'])"
   ]
  },
  {
   "cell_type": "markdown",
   "metadata": {},
   "source": [
    "Fetch the best-rated restaurant for ‘Mexican’ cuisine with category type ‘ Cafes’ present in Connaught Place using Zomato API.\n",
    "\n",
    "Print the restaurant name, user rating and restaurant id."
   ]
  },
  {
   "cell_type": "code",
   "execution_count": 142,
   "metadata": {},
   "outputs": [
    {
     "name": "stdout",
     "output_type": "stream",
     "text": [
      "Xero Degrees 4.3 18729557\n",
      "Chaayos - Meri Wali Chai 4.1 18237315\n",
      "The Art House Bar n Cafe 4.0 18863766\n",
      "Cafe Coffee Day - The Square 3.5 303034\n"
     ]
    }
   ],
   "source": [
    "import requests\n",
    "import json\n",
    "\n",
    "header = {\"User-agent\": \"curl/7.43.0\", \"Accept\": \"application/json\", \"user_key\": \"578df7331e2e44dcf8aab845eb486529\"}\n",
    "\n",
    "fetch = requests.get('https://developers.zomato.com/api/v2.1/search?entity_id=104&entity_type=subzone&lat=28.6304&lon=77.2177&cuisines=73&category=6&sort=rating', headers=header)\n",
    "data=fetch.json()\n",
    "restaurants=data['restaurants']\n",
    "for i in restaurants:\n",
    "    print(i['restaurant']['name'],i['restaurant']['user_rating']['aggregate_rating'],i['restaurant']['id'])"
   ]
  },
  {
   "cell_type": "markdown",
   "metadata": {},
   "source": [
    "Fetch the latest review of the best-rated restaurant for ‘Mexican’ cuisine with Category type ‘Cafes’ present in Connaught Place using Zomato API.\n",
    "\n",
    "Print the name of user ,user rating and review text.\n",
    "\n",
    "Note :\n",
    "Due to limitation of basic API plan it, can only fetch 5 latest review"
   ]
  },
  {
   "cell_type": "code",
   "execution_count": 154,
   "metadata": {},
   "outputs": [
    {
     "name": "stdout",
     "output_type": "stream",
     "text": [
      "The Foodie Quila 5 Recently i was here at this beautiful cafe xero degrees in cp, delhi.  It was really great experience here with my friends.  They have taken all the safety measures for their customers and staff members.  We ordered -  Peri Peri fries Choco brownie waffle with ice cream Paneer zinger burgers Red sauce pasta It was all good and totally recommendable from my side.\n",
      "Spicy Latika 5 Yesterday i was here at this amazing cafe in CP, Xero degrees.  They have really amazing staff service, the food was being made in safety precautions. We ordered Choco brownie ice cream, paneer zinger burger, red sauce pasta and tandoori fries.  It was totally worth it.\n",
      "Yamini Sharma 5 Amazing place having great ambience. Food  here is so yummy. A must try outlet to hangout with your friends.   tandoori fries, red sauce pasta, cheese veggie pizza, choco brownie with ice cream, paneer zinger burger with fries everything was too good\n",
      "Abhijeet Sengupta 2 Went to check out all the hype. It's a small property adjacent to The Unplugged Courtyard in L Block, Middle Circle CP. Now I know a number of outlets in Delhi NCR who have done a fine job in a limited space of operation. This one, however, is an example as to how things can go wrong. Their lounges/sofas are very low and their tables are higher. As a result both seating and eating are a problem. We also noticed unsafe electrical attachments that can cause a fire hazard with a spill of drink.  We ordered fries and pizza in a jar and Nutella milk shake. The shake was good however the straw provided kept sinking into the drink. Fries in a jar was decent but the Pizza in a jar is bad. Need to rethink the cuisine or better stick to pastas or maybe pies in jars.\n",
      "Aafreen Khan 5 The shake was loaded with whipped cream and presentation was really good. Hot chocolate was very tasty and give cosy vibes.\n"
     ]
    }
   ],
   "source": [
    "import requests\n",
    "import json\n",
    "\n",
    "header = {\"User-agent\": \"curl/7.43.0\", \"Accept\": \"application/json\", \"user_key\": \"578df7331e2e44dcf8aab845eb486529\"}\n",
    "\n",
    "fetch = requests.get('https://developers.zomato.com/api/v2.1/reviews?res_id=18729557', headers=header)\n",
    "data=fetch.json()\n",
    "user_reviews=data['user_reviews']\n",
    "for i in user_reviews:\n",
    "    print(i['review']['user']['name'],i['review']['rating'],i['review']['review_text'])"
   ]
  },
  {
   "cell_type": "markdown",
   "metadata": {},
   "source": [
    "Fetch the details of \"Pa Pa Ya\" restaurant using Zomato API.\n",
    "\n",
    "Print the user rating, the average cost for two, cuisines and address of \"Pa Pa Ya\" restaurant."
   ]
  },
  {
   "cell_type": "code",
   "execution_count": 165,
   "metadata": {},
   "outputs": [
    {
     "name": "stdout",
     "output_type": "stream",
     "text": [
      "4.9\n",
      "2500\n",
      "Asian, Chinese, Thai, Japanese\n",
      "A-3, Select Citywalk, District Centre, Saket, New Delhi\n"
     ]
    }
   ],
   "source": [
    "import requests\n",
    "import json\n",
    "\n",
    "header = {\"User-agent\": \"curl/7.43.0\", \"Accept\": \"application/json\", \"user_key\": \"578df7331e2e44dcf8aab845eb486529\"}\n",
    "\n",
    "fetch = requests.get('https://developers.zomato.com/api/v2.1/restaurant?res_id=18429148', headers=header)\n",
    "data=fetch.json()\n",
    "\n",
    "print(data['user_rating']['aggregate_rating'])\n",
    "print(data['average_cost_for_two'])\n",
    "print(data['cuisines'])\n",
    "print(data['location']['address'])"
   ]
  },
  {
   "cell_type": "markdown",
   "metadata": {},
   "source": [
    "Find out whether online table reservation is supported in \"Pa Pa Ya\" restaurant or not using Zomato API.\n",
    "\n",
    "Print 'yes' if online table reservation is supported else 'no'\n",
    "\n",
    "Note :\n",
    "In Zomato response JSON. 1=Yes and 0 = No"
   ]
  },
  {
   "cell_type": "code",
   "execution_count": 168,
   "metadata": {},
   "outputs": [
    {
     "name": "stdout",
     "output_type": "stream",
     "text": [
      "Yes\n"
     ]
    }
   ],
   "source": [
    "import requests\n",
    "import json\n",
    "\n",
    "header = {\"User-agent\": \"curl/7.43.0\", \"Accept\": \"application/json\", \"user_key\": \"578df7331e2e44dcf8aab845eb486529\"}\n",
    "\n",
    "fetch = requests.get('https://developers.zomato.com/api/v2.1/restaurant?res_id=18429148', headers=header)\n",
    "data=fetch.json()\n",
    "if data['is_table_reservation_supported']==0:\n",
    "    print('No')\n",
    "else:\n",
    "    print('Yes')"
   ]
  },
  {
   "cell_type": "markdown",
   "metadata": {},
   "source": [
    "Fetch the latest review of \"Pa Pa Ya\" restaurant using Zomato API.\n",
    "\n",
    "Print the name of the user, user rating and review text.\n",
    "\n",
    "Note :\n",
    "Due to the limitation of the basic API plan, it can only fetch 5 latest review"
   ]
  },
  {
   "cell_type": "code",
   "execution_count": 175,
   "metadata": {},
   "outputs": [
    {
     "name": "stdout",
     "output_type": "stream",
     "text": [
      "Apoorv 5 Lovely ambience and courteous staff.   We ordered Sushi and Phad Thai Noodles. (And beer of-course.) Great taste.   They also served us with chocolates post meal.\n",
      "Iynsha Babal 5 Excellent food and great service !! Thankyou Mr Sanjeev for having taken care of our dinner with complete zeal and and promptness !!\n",
      "Apoorva Agrawal 4 Went to the restaurant on a whim but the minute you walk upto the front desk, the experience starts there. Extremely well trained and friendly staff. We ordered Sake Nigri, asparagus dumplings, exotic mushroom with fried rice. Loved the Mushroom dish! Nigri was well prepared and served with excellent pickled ginger and wasabi.  Special shoutout to Vikram (our server) who listened intently to what I wanted in a drink. Judged what kind of drink i’d like and recommended Jin Gin. His confidence impressed us and so did the drink! If you are willing to try a non traditional spicy cocktail go for this.  We finished with the first dessert on the menu (long name, so I forgot) but it was quite delicious!  Overall good experience! 😃\n",
      "Tanvi Girdhar 5 \n",
      "KANAN SHAH 5 \n"
     ]
    }
   ],
   "source": [
    "import requests\n",
    "import json\n",
    "\n",
    "header = {\"User-agent\": \"curl/7.43.0\", \"Accept\": \"application/json\", \"user_key\": \"578df7331e2e44dcf8aab845eb486529\"}\n",
    "\n",
    "fetch = requests.get('https://developers.zomato.com/api/v2.1/reviews?res_id=18429148', headers=header)\n",
    "data=fetch.json()\n",
    "user_reviews=data['user_reviews']\n",
    "for i in user_reviews:\n",
    "    print(i['review']['user']['name'],i['review']['rating'],i['review']['review_text'])"
   ]
  },
  {
   "cell_type": "markdown",
   "metadata": {},
   "source": [
    "Fetch the cuisine_id of of cuisine ‘BBQ’ using Zomato API.\n",
    "\n",
    "Print the cuisine_id"
   ]
  },
  {
   "cell_type": "code",
   "execution_count": 176,
   "metadata": {},
   "outputs": [
    {
     "name": "stdout",
     "output_type": "stream",
     "text": [
      "193\n"
     ]
    }
   ],
   "source": [
    "import requests\n",
    "import json\n",
    "\n",
    "header = {\"User-agent\": \"curl/7.43.0\", \"Accept\": \"application/json\", \"user_key\": \"578df7331e2e44dcf8aab845eb486529\"}\n",
    "\n",
    "fetch = requests.get('https://developers.zomato.com/api/v2.1/cuisines?lat=28.6977&lon=77.1406', headers=header)\n",
    "data=fetch.json()\n",
    "new_data=data['cuisines']\n",
    "for i in new_data:\n",
    "    if i['cuisine']['cuisine_name']=='BBQ':\n",
    "        print(i['cuisine']['cuisine_id'])"
   ]
  },
  {
   "cell_type": "markdown",
   "metadata": {},
   "source": [
    "Fetch the list of the top 10 restaurants serving cuisine ‘BBQ’ which are nearest to Coding Ninjas.\n",
    "\n",
    "Print the restaurant name, user rating, restaurant id and locality in which restaurant is present."
   ]
  },
  {
   "cell_type": "code",
   "execution_count": 208,
   "metadata": {},
   "outputs": [
    {
     "name": "stdout",
     "output_type": "stream",
     "text": [
      "Themis Barbecue House 4.3 18204820 Netaji Subhash Place\n",
      "Barbeque Nation 4.1 9561 Netaji Subhash Place\n",
      "Amazings Kitchen 0 19370424 Prashant Vihar\n",
      "Anytime Chicken 0 19520153 Shalimar Bagh\n",
      "Moet's Barbeque 0 19238917 Alipur\n",
      "UBQ by Barbeque Nation 3.4 18889760 Rohini\n",
      "Chicken Adda 0 19179179 Rohini\n",
      "7teen BBQ Bistro Bnq 3.9 18595610 Moti Nagar\n",
      "Pishori Chicken 0 19061375 Kirti Nagar\n",
      "The Rowdy Food 3.9 19501602 Tagore Garden\n"
     ]
    }
   ],
   "source": [
    "import requests\n",
    "import json\n",
    "\n",
    "header = {\"User-agent\": \"curl/7.43.0\", \"Accept\": \"application/json\", \"user_key\": \"578df7331e2e44dcf8aab845eb486529\"}\n",
    "\n",
    "fetch = requests.get('https://developers.zomato.com/api/v2.1/search?count=10&lat=28.6976709&lon=77.1406269&cuisines=193&sort=real_distance&order=desc', headers=header)\n",
    "data=fetch.json()\n",
    "restaurants=data['restaurants']\n",
    "for i in restaurants:\n",
    "    print(i['restaurant']['name'],i['restaurant']['user_rating']['aggregate_rating'],i['restaurant']['id'],i['restaurant']['location']['locality'])"
   ]
  },
  {
   "cell_type": "markdown",
   "metadata": {},
   "source": [
    "Fetch the latest review of the restaurant serving cuisine ‘BBQ’ which is most nearest to Coding ninjas?\n",
    "\n",
    "Print the name of user ,user rating and review text.\n",
    "\n",
    "Note :\n",
    "Due to limitation of basic API plan it, can only fetch 5 latest review"
   ]
  },
  {
   "cell_type": "code",
   "execution_count": 204,
   "metadata": {},
   "outputs": [
    {
     "name": "stdout",
     "output_type": "stream",
     "text": [
      "ASHISH GUPTA 1 I went there because of the reviews and the food was pathetic. Go for pirates of grill. It will be worth it\n",
      "Shivam Mangal 2 \n",
      "Aakriti Chandna 5 Had visited this place for a nice lunch buffet and thoroughly enjoyed everything from starters specially fish starter and salsa potatoes to main course to desserts... loved their dal makhani to the core... a messy dessert plate surely means a good time 😍... A must visit place ❤️\n",
      "Aradhya Sharma 4 The taste was really amazing 😍😍 I loved it and my family too I will visit again with my family it's really amazing\n",
      "Akshay( Not Just Food ) 4 Before this pandemic I visited a famous barbecue place that is themis Netaji Subhash Palace. It is a great place when indoor and outdoor seatings. A place with beautiful ambience and tasteful food.  They have a variety of vegetarian and nonvegetarian delicacies. We had vegetarian meal. And we loved it.  One must try.  A pocket friendly place 👍\n"
     ]
    }
   ],
   "source": [
    "import requests\n",
    "import json\n",
    "\n",
    "header = {\"User-agent\": \"curl/7.43.0\", \"Accept\": \"application/json\", \"user_key\": \"578df7331e2e44dcf8aab845eb486529\"}\n",
    "\n",
    "fetch = requests.get('https://developers.zomato.com/api/v2.1/reviews?res_id=18204820', headers=header)\n",
    "data=fetch.json()\n",
    "user_reviews=data['user_reviews']\n",
    "for i in user_reviews:\n",
    "    print(i['review']['user']['name'],i['review']['rating'],i['review']['review_text'])"
   ]
  },
  {
   "cell_type": "markdown",
   "metadata": {},
   "source": [
    "Experiment with the radius parameter that is present in ‘GET/search’. \n",
    "\n",
    "Fetch the list of top 10 best-restaurant present in a radius of 4 km of coding ninjas.\n",
    "\n",
    "Print the restaurant name, user rating, restaurant id and locality in which restaurant is present."
   ]
  },
  {
   "cell_type": "code",
   "execution_count": 220,
   "metadata": {},
   "outputs": [
    {
     "name": "stdout",
     "output_type": "stream",
     "text": [
      "The Paanwala 0 18683708 Pitampura\n",
      "Bharat Sweets 3.6 3333 Pitampura\n",
      "Mr. Momos 0 19341010 Pitampura\n",
      "Frontier 3.6 18888270 Pitampura\n",
      "Grub Garden 3.8 18980844 Pitampura\n",
      "My Choice Bakery 0 19544705 Pitampura\n",
      "Mega Bite 3.8 18366868 Pitampura\n",
      "Joint Fast Food Corner 0 19082219 Pitampura\n",
      "The Pizza Club 0 19342535 Pitampura\n",
      "Domino's Pizza 3.9 214 Pitampura\n"
     ]
    }
   ],
   "source": [
    "import requests\n",
    "import json\n",
    "\n",
    "header = {\"User-agent\": \"curl/7.43.0\", \"Accept\": \"application/json\", \"user_key\": \"578df7331e2e44dcf8aab845eb486529\"}\n",
    "\n",
    "fetch = requests.get('https://developers.zomato.com/api/v2.1/search?count=10&lat=28.6976709&lon=77.1406269&radius=4000&sort=real_distance&order=asc', headers=header)\n",
    "data=fetch.json()\n",
    "restaurants=data['restaurants']\n",
    "for i in restaurants:\n",
    "    print(i['restaurant']['name'],i['restaurant']['user_rating']['aggregate_rating'],i['restaurant']['id'],i['restaurant']['location']['locality'])"
   ]
  },
  {
   "cell_type": "code",
   "execution_count": 222,
   "metadata": {},
   "outputs": [
    {
     "name": "stdout",
     "output_type": "stream",
     "text": [
      "Indian Accent 4.9 2004 The Lodhi, Lodhi Road\n",
      "Cafe Lota 4.9 305525 Pragati Maidan\n",
      "Pa Pa Ya 4.9 18429148 Select Citywalk Mall, Saket\n",
      "The Big Chill 4.9 1614 Khan Market\n",
      "Kuremal Mohan Lal Kulfi Wale 4.9 303642 Chawri Bazar\n",
      "Dum-Pukht - ITC Maurya 4.9 2744 ITC Maurya, Chanakyapuri\n",
      "The Big Chill 4.9 8244 Khan Market\n",
      "Manhattan Bar & Brewery 4.8 303960 Global Foyer Mall, Golf Course Road\n",
      "The Big Chill Cafe 4.8 18919107 The Colonnade, Connaught Place\n",
      "Cocktails & Dreams, Speakeasy 4.8 300716 Sector 15\n"
     ]
    }
   ],
   "source": [
    "import requests\n",
    "import json\n",
    "\n",
    "header = {\"User-agent\": \"curl/7.43.0\", \"Accept\": \"application/json\", \"user_key\": \"578df7331e2e44dcf8aab845eb486529\"}\n",
    "\n",
    "fetch = requests.get('https://developers.zomato.com/api/v2.1/search?count=10&lat=28.6977&lon=77.1406&radius=4000&sort=rating', headers=header)\n",
    "data=fetch.json()\n",
    "restaurants=data['restaurants']\n",
    "for i in restaurants:\n",
    "    print(i['restaurant']['name'],i['restaurant']['user_rating']['aggregate_rating'],i['restaurant']['id'],i['restaurant']['location']['locality'])"
   ]
  },
  {
   "cell_type": "code",
   "execution_count": null,
   "metadata": {},
   "outputs": [],
   "source": []
  }
 ],
 "metadata": {
  "kernelspec": {
   "display_name": "Python 3",
   "language": "python",
   "name": "python3"
  },
  "language_info": {
   "codemirror_mode": {
    "name": "ipython",
    "version": 3
   },
   "file_extension": ".py",
   "mimetype": "text/x-python",
   "name": "python",
   "nbconvert_exporter": "python",
   "pygments_lexer": "ipython3",
   "version": "3.7.4"
  }
 },
 "nbformat": 4,
 "nbformat_minor": 2
}
